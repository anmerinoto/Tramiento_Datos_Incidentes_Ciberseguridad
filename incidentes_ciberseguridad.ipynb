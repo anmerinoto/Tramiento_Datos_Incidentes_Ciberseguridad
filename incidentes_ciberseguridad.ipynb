{
 "cells": [
  {
   "cell_type": "code",
   "execution_count": null,
   "id": "5dd402f6",
   "metadata": {},
   "outputs": [],
   "source": [
    "### Análisis de NetCrime - Esqueleto del Cuaderno (Preprocesamiento + Visualizaciones con Seaborn)\n",
    "\n",
    "# 1. Import libraries\n",
    "import pandas as pd\n",
    "import seaborn as sns # Para visualizaciones"
   ]
  },
  {
   "cell_type": "code",
   "execution_count": null,
   "id": "a770308c",
   "metadata": {},
   "outputs": [],
   "source": []
  }
 ],
 "metadata": {
  "language_info": {
   "name": "python"
  }
 },
 "nbformat": 4,
 "nbformat_minor": 5
}
