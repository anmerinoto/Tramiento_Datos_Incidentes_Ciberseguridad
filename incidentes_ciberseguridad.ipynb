{
 "cells": [
  {
   "cell_type": "code",
   "execution_count": 1,
   "id": "5dd402f6",
   "metadata": {},
   "outputs": [],
   "source": [
    "### Análisis de NetCrime - Esqueleto del Cuaderno (Preprocesamiento + Visualizaciones con Seaborn)\n",
    "\n",
    "# 1. Import libraries\n",
    "import pandas as pd\n",
    "import seaborn as sns # Para visualizaciones\n",
    "import matplotlib.pyplot as plt"
   ]
  },
  {
   "cell_type": "code",
   "execution_count": 2,
   "id": "a770308c",
   "metadata": {},
   "outputs": [],
   "source": [
    "# 1. Cargar dataset\n",
    "df_base = pd.read_csv('data/LossFromNetCrime.csv')\n",
    "\n",
    "# 2. Renombrar columna Country a pais\n",
    "if 'Country' in df_base.columns:\n",
    " df_base.rename(columns={'Country': 'pais'}, inplace=True)\n",
    "\n",
    "\n",
    "# 3. Normalizar nombres de columnas\n",
    "df_base.columns = (\n",
    "df_base.columns\n",
    ".str.strip()\n",
    ".str.lower()\n",
    ".str.replace('-', '_')\n",
    ")"
   ]
  },
  {
   "cell_type": "code",
   "execution_count": 3,
   "id": "02cfb959",
   "metadata": {},
   "outputs": [],
   "source": [
    "# 4. Transformar de formato wide a largo\n",
    "df_melt = df_base.melt(\n",
    "id_vars=['pais'],\n",
    "var_name='anio_tipo',\n",
    "value_name='valor'\n",
    ")\n",
    "\n",
    "\n",
    "# 5. Separar 'anio_tipo' en 'anio' y 'tipo_incidente'\n",
    "df_melt[['anio', 'tipo_incidente']] = (\n",
    "df_melt['anio_tipo']\n",
    ".str.split('_', expand=True)\n",
    ")\n",
    "# Convertir 'anio' a entero\n",
    "df_melt['anio'] = df_melt['anio'].astype(int)\n",
    "\n",
    "\n",
    "# 6. Pivotear para columnas de quejas y perdidas\n",
    "df_limpios = (\n",
    "df_melt\n",
    ".pivot_table(\n",
    "index=['pais', 'anio'],\n",
    "columns='tipo_incidente',\n",
    "values='valor'\n",
    ")\n",
    ".reset_index()\n",
    ")\n",
    "# Renombrar columnas sin caracteres especiales\n",
    "df_limpios.rename(columns={\n",
    "'complaints': 'quejas',\n",
    "'losses': 'perdidas'\n",
    "}, inplace=True)"
   ]
  },
  {
   "cell_type": "code",
   "execution_count": 4,
   "id": "f3415bce",
   "metadata": {},
   "outputs": [
    {
     "data": {
      "text/html": [
       "<div>\n",
       "<style scoped>\n",
       "    .dataframe tbody tr th:only-of-type {\n",
       "        vertical-align: middle;\n",
       "    }\n",
       "\n",
       "    .dataframe tbody tr th {\n",
       "        vertical-align: top;\n",
       "    }\n",
       "\n",
       "    .dataframe thead th {\n",
       "        text-align: right;\n",
       "    }\n",
       "</style>\n",
       "<table border=\"1\" class=\"dataframe\">\n",
       "  <thead>\n",
       "    <tr style=\"text-align: right;\">\n",
       "      <th>tipo_incidente</th>\n",
       "      <th>pais</th>\n",
       "      <th>anio</th>\n",
       "      <th>quejas</th>\n",
       "      <th>perdidas</th>\n",
       "    </tr>\n",
       "  </thead>\n",
       "  <tbody>\n",
       "    <tr>\n",
       "      <th>0</th>\n",
       "      <td>AE</td>\n",
       "      <td>2019</td>\n",
       "      <td>5503.0</td>\n",
       "      <td>48101706.0</td>\n",
       "    </tr>\n",
       "    <tr>\n",
       "      <th>1</th>\n",
       "      <td>AE</td>\n",
       "      <td>2020</td>\n",
       "      <td>7390.0</td>\n",
       "      <td>81178182.0</td>\n",
       "    </tr>\n",
       "    <tr>\n",
       "      <th>2</th>\n",
       "      <td>AE</td>\n",
       "      <td>2021</td>\n",
       "      <td>10164.0</td>\n",
       "      <td>131934602.0</td>\n",
       "    </tr>\n",
       "    <tr>\n",
       "      <th>3</th>\n",
       "      <td>AE</td>\n",
       "      <td>2022</td>\n",
       "      <td>10042.0</td>\n",
       "      <td>187062157.0</td>\n",
       "    </tr>\n",
       "    <tr>\n",
       "      <th>4</th>\n",
       "      <td>AE</td>\n",
       "      <td>2023</td>\n",
       "      <td>11034.0</td>\n",
       "      <td>244238485.0</td>\n",
       "    </tr>\n",
       "  </tbody>\n",
       "</table>\n",
       "</div>"
      ],
      "text/plain": [
       "tipo_incidente pais  anio   quejas     perdidas\n",
       "0                AE  2019   5503.0   48101706.0\n",
       "1                AE  2020   7390.0   81178182.0\n",
       "2                AE  2021  10164.0  131934602.0\n",
       "3                AE  2022  10042.0  187062157.0\n",
       "4                AE  2023  11034.0  244238485.0"
      ]
     },
     "execution_count": 4,
     "metadata": {},
     "output_type": "execute_result"
    }
   ],
   "source": [
    "# 7. Ordenar y revisar resultados\n",
    "df_limpios = df_limpios.sort_values(['pais', 'anio']).reset_index(drop=True)\n",
    "\n",
    "\n",
    "# Mostrar las primeras filas\n",
    "df_limpios.head()"
   ]
  },
  {
   "cell_type": "markdown",
   "id": "d47c246a",
   "metadata": {},
   "source": [
    "### 🔹 Ranking de Países por Pérdidas (Top 15)\n",
    "\n",
    "Mostramos los 15 países con mayores pérdidas en el año elegido (`anio_objetivo = 2020`).  \n",
    "Se usa un gráfico de **barras horizontales**, lo que facilita comparar rápidamente los valores.\n"
   ]
  },
  {
   "cell_type": "code",
   "execution_count": 5,
   "id": "2c76e90a",
   "metadata": {},
   "outputs": [
    {
     "data": {
      "text/plain": [
       "Text(0.5, 1.0, 'Top 15 Países por Pérdidas - 2020')"
      ]
     },
     "execution_count": 5,
     "metadata": {},
     "output_type": "execute_result"
    },
    {
     "data": {
      "image/png": "[encoded data removed]",
      "text/plain": [
       "<Figure size 1000x600 with 1 Axes>"
      ]
     },
     "metadata": {},
     "output_type": "display_data"
    }
   ],
   "source": [
    "anio_objetivo = 2020\n",
    "ranking_perdidas = (\n",
    "    df_limpios[df_limpios['anio'] == anio_objetivo]\n",
    "    .sort_values('perdidas', ascending=False)\n",
    "    .head(15)\n",
    ")\n",
    "\n",
    "sns.set(rc={'figure.figsize': (10, 6)})\n",
    "sns.barplot(\n",
    "    data=ranking_perdidas,\n",
    "    x='perdidas', y='pais',\n",
    "    hue='pais',               # usamos pais como hue\n",
    "    palette='Reds_r', \n",
    "    orient='h',\n",
    "    dodge=False, legend=False # quitamos la leyenda\n",
    ").set_title(f\"Top 15 Países por Pérdidas - {anio_objetivo}\")\n"
   ]
  },
  {
   "cell_type": "markdown",
   "id": "b4dc7032",
   "metadata": {},
   "source": [
    "### Relación entre Quejas y Pérdidas (Scatterplot)\n",
    "\n",
    "Con un gráfico de dispersión se analiza si más quejas implican necesariamente más pérdidas.\n",
    "Cada punto representa un país en el año elegido. El tamaño de los puntos es proporcional a las pérdidas."
   ]
  },
  {
   "cell_type": "code",
   "execution_count": 6,
   "id": "c0f6216d",
   "metadata": {},
   "outputs": [
    {
     "data": {
      "image/png": "[encoded data removed]",
      "text/plain": [
       "<Figure size 1000x600 with 1 Axes>"
      ]
     },
     "metadata": {},
     "output_type": "display_data"
    }
   ],
   "source": [
    "\n",
    "\n",
    "anio_objetivo = 2020\n",
    "df_anio = df_limpios[df_limpios['anio'] == anio_objetivo]\n",
    "\n",
    "# Scatterplot con colores por país\n",
    "plt.figure(figsize=(10,6))\n",
    "ax = sns.scatterplot(\n",
    "    data=df_anio,\n",
    "    x='quejas', y='perdidas',\n",
    "    hue='pais',   # cada país con color distinto\n",
    "    s=120, alpha=0.7, legend=False  # quitamos leyenda gigante\n",
    ")\n",
    "\n",
    "# Etiquetar solo los 10 países con más pérdidas\n",
    "top = df_anio.sort_values('perdidas', ascending=False).head(10)\n",
    "for _, fila in top.iterrows():\n",
    "    plt.text(\n",
    "        fila['quejas'], fila['perdidas'], fila['pais'],\n",
    "        fontsize=9, ha='right', weight='bold'\n",
    "    )\n",
    "\n",
    "ax.set_title(f\"Relación Quejas vs Pérdidas ({anio_objetivo})\", fontsize=14)\n",
    "ax.set_xlabel(\"Número de quejas\")\n",
    "ax.set_ylabel(\"Monto de pérdidas (USD)\")\n",
    "plt.show()\n"
   ]
  },
  {
   "cell_type": "markdown",
   "id": "25708716",
   "metadata": {},
   "source": [
    "## 📊 Relación Quejas vs. Pérdidas (2020)\n",
    "\n",
    "El análisis de la dispersión entre el número de **quejas** y el monto de **pérdidas económicas** muestra patrones interesantes:\n",
    "\n",
    "### 🇺🇸 Estados Unidos (US)\n",
    "- Se destaca con amplia diferencia: es el país con **mayor número de quejas** y, al mismo tiempo, el de **mayores pérdidas económicas**.  \n",
    "- El volumen de incidentes y el impacto económico están **altamente correlacionados** en este país.\n",
    "\n",
    "### 🇨🇳 China (CN), 🇷🇺 Rusia (RU) y 🇩🇪 Alemania (DE)\n",
    "- Aunque tienen **menos quejas que EE.UU.**, presentan **pérdidas muy altas**.  \n",
    "- Esto sugiere que los incidentes en estos países son, en promedio, **más costosos**.\n",
    "\n",
    "### 🇬🇧 Gran Bretaña (GB) y 🇫🇷 Francia (FR)\n",
    "- Presentan volúmenes **intermedios de quejas**, pero **pérdidas significativas**.  \n",
    "- Confirman que el costo **no depende solo de la cantidad de incidentes**, sino también de la **gravedad y tipo de ataque**.\n",
    "\n",
    "\n",
    "### 🌍 Otros países (NL, IN, SG, UA, etc.)\n",
    "- Aparecen con un nivel **más bajo de quejas y pérdidas**.  \n",
    "- Reflejan que, aunque los ataques son frecuentes, el **impacto monetario total** no alcanza al de los países líderes.\n",
    "\n",
    "## 🧩 Conclusión general\n",
    "- **Más quejas no siempre significan más pérdidas.**  \n",
    "  - Ejemplo: Rusia y Alemania → menos quejas que otros países, pero pérdidas elevadas.  \n",
    "- **EE.UU. domina en ambas métricas**, convirtiéndose en el mercado más crítico en términos de ciberdelitos.  \n",
    "- El impacto económico está **altamente concentrado** en pocos países, mientras que la mayoría mantiene niveles relativamente bajos.\n"
   ]
  },
  {
   "cell_type": "markdown",
   "id": "e9db6ee4",
   "metadata": {},
   "source": [
    "## Correlaciones\n",
    "* Diagrama de dispersión múltiple\n",
    "    * Comparar “Complaints vs. Losses” en varios años.\n",
    "    \n",
    "* Bubble chart\n",
    "    * Eje X: año, \n",
    "    * Eje Y: pérdidas, \n",
    "    * Tamaño de burbuja: número de quejas, \n",
    "    * Color: país.\n",
    "\n",
    "Transforma tu los datos de CSV de incidentes de ciberseguridad en un formato más flexible y luego genera dos gráficos:\n",
    "\n",
    "* Scatterplot múltiple: relación Quejas vs Pérdidas, coloreado por año.\n",
    "* Bubble chart: Evolución temporal de pérdidas (Y) vs Año (X), con el tamaño de las burbujas representando las quejas y el color representando el país."
   ]
  },
  {
   "cell_type": "code",
   "execution_count": 7,
   "id": "f490cc58",
   "metadata": {},
   "outputs": [
    {
     "data": {
      "image/png": "[encoded data removed]",
      "text/plain": [
       "<Figure size 800x600 with 1 Axes>"
      ]
     },
     "metadata": {},
     "output_type": "display_data"
    },
    {
     "data": {
      "image/png": "[encoded data removed]",
      "text/plain": [
       "<Figure size 1000x600 with 1 Axes>"
      ]
     },
     "metadata": {},
     "output_type": "display_data"
    }
   ],
   "source": [
    "import pandas as pd\n",
    "import matplotlib.pyplot as plt\n",
    "\n",
    "# Cargar dataset\n",
    "df_base = pd.read_csv(\"data/LossFromNetCrime.csv\")\n",
    "\n",
    "# Transformar a formato largo\n",
    "registros = []\n",
    "for anos in range(2019, 2025):\n",
    "    for _, row in df_base.iterrows():\n",
    "        registros.append({\n",
    "            \"Pais\": row[\"Country\"],\n",
    "            \"Año\": anos,\n",
    "            \"Quejas\": row[f\"{anos}_Complaints\"],\n",
    "            \"Pérdidas\": row[f\"{anos}_Losses\"]\n",
    "        })\n",
    "        \n",
    "long_df = pd.DataFrame(registros)\n",
    "\n",
    "# ---- Scatter múltiple ----\n",
    "fig, ax = plt.subplots(figsize=(8,6))\n",
    "for year, group in long_df.groupby(\"Año\"):\n",
    "    ax.scatter(group[\"Quejas\"], group[\"Pérdidas\"], label=year, alpha=0.6)\n",
    "ax.set_xlabel(\"Quejas\")\n",
    "ax.set_ylabel(\"Pérdidas (USD)\")\n",
    "ax.set_title(\"Quejas vs Pérdidas (2019-2024)\")\n",
    "ax.legend(title=\"Año\")\n",
    "ax.grid(True, linestyle=\"--\", alpha=0.4)\n",
    "plt.show()\n",
    "\n",
    "# ---- Bubble Chart ----\n",
    "fig, ax = plt.subplots(figsize=(10,6))\n",
    "scatter = ax.scatter(\n",
    "    long_df[\"Año\"],\n",
    "    long_df[\"Pérdidas\"],\n",
    "    s=long_df[\"Quejas\"]/50,    # escala de tamaño burbuja\n",
    "    c=pd.factorize(long_df[\"Pais\"])[0],  # colores por país\n",
    "    alpha=0.6,\n",
    "    cmap=\"tab20\"\n",
    ")\n",
    "ax.set_xlabel(\"Año\")\n",
    "ax.set_ylabel(\"Pérdidas (USD)\")\n",
    "ax.set_title(\"Bubble Chart: Año vs Pérdidas (Tamaño burbuja = Quejas, Color = País)\")\n",
    "ax.grid(True, linestyle=\"--\", alpha=0.4)\n",
    "plt.show()\n"
   ]
  },
  {
   "cell_type": "markdown",
   "id": "a745a885",
   "metadata": {},
   "source": [
    "**🔄 1. Transformación de los datos**\n",
    "```python\n",
    "    df_base = pd.read_csv(\"data/LossFromNetCrime.csv\")\n",
    "```   \n",
    ">Carga el CSV con columnas tipo 2019_Complaints, 2019_Losses, 2020_Complaints, etc.   \n",
    "```python\n",
    "    registros = []  \n",
    "    for anos in range(2019, 2025):  \n",
    "        for _, row in df_base.iterrows():  \n",
    "            registros.append({  \n",
    "                \"Pais\": row[\"Country\"],  \n",
    "                \"Año\": anos,  \n",
    "                \"Quejas\": row[f\"{anos}_Complaints\"],  \n",
    "                \"Pérdidas\": row[f\"{anos}_Losses\"]  \n",
    "            })  \n",
    "```\n",
    "\n",
    "> Convierte la tabla de formato ancho (un par de columnas por año) a un formato largo donde cada fila representa:  \n",
    "    - País (columna Country)  \n",
    "    - Año (2019–2024)  \n",
    "    - Quejas  \n",
    "    - Pérdidas  \n",
    "\n",
    "**📊 2. Gráfico de dispersión múltiple (Scatterplot)**\n",
    "```python\n",
    "    for year, group in long_df.groupby(\"Año\"):\n",
    "        ax.scatter(group[\"Quejas\"], group[\"Pérdidas\"], label=year, alpha=0.6)\n",
    "```\n",
    "> Crea un scatterplot donde:  \n",
    "    - Eje X = número de quejas.  \n",
    "    - Eje Y = pérdidas económicas (USD).  \n",
    "    - Cada color representa un año distinto (2019–2024).  \n",
    "Te permite ver si los países con más quejas también presentan más pérdidas, comparando entre años.  \n",
    "\n",
    "🔵 3. Bubble Chart\n",
    "```python\n",
    "    scatter = ax.scatter(\n",
    "        long_df[\"Año\"],\n",
    "        long_df[\"Pérdidas\"],\n",
    "        s=long_df[\"Pérdidas\"]/50,\n",
    "        c=pd.factorize(long_df[\"Pais\"])[0],\n",
    "        alpha=0.6,\n",
    "        cmap=\"tab20\"\n",
    "        )\n",
    "```\n",
    "\n",
    ">Crea un gráfico de burbujas donde:  \n",
    "    - Eje X = Año.  \n",
    "    - Eje Y = Pérdidas (USD).  \n",
    "    - Tamaño de la burbuja = número de quejas.  \n",
    "    - Color = país.  \n",
    "Esto te deja ver qué países tienen más pérdidas en cada año y con cuántas quejas se relaciona."
   ]
  },
  {
   "cell_type": "code",
   "execution_count": 1,
   "id": "eb77fe8b",
   "metadata": {},
   "outputs": [
    {
     "data": {
      "application/vnd.plotly.v1+json": {
       "config": {
        "plotlyServerURL": "https://plot.ly"
       },
       "data": [
        {
         "hovertemplate": "<b>%{hovertext}</b><br><br>Año=2019<br>Quejas=%{x}<br>Pérdidas (USD)=%{y}<extra></extra>",
         "hovertext": [
          "PR",
          "PS",
          "PT",
          "PY",
          "AE",
          "AF",
          "AL",
          "AM",
          "AO",
          "AR",
          "AT",
          "AU",
          "AZ",
          "RO",
          "BA",
          "RS",
          "BD",
          "RU",
          "BE",
          "BG",
          "BH",
          "SA",
          "BR",
          "SC",
          "SE",
          "SG",
          "SI",
          "BY",
          "SK",
          "BZ",
          "CA",
          "SV",
          "CH",
          "SZ",
          "CL",
          "CN",
          "CO",
          "CR",
          "TH",
          "CY",
          "CZ",
          "TR",
          "DE",
          "TW",
          "TZ",
          "DK",
          "DO",
          "UA",
          "UG",
          "US",
          "EC",
          "EE",
          "EG",
          "UZ",
          "ES",
          "VE",
          "VG",
          "VN",
          "FI",
          "FR",
          "GB",
          "GE",
          "GH",
          "GN",
          "GR",
          "GT",
          "HK",
          "HN",
          "HR",
          "YE",
          "HU",
          "ID",
          "IE",
          "IL",
          "IN",
          "ZA",
          "IQ",
          "IR",
          "IS",
          "IT",
          "ZW",
          "JO",
          "JP",
          "KE",
          "KG",
          "KH",
          "KN",
          "KR",
          "KZ",
          "LB",
          "LK",
          "LT",
          "LU",
          "LV",
          "LY",
          "MD",
          "MM",
          "MN",
          "MT",
          "MV",
          "MX",
          "MY",
          "MZ",
          "nan",
          "NG",
          "NI",
          "NL",
          "NO",
          "NP",
          "NZ",
          "OM",
          "PA",
          "PE",
          "PG",
          "PH",
          "PK",
          "PL"
         ],
         "legendgroup": "",
         "marker": {
          "color": "#636efa",
          "symbol": "circle"
         },
         "mode": "markers",
         "name": "",
         "orientation": "v",
         "showlegend": false,
         "type": "scatter",
         "x": {
          "bdata": "jwIAAPgGAABfBAAAeQcAAH8VAABkAgAA7QQAAGIJAADaAgAAyxEAAB4bAAA9fQAAxwcAANZDAAC8GwAANCQAAMIuAADjbgIAgxgAAG03AAA6EgAAHwIAAI66AQAybAAA4agAAB7wAABmAQAA9hUAAKoHAABDAQAAL48AAK0BAAD0MgAAlRgAAIEFAAAZ2wYA0RoAAJ4BAAAgMwAA5wMAAAN2AACNQAAAoHMBAEBCAADsCwAAJhYAADAeAABdAAEA4gEAAEOJBgBSGAAA8CUAAJIFAADbAgAA83sAAHUdAAAtAwAAAVQAAFs4AAAqdAIAY8oCAG4IAADPAQAAPAEAAJkWAADXDgAAA70BAPQdAAC8BQAA2AAAAHsOAADdfQAAMj8AAL4eAAApxQAAzqsAAJB+AAABtQAAiAEAAHqlAADzAQAArwEAAJZTAQBqCQAApRMAAFMfAAAFAQAAOzwAALclAADxEAAASwEAAFcVAABkAgAAVxAAAIIEAAAkFAAANAgAACgEAACCAgAAUQEAAHIaAABbDAAA7QYAAO8AAAD1BgAAWwMAABzCAAC/DwAAFgQAAH4GAAD+CgAAwwMAAFMRAACLAgAAOBYAAExvAACPVQAA",
          "dtype": "i4"
         },
         "xaxis": "x",
         "y": [
          5929974,
          22483591,
          13870074,
          10967865,
          48101706,
          9218912,
          15433066,
          25413556,
          4218960,
          106144702,
          47306368,
          286422142,
          26944580,
          121565659,
          48232941,
          70529910,
          202462502,
          2404940557,
          61314011,
          118129647,
          64103022,
          11786077,
          571530336,
          326719153,
          288695571,
          1051420849,
          7257183,
          40335091,
          18206898,
          2498015,
          673206760,
          7625619,
          102495918,
          36939924,
          49590061,
          2532007781,
          69494853,
          4698147,
          122082224,
          5686522,
          172991200,
          208240641,
          1559415577,
          205458284,
          14935783,
          38097127,
          39752918,
          1290652585,
          3896487,
          3302744547,
          38064072,
          63377416,
          21281601,
          10115233,
          334885510,
          79397063,
          14172668,
          381138510,
          179710211,
          967758695,
          1342411802,
          11248342,
          6103570,
          2942671,
          41506851,
          23310755,
          746613837,
          77996271,
          8092129,
          2714177,
          75257661,
          437808210,
          316218523,
          72760275,
          989343380,
          622385234,
          191135345,
          442237902,
          3053735,
          291496322,
          2509401,
          3218885,
          799709881,
          19120184,
          90758012,
          75168331,
          3016590,
          297651983,
          215224978,
          39296596,
          5241631,
          58251632,
          11718536,
          27217794,
          7827594,
          29234480,
          12568012,
          26326159,
          15863991,
          2832717,
          118445689,
          53285151,
          14590391,
          2779417,
          34340619,
          5969337,
          572304502,
          45713939,
          9903690,
          13317391,
          14755487,
          6611775,
          27363061,
          6153461,
          179433874,
          181705646,
          390365695
         ],
         "yaxis": "y"
        }
       ],
       "frames": [
        {
         "data": [
          {
           "hovertemplate": "<b>%{hovertext}</b><br><br>Año=2019<br>Quejas=%{x}<br>Pérdidas (USD)=%{y}<extra></extra>",
           "hovertext": [
            "PR",
            "PS",
            "PT",
            "PY",
            "AE",
            "AF",
            "AL",
            "AM",
            "AO",
            "AR",
            "AT",
            "AU",
            "AZ",
            "RO",
            "BA",
            "RS",
            "BD",
            "RU",
            "BE",
            "BG",
            "BH",
            "SA",
            "BR",
            "SC",
            "SE",
            "SG",
            "SI",
            "BY",
            "SK",
            "BZ",
            "CA",
            "SV",
            "CH",
            "SZ",
            "CL",
            "CN",
            "CO",
            "CR",
            "TH",
            "CY",
            "CZ",
            "TR",
            "DE",
            "TW",
            "TZ",
            "DK",
            "DO",
            "UA",
            "UG",
            "US",
            "EC",
            "EE",
            "EG",
            "UZ",
            "ES",
            "VE",
            "VG",
            "VN",
            "FI",
            "FR",
            "GB",
            "GE",
            "GH",
            "GN",
            "GR",
            "GT",
            "HK",
            "HN",
            "HR",
            "YE",
            "HU",
            "ID",
            "IE",
            "IL",
            "IN",
            "ZA",
            "IQ",
            "IR",
            "IS",
            "IT",
            "ZW",
            "JO",
            "JP",
            "KE",
            "KG",
            "KH",
            "KN",
            "KR",
            "KZ",
            "LB",
            "LK",
            "LT",
            "LU",
            "LV",
            "LY",
            "MD",
            "MM",
            "MN",
            "MT",
            "MV",
            "MX",
            "MY",
            "MZ",
            "nan",
            "NG",
            "NI",
            "NL",
            "NO",
            "NP",
            "NZ",
            "OM",
            "PA",
            "PE",
            "PG",
            "PH",
            "PK",
            "PL"
           ],
           "legendgroup": "",
           "marker": {
            "color": "#636efa",
            "symbol": "circle"
           },
           "mode": "markers",
           "name": "",
           "orientation": "v",
           "showlegend": false,
           "type": "scatter",
           "x": {
            "bdata": "jwIAAPgGAABfBAAAeQcAAH8VAABkAgAA7QQAAGIJAADaAgAAyxEAAB4bAAA9fQAAxwcAANZDAAC8GwAANCQAAMIuAADjbgIAgxgAAG03AAA6EgAAHwIAAI66AQAybAAA4agAAB7wAABmAQAA9hUAAKoHAABDAQAAL48AAK0BAAD0MgAAlRgAAIEFAAAZ2wYA0RoAAJ4BAAAgMwAA5wMAAAN2AACNQAAAoHMBAEBCAADsCwAAJhYAADAeAABdAAEA4gEAAEOJBgBSGAAA8CUAAJIFAADbAgAA83sAAHUdAAAtAwAAAVQAAFs4AAAqdAIAY8oCAG4IAADPAQAAPAEAAJkWAADXDgAAA70BAPQdAAC8BQAA2AAAAHsOAADdfQAAMj8AAL4eAAApxQAAzqsAAJB+AAABtQAAiAEAAHqlAADzAQAArwEAAJZTAQBqCQAApRMAAFMfAAAFAQAAOzwAALclAADxEAAASwEAAFcVAABkAgAAVxAAAIIEAAAkFAAANAgAACgEAACCAgAAUQEAAHIaAABbDAAA7QYAAO8AAAD1BgAAWwMAABzCAAC/DwAAFgQAAH4GAAD+CgAAwwMAAFMRAACLAgAAOBYAAExvAACPVQAA",
            "dtype": "i4"
           },
           "xaxis": "x",
           "y": [
            5929974,
            22483591,
            13870074,
            10967865,
            48101706,
            9218912,
            15433066,
            25413556,
            4218960,
            106144702,
            47306368,
            286422142,
            26944580,
            121565659,
            48232941,
            70529910,
            202462502,
            2404940557,
            61314011,
            118129647,
            64103022,
            11786077,
            571530336,
            326719153,
            288695571,
            1051420849,
            7257183,
            40335091,
            18206898,
            2498015,
            673206760,
            7625619,
            102495918,
            36939924,
            49590061,
            2532007781,
            69494853,
            4698147,
            122082224,
            5686522,
            172991200,
            208240641,
            1559415577,
            205458284,
            14935783,
            38097127,
            39752918,
            1290652585,
            3896487,
            3302744547,
            38064072,
            63377416,
            21281601,
            10115233,
            334885510,
            79397063,
            14172668,
            381138510,
            179710211,
            967758695,
            1342411802,
            11248342,
            6103570,
            2942671,
            41506851,
            23310755,
            746613837,
            77996271,
            8092129,
            2714177,
            75257661,
            437808210,
            316218523,
            72760275,
            989343380,
            622385234,
            191135345,
            442237902,
            3053735,
            291496322,
            2509401,
            3218885,
            799709881,
            19120184,
            90758012,
            75168331,
            3016590,
            297651983,
            215224978,
            39296596,
            5241631,
            58251632,
            11718536,
            27217794,
            7827594,
            29234480,
            12568012,
            26326159,
            15863991,
            2832717,
            118445689,
            53285151,
            14590391,
            2779417,
            34340619,
            5969337,
            572304502,
            45713939,
            9903690,
            13317391,
            14755487,
            6611775,
            27363061,
            6153461,
            179433874,
            181705646,
            390365695
           ],
           "yaxis": "y"
          }
         ],
         "name": "2019"
        },
        {
         "data": [
          {
           "hovertemplate": "<b>%{hovertext}</b><br><br>Año=2020<br>Quejas=%{x}<br>Pérdidas (USD)=%{y}<extra></extra>",
           "hovertext": [
            "PR",
            "PS",
            "PT",
            "PY",
            "AE",
            "AF",
            "AL",
            "AM",
            "AO",
            "AR",
            "AT",
            "AU",
            "AZ",
            "RO",
            "BA",
            "RS",
            "BD",
            "RU",
            "BE",
            "BG",
            "BH",
            "SA",
            "BR",
            "SC",
            "SE",
            "SG",
            "SI",
            "BY",
            "SK",
            "BZ",
            "CA",
            "SV",
            "CH",
            "SZ",
            "CL",
            "CN",
            "CO",
            "CR",
            "TH",
            "CY",
            "CZ",
            "TR",
            "DE",
            "TW",
            "TZ",
            "DK",
            "DO",
            "UA",
            "UG",
            "US",
            "EC",
            "EE",
            "EG",
            "UZ",
            "ES",
            "VE",
            "VG",
            "VN",
            "FI",
            "FR",
            "GB",
            "GE",
            "GH",
            "GN",
            "GR",
            "GT",
            "HK",
            "HN",
            "HR",
            "YE",
            "HU",
            "ID",
            "IE",
            "IL",
            "IN",
            "ZA",
            "IQ",
            "IR",
            "IS",
            "IT",
            "ZW",
            "JO",
            "JP",
            "KE",
            "KG",
            "KH",
            "KN",
            "KR",
            "KZ",
            "LB",
            "LK",
            "LT",
            "LU",
            "LV",
            "LY",
            "MD",
            "MM",
            "MN",
            "MT",
            "MV",
            "MX",
            "MY",
            "MZ",
            "nan",
            "NG",
            "NI",
            "NL",
            "NO",
            "NP",
            "NZ",
            "OM",
            "PA",
            "PE",
            "PG",
            "PH",
            "PK",
            "PL"
           ],
           "legendgroup": "",
           "marker": {
            "color": "#636efa",
            "symbol": "circle"
           },
           "mode": "markers",
           "name": "",
           "orientation": "v",
           "showlegend": false,
           "type": "scatter",
           "x": {
            "bdata": "OgUAAEoLAADkBwAAsAsAAN4cAABHBAAAkgkAANoMAAC/BQAApxcAANMqAADw1gAAVxAAABRiAABfLgAAwEMAAP1AAAAdfAQAfCkAAFhoAABuJwAACAMAAON9AgAvuwAA+vAAADzyAQDYAQAAYR8AALEOAAAkAgAAkhsBAMcCAAA8SQAAgCQAANQKAACaxAoAPjYAAJMCAAAEYAAAqgYAAFK5AABIbgAAD0QCAK11AABLEAAAtyMAAPg3AABkjwEAjAQAAOsmDAD7HwAAhD4AALMHAAAZBQAADPAAAMwuAAAwBwAAL88AAGpaAACYOAMAZ4UGAL0KAABKAwAAIgIAAPooAADWGAAAraEDACwyAAB6BgAAagEAAFMYAAAjCAEAWVYAAEImAAB6mAEAVFwBAH/cAAAf8QAAXgIAAO4vAQDSAgAAHAMAAB9vAgAnDQAAnyEAAHUpAACtAQAA8G4AAF9BAADgGgAA2AIAABUjAAALBAAAViMAAE4HAAAcGgAAwAwAAJEHAAA1BgAAnAIAAOgnAADoFQAAtg0AAK4BAAACDAAAeAUAAGFMAQBNGgAAnwgAAIEOAAAqDwAAYgYAAKscAAD4AwAAkikAADjLAADKpQAA",
            "dtype": "i4"
           },
           "xaxis": "x",
           "y": [
            7209755,
            25423219,
            12391290,
            13815152,
            81178182,
            8257595,
            15481216,
            38075278,
            4388316,
            96414427,
            41464758,
            399593060,
            39283188,
            152115092,
            35153818,
            81490357,
            257563277,
            2402832265,
            81868291,
            111207806,
            93786879,
            14140050,
            749658021,
            410036875,
            330876641,
            1102776096,
            9239424,
            45133084,
            22972759,
            4146715,
            793553716,
            6605847,
            125191128,
            55886392,
            40920566,
            3061083799,
            64216061,
            7090087,
            147126154,
            6853488,
            212529097,
            259185589,
            2432407746,
            181937259,
            21277746,
            37191643,
            43312940,
            1449674414,
            4550806,
            3906715208,
            47318231,
            81946736,
            29498445,
            11920427,
            479903741,
            113825151,
            10930431,
            388987922,
            209024271,
            1099523432,
            1590816673,
            13581482,
            6502100,
            4484265,
            45286391,
            26291913,
            823420937,
            89984923,
            10595145,
            2673181,
            61005748,
            598180089,
            382100626,
            89001013,
            1155524769,
            867946291,
            192067847,
            508268749,
            3294003,
            360913944,
            5065509,
            3206926,
            885281428,
            24505055,
            127676103,
            80437904,
            5272765,
            361302082,
            228613185,
            41501339,
            7133861,
            86867615,
            14032708,
            33853664,
            9907911,
            31714733,
            15686730,
            32473442,
            19538664,
            5022918,
            144440919,
            55360884,
            16760987,
            5249534,
            35736203,
            5175487,
            895396401,
            54542901,
            11937086,
            18466612,
            14987636,
            7821630,
            27058091,
            6431254,
            166452785,
            200518146,
            362788093
           ],
           "yaxis": "y"
          }
         ],
         "name": "2020"
        },
        {
         "data": [
          {
           "hovertemplate": "<b>%{hovertext}</b><br><br>Año=2021<br>Quejas=%{x}<br>Pérdidas (USD)=%{y}<extra></extra>",
           "hovertext": [
            "PR",
            "PS",
            "PT",
            "PY",
            "AE",
            "AF",
            "AL",
            "AM",
            "AO",
            "AR",
            "AT",
            "AU",
            "AZ",
            "RO",
            "BA",
            "RS",
            "BD",
            "RU",
            "BE",
            "BG",
            "BH",
            "SA",
            "BR",
            "SC",
            "SE",
            "SG",
            "SI",
            "BY",
            "SK",
            "BZ",
            "CA",
            "SV",
            "CH",
            "SZ",
            "CL",
            "CN",
            "CO",
            "CR",
            "TH",
            "CY",
            "CZ",
            "TR",
            "DE",
            "TW",
            "TZ",
            "DK",
            "DO",
            "UA",
            "UG",
            "US",
            "EC",
            "EE",
            "EG",
            "UZ",
            "ES",
            "VE",
            "VG",
            "VN",
            "FI",
            "FR",
            "GB",
            "GE",
            "GH",
            "GN",
            "GR",
            "GT",
            "HK",
            "HN",
            "HR",
            "YE",
            "HU",
            "ID",
            "IE",
            "IL",
            "IN",
            "ZA",
            "IQ",
            "IR",
            "IS",
            "IT",
            "ZW",
            "JO",
            "JP",
            "KE",
            "KG",
            "KH",
            "KN",
            "KR",
            "KZ",
            "LB",
            "LK",
            "LT",
            "LU",
            "LV",
            "LY",
            "MD",
            "MM",
            "MN",
            "MT",
            "MV",
            "MX",
            "MY",
            "MZ",
            "nan",
            "NG",
            "NI",
            "NL",
            "NO",
            "NP",
            "NZ",
            "OM",
            "PA",
            "PE",
            "PG",
            "PH",
            "PK",
            "PL"
           ],
           "legendgroup": "",
           "marker": {
            "color": "#636efa",
            "symbol": "circle"
           },
           "mode": "markers",
           "name": "",
           "orientation": "v",
           "showlegend": false,
           "type": "scatter",
           "x": {
            "bdata": "+QYAABgNAAA2CAAAdAwAALQnAADKBAAAQggAAN8NAAC3BAAAZCEAADQ8AAA61AAAFRAAAD17AADxMgAAHEwAAJFSAABVCQQAQi4AAIhhAAClKgAAWwQAACWoAgDa3gAA+jMBAHQfAgCOAgAAMiEAAPAQAABkAgAANh8BAO0CAAAIOAAAxyQAAEAKAABdWA4AUz0AAC8DAAAhcQAA4gYAAOgKAQCfdgAA3YACAHRbAAA1EwAAISkAAK42AACurgEAIgQAAIOoDACSJwAAqzIAAKIKAACzBQAAIisBAJFAAADLBwAAd54AAJJEAACeHQMAL3UFAIULAABiAwAAEAIAAOMnAAAxEgAAD3ADAG00AAAWCQAAhwEAAPYYAAAU4gAApmMAAPs0AAC+XQEAezUBAL3pAAAiJAEAjwIAAHyFAQAHAwAAcgMAAAt4AgDBDgAAXCIAAGkuAABAAgAAOY4AABdDAAAhFgAACwMAAF8sAAAfBAAA6x0AACEHAAAuJQAANg4AAOoFAAB6BQAAPgIAAJolAADbFgAAgwwAAIcCAACbCAAAMAYAAIx0AQCSJwAAtQkAAHIQAADSDQAAAAUAADogAAApBAAAACAAAPCfAADFkQAA",
            "dtype": "i4"
           },
           "xaxis": "x",
           "y": [
            9463928,
            48918464,
            18205913,
            26677869,
            131934602,
            17334907,
            25528929,
            44322212,
            8467667,
            212672747,
            116199865,
            664501941,
            55559557,
            301879874,
            55776221,
            129659345,
            400343277,
            5932226222,
            142566044,
            248788813,
            131102183,
            23930228,
            894516056,
            643725512,
            615839471,
            1834545540,
            14206301,
            109694772,
            23441713,
            5194911,
            1161857486,
            14236747,
            204927558,
            73533565,
            60731300,
            5067323422,
            109189140,
            11177920,
            247890207,
            12133741,
            431356435,
            392571792,
            2226372097,
            403540295,
            23961290,
            78734767,
            104934081,
            2590458387,
            6096969,
            6466618579,
            75385877,
            102711672,
            36567441,
            21396751,
            692305090,
            168584712,
            33292428,
            624738922,
            442442726,
            2305495866,
            2740678986,
            22863562,
            11183262,
            5487083,
            100042024,
            51948711,
            1732897646,
            152669227,
            18793743,
            6237592,
            140588839,
            972015041,
            544309794,
            110534215,
            2062881042,
            1324036298,
            313674949,
            843019965,
            5624854,
            667686968,
            6764235,
            5933560,
            1088839354,
            41314068,
            223117975,
            131850198,
            7953931,
            572452315,
            334183044,
            72133701,
            11815830,
            120550579,
            22175186,
            50261795,
            18937753,
            54354359,
            28074566,
            52528265,
            32583587,
            4362630,
            238351830,
            131437045,
            29921649,
            7782176,
            56107226,
            9004728,
            1437353585,
            64274074,
            19275846,
            44661082,
            21448883,
            14020511,
            53418304,
            12315882,
            276511773,
            341893089,
            596864046
           ],
           "yaxis": "y"
          }
         ],
         "name": "2021"
        },
        {
         "data": [
          {
           "hovertemplate": "<b>%{hovertext}</b><br><br>Año=2022<br>Quejas=%{x}<br>Pérdidas (USD)=%{y}<extra></extra>",
           "hovertext": [
            "PR",
            "PS",
            "PT",
            "PY",
            "AE",
            "AF",
            "AL",
            "AM",
            "AO",
            "AR",
            "AT",
            "AU",
            "AZ",
            "RO",
            "BA",
            "RS",
            "BD",
            "RU",
            "BE",
            "BG",
            "BH",
            "SA",
            "BR",
            "SC",
            "SE",
            "SG",
            "SI",
            "BY",
            "SK",
            "BZ",
            "CA",
            "SV",
            "CH",
            "SZ",
            "CL",
            "CN",
            "CO",
            "CR",
            "TH",
            "CY",
            "CZ",
            "TR",
            "DE",
            "TW",
            "TZ",
            "DK",
            "DO",
            "UA",
            "UG",
            "US",
            "EC",
            "EE",
            "EG",
            "UZ",
            "ES",
            "VE",
            "VG",
            "VN",
            "FI",
            "FR",
            "GB",
            "GE",
            "GH",
            "GN",
            "GR",
            "GT",
            "HK",
            "HN",
            "HR",
            "YE",
            "HU",
            "ID",
            "IE",
            "IL",
            "IN",
            "ZA",
            "IQ",
            "IR",
            "IS",
            "IT",
            "ZW",
            "JO",
            "JP",
            "KE",
            "KG",
            "KH",
            "KN",
            "KR",
            "KZ",
            "LB",
            "LK",
            "LT",
            "LU",
            "LV",
            "LY",
            "MD",
            "MM",
            "MN",
            "MT",
            "MV",
            "MX",
            "MY",
            "MZ",
            "nan",
            "NG",
            "NI",
            "NL",
            "NO",
            "NP",
            "NZ",
            "OM",
            "PA",
            "PE",
            "PG",
            "PH",
            "PK",
            "PL"
           ],
           "legendgroup": "",
           "marker": {
            "color": "#636efa",
            "symbol": "circle"
           },
           "mode": "markers",
           "name": "",
           "orientation": "v",
           "showlegend": false,
           "type": "scatter",
           "x": {
            "bdata": "OgYAAIoMAAB+BwAAuA4AADonAADWAwAAzAcAAEgOAADGBAAAYBoAAOcrAABaqgAAIREAAJdwAAD/LAAAozsAAN5kAAASiAQAayoAAOVbAADgJwAANQQAAJRdAgC5uwAA308BAPoXAgCRAgAAyyAAABwMAAA6AgAAGhkBADkDAABNPgAA8CIAAJMJAADkqQsAKT0AAAIDAAAhgwAAuwYAABrAAAB1hQAAUhoDAPpxAAAKEQAA4iYAAAVBAAAyswEA2wMAALW8CwBzIgAAgzoAAKgIAADPBQAALBYBAPtCAAA6BwAAII0AAMpzAABOzgIA+ysFAMgKAAAsAwAAVQIAAAwmAAAQGQAACeMDANgxAABXBwAA4gEAAHYSAADr2wAAkmIAALo1AAAkRAEANiwBANKgAADEowAAbgIAACUiAQDZAgAAZAMAAHpmAgBoDAAAbBkAAOY2AADKAQAAIHIAAO0zAADoIQAAbgMAAMIlAAAsAwAAJBYAAHQHAACvFQAAGQkAABEJAAALBgAAQQIAAIkwAAAZGwAAtgwAAFoCAABnDgAAIwYAANw5AQDfJQAAUggAAIQPAADkDwAAOgYAABQfAAAxBAAAsisAALy9AADHuwAA",
            "dtype": "i4"
           },
           "xaxis": "x",
           "y": [
            17211758,
            57796003,
            30859319,
            40114594,
            187062157,
            36751138,
            37709595,
            90439473,
            13342081,
            399595418,
            133170619,
            974136831,
            66376883,
            349041126,
            132423841,
            200497281,
            673263063,
            7664442141,
            217821448,
            338814414,
            183388664,
            25027493,
            1644488725,
            1004081887,
            882362917,
            3813537684,
            22294080,
            143916635,
            45874291,
            8430382,
            1857378939,
            19942832,
            325885360,
            107487425,
            113895219,
            7405960835,
            164002220,
            16613844,
            298227985,
            17339298,
            514944367,
            626586973,
            3442137764,
            597702921,
            66303435,
            119930937,
            102536313,
            3585569523,
            10859684,
            10304392551,
            127649437,
            169799799,
            54836127,
            30686669,
            1027272058,
            178891015,
            48459372,
            971673882,
            513111722,
            3043377444,
            5037818889,
            33926202,
            20023734,
            6648059,
            115032546,
            53100301,
            2360701043,
            224899521,
            24393753,
            9797841,
            198716263,
            1465738977,
            770682201,
            225640682,
            2898740652,
            2082730216,
            605452580,
            1314548035,
            7103744,
            967404316,
            10101328,
            8015475,
            2253466948,
            67202983,
            282601093,
            200408531,
            10228299,
            875621156,
            490818787,
            116848478,
            18551545,
            188147563,
            32981892,
            79401403,
            25303239,
            100461762,
            36636924,
            98551738,
            39902875,
            9698308,
            365325453,
            187356525,
            33495225,
            11532811,
            79935245,
            17315195,
            2216753376,
            108540856,
            28683974,
            58125970,
            28911996,
            20058995,
            76468535,
            18509434,
            382348042,
            681501827,
            1207252948
           ],
           "yaxis": "y"
          }
         ],
         "name": "2022"
        },
        {
         "data": [
          {
           "hovertemplate": "<b>%{hovertext}</b><br><br>Año=2023<br>Quejas=%{x}<br>Pérdidas (USD)=%{y}<extra></extra>",
           "hovertext": [
            "PR",
            "PS",
            "PT",
            "PY",
            "AE",
            "AF",
            "AL",
            "AM",
            "AO",
            "AR",
            "AT",
            "AU",
            "AZ",
            "RO",
            "BA",
            "RS",
            "BD",
            "RU",
            "BE",
            "BG",
            "BH",
            "SA",
            "BR",
            "SC",
            "SE",
            "SG",
            "SI",
            "BY",
            "SK",
            "BZ",
            "CA",
            "SV",
            "CH",
            "SZ",
            "CL",
            "CN",
            "CO",
            "CR",
            "TH",
            "CY",
            "CZ",
            "TR",
            "DE",
            "TW",
            "TZ",
            "DK",
            "DO",
            "UA",
            "UG",
            "US",
            "EC",
            "EE",
            "EG",
            "UZ",
            "ES",
            "VE",
            "VG",
            "VN",
            "FI",
            "FR",
            "GB",
            "GE",
            "GH",
            "GN",
            "GR",
            "GT",
            "HK",
            "HN",
            "HR",
            "YE",
            "HU",
            "ID",
            "IE",
            "IL",
            "IN",
            "ZA",
            "IQ",
            "IR",
            "IS",
            "IT",
            "ZW",
            "JO",
            "JP",
            "KE",
            "KG",
            "KH",
            "KN",
            "KR",
            "KZ",
            "LB",
            "LK",
            "LT",
            "LU",
            "LV",
            "LY",
            "MD",
            "MM",
            "MN",
            "MT",
            "MV",
            "MX",
            "MY",
            "MZ",
            "nan",
            "NG",
            "NI",
            "NL",
            "NO",
            "NP",
            "NZ",
            "OM",
            "PA",
            "PE",
            "PG",
            "PH",
            "PK",
            "PL"
           ],
           "legendgroup": "",
           "marker": {
            "color": "#636efa",
            "symbol": "circle"
           },
           "mode": "markers",
           "name": "",
           "orientation": "v",
           "showlegend": false,
           "type": "scatter",
           "x": {
            "bdata": "GQcAADINAACCCAAAnw0AABorAAB+BAAAgggAALETAAA4BQAAPyEAAI4lAAAs6wAAZxMAABd6AABkMwAA+kQAABxoAAD3aQQASC4AACRnAABNLgAASwQAANdqAgBdwAAAWz4BAIIyAgCSAgAAzyAAANgNAADTAgAAzNMAABcDAABqUgAAVSgAANoLAABQWQoAPkMAAPUDAADhbQAAKQkAALftAAANfgAAU7gCAOZxAACcFwAA4ycAAHg6AAAcywEAFAUAAF5hDQB3JAAA30cAALIJAACGBQAAjw4BAHkuAABLCAAA08gAACZpAACTiQQAusYFAMEMAAD9AgAAjwIAAGEqAAAZGAAAVbIDAA01AADoCAAAkAEAAIQRAAAL6AAAgW4AAIY6AABTeAEAPhEBAMn2AADwEAEA7wIAAOVIAQCwAgAAQQMAAOCYAgCZDwAAmi4AAGcoAAAcAgAAtokAAGYvAADWHgAA7gIAAPEgAAC3AwAAtBwAABkJAACFGwAARw4AAM8HAAAdBwAACgMAAEYyAAB2FwAA+AwAAHUCAADkDQAAagYAAGVFAQB+KAAAsAsAAPcRAAB0EQAA+AQAADclAAAmBAAAZSwAAI7QAAAzwQAA",
            "dtype": "i4"
           },
           "xaxis": "x",
           "y": [
            21018302,
            69292891,
            28700418,
            33579643,
            244238485,
            38527355,
            46707757,
            114193013,
            15792180,
            372985785,
            163158856,
            1241532793,
            85199840,
            552881444,
            148850878,
            199276163,
            522834001,
            11282113958,
            184239517,
            443783119,
            234614837,
            43606854,
            1808030603,
            1159638524,
            876268421,
            3828469818,
            22218114,
            163144740,
            69951666,
            9110927,
            2277570974,
            29082153,
            270071586,
            110748724,
            129479043,
            8997589579,
            203249469,
            20887823,
            425375149,
            19199921,
            600351173,
            761641603,
            5575128098,
            866022568,
            60317924,
            117811560,
            168606659,
            4171982394,
            17084728,
            11916782073,
            142120063,
            210872015,
            68775642,
            31812459,
            1266113273,
            306878450,
            48451711,
            1166933394,
            712562892,
            3212220994,
            3906023589,
            34237776,
            22014808,
            8907146,
            134866182,
            84710783,
            3458797505,
            264720338,
            28853906,
            9470640,
            309048399,
            2089001077,
            856830691,
            281333883,
            3640042741,
            2521801141,
            524182382,
            1502603054,
            11241606,
            1192949271,
            9698258,
            11136442,
            1995347480,
            68532563,
            316897412,
            241848538,
            9735063,
            877591085,
            642098116,
            120470644,
            22450558,
            315202293,
            41315061,
            95600192,
            26933272,
            89668934,
            44240763,
            93152308,
            56426606,
            11432984,
            446395507,
            226431418,
            47474414,
            12975631,
            102912199,
            22964248,
            3079554598,
            195621525,
            36890222,
            70383275,
            49837425,
            24329856,
            101727109,
            23087850,
            534640287,
            586037584,
            1040011485
           ],
           "yaxis": "y"
          }
         ],
         "name": "2023"
        },
        {
         "data": [
          {
           "hovertemplate": "<b>%{hovertext}</b><br><br>Año=2024<br>Quejas=%{x}<br>Pérdidas (USD)=%{y}<extra></extra>",
           "hovertext": [
            "PR",
            "PS",
            "PT",
            "PY",
            "AE",
            "AF",
            "AL",
            "AM",
            "AO",
            "AR",
            "AT",
            "AU",
            "AZ",
            "RO",
            "BA",
            "RS",
            "BD",
            "RU",
            "BE",
            "BG",
            "BH",
            "SA",
            "BR",
            "SC",
            "SE",
            "SG",
            "SI",
            "BY",
            "SK",
            "BZ",
            "CA",
            "SV",
            "CH",
            "SZ",
            "CL",
            "CN",
            "CO",
            "CR",
            "TH",
            "CY",
            "CZ",
            "TR",
            "DE",
            "TW",
            "TZ",
            "DK",
            "DO",
            "UA",
            "UG",
            "US",
            "EC",
            "EE",
            "EG",
            "UZ",
            "ES",
            "VE",
            "VG",
            "VN",
            "FI",
            "FR",
            "GB",
            "GE",
            "GH",
            "GN",
            "GR",
            "GT",
            "HK",
            "HN",
            "HR",
            "YE",
            "HU",
            "ID",
            "IE",
            "IL",
            "IN",
            "ZA",
            "IQ",
            "IR",
            "IS",
            "IT",
            "ZW",
            "JO",
            "JP",
            "KE",
            "KG",
            "KH",
            "KN",
            "KR",
            "KZ",
            "LB",
            "LK",
            "LT",
            "LU",
            "LV",
            "LY",
            "MD",
            "MM",
            "MN",
            "MT",
            "MV",
            "MX",
            "MY",
            "MZ",
            "nan",
            "NG",
            "NI",
            "NL",
            "NO",
            "NP",
            "NZ",
            "OM",
            "PA",
            "PE",
            "PG",
            "PH",
            "PK",
            "PL"
           ],
           "legendgroup": "",
           "marker": {
            "color": "#636efa",
            "symbol": "circle"
           },
           "mode": "markers",
           "name": "",
           "orientation": "v",
           "showlegend": false,
           "type": "scatter",
           "x": {
            "bdata": "tgcAAOMOAAChCAAAdgoAACcvAABdBQAAqggAAIoNAACeBQAAmSIAAMY4AACG+wAAShYAADqCAAAlNQAAiEcAAMFSAAD78QQAVzAAAJBeAAAlMgAAcgMAAL3LAwCNGwEAn04BAIJ3AgApAgAA6CMAALoOAAA8AgAAdBgBAGgDAAALWAAA6C0AAK0NAADVPw0A3jkAAD8DAABtegAALgcAAMbrAAAVlAAAKz0CAIFwAABnFAAAqCEAAM07AACecgIApAQAABZzDgB2MAAATk4AAIAKAADeBwAA2U4BADtRAACSCAAAEsYAACJlAADALwMAh1kHAOoMAADNBAAAlAIAANggAAAlGwAAAMsDAJQnAADuCwAASgEAAPUbAACl0gAAJXsAAPI+AAAsfwEAZ2EBAKcRAQCHIQEAYQIAAIBmAQDoAgAAuwMAAMbIAgCVEAAALSgAAB4zAAALAgAAnHEAAKVHAABoGAAAzgMAAEInAABLBAAAzB8AADcJAAB+IwAAeA8AAM0IAABDBQAAIQQAADFGAAArFwAABhEAAM4CAAARDgAArQUAAFN9AQCkKwAA9QoAAIgRAABUEgAAbgcAACMkAABJBQAA/TEAABQYAQCXnwAA",
            "dtype": "i4"
           },
           "xaxis": "x",
           "y": [
            31545772,
            66002407,
            40192274,
            45168957,
            280815215,
            37684396,
            56062725,
            111820067,
            18499615,
            448223952,
            145551079,
            1491968034,
            78785876,
            534185027,
            191209005,
            276403955,
            764697415,
            11161782401,
            303148050,
            522143452,
            277949474,
            53680633,
            2590565434,
            1185940522,
            1267709488,
            4524535787,
            42624356,
            171624833,
            80074928,
            12538008,
            2542329668,
            29969414,
            532068262,
            162203379,
            195674840,
            11299124337,
            285005300,
            24076527,
            534867939,
            19483205,
            718180351,
            901844914,
            5279486289,
            843230608,
            56671764,
            125845887,
            165843869,
            5161336915,
            15809008,
            14457011740,
            197235551,
            244151604,
            99156499,
            52122352,
            1244474108,
            361746565,
            44568346,
            1427085868,
            721920497,
            4025659986,
            6379113995,
            47876570,
            23766287,
            11773707,
            157051155,
            70899579,
            2863308167,
            282288918,
            34319762,
            9792860,
            274342202,
            2432253507,
            1499685797,
            310489542,
            4164403367,
            3044360891,
            803018708,
            1614663021,
            14745257,
            1328578738,
            14344326,
            11618599,
            3393546251,
            85415845,
            384798989,
            294425335,
            15660694,
            939580849,
            883976919,
            148621809,
            22772342,
            257790222,
            45198080,
            141459082,
            35814196,
            118929790,
            55325202,
            123314277,
            66224639,
            13304758,
            506585917,
            344158750,
            60688754,
            16184254,
            118105851,
            25763072,
            3320490586,
            187551761,
            43141285,
            67076977,
            66634987,
            28577503,
            91797172,
            27177455,
            576134379,
            786591645,
            1359253205
           ],
           "yaxis": "y"
          }
         ],
         "name": "2024"
        }
       ],
       "layout": {
        "legend": {
         "tracegroupgap": 0
        },
        "sliders": [
         {
          "active": 0,
          "currentvalue": {
           "prefix": "Año="
          },
          "len": 0.9,
          "pad": {
           "b": 10,
           "t": 60
          },
          "steps": [
           {
            "args": [
             [
              "2019"
             ],
             {
              "frame": {
               "duration": 0,
               "redraw": false
              },
              "fromcurrent": true,
              "mode": "immediate",
              "transition": {
               "duration": 0,
               "easing": "linear"
              }
             }
            ],
            "label": "2019",
            "method": "animate"
           },
           {
            "args": [
             [
              "2020"
             ],
             {
              "frame": {
               "duration": 0,
               "redraw": false
              },
              "fromcurrent": true,
              "mode": "immediate",
              "transition": {
               "duration": 0,
               "easing": "linear"
              }
             }
            ],
            "label": "2020",
            "method": "animate"
           },
           {
            "args": [
             [
              "2021"
             ],
             {
              "frame": {
               "duration": 0,
               "redraw": false
              },
              "fromcurrent": true,
              "mode": "immediate",
              "transition": {
               "duration": 0,
               "easing": "linear"
              }
             }
            ],
            "label": "2021",
            "method": "animate"
           },
           {
            "args": [
             [
              "2022"
             ],
             {
              "frame": {
               "duration": 0,
               "redraw": false
              },
              "fromcurrent": true,
              "mode": "immediate",
              "transition": {
               "duration": 0,
               "easing": "linear"
              }
             }
            ],
            "label": "2022",
            "method": "animate"
           },
           {
            "args": [
             [
              "2023"
             ],
             {
              "frame": {
               "duration": 0,
               "redraw": false
              },
              "fromcurrent": true,
              "mode": "immediate",
              "transition": {
               "duration": 0,
               "easing": "linear"
              }
             }
            ],
            "label": "2023",
            "method": "animate"
           },
           {
            "args": [
             [
              "2024"
             ],
             {
              "frame": {
               "duration": 0,
               "redraw": false
              },
              "fromcurrent": true,
              "mode": "immediate",
              "transition": {
               "duration": 0,
               "easing": "linear"
              }
             }
            ],
            "label": "2024",
            "method": "animate"
           }
          ],
          "x": 0.1,
          "xanchor": "left",
          "y": 0,
          "yanchor": "top"
         }
        ],
        "template": {
         "data": {
          "bar": [
           {
            "error_x": {
             "color": "#2a3f5f"
            },
            "error_y": {
             "color": "#2a3f5f"
            },
            "marker": {
             "line": {
              "color": "#E5ECF6",
              "width": 0.5
             },
             "pattern": {
              "fillmode": "overlay",
              "size": 10,
              "solidity": 0.2
             }
            },
            "type": "bar"
           }
          ],
          "barpolar": [
           {
            "marker": {
             "line": {
              "color": "#E5ECF6",
              "width": 0.5
             },
             "pattern": {
              "fillmode": "overlay",
              "size": 10,
              "solidity": 0.2
             }
            },
            "type": "barpolar"
           }
          ],
          "carpet": [
           {
            "aaxis": {
             "endlinecolor": "#2a3f5f",
             "gridcolor": "white",
             "linecolor": "white",
             "minorgridcolor": "white",
             "startlinecolor": "#2a3f5f"
            },
            "baxis": {
             "endlinecolor": "#2a3f5f",
             "gridcolor": "white",
             "linecolor": "white",
             "minorgridcolor": "white",
             "startlinecolor": "#2a3f5f"
            },
            "type": "carpet"
           }
          ],
          "choropleth": [
           {
            "colorbar": {
             "outlinewidth": 0,
             "ticks": ""
            },
            "type": "choropleth"
           }
          ],
          "contour": [
           {
            "colorbar": {
             "outlinewidth": 0,
             "ticks": ""
            },
            "colorscale": [
             [
              0,
              "#0d0887"
             ],
             [
              0.1111111111111111,
              "#46039f"
             ],
             [
              0.2222222222222222,
              "#7201a8"
             ],
             [
              0.3333333333333333,
              "#9c179e"
             ],
             [
              0.4444444444444444,
              "#bd3786"
             ],
             [
              0.5555555555555556,
              "#d8576b"
             ],
             [
              0.6666666666666666,
              "#ed7953"
             ],
             [
              0.7777777777777778,
              "#fb9f3a"
             ],
             [
              0.8888888888888888,
              "#fdca26"
             ],
             [
              1,
              "#f0f921"
             ]
            ],
            "type": "contour"
           }
          ],
          "contourcarpet": [
           {
            "colorbar": {
             "outlinewidth": 0,
             "ticks": ""
            },
            "type": "contourcarpet"
           }
          ],
          "heatmap": [
           {
            "colorbar": {
             "outlinewidth": 0,
             "ticks": ""
            },
            "colorscale": [
             [
              0,
              "#0d0887"
             ],
             [
              0.1111111111111111,
              "#46039f"
             ],
             [
              0.2222222222222222,
              "#7201a8"
             ],
             [
              0.3333333333333333,
              "#9c179e"
             ],
             [
              0.4444444444444444,
              "#bd3786"
             ],
             [
              0.5555555555555556,
              "#d8576b"
             ],
             [
              0.6666666666666666,
              "#ed7953"
             ],
             [
              0.7777777777777778,
              "#fb9f3a"
             ],
             [
              0.8888888888888888,
              "#fdca26"
             ],
             [
              1,
              "#f0f921"
             ]
            ],
            "type": "heatmap"
           }
          ],
          "histogram": [
           {
            "marker": {
             "pattern": {
              "fillmode": "overlay",
              "size": 10,
              "solidity": 0.2
             }
            },
            "type": "histogram"
           }
          ],
          "histogram2d": [
           {
            "colorbar": {
             "outlinewidth": 0,
             "ticks": ""
            },
            "colorscale": [
             [
              0,
              "#0d0887"
             ],
             [
              0.1111111111111111,
              "#46039f"
             ],
             [
              0.2222222222222222,
              "#7201a8"
             ],
             [
              0.3333333333333333,
              "#9c179e"
             ],
             [
              0.4444444444444444,
              "#bd3786"
             ],
             [
              0.5555555555555556,
              "#d8576b"
             ],
             [
              0.6666666666666666,
              "#ed7953"
             ],
             [
              0.7777777777777778,
              "#fb9f3a"
             ],
             [
              0.8888888888888888,
              "#fdca26"
             ],
             [
              1,
              "#f0f921"
             ]
            ],
            "type": "histogram2d"
           }
          ],
          "histogram2dcontour": [
           {
            "colorbar": {
             "outlinewidth": 0,
             "ticks": ""
            },
            "colorscale": [
             [
              0,
              "#0d0887"
             ],
             [
              0.1111111111111111,
              "#46039f"
             ],
             [
              0.2222222222222222,
              "#7201a8"
             ],
             [
              0.3333333333333333,
              "#9c179e"
             ],
             [
              0.4444444444444444,
              "#bd3786"
             ],
             [
              0.5555555555555556,
              "#d8576b"
             ],
             [
              0.6666666666666666,
              "#ed7953"
             ],
             [
              0.7777777777777778,
              "#fb9f3a"
             ],
             [
              0.8888888888888888,
              "#fdca26"
             ],
             [
              1,
              "#f0f921"
             ]
            ],
            "type": "histogram2dcontour"
           }
          ],
          "mesh3d": [
           {
            "colorbar": {
             "outlinewidth": 0,
             "ticks": ""
            },
            "type": "mesh3d"
           }
          ],
          "parcoords": [
           {
            "line": {
             "colorbar": {
              "outlinewidth": 0,
              "ticks": ""
             }
            },
            "type": "parcoords"
           }
          ],
          "pie": [
           {
            "automargin": true,
            "type": "pie"
           }
          ],
          "scatter": [
           {
            "fillpattern": {
             "fillmode": "overlay",
             "size": 10,
             "solidity": 0.2
            },
            "type": "scatter"
           }
          ],
          "scatter3d": [
           {
            "line": {
             "colorbar": {
              "outlinewidth": 0,
              "ticks": ""
             }
            },
            "marker": {
             "colorbar": {
              "outlinewidth": 0,
              "ticks": ""
             }
            },
            "type": "scatter3d"
           }
          ],
          "scattercarpet": [
           {
            "marker": {
             "colorbar": {
              "outlinewidth": 0,
              "ticks": ""
             }
            },
            "type": "scattercarpet"
           }
          ],
          "scattergeo": [
           {
            "marker": {
             "colorbar": {
              "outlinewidth": 0,
              "ticks": ""
             }
            },
            "type": "scattergeo"
           }
          ],
          "scattergl": [
           {
            "marker": {
             "colorbar": {
              "outlinewidth": 0,
              "ticks": ""
             }
            },
            "type": "scattergl"
           }
          ],
          "scattermap": [
           {
            "marker": {
             "colorbar": {
              "outlinewidth": 0,
              "ticks": ""
             }
            },
            "type": "scattermap"
           }
          ],
          "scattermapbox": [
           {
            "marker": {
             "colorbar": {
              "outlinewidth": 0,
              "ticks": ""
             }
            },
            "type": "scattermapbox"
           }
          ],
          "scatterpolar": [
           {
            "marker": {
             "colorbar": {
              "outlinewidth": 0,
              "ticks": ""
             }
            },
            "type": "scatterpolar"
           }
          ],
          "scatterpolargl": [
           {
            "marker": {
             "colorbar": {
              "outlinewidth": 0,
              "ticks": ""
             }
            },
            "type": "scatterpolargl"
           }
          ],
          "scatterternary": [
           {
            "marker": {
             "colorbar": {
              "outlinewidth": 0,
              "ticks": ""
             }
            },
            "type": "scatterternary"
           }
          ],
          "surface": [
           {
            "colorbar": {
             "outlinewidth": 0,
             "ticks": ""
            },
            "colorscale": [
             [
              0,
              "#0d0887"
             ],
             [
              0.1111111111111111,
              "#46039f"
             ],
             [
              0.2222222222222222,
              "#7201a8"
             ],
             [
              0.3333333333333333,
              "#9c179e"
             ],
             [
              0.4444444444444444,
              "#bd3786"
             ],
             [
              0.5555555555555556,
              "#d8576b"
             ],
             [
              0.6666666666666666,
              "#ed7953"
             ],
             [
              0.7777777777777778,
              "#fb9f3a"
             ],
             [
              0.8888888888888888,
              "#fdca26"
             ],
             [
              1,
              "#f0f921"
             ]
            ],
            "type": "surface"
           }
          ],
          "table": [
           {
            "cells": {
             "fill": {
              "color": "#EBF0F8"
             },
             "line": {
              "color": "white"
             }
            },
            "header": {
             "fill": {
              "color": "#C8D4E3"
             },
             "line": {
              "color": "white"
             }
            },
            "type": "table"
           }
          ]
         },
         "layout": {
          "annotationdefaults": {
           "arrowcolor": "#2a3f5f",
           "arrowhead": 0,
           "arrowwidth": 1
          },
          "autotypenumbers": "strict",
          "coloraxis": {
           "colorbar": {
            "outlinewidth": 0,
            "ticks": ""
           }
          },
          "colorscale": {
           "diverging": [
            [
             0,
             "#8e0152"
            ],
            [
             0.1,
             "#c51b7d"
            ],
            [
             0.2,
             "#de77ae"
            ],
            [
             0.3,
             "#f1b6da"
            ],
            [
             0.4,
             "#fde0ef"
            ],
            [
             0.5,
             "#f7f7f7"
            ],
            [
             0.6,
             "#e6f5d0"
            ],
            [
             0.7,
             "#b8e186"
            ],
            [
             0.8,
             "#7fbc41"
            ],
            [
             0.9,
             "#4d9221"
            ],
            [
             1,
             "#276419"
            ]
           ],
           "sequential": [
            [
             0,
             "#0d0887"
            ],
            [
             0.1111111111111111,
             "#46039f"
            ],
            [
             0.2222222222222222,
             "#7201a8"
            ],
            [
             0.3333333333333333,
             "#9c179e"
            ],
            [
             0.4444444444444444,
             "#bd3786"
            ],
            [
             0.5555555555555556,
             "#d8576b"
            ],
            [
             0.6666666666666666,
             "#ed7953"
            ],
            [
             0.7777777777777778,
             "#fb9f3a"
            ],
            [
             0.8888888888888888,
             "#fdca26"
            ],
            [
             1,
             "#f0f921"
            ]
           ],
           "sequentialminus": [
            [
             0,
             "#0d0887"
            ],
            [
             0.1111111111111111,
             "#46039f"
            ],
            [
             0.2222222222222222,
             "#7201a8"
            ],
            [
             0.3333333333333333,
             "#9c179e"
            ],
            [
             0.4444444444444444,
             "#bd3786"
            ],
            [
             0.5555555555555556,
             "#d8576b"
            ],
            [
             0.6666666666666666,
             "#ed7953"
            ],
            [
             0.7777777777777778,
             "#fb9f3a"
            ],
            [
             0.8888888888888888,
             "#fdca26"
            ],
            [
             1,
             "#f0f921"
            ]
           ]
          },
          "colorway": [
           "#636efa",
           "#EF553B",
           "#00cc96",
           "#ab63fa",
           "#FFA15A",
           "#19d3f3",
           "#FF6692",
           "#B6E880",
           "#FF97FF",
           "#FECB52"
          ],
          "font": {
           "color": "#2a3f5f"
          },
          "geo": {
           "bgcolor": "white",
           "lakecolor": "white",
           "landcolor": "#E5ECF6",
           "showlakes": true,
           "showland": true,
           "subunitcolor": "white"
          },
          "hoverlabel": {
           "align": "left"
          },
          "hovermode": "closest",
          "mapbox": {
           "style": "light"
          },
          "paper_bgcolor": "white",
          "plot_bgcolor": "#E5ECF6",
          "polar": {
           "angularaxis": {
            "gridcolor": "white",
            "linecolor": "white",
            "ticks": ""
           },
           "bgcolor": "#E5ECF6",
           "radialaxis": {
            "gridcolor": "white",
            "linecolor": "white",
            "ticks": ""
           }
          },
          "scene": {
           "xaxis": {
            "backgroundcolor": "#E5ECF6",
            "gridcolor": "white",
            "gridwidth": 2,
            "linecolor": "white",
            "showbackground": true,
            "ticks": "",
            "zerolinecolor": "white"
           },
           "yaxis": {
            "backgroundcolor": "#E5ECF6",
            "gridcolor": "white",
            "gridwidth": 2,
            "linecolor": "white",
            "showbackground": true,
            "ticks": "",
            "zerolinecolor": "white"
           },
           "zaxis": {
            "backgroundcolor": "#E5ECF6",
            "gridcolor": "white",
            "gridwidth": 2,
            "linecolor": "white",
            "showbackground": true,
            "ticks": "",
            "zerolinecolor": "white"
           }
          },
          "shapedefaults": {
           "line": {
            "color": "#2a3f5f"
           }
          },
          "ternary": {
           "aaxis": {
            "gridcolor": "white",
            "linecolor": "white",
            "ticks": ""
           },
           "baxis": {
            "gridcolor": "white",
            "linecolor": "white",
            "ticks": ""
           },
           "bgcolor": "#E5ECF6",
           "caxis": {
            "gridcolor": "white",
            "linecolor": "white",
            "ticks": ""
           }
          },
          "title": {
           "x": 0.05
          },
          "xaxis": {
           "automargin": true,
           "gridcolor": "white",
           "linecolor": "white",
           "ticks": "",
           "title": {
            "standoff": 15
           },
           "zerolinecolor": "white",
           "zerolinewidth": 2
          },
          "yaxis": {
           "automargin": true,
           "gridcolor": "white",
           "linecolor": "white",
           "ticks": "",
           "title": {
            "standoff": 15
           },
           "zerolinecolor": "white",
           "zerolinewidth": 2
          }
         }
        },
        "title": {
         "text": "Quejas vs Pérdidas (2019–2024) – animación por año"
        },
        "updatemenus": [
         {
          "buttons": [
           {
            "args": [
             null,
             {
              "frame": {
               "duration": 500,
               "redraw": false
              },
              "fromcurrent": true,
              "mode": "immediate",
              "transition": {
               "duration": 500,
               "easing": "linear"
              }
             }
            ],
            "label": "&#9654;",
            "method": "animate"
           },
           {
            "args": [
             [
              null
             ],
             {
              "frame": {
               "duration": 0,
               "redraw": false
              },
              "fromcurrent": true,
              "mode": "immediate",
              "transition": {
               "duration": 0,
               "easing": "linear"
              }
             }
            ],
            "label": "&#9724;",
            "method": "animate"
           }
          ],
          "direction": "left",
          "pad": {
           "r": 10,
           "t": 70
          },
          "showactive": false,
          "type": "buttons",
          "x": 0.1,
          "xanchor": "right",
          "y": 0,
          "yanchor": "top"
         }
        ],
        "xaxis": {
         "anchor": "y",
         "domain": [
          0,
          1
         ],
         "title": {
          "text": "Quejas"
         }
        },
        "yaxis": {
         "anchor": "x",
         "domain": [
          0,
          1
         ],
         "title": {
          "text": "Pérdidas (USD)"
         }
        }
       }
      }
     },
     "metadata": {},
     "output_type": "display_data"
    },
    {
     "data": {
      "application/vnd.plotly.v1+json": {
       "config": {
        "plotlyServerURL": "https://plot.ly"
       },
       "data": [
        {
         "hovertemplate": "<b>%{hovertext}</b><br><br>Pais=PR<br>Año=%{x}<br>Pérdidas (USD)=%{y}<br>Quejas=%{marker.size}<extra></extra>",
         "hovertext": [
          "PR",
          "PR",
          "PR",
          "PR",
          "PR",
          "PR"
         ],
         "legendgroup": "PR",
         "marker": {
          "color": "#636efa",
          "size": {
           "bdata": "jwI6BfkGOgYZB7YH",
           "dtype": "i2"
          },
          "sizemode": "area",
          "sizeref": 591.85375,
          "symbol": "circle"
         },
         "mode": "markers",
         "name": "PR",
         "orientation": "v",
         "showlegend": true,
         "type": "scatter",
         "x": {
          "bdata": "4wfkB+UH5gfnB+gH",
          "dtype": "i2"
         },
         "xaxis": "x",
         "y": {
          "bdata": "9ntaABsDbgB4aJAAbqEGAb62QAGsWeEB",
          "dtype": "i4"
         },
         "yaxis": "y"
        },
        {
         "hovertemplate": "<b>%{hovertext}</b><br><br>Pais=PS<br>Año=%{x}<br>Pérdidas (USD)=%{y}<br>Quejas=%{marker.size}<extra></extra>",
         "hovertext": [
          "PS",
          "PS",
          "PS",
          "PS",
          "PS",
          "PS"
         ],
         "legendgroup": "PS",
         "marker": {
          "color": "#EF553B",
          "size": {
           "bdata": "+AZKCxgNigwyDeMO",
           "dtype": "i2"
          },
          "sizemode": "area",
          "sizeref": 591.85375,
          "symbol": "circle"
         },
         "mode": "markers",
         "name": "PS",
         "orientation": "v",
         "showlegend": true,
         "type": "scatter",
         "x": {
          "bdata": "4wfkB+UH5gfnB+gH",
          "dtype": "i2"
         },
         "xaxis": "x",
         "y": {
          "bdata": "hxJXAXPtgwHAb+oCo+VxA1tTIQTnHe8D",
          "dtype": "i4"
         },
         "yaxis": "y"
        },
        {
         "hovertemplate": "<b>%{hovertext}</b><br><br>Pais=PT<br>Año=%{x}<br>Pérdidas (USD)=%{y}<br>Quejas=%{marker.size}<extra></extra>",
         "hovertext": [
          "PT",
          "PT",
          "PT",
          "PT",
          "PT",
          "PT"
         ],
         "legendgroup": "PT",
         "marker": {
          "color": "#00cc96",
          "size": {
           "bdata": "XwTkBzYIfgeCCKEI",
           "dtype": "i2"
          },
          "sizemode": "area",
          "sizeref": 591.85375,
          "symbol": "circle"
         },
         "mode": "markers",
         "name": "PT",
         "orientation": "v",
         "showlegend": true,
         "type": "scatter",
         "x": {
          "bdata": "4wfkB+UH5gfnB+gH",
          "dtype": "i2"
         },
         "xaxis": "x",
         "y": {
          "bdata": "+qPTAHoTvQDZzBUBN+DWAQLvtQESSWUC",
          "dtype": "i4"
         },
         "yaxis": "y"
        },
        {
         "hovertemplate": "<b>%{hovertext}</b><br><br>Pais=PY<br>Año=%{x}<br>Pérdidas (USD)=%{y}<br>Quejas=%{marker.size}<extra></extra>",
         "hovertext": [
          "PY",
          "PY",
          "PY",
          "PY",
          "PY",
          "PY"
         ],
         "legendgroup": "PY",
         "marker": {
          "color": "#ab63fa",
          "size": {
           "bdata": "eQewC3QMuA6fDXYK",
           "dtype": "i2"
          },
          "sizemode": "area",
          "sizeref": 591.85375,
          "symbol": "circle"
         },
         "mode": "markers",
         "name": "PY",
         "orientation": "v",
         "showlegend": true,
         "type": "scatter",
         "x": {
          "bdata": "4wfkB+UH5gfnB+gH",
          "dtype": "i2"
         },
         "xaxis": "x",
         "y": {
          "bdata": "OVunAHDN0gBtEpcBohlkAntiAAI9ObEC",
          "dtype": "i4"
         },
         "yaxis": "y"
        },
        {
         "hovertemplate": "<b>%{hovertext}</b><br><br>Pais=AE<br>Año=%{x}<br>Pérdidas (USD)=%{y}<br>Quejas=%{marker.size}<extra></extra>",
         "hovertext": [
          "AE",
          "AE",
          "AE",
          "AE",
          "AE",
          "AE"
         ],
         "legendgroup": "AE",
         "marker": {
          "color": "#FFA15A",
          "size": {
           "bdata": "fxXeHLQnOicaKycv",
           "dtype": "i2"
          },
          "sizemode": "area",
          "sizeref": 591.85375,
          "symbol": "circle"
         },
         "mode": "markers",
         "name": "AE",
         "orientation": "v",
         "showlegend": true,
         "type": "scatter",
         "x": {
          "bdata": "4wfkB+UH5gfnB+gH",
          "dtype": "i2"
         },
         "xaxis": "x",
         "y": {
          "bdata": "SvndAkau1gSKKd0HjVcmC5XIjg5v5rwQ",
          "dtype": "i4"
         },
         "yaxis": "y"
        },
        {
         "hovertemplate": "<b>%{hovertext}</b><br><br>Pais=AF<br>Año=%{x}<br>Pérdidas (USD)=%{y}<br>Quejas=%{marker.size}<extra></extra>",
         "hovertext": [
          "AF",
          "AF",
          "AF",
          "AF",
          "AF",
          "AF"
         ],
         "legendgroup": "AF",
         "marker": {
          "color": "#19d3f3",
          "size": {
           "bdata": "ZAJHBMoE1gN+BF0F",
           "dtype": "i2"
          },
          "sizemode": "area",
          "sizeref": 591.85375,
          "symbol": "circle"
         },
         "mode": "markers",
         "name": "AF",
         "orientation": "v",
         "showlegend": true,
         "type": "scatter",
         "x": {
          "bdata": "4wfkB+UH5gfnB+gH",
          "dtype": "i2"
         },
         "xaxis": "x",
         "y": {
          "bdata": "YKuMADsAfgB7gggBIscwAnvhSwKsBD8C",
          "dtype": "i4"
         },
         "yaxis": "y"
        },
        {
         "hovertemplate": "<b>%{hovertext}</b><br><br>Pais=AL<br>Año=%{x}<br>Pérdidas (USD)=%{y}<br>Quejas=%{marker.size}<extra></extra>",
         "hovertext": [
          "AL",
          "AL",
          "AL",
          "AL",
          "AL",
          "AL"
         ],
         "legendgroup": "AL",
         "marker": {
          "color": "#FF6692",
          "size": {
           "bdata": "7QSSCUIIzAeCCKoI",
           "dtype": "i2"
          },
          "sizemode": "area",
          "sizeref": 591.85375,
          "symbol": "circle"
         },
         "mode": "markers",
         "name": "AL",
         "orientation": "v",
         "showlegend": true,
         "type": "scatter",
         "x": {
          "bdata": "4wfkB+UH5gfnB+gH",
          "dtype": "i2"
         },
         "xaxis": "x",
         "y": {
          "bdata": "an3rAIA57ABhioUBG2c/Ai20yAIFc1cD",
          "dtype": "i4"
         },
         "yaxis": "y"
        },
        {
         "hovertemplate": "<b>%{hovertext}</b><br><br>Pais=AM<br>Año=%{x}<br>Pérdidas (USD)=%{y}<br>Quejas=%{marker.size}<extra></extra>",
         "hovertext": [
          "AM",
          "AM",
          "AM",
          "AM",
          "AM",
          "AM"
         ],
         "legendgroup": "AM",
         "marker": {
          "color": "#B6E880",
          "size": {
           "bdata": "YgnaDN8NSA6xE4oN",
           "dtype": "i2"
          },
          "sizemode": "area",
          "sizeref": 591.85375,
          "symbol": "circle"
         },
         "mode": "markers",
         "name": "AM",
         "orientation": "v",
         "showlegend": true,
         "type": "scatter",
         "x": {
          "bdata": "4wfkB+UH5gfnB+gH",
          "dtype": "i2"
         },
         "xaxis": "x",
         "y": {
          "bdata": "tMeDAY77RAKkTaQCMf9jBXVyzgYjPaoG",
          "dtype": "i4"
         },
         "yaxis": "y"
        },
        {
         "hovertemplate": "<b>%{hovertext}</b><br><br>Pais=AO<br>Año=%{x}<br>Pérdidas (USD)=%{y}<br>Quejas=%{marker.size}<extra></extra>",
         "hovertext": [
          "AO",
          "AO",
          "AO",
          "AO",
          "AO",
          "AO"
         ],
         "legendgroup": "AO",
         "marker": {
          "color": "#FF97FF",
          "size": {
           "bdata": "2gK/BbcExgQ4BZ4F",
           "dtype": "i2"
          },
          "sizemode": "area",
          "sizeref": 591.85375,
          "symbol": "circle"
         },
         "mode": "markers",
         "name": "AO",
         "orientation": "v",
         "showlegend": true,
         "type": "scatter",
         "x": {
          "bdata": "4wfkB+UH5gfnB+gH",
          "dtype": "i2"
         },
         "xaxis": "x",
         "y": {
          "bdata": "UGBAANz1QgDTNIEAgZXLADT48AAfSBoB",
          "dtype": "i4"
         },
         "yaxis": "y"
        },
        {
         "hovertemplate": "<b>%{hovertext}</b><br><br>Pais=AR<br>Año=%{x}<br>Pérdidas (USD)=%{y}<br>Quejas=%{marker.size}<extra></extra>",
         "hovertext": [
          "AR",
          "AR",
          "AR",
          "AR",
          "AR",
          "AR"
         ],
         "legendgroup": "AR",
         "marker": {
          "color": "#FECB52",
          "size": {
           "bdata": "yxGnF2QhYBo/IZki",
           "dtype": "i2"
          },
          "sizemode": "area",
          "sizeref": 591.85375,
          "symbol": "circle"
         },
         "mode": "markers",
         "name": "AR",
         "orientation": "v",
         "showlegend": true,
         "type": "scatter",
         "x": {
          "bdata": "4wfkB+UH5gfnB+gH",
          "dtype": "i2"
         },
         "xaxis": "x",
         "y": {
          "bdata": "vqNTBtsqvwXrIK0MmlfRF7lPOxbQWrca",
          "dtype": "i4"
         },
         "yaxis": "y"
        },
        {
         "hovertemplate": "<b>%{hovertext}</b><br><br>Pais=AT<br>Año=%{x}<br>Pérdidas (USD)=%{y}<br>Quejas=%{marker.size}<extra></extra>",
         "hovertext": [
          "AT",
          "AT",
          "AT",
          "AT",
          "AT",
          "AT"
         ],
         "legendgroup": "AT",
         "marker": {
          "color": "#636efa",
          "size": {
           "bdata": "HhvTKjQ85yuOJcY4",
           "dtype": "i2"
          },
          "sizemode": "area",
          "sizeref": 591.85375,
          "symbol": "circle"
         },
         "mode": "markers",
         "name": "AT",
         "orientation": "v",
         "showlegend": true,
         "type": "scatter",
         "x": {
          "bdata": "4wfkB+UH5gfnB+gH",
          "dtype": "i2"
         },
         "xaxis": "x",
         "y": {
          "bdata": "gNbRArazeAK5Ee0GuwXwB0ibuQnn7qwI",
          "dtype": "i4"
         },
         "yaxis": "y"
        },
        {
         "hovertemplate": "<b>%{hovertext}</b><br><br>Pais=AU<br>Año=%{x}<br>Pérdidas (USD)=%{y}<br>Quejas=%{marker.size}<extra></extra>",
         "hovertext": [
          "AU",
          "AU",
          "AU",
          "AU",
          "AU",
          "AU"
         ],
         "legendgroup": "AU",
         "marker": {
          "color": "#EF553B",
          "size": {
           "bdata": "PX0AAPDWAAA61AAAWqoAACzrAACG+wAA",
           "dtype": "i4"
          },
          "sizemode": "area",
          "sizeref": 591.85375,
          "symbol": "circle"
         },
         "mode": "markers",
         "name": "AU",
         "orientation": "v",
         "showlegend": true,
         "type": "scatter",
         "x": {
          "bdata": "4wfkB+UH5gfnB+gH",
          "dtype": "i2"
         },
         "xaxis": "x",
         "y": {
          "bdata": "fnQSEWRO0Re1fpsn/yUQOnlJAEoioO1Y",
          "dtype": "i4"
         },
         "yaxis": "y"
        },
        {
         "hovertemplate": "<b>%{hovertext}</b><br><br>Pais=AZ<br>Año=%{x}<br>Pérdidas (USD)=%{y}<br>Quejas=%{marker.size}<extra></extra>",
         "hovertext": [
          "AZ",
          "AZ",
          "AZ",
          "AZ",
          "AZ",
          "AZ"
         ],
         "legendgroup": "AZ",
         "marker": {
          "color": "#00cc96",
          "size": {
           "bdata": "xwdXEBUQIRFnE0oW",
           "dtype": "i2"
          },
          "sizemode": "area",
          "sizeref": 591.85375,
          "symbol": "circle"
         },
         "mode": "markers",
         "name": "AZ",
         "orientation": "v",
         "showlegend": true,
         "type": "scatter",
         "x": {
          "bdata": "4wfkB+UH5gfnB+gH",
          "dtype": "i2"
         },
         "xaxis": "x",
         "y": {
          "bdata": "RCSbAfRpVwKFxU8Ds9T0A+ALFAVULbIE",
          "dtype": "i4"
         },
         "yaxis": "y"
        },
        {
         "hovertemplate": "<b>%{hovertext}</b><br><br>Pais=RO<br>Año=%{x}<br>Pérdidas (USD)=%{y}<br>Quejas=%{marker.size}<extra></extra>",
         "hovertext": [
          "RO",
          "RO",
          "RO",
          "RO",
          "RO",
          "RO"
         ],
         "legendgroup": "RO",
         "marker": {
          "color": "#ab63fa",
          "size": {
           "bdata": "1kMAABRiAAA9ewAAl3AAABd6AAA6ggAA",
           "dtype": "i4"
          },
          "sizemode": "area",
          "sizeref": 591.85375,
          "symbol": "circle"
         },
         "mode": "markers",
         "name": "RO",
         "orientation": "v",
         "showlegend": true,
         "type": "scatter",
         "x": {
          "bdata": "4wfkB+UH5gfnB+gH",
          "dtype": "i2"
         },
         "xaxis": "x",
         "y": {
          "bdata": "2/E+B5QXEQlCUv4R5vHNFCRN9CBDBNcf",
          "dtype": "i4"
         },
         "yaxis": "y"
        },
        {
         "hovertemplate": "<b>%{hovertext}</b><br><br>Pais=BA<br>Año=%{x}<br>Pérdidas (USD)=%{y}<br>Quejas=%{marker.size}<extra></extra>",
         "hovertext": [
          "BA",
          "BA",
          "BA",
          "BA",
          "BA",
          "BA"
         ],
         "legendgroup": "BA",
         "marker": {
          "color": "#FFA15A",
          "size": {
           "bdata": "vBtfLvEy/yxkMyU1",
           "dtype": "i2"
          },
          "sizemode": "area",
          "sizeref": 591.85375,
          "symbol": "circle"
         },
         "mode": "markers",
         "name": "BA",
         "orientation": "v",
         "showlegend": true,
         "type": "scatter",
         "x": {
          "bdata": "4wfkB+UH5gfnB+gH",
          "dtype": "i2"
         },
         "xaxis": "x",
         "y": {
          "bdata": "7fnfAppnGALdE1MDoaDkB75I3wgtnmUL",
          "dtype": "i4"
         },
         "yaxis": "y"
        },
        {
         "hovertemplate": "<b>%{hovertext}</b><br><br>Pais=RS<br>Año=%{x}<br>Pérdidas (USD)=%{y}<br>Quejas=%{marker.size}<extra></extra>",
         "hovertext": [
          "RS",
          "RS",
          "RS",
          "RS",
          "RS",
          "RS"
         ],
         "legendgroup": "RS",
         "marker": {
          "color": "#19d3f3",
          "size": {
           "bdata": "NCTAQxxMozv6RIhH",
           "dtype": "i2"
          },
          "sizemode": "area",
          "sizeref": 591.85375,
          "symbol": "circle"
         },
         "mode": "markers",
         "name": "RS",
         "orientation": "v",
         "showlegend": true,
         "type": "scatter",
         "x": {
          "bdata": "4wfkB+UH5gfnB+gH",
          "dtype": "i2"
         },
         "xaxis": "x",
         "y": {
          "bdata": "djM0BLVx2wTRcboHgVjzC4O24AvzlnkQ",
          "dtype": "i4"
         },
         "yaxis": "y"
        },
        {
         "hovertemplate": "<b>%{hovertext}</b><br><br>Pais=BD<br>Año=%{x}<br>Pérdidas (USD)=%{y}<br>Quejas=%{marker.size}<extra></extra>",
         "hovertext": [
          "BD",
          "BD",
          "BD",
          "BD",
          "BD",
          "BD"
         ],
         "legendgroup": "BD",
         "marker": {
          "color": "#FF6692",
          "size": {
           "bdata": "wi79QJFS3mQcaMFS",
           "dtype": "i2"
          },
          "sizemode": "area",
          "sizeref": 591.85375,
          "symbol": "circle"
         },
         "mode": "markers",
         "name": "BD",
         "orientation": "v",
         "showlegend": true,
         "type": "scatter",
         "x": {
          "bdata": "4wfkB+UH5gfnB+gH",
          "dtype": "i2"
         },
         "xaxis": "x",
         "y": {
          "bdata": "JlURDI0aWg/twNwX1y0hKFHQKR9HW5Qt",
          "dtype": "i4"
         },
         "yaxis": "y"
        },
        {
         "hovertemplate": "<b>%{hovertext}</b><br><br>Pais=RU<br>Año=%{x}<br>Pérdidas (USD)=%{y}<br>Quejas=%{marker.size}<extra></extra>",
         "hovertext": [
          "RU",
          "RU",
          "RU",
          "RU",
          "RU",
          "RU"
         ],
         "legendgroup": "RU",
         "marker": {
          "color": "#B6E880",
          "size": {
           "bdata": "424CAB18BABVCQQAEogEAPdpBAD78QQA",
           "dtype": "i4"
          },
          "sizemode": "area",
          "sizeref": 591.85375,
          "symbol": "circle"
         },
         "mode": "markers",
         "name": "RU",
         "orientation": "v",
         "showlegend": true,
         "type": "scatter",
         "x": {
          "bdata": "4wfkB+UH5gfnB+gH",
          "dtype": "i2"
         },
         "xaxis": "x",
         "y": [
          2404940557,
          2402832265,
          5932226222,
          7664442141,
          11282113958,
          11161782401
         ],
         "yaxis": "y"
        },
        {
         "hovertemplate": "<b>%{hovertext}</b><br><br>Pais=BE<br>Año=%{x}<br>Pérdidas (USD)=%{y}<br>Quejas=%{marker.size}<extra></extra>",
         "hovertext": [
          "BE",
          "BE",
          "BE",
          "BE",
          "BE",
          "BE"
         ],
         "legendgroup": "BE",
         "marker": {
          "color": "#FF97FF",
          "size": {
           "bdata": "gxh8KUIuaypILlcw",
           "dtype": "i2"
          },
          "sizemode": "area",
          "sizeref": 591.85375,
          "symbol": "circle"
         },
         "mode": "markers",
         "name": "BE",
         "orientation": "v",
         "showlegend": true,
         "type": "scatter",
         "x": {
          "bdata": "4wfkB+UH5gfnB+gH",
          "dtype": "i2"
         },
         "xaxis": "x",
         "y": {
          "bdata": "25OnAwM24QScYn8ICLH7DJ1F+woSrBES",
          "dtype": "i4"
         },
         "yaxis": "y"
        },
        {
         "hovertemplate": "<b>%{hovertext}</b><br><br>Pais=BG<br>Año=%{x}<br>Pérdidas (USD)=%{y}<br>Quejas=%{marker.size}<extra></extra>",
         "hovertext": [
          "BG",
          "BG",
          "BG",
          "BG",
          "BG",
          "BG"
         ],
         "legendgroup": "BG",
         "marker": {
          "color": "#FECB52",
          "size": {
           "bdata": "bTdYaIhh5VskZ5Be",
           "dtype": "i2"
          },
          "sizemode": "area",
          "sizeref": 591.85375,
          "symbol": "circle"
         },
         "mode": "markers",
         "name": "BG",
         "orientation": "v",
         "showlegend": true,
         "type": "scatter",
         "x": {
          "bdata": "4wfkB+UH5gfnB+gH",
          "dtype": "i2"
         },
         "xaxis": "x",
         "y": {
          "bdata": "74MKB37loAZNN9QOzuUxFM+XcxrcRh8f",
          "dtype": "i4"
         },
         "yaxis": "y"
        },
        {
         "hovertemplate": "<b>%{hovertext}</b><br><br>Pais=BH<br>Año=%{x}<br>Pérdidas (USD)=%{y}<br>Quejas=%{marker.size}<extra></extra>",
         "hovertext": [
          "BH",
          "BH",
          "BH",
          "BH",
          "BH",
          "BH"
         ],
         "legendgroup": "BH",
         "marker": {
          "color": "#636efa",
          "size": {
           "bdata": "OhJuJ6Uq4CdNLiUy",
           "dtype": "i2"
          },
          "sizemode": "area",
          "sizeref": 591.85375,
          "symbol": "circle"
         },
         "mode": "markers",
         "name": "BH",
         "orientation": "v",
         "showlegend": true,
         "type": "scatter",
         "x": {
          "bdata": "4wfkB+UH5gfnB+gH",
          "dtype": "i2"
         },
         "xaxis": "x",
         "y": {
          "bdata": "biLSA/8SlwXnddAH+EnuCjXw+w0iLJEQ",
          "dtype": "i4"
         },
         "yaxis": "y"
        },
        {
         "hovertemplate": "<b>%{hovertext}</b><br><br>Pais=SA<br>Año=%{x}<br>Pérdidas (USD)=%{y}<br>Quejas=%{marker.size}<extra></extra>",
         "hovertext": [
          "SA",
          "SA",
          "SA",
          "SA",
          "SA",
          "SA"
         ],
         "legendgroup": "SA",
         "marker": {
          "color": "#EF553B",
          "size": {
           "bdata": "HwIIA1sENQRLBHID",
           "dtype": "i2"
          },
          "sizemode": "area",
          "sizeref": 591.85375,
          "symbol": "circle"
         },
         "mode": "markers",
         "name": "SA",
         "orientation": "v",
         "showlegend": true,
         "type": "scatter",
         "x": {
          "bdata": "4wfkB+UH5gfnB+gH",
          "dtype": "i2"
         },
         "xaxis": "x",
         "y": {
          "bdata": "XdezAJLC1wB0JW0BpeN9AUZjmQL5GTMD",
          "dtype": "i4"
         },
         "yaxis": "y"
        },
        {
         "hovertemplate": "<b>%{hovertext}</b><br><br>Pais=BR<br>Año=%{x}<br>Pérdidas (USD)=%{y}<br>Quejas=%{marker.size}<extra></extra>",
         "hovertext": [
          "BR",
          "BR",
          "BR",
          "BR",
          "BR",
          "BR"
         ],
         "legendgroup": "BR",
         "marker": {
          "color": "#00cc96",
          "size": {
           "bdata": "jroBAON9AgAlqAIAlF0CANdqAgC9ywMA",
           "dtype": "i4"
          },
          "sizemode": "area",
          "sizeref": 591.85375,
          "symbol": "circle"
         },
         "mode": "markers",
         "name": "BR",
         "orientation": "v",
         "showlegend": true,
         "type": "scatter",
         "x": {
          "bdata": "4wfkB+UH5gfnB+gH",
          "dtype": "i2"
         },
         "xaxis": "x",
         "y": [
          571530336,
          749658021,
          894516056,
          1644488725,
          1808030603,
          2590565434
         ],
         "yaxis": "y"
        },
        {
         "hovertemplate": "<b>%{hovertext}</b><br><br>Pais=SC<br>Año=%{x}<br>Pérdidas (USD)=%{y}<br>Quejas=%{marker.size}<extra></extra>",
         "hovertext": [
          "SC",
          "SC",
          "SC",
          "SC",
          "SC",
          "SC"
         ],
         "legendgroup": "SC",
         "marker": {
          "color": "#ab63fa",
          "size": {
           "bdata": "MmwAAC+7AADa3gAAubsAAF3AAACNGwEA",
           "dtype": "i4"
          },
          "sizemode": "area",
          "sizeref": 591.85375,
          "symbol": "circle"
         },
         "mode": "markers",
         "name": "SC",
         "orientation": "v",
         "showlegend": true,
         "type": "scatter",
         "x": {
          "bdata": "4wfkB+UH5gfnB+gH",
          "dtype": "i2"
         },
         "xaxis": "x",
         "y": {
          "bdata": "sVZ5E4uqcBjIeF4m3xLZO/ytHkUqBLBG",
          "dtype": "i4"
         },
         "yaxis": "y"
        },
        {
         "hovertemplate": "<b>%{hovertext}</b><br><br>Pais=SE<br>Año=%{x}<br>Pérdidas (USD)=%{y}<br>Quejas=%{marker.size}<extra></extra>",
         "hovertext": [
          "SE",
          "SE",
          "SE",
          "SE",
          "SE",
          "SE"
         ],
         "legendgroup": "SE",
         "marker": {
          "color": "#FFA15A",
          "size": {
           "bdata": "4agAAPrwAAD6MwEA308BAFs+AQCfTgEA",
           "dtype": "i4"
          },
          "sizemode": "area",
          "sizeref": 591.85375,
          "symbol": "circle"
         },
         "mode": "markers",
         "name": "SE",
         "orientation": "v",
         "showlegend": true,
         "type": "scatter",
         "x": {
          "bdata": "4wfkB+UH5gfnB+gH",
          "dtype": "i2"
         },
         "xaxis": "x",
         "y": {
          "bdata": "EyU1EeHGuBPv9rQkJcqXNIXLOjQwto9L",
          "dtype": "i4"
         },
         "yaxis": "y"
        },
        {
         "hovertemplate": "<b>%{hovertext}</b><br><br>Pais=SG<br>Año=%{x}<br>Pérdidas (USD)=%{y}<br>Quejas=%{marker.size}<extra></extra>",
         "hovertext": [
          "SG",
          "SG",
          "SG",
          "SG",
          "SG",
          "SG"
         ],
         "legendgroup": "SG",
         "marker": {
          "color": "#19d3f3",
          "size": {
           "bdata": "HvAAADzyAQB0HwIA+hcCAIIyAgCCdwIA",
           "dtype": "i4"
          },
          "sizemode": "area",
          "sizeref": 591.85375,
          "symbol": "circle"
         },
         "mode": "markers",
         "name": "SG",
         "orientation": "v",
         "showlegend": true,
         "type": "scatter",
         "x": {
          "bdata": "4wfkB+UH5gfnB+gH",
          "dtype": "i2"
         },
         "xaxis": "x",
         "y": [
          1051420849,
          1102776096,
          1834545540,
          3813537684,
          3828469818,
          4524535787
         ],
         "yaxis": "y"
        },
        {
         "hovertemplate": "<b>%{hovertext}</b><br><br>Pais=SI<br>Año=%{x}<br>Pérdidas (USD)=%{y}<br>Quejas=%{marker.size}<extra></extra>",
         "hovertext": [
          "SI",
          "SI",
          "SI",
          "SI",
          "SI",
          "SI"
         ],
         "legendgroup": "SI",
         "marker": {
          "color": "#FF6692",
          "size": {
           "bdata": "ZgHYAY4CkQKSAikC",
           "dtype": "i2"
          },
          "sizemode": "area",
          "sizeref": 591.85375,
          "symbol": "circle"
         },
         "mode": "markers",
         "name": "SI",
         "orientation": "v",
         "showlegend": true,
         "type": "scatter",
         "x": {
          "bdata": "4wfkB+UH5gfnB+gH",
          "dtype": "i2"
         },
         "xaxis": "x",
         "y": {
          "bdata": "X7xuAID7jABdxdgAQC5UAYIFUwFkZYoC",
          "dtype": "i4"
         },
         "yaxis": "y"
        },
        {
         "hovertemplate": "<b>%{hovertext}</b><br><br>Pais=BY<br>Año=%{x}<br>Pérdidas (USD)=%{y}<br>Quejas=%{marker.size}<extra></extra>",
         "hovertext": [
          "BY",
          "BY",
          "BY",
          "BY",
          "BY",
          "BY"
         ],
         "legendgroup": "BY",
         "marker": {
          "color": "#B6E880",
          "size": {
           "bdata": "9hVhHzIhyyDPIOgj",
           "dtype": "i2"
          },
          "sizemode": "area",
          "sizeref": 591.85375,
          "symbol": "circle"
         },
         "mode": "markers",
         "name": "BY",
         "orientation": "v",
         "showlegend": true,
         "type": "scatter",
         "x": {
          "bdata": "4wfkB+UH5gfnB+gH",
          "dtype": "i2"
         },
         "xaxis": "x",
         "y": {
          "bdata": "83ZnAhytsAI0z4kGW/6TCCRkuQmByToK",
          "dtype": "i4"
         },
         "yaxis": "y"
        },
        {
         "hovertemplate": "<b>%{hovertext}</b><br><br>Pais=SK<br>Año=%{x}<br>Pérdidas (USD)=%{y}<br>Quejas=%{marker.size}<extra></extra>",
         "hovertext": [
          "SK",
          "SK",
          "SK",
          "SK",
          "SK",
          "SK"
         ],
         "legendgroup": "SK",
         "marker": {
          "color": "#FF97FF",
          "size": {
           "bdata": "qgexDvAQHAzYDboO",
           "dtype": "i2"
          },
          "sizemode": "area",
          "sizeref": 591.85375,
          "symbol": "circle"
         },
         "mode": "markers",
         "name": "SK",
         "orientation": "v",
         "showlegend": true,
         "type": "scatter",
         "x": {
          "bdata": "4wfkB+UH5gfnB+gH",
          "dtype": "i2"
         },
         "xaxis": "x",
         "y": {
          "bdata": "stAVAVeJXgExsWUBc/y7ArJgKwSw2MUE",
          "dtype": "i4"
         },
         "yaxis": "y"
        },
        {
         "hovertemplate": "<b>%{hovertext}</b><br><br>Pais=BZ<br>Año=%{x}<br>Pérdidas (USD)=%{y}<br>Quejas=%{marker.size}<extra></extra>",
         "hovertext": [
          "BZ",
          "BZ",
          "BZ",
          "BZ",
          "BZ",
          "BZ"
         ],
         "legendgroup": "BZ",
         "marker": {
          "color": "#FECB52",
          "size": {
           "bdata": "QwEkAmQCOgLTAjwC",
           "dtype": "i2"
          },
          "sizemode": "area",
          "sizeref": 591.85375,
          "symbol": "circle"
         },
         "mode": "markers",
         "name": "BZ",
         "orientation": "v",
         "showlegend": true,
         "type": "scatter",
         "x": {
          "bdata": "4wfkB+UH5gfnB+gH",
          "dtype": "i2"
         },
         "xaxis": "x",
         "y": {
          "bdata": "3x0mABtGPwCfRE8ALqOAAI8FiwCYUL8A",
          "dtype": "i4"
         },
         "yaxis": "y"
        },
        {
         "hovertemplate": "<b>%{hovertext}</b><br><br>Pais=CA<br>Año=%{x}<br>Pérdidas (USD)=%{y}<br>Quejas=%{marker.size}<extra></extra>",
         "hovertext": [
          "CA",
          "CA",
          "CA",
          "CA",
          "CA",
          "CA"
         ],
         "legendgroup": "CA",
         "marker": {
          "color": "#636efa",
          "size": {
           "bdata": "L48AAJIbAQA2HwEAGhkBAMzTAAB0GAEA",
           "dtype": "i4"
          },
          "sizemode": "area",
          "sizeref": 591.85375,
          "symbol": "circle"
         },
         "mode": "markers",
         "name": "CA",
         "orientation": "v",
         "showlegend": true,
         "type": "scatter",
         "x": {
          "bdata": "4wfkB+UH5gfnB+gH",
          "dtype": "i2"
         },
         "xaxis": "x",
         "y": [
          673206760,
          793553716,
          1161857486,
          1857378939,
          2277570974,
          2542329668
         ],
         "yaxis": "y"
        },
        {
         "hovertemplate": "<b>%{hovertext}</b><br><br>Pais=SV<br>Año=%{x}<br>Pérdidas (USD)=%{y}<br>Quejas=%{marker.size}<extra></extra>",
         "hovertext": [
          "SV",
          "SV",
          "SV",
          "SV",
          "SV",
          "SV"
         ],
         "legendgroup": "SV",
         "marker": {
          "color": "#EF553B",
          "size": {
           "bdata": "rQHHAu0COQMXA2gD",
           "dtype": "i2"
          },
          "sizemode": "area",
          "sizeref": 591.85375,
          "symbol": "circle"
         },
         "mode": "markers",
         "name": "SV",
         "orientation": "v",
         "showlegend": true,
         "type": "scatter",
         "x": {
          "bdata": "4wfkB+UH5gfnB+gH",
          "dtype": "i2"
         },
         "xaxis": "x",
         "y": {
          "bdata": "k1t0ABfMZABLPNkAsE0wASnCuwEGTMkB",
          "dtype": "i4"
         },
         "yaxis": "y"
        },
        {
         "hovertemplate": "<b>%{hovertext}</b><br><br>Pais=CH<br>Año=%{x}<br>Pérdidas (USD)=%{y}<br>Quejas=%{marker.size}<extra></extra>",
         "hovertext": [
          "CH",
          "CH",
          "CH",
          "CH",
          "CH",
          "CH"
         ],
         "legendgroup": "CH",
         "marker": {
          "color": "#00cc96",
          "size": {
           "bdata": "9DI8SQg4TT5qUgtY",
           "dtype": "i2"
          },
          "sizemode": "area",
          "sizeref": 591.85375,
          "symbol": "circle"
         },
         "mode": "markers",
         "name": "CH",
         "orientation": "v",
         "showlegend": true,
         "type": "scatter",
         "x": {
          "bdata": "4wfkB+UH5gfnB+gH",
          "dtype": "i2"
         },
         "xaxis": "x",
         "y": {
          "bdata": "rvYbBthDdgdG8jYMsJ1sEyL3GBCmt7Yf",
          "dtype": "i4"
         },
         "yaxis": "y"
        },
        {
         "hovertemplate": "<b>%{hovertext}</b><br><br>Pais=SZ<br>Año=%{x}<br>Pérdidas (USD)=%{y}<br>Quejas=%{marker.size}<extra></extra>",
         "hovertext": [
          "SZ",
          "SZ",
          "SZ",
          "SZ",
          "SZ",
          "SZ"
         ],
         "legendgroup": "SZ",
         "marker": {
          "color": "#ab63fa",
          "size": {
           "bdata": "lRiAJMck8CJVKOgt",
           "dtype": "i2"
          },
          "sizemode": "area",
          "sizeref": 591.85375,
          "symbol": "circle"
         },
         "mode": "markers",
         "name": "SZ",
         "orientation": "v",
         "showlegend": true,
         "type": "scatter",
         "x": {
          "bdata": "4wfkB+UH5gfnB+gH",
          "dtype": "i2"
         },
         "xaxis": "x",
         "y": {
          "bdata": "lKgzAjjCVAN9CGIEwSBoBjTkmQbzBqsJ",
          "dtype": "i4"
         },
         "yaxis": "y"
        },
        {
         "hovertemplate": "<b>%{hovertext}</b><br><br>Pais=CL<br>Año=%{x}<br>Pérdidas (USD)=%{y}<br>Quejas=%{marker.size}<extra></extra>",
         "hovertext": [
          "CL",
          "CL",
          "CL",
          "CL",
          "CL",
          "CL"
         ],
         "legendgroup": "CL",
         "marker": {
          "color": "#FFA15A",
          "size": {
           "bdata": "gQXUCkAKkwnaC60N",
           "dtype": "i2"
          },
          "sizemode": "area",
          "sizeref": 591.85375,
          "symbol": "circle"
         },
         "mode": "markers",
         "name": "CL",
         "orientation": "v",
         "showlegend": true,
         "type": "scatter",
         "x": {
          "bdata": "4wfkB+UH5gfnB+gH",
          "dtype": "i2"
         },
         "xaxis": "x",
         "y": {
          "bdata": "La/0AvZlcAKkr54DM+fJBoOxtwfYwqkL",
          "dtype": "i4"
         },
         "yaxis": "y"
        },
        {
         "hovertemplate": "<b>%{hovertext}</b><br><br>Pais=CN<br>Año=%{x}<br>Pérdidas (USD)=%{y}<br>Quejas=%{marker.size}<extra></extra>",
         "hovertext": [
          "CN",
          "CN",
          "CN",
          "CN",
          "CN",
          "CN"
         ],
         "legendgroup": "CN",
         "marker": {
          "color": "#19d3f3",
          "size": {
           "bdata": "GdsGAJrECgBdWA4A5KkLAFBZCgDVPw0A",
           "dtype": "i4"
          },
          "sizemode": "area",
          "sizeref": 591.85375,
          "symbol": "circle"
         },
         "mode": "markers",
         "name": "CN",
         "orientation": "v",
         "showlegend": true,
         "type": "scatter",
         "x": {
          "bdata": "4wfkB+UH5gfnB+gH",
          "dtype": "i2"
         },
         "xaxis": "x",
         "y": [
          2532007781,
          3061083799,
          5067323422,
          7405960835,
          8997589579,
          11299124337
         ],
         "yaxis": "y"
        },
        {
         "hovertemplate": "<b>%{hovertext}</b><br><br>Pais=CO<br>Año=%{x}<br>Pérdidas (USD)=%{y}<br>Quejas=%{marker.size}<extra></extra>",
         "hovertext": [
          "CO",
          "CO",
          "CO",
          "CO",
          "CO",
          "CO"
         ],
         "legendgroup": "CO",
         "marker": {
          "color": "#FF6692",
          "size": {
           "bdata": "0Ro+NlM9KT0+Q945",
           "dtype": "i2"
          },
          "sizemode": "area",
          "sizeref": 591.85375,
          "symbol": "circle"
         },
         "mode": "markers",
         "name": "CO",
         "orientation": "v",
         "showlegend": true,
         "type": "scatter",
         "x": {
          "bdata": "4wfkB+UH5gfnB+gH",
          "dtype": "i2"
         },
         "xaxis": "x",
         "y": {
          "bdata": "RWgkBP3b0wMUGIIGrHnGCT1XHQz01fwQ",
          "dtype": "i4"
         },
         "yaxis": "y"
        },
        {
         "hovertemplate": "<b>%{hovertext}</b><br><br>Pais=CR<br>Año=%{x}<br>Pérdidas (USD)=%{y}<br>Quejas=%{marker.size}<extra></extra>",
         "hovertext": [
          "CR",
          "CR",
          "CR",
          "CR",
          "CR",
          "CR"
         ],
         "legendgroup": "CR",
         "marker": {
          "color": "#B6E880",
          "size": {
           "bdata": "ngGTAi8DAgP1Az8D",
           "dtype": "i2"
          },
          "sizemode": "area",
          "sizeref": 591.85375,
          "symbol": "circle"
         },
         "mode": "markers",
         "name": "CR",
         "orientation": "v",
         "showlegend": true,
         "type": "scatter",
         "x": {
          "bdata": "4wfkB+UH5gfnB+gH",
          "dtype": "i2"
         },
         "xaxis": "x",
         "y": {
          "bdata": "I7BHAKcvbADAj6oA1IH9AA+5PgHvYG8B",
          "dtype": "i4"
         },
         "yaxis": "y"
        },
        {
         "hovertemplate": "<b>%{hovertext}</b><br><br>Pais=TH<br>Año=%{x}<br>Pérdidas (USD)=%{y}<br>Quejas=%{marker.size}<extra></extra>",
         "hovertext": [
          "TH",
          "TH",
          "TH",
          "TH",
          "TH",
          "TH"
         ],
         "legendgroup": "TH",
         "marker": {
          "color": "#FF97FF",
          "size": {
           "bdata": "IDMAAARgAAAhcQAAIYMAAOFtAABtegAA",
           "dtype": "i4"
          },
          "sizemode": "area",
          "sizeref": 591.85375,
          "symbol": "circle"
         },
         "mode": "markers",
         "name": "TH",
         "orientation": "v",
         "showlegend": true,
         "type": "scatter",
         "x": {
          "bdata": "4wfkB+UH5gfnB+gH",
          "dtype": "i2"
         },
         "xaxis": "x",
         "y": {
          "bdata": "sNNGB4r3xAgfgcYOEZnGEa21Whnjb+Ef",
          "dtype": "i4"
         },
         "yaxis": "y"
        },
        {
         "hovertemplate": "<b>%{hovertext}</b><br><br>Pais=CY<br>Año=%{x}<br>Pérdidas (USD)=%{y}<br>Quejas=%{marker.size}<extra></extra>",
         "hovertext": [
          "CY",
          "CY",
          "CY",
          "CY",
          "CY",
          "CY"
         ],
         "legendgroup": "CY",
         "marker": {
          "color": "#FECB52",
          "size": {
           "bdata": "5wOqBuIGuwYpCS4H",
           "dtype": "i2"
          },
          "sizemode": "area",
          "sizeref": 591.85375,
          "symbol": "circle"
         },
         "mode": "markers",
         "name": "CY",
         "orientation": "v",
         "showlegend": true,
         "type": "scatter",
         "x": {
          "bdata": "4wfkB+UH5gfnB+gH",
          "dtype": "i2"
         },
         "xaxis": "x",
         "y": {
          "bdata": "+sRWAHCTaABtJbkAopMIAbH3JAFFSikB",
          "dtype": "i4"
         },
         "yaxis": "y"
        },
        {
         "hovertemplate": "<b>%{hovertext}</b><br><br>Pais=CZ<br>Año=%{x}<br>Pérdidas (USD)=%{y}<br>Quejas=%{marker.size}<extra></extra>",
         "hovertext": [
          "CZ",
          "CZ",
          "CZ",
          "CZ",
          "CZ",
          "CZ"
         ],
         "legendgroup": "CZ",
         "marker": {
          "color": "#636efa",
          "size": {
           "bdata": "A3YAAFK5AADoCgEAGsAAALftAADG6wAA",
           "dtype": "i4"
          },
          "sizemode": "area",
          "sizeref": 591.85375,
          "symbol": "circle"
         },
         "mode": "markers",
         "name": "CZ",
         "orientation": "v",
         "showlegend": true,
         "type": "scatter",
         "x": {
          "bdata": "4wfkB+UH5gfnB+gH",
          "dtype": "i2"
         },
         "xaxis": "x",
         "y": {
          "bdata": "4KJPCsnvqgwT+rUZb22xHsWhyCP/j84q",
          "dtype": "i4"
         },
         "yaxis": "y"
        },
        {
         "hovertemplate": "<b>%{hovertext}</b><br><br>Pais=TR<br>Año=%{x}<br>Pérdidas (USD)=%{y}<br>Quejas=%{marker.size}<extra></extra>",
         "hovertext": [
          "TR",
          "TR",
          "TR",
          "TR",
          "TR",
          "TR"
         ],
         "legendgroup": "TR",
         "marker": {
          "color": "#EF553B",
          "size": {
           "bdata": "jUAAAEhuAACfdgAAdYUAAA1+AAAVlAAA",
           "dtype": "i4"
          },
          "sizemode": "area",
          "sizeref": 591.85375,
          "symbol": "circle"
         },
         "mode": "markers",
         "name": "TR",
         "orientation": "v",
         "showlegend": true,
         "type": "scatter",
         "x": {
          "bdata": "4wfkB+UH5gfnB+gH",
          "dtype": "i2"
         },
         "xaxis": "x",
         "y": {
          "bdata": "AYBpDLXbcg+QK2YXXfVYJYO6ZS2yD8E1",
          "dtype": "i4"
         },
         "yaxis": "y"
        },
        {
         "hovertemplate": "<b>%{hovertext}</b><br><br>Pais=DE<br>Año=%{x}<br>Pérdidas (USD)=%{y}<br>Quejas=%{marker.size}<extra></extra>",
         "hovertext": [
          "DE",
          "DE",
          "DE",
          "DE",
          "DE",
          "DE"
         ],
         "legendgroup": "DE",
         "marker": {
          "color": "#00cc96",
          "size": {
           "bdata": "oHMBAA9EAgDdgAIAUhoDAFO4AgArPQIA",
           "dtype": "i4"
          },
          "sizemode": "area",
          "sizeref": 591.85375,
          "symbol": "circle"
         },
         "mode": "markers",
         "name": "DE",
         "orientation": "v",
         "showlegend": true,
         "type": "scatter",
         "x": {
          "bdata": "4wfkB+UH5gfnB+gH",
          "dtype": "i2"
         },
         "xaxis": "x",
         "y": [
          1559415577,
          2432407746,
          2226372097,
          3442137764,
          5575128098,
          5279486289
         ],
         "yaxis": "y"
        },
        {
         "hovertemplate": "<b>%{hovertext}</b><br><br>Pais=TW<br>Año=%{x}<br>Pérdidas (USD)=%{y}<br>Quejas=%{marker.size}<extra></extra>",
         "hovertext": [
          "TW",
          "TW",
          "TW",
          "TW",
          "TW",
          "TW"
         ],
         "legendgroup": "TW",
         "marker": {
          "color": "#ab63fa",
          "size": {
           "bdata": "QEKtdXRb+nHmcYFw",
           "dtype": "i2"
          },
          "sizemode": "area",
          "sizeref": 591.85375,
          "symbol": "circle"
         },
         "mode": "markers",
         "name": "TW",
         "orientation": "v",
         "showlegend": true,
         "type": "scatter",
         "x": {
          "bdata": "4wfkB+UH5gfnB+gH",
          "dtype": "i2"
         },
         "xaxis": "x",
         "y": {
          "bdata": "bAs/DGsk2ApHiQ0YCTmgI6h0njOQrUIy",
          "dtype": "i4"
         },
         "yaxis": "y"
        },
        {
         "hovertemplate": "<b>%{hovertext}</b><br><br>Pais=TZ<br>Año=%{x}<br>Pérdidas (USD)=%{y}<br>Quejas=%{marker.size}<extra></extra>",
         "hovertext": [
          "TZ",
          "TZ",
          "TZ",
          "TZ",
          "TZ",
          "TZ"
         ],
         "legendgroup": "TZ",
         "marker": {
          "color": "#FFA15A",
          "size": {
           "bdata": "7AtLEDUTChGcF2cU",
           "dtype": "i2"
          },
          "sizemode": "area",
          "sizeref": 591.85375,
          "symbol": "circle"
         },
         "mode": "markers",
         "name": "TZ",
         "orientation": "v",
         "showlegend": true,
         "type": "scatter",
         "x": {
          "bdata": "4wfkB+UH5gfnB+gH",
          "dtype": "i2"
         },
         "xaxis": "x",
         "y": {
          "bdata": "5+bjADKsRAHKnm0By7XzA+RgmAMUvmAD",
          "dtype": "i4"
         },
         "yaxis": "y"
        },
        {
         "hovertemplate": "<b>%{hovertext}</b><br><br>Pais=DK<br>Año=%{x}<br>Pérdidas (USD)=%{y}<br>Quejas=%{marker.size}<extra></extra>",
         "hovertext": [
          "DK",
          "DK",
          "DK",
          "DK",
          "DK",
          "DK"
         ],
         "legendgroup": "DK",
         "marker": {
          "color": "#19d3f3",
          "size": {
           "bdata": "Jha3IyEp4ibjJ6gh",
           "dtype": "i2"
          },
          "sizemode": "area",
          "sizeref": 591.85375,
          "symbol": "circle"
         },
         "mode": "markers",
         "name": "DK",
         "orientation": "v",
         "showlegend": true,
         "type": "scatter",
         "x": {
          "bdata": "4wfkB+UH5gfnB+gH",
          "dtype": "i2"
         },
         "xaxis": "x",
         "y": {
          "bdata": "51BFAtt/NwKvZbEEOQAmB2ipBQd/QYAH",
          "dtype": "i4"
         },
         "yaxis": "y"
        },
        {
         "hovertemplate": "<b>%{hovertext}</b><br><br>Pais=DO<br>Año=%{x}<br>Pérdidas (USD)=%{y}<br>Quejas=%{marker.size}<extra></extra>",
         "hovertext": [
          "DO",
          "DO",
          "DO",
          "DO",
          "DO",
          "DO"
         ],
         "legendgroup": "DO",
         "marker": {
          "color": "#FF6692",
          "size": {
           "bdata": "MB74N642BUF4Os07",
           "dtype": "i2"
          },
          "sizemode": "area",
          "sizeref": 591.85375,
          "symbol": "circle"
         },
         "mode": "markers",
         "name": "DO",
         "orientation": "v",
         "showlegend": true,
         "type": "scatter",
         "x": {
          "bdata": "4wfkB+UH5gfnB+gH",
          "dtype": "i2"
         },
         "xaxis": "x",
         "y": {
          "bdata": "1pReAiznlALBKkEGeZQcBsO7DAqdk+IJ",
          "dtype": "i4"
         },
         "yaxis": "y"
        },
        {
         "hovertemplate": "<b>%{hovertext}</b><br><br>Pais=UA<br>Año=%{x}<br>Pérdidas (USD)=%{y}<br>Quejas=%{marker.size}<extra></extra>",
         "hovertext": [
          "UA",
          "UA",
          "UA",
          "UA",
          "UA",
          "UA"
         ],
         "legendgroup": "UA",
         "marker": {
          "color": "#B6E880",
          "size": {
           "bdata": "XQABAGSPAQCurgEAMrMBABzLAQCecgIA",
           "dtype": "i4"
          },
          "sizemode": "area",
          "sizeref": 591.85375,
          "symbol": "circle"
         },
         "mode": "markers",
         "name": "UA",
         "orientation": "v",
         "showlegend": true,
         "type": "scatter",
         "x": {
          "bdata": "4wfkB+UH5gfnB+gH",
          "dtype": "i2"
         },
         "xaxis": "x",
         "y": [
          1290652585,
          1449674414,
          2590458387,
          3585569523,
          4171982394,
          5161336915
         ],
         "yaxis": "y"
        },
        {
         "hovertemplate": "<b>%{hovertext}</b><br><br>Pais=UG<br>Año=%{x}<br>Pérdidas (USD)=%{y}<br>Quejas=%{marker.size}<extra></extra>",
         "hovertext": [
          "UG",
          "UG",
          "UG",
          "UG",
          "UG",
          "UG"
         ],
         "legendgroup": "UG",
         "marker": {
          "color": "#FF97FF",
          "size": {
           "bdata": "4gGMBCIE2wMUBaQE",
           "dtype": "i2"
          },
          "sizemode": "area",
          "sizeref": 591.85375,
          "symbol": "circle"
         },
         "mode": "markers",
         "name": "UG",
         "orientation": "v",
         "showlegend": true,
         "type": "scatter",
         "x": {
          "bdata": "4wfkB+UH5gfnB+gH",
          "dtype": "i2"
         },
         "xaxis": "x",
         "y": {
          "bdata": "p3Q7AJZwRQBJCF0ApLSlADixBAHwOfEA",
          "dtype": "i4"
         },
         "yaxis": "y"
        },
        {
         "hovertemplate": "<b>%{hovertext}</b><br><br>Pais=US<br>Año=%{x}<br>Pérdidas (USD)=%{y}<br>Quejas=%{marker.size}<extra></extra>",
         "hovertext": [
          "US",
          "US",
          "US",
          "US",
          "US",
          "US"
         ],
         "legendgroup": "US",
         "marker": {
          "color": "#FECB52",
          "size": {
           "bdata": "Q4kGAOsmDACDqAwAtbwLAF5hDQAWcw4A",
           "dtype": "i4"
          },
          "sizemode": "area",
          "sizeref": 591.85375,
          "symbol": "circle"
         },
         "mode": "markers",
         "name": "US",
         "orientation": "v",
         "showlegend": true,
         "type": "scatter",
         "x": {
          "bdata": "4wfkB+UH5gfnB+gH",
          "dtype": "i2"
         },
         "xaxis": "x",
         "y": [
          3302744547,
          3906715208,
          6466618579,
          10304392551,
          11916782073,
          14457011740
         ],
         "yaxis": "y"
        },
        {
         "hovertemplate": "<b>%{hovertext}</b><br><br>Pais=EC<br>Año=%{x}<br>Pérdidas (USD)=%{y}<br>Quejas=%{marker.size}<extra></extra>",
         "hovertext": [
          "EC",
          "EC",
          "EC",
          "EC",
          "EC",
          "EC"
         ],
         "legendgroup": "EC",
         "marker": {
          "color": "#636efa",
          "size": {
           "bdata": "Uhj7H5IncyJ3JHYw",
           "dtype": "i2"
          },
          "sizemode": "area",
          "sizeref": 591.85375,
          "symbol": "circle"
         },
         "mode": "markers",
         "name": "EC",
         "orientation": "v",
         "showlegend": true,
         "type": "scatter",
         "x": {
          "bdata": "4wfkB+UH5gfnB+gH",
          "dtype": "i2"
         },
         "xaxis": "x",
         "y": {
          "bdata": "yM9EAtcE0gIVTH4EncabB3+UeAhfk8EL",
          "dtype": "i4"
         },
         "yaxis": "y"
        },
        {
         "hovertemplate": "<b>%{hovertext}</b><br><br>Pais=EE<br>Año=%{x}<br>Pérdidas (USD)=%{y}<br>Quejas=%{marker.size}<extra></extra>",
         "hovertext": [
          "EE",
          "EE",
          "EE",
          "EE",
          "EE",
          "EE"
         ],
         "legendgroup": "EE",
         "marker": {
          "color": "#EF553B",
          "size": {
           "bdata": "8CWEPqsygzrfR05O",
           "dtype": "i2"
          },
          "sizemode": "area",
          "sizeref": 591.85375,
          "symbol": "circle"
         },
         "mode": "markers",
         "name": "EE",
         "orientation": "v",
         "showlegend": true,
         "type": "scatter",
         "x": {
          "bdata": "4wfkB+UH5gfnB+gH",
          "dtype": "i2"
         },
         "xaxis": "x",
         "y": {
          "bdata": "CBDHA3Bo4gR4QR8Gd/AeCs+mkQw0dY0O",
          "dtype": "i4"
         },
         "yaxis": "y"
        },
        {
         "hovertemplate": "<b>%{hovertext}</b><br><br>Pais=EG<br>Año=%{x}<br>Pérdidas (USD)=%{y}<br>Quejas=%{marker.size}<extra></extra>",
         "hovertext": [
          "EG",
          "EG",
          "EG",
          "EG",
          "EG",
          "EG"
         ],
         "legendgroup": "EG",
         "marker": {
          "color": "#00cc96",
          "size": {
           "bdata": "kgWzB6IKqAiyCYAK",
           "dtype": "i2"
          },
          "sizemode": "area",
          "sizeref": 591.85375,
          "symbol": "circle"
         },
         "mode": "markers",
         "name": "EG",
         "orientation": "v",
         "showlegend": true,
         "type": "scatter",
         "x": {
          "bdata": "4wfkB+UH5gfnB+gH",
          "dtype": "i2"
         },
         "xaxis": "x",
         "y": {
          "bdata": "QbtEAU0cwgGR+S0Cn7tEA9puGQQTAukF",
          "dtype": "i4"
         },
         "yaxis": "y"
        },
        {
         "hovertemplate": "<b>%{hovertext}</b><br><br>Pais=UZ<br>Año=%{x}<br>Pérdidas (USD)=%{y}<br>Quejas=%{marker.size}<extra></extra>",
         "hovertext": [
          "UZ",
          "UZ",
          "UZ",
          "UZ",
          "UZ",
          "UZ"
         ],
         "legendgroup": "UZ",
         "marker": {
          "color": "#ab63fa",
          "size": {
           "bdata": "2wIZBbMFzwWGBd4H",
           "dtype": "i2"
          },
          "sizemode": "area",
          "sizeref": 591.85375,
          "symbol": "circle"
         },
         "mode": "markers",
         "name": "UZ",
         "orientation": "v",
         "showlegend": true,
         "type": "scatter",
         "x": {
          "bdata": "4wfkB+UH5gfnB+gH",
          "dtype": "i2"
         },
         "xaxis": "x",
         "y": {
          "bdata": "oViaACvktQAPfUYBzT3UAWtr5QHwUhsD",
          "dtype": "i4"
         },
         "yaxis": "y"
        },
        {
         "hovertemplate": "<b>%{hovertext}</b><br><br>Pais=ES<br>Año=%{x}<br>Pérdidas (USD)=%{y}<br>Quejas=%{marker.size}<extra></extra>",
         "hovertext": [
          "ES",
          "ES",
          "ES",
          "ES",
          "ES",
          "ES"
         ],
         "legendgroup": "ES",
         "marker": {
          "color": "#FFA15A",
          "size": {
           "bdata": "83sAAAzwAAAiKwEALBYBAI8OAQDZTgEA",
           "dtype": "i4"
          },
          "sizemode": "area",
          "sizeref": 591.85375,
          "symbol": "circle"
         },
         "mode": "markers",
         "name": "ES",
         "orientation": "v",
         "showlegend": true,
         "type": "scatter",
         "x": {
          "bdata": "4wfkB+UH5gfnB+gH",
          "dtype": "i2"
         },
         "xaxis": "x",
         "y": {
          "bdata": "hvL1E/2/mhzCvEMpeu06Pflad0v8Ki1K",
          "dtype": "i4"
         },
         "yaxis": "y"
        },
        {
         "hovertemplate": "<b>%{hovertext}</b><br><br>Pais=VE<br>Año=%{x}<br>Pérdidas (USD)=%{y}<br>Quejas=%{marker.size}<extra></extra>",
         "hovertext": [
          "VE",
          "VE",
          "VE",
          "VE",
          "VE",
          "VE"
         ],
         "legendgroup": "VE",
         "marker": {
          "color": "#19d3f3",
          "size": {
           "bdata": "dR3MLpFA+0J5LjtR",
           "dtype": "i2"
          },
          "sizemode": "area",
          "sizeref": 591.85375,
          "symbol": "circle"
         },
         "mode": "markers",
         "name": "VE",
         "orientation": "v",
         "showlegend": true,
         "type": "scatter",
         "x": {
          "bdata": "4wfkB+UH5gfnB+gH",
          "dtype": "i2"
         },
         "xaxis": "x",
         "y": {
          "bdata": "x4C7BH/VyAYIZgwKB6mpCvKXShKF0I8V",
          "dtype": "i4"
         },
         "yaxis": "y"
        },
        {
         "hovertemplate": "<b>%{hovertext}</b><br><br>Pais=VG<br>Año=%{x}<br>Pérdidas (USD)=%{y}<br>Quejas=%{marker.size}<extra></extra>",
         "hovertext": [
          "VG",
          "VG",
          "VG",
          "VG",
          "VG",
          "VG"
         ],
         "legendgroup": "VG",
         "marker": {
          "color": "#FF6692",
          "size": {
           "bdata": "LQMwB8sHOgdLCJII",
           "dtype": "i2"
          },
          "sizemode": "area",
          "sizeref": 591.85375,
          "symbol": "circle"
         },
         "mode": "markers",
         "name": "VG",
         "orientation": "v",
         "showlegend": true,
         "type": "scatter",
         "x": {
          "bdata": "4wfkB+UH5gfnB+gH",
          "dtype": "i2"
         },
         "xaxis": "x",
         "y": {
          "bdata": "/EHYAP/IpgCMAPwBbG7jAn9Q4wIaD6gC",
          "dtype": "i4"
         },
         "yaxis": "y"
        },
        {
         "hovertemplate": "<b>%{hovertext}</b><br><br>Pais=VN<br>Año=%{x}<br>Pérdidas (USD)=%{y}<br>Quejas=%{marker.size}<extra></extra>",
         "hovertext": [
          "VN",
          "VN",
          "VN",
          "VN",
          "VN",
          "VN"
         ],
         "legendgroup": "VN",
         "marker": {
          "color": "#B6E880",
          "size": {
           "bdata": "AVQAAC/PAAB3ngAAII0AANPIAAASxgAA",
           "dtype": "i4"
          },
          "sizemode": "area",
          "sizeref": 591.85375,
          "symbol": "circle"
         },
         "mode": "markers",
         "name": "VN",
         "orientation": "v",
         "showlegend": true,
         "type": "scatter",
         "x": {
          "bdata": "4wfkB+UH5gfnB+gH",
          "dtype": "i2"
         },
         "xaxis": "x",
         "y": {
          "bdata": "Tra3FhJ8LxdqwjwlGpHqOZL9jUUsmg9V",
          "dtype": "i4"
         },
         "yaxis": "y"
        },
        {
         "hovertemplate": "<b>%{hovertext}</b><br><br>Pais=FI<br>Año=%{x}<br>Pérdidas (USD)=%{y}<br>Quejas=%{marker.size}<extra></extra>",
         "hovertext": [
          "FI",
          "FI",
          "FI",
          "FI",
          "FI",
          "FI"
         ],
         "legendgroup": "FI",
         "marker": {
          "color": "#FF97FF",
          "size": {
           "bdata": "WzhqWpJEynMmaSJl",
           "dtype": "i2"
          },
          "sizemode": "area",
          "sizeref": 591.85375,
          "symbol": "circle"
         },
         "mode": "markers",
         "name": "FI",
         "orientation": "v",
         "showlegend": true,
         "type": "scatter",
         "x": {
          "bdata": "4wfkB+UH5gfnB+gH",
          "dtype": "i2"
         },
         "xaxis": "x",
         "y": {
          "bdata": "Aym2Cg91dQzmI18aqnaVHszYeCrxoQcr",
          "dtype": "i4"
         },
         "yaxis": "y"
        },
        {
         "hovertemplate": "<b>%{hovertext}</b><br><br>Pais=FR<br>Año=%{x}<br>Pérdidas (USD)=%{y}<br>Quejas=%{marker.size}<extra></extra>",
         "hovertext": [
          "FR",
          "FR",
          "FR",
          "FR",
          "FR",
          "FR"
         ],
         "legendgroup": "FR",
         "marker": {
          "color": "#FECB52",
          "size": {
           "bdata": "KnQCAJg4AwCeHQMATs4CAJOJBADALwMA",
           "dtype": "i4"
          },
          "sizemode": "area",
          "sizeref": 591.85375,
          "symbol": "circle"
         },
         "mode": "markers",
         "name": "FR",
         "orientation": "v",
         "showlegend": true,
         "type": "scatter",
         "x": {
          "bdata": "4wfkB+UH5gfnB+gH",
          "dtype": "i2"
         },
         "xaxis": "x",
         "y": [
          967758695,
          1099523432,
          2305495866,
          3043377444,
          3212220994,
          4025659986
         ],
         "yaxis": "y"
        },
        {
         "hovertemplate": "<b>%{hovertext}</b><br><br>Pais=GB<br>Año=%{x}<br>Pérdidas (USD)=%{y}<br>Quejas=%{marker.size}<extra></extra>",
         "hovertext": [
          "GB",
          "GB",
          "GB",
          "GB",
          "GB",
          "GB"
         ],
         "legendgroup": "GB",
         "marker": {
          "color": "#636efa",
          "size": {
           "bdata": "Y8oCAGeFBgAvdQUA+ysFALrGBQCHWQcA",
           "dtype": "i4"
          },
          "sizemode": "area",
          "sizeref": 591.85375,
          "symbol": "circle"
         },
         "mode": "markers",
         "name": "GB",
         "orientation": "v",
         "showlegend": true,
         "type": "scatter",
         "x": {
          "bdata": "4wfkB+UH5gfnB+gH",
          "dtype": "i2"
         },
         "xaxis": "x",
         "y": [
          1342411802,
          1590816673,
          2740678986,
          5037818889,
          3906023589,
          6379113995
         ],
         "yaxis": "y"
        },
        {
         "hovertemplate": "<b>%{hovertext}</b><br><br>Pais=GE<br>Año=%{x}<br>Pérdidas (USD)=%{y}<br>Quejas=%{marker.size}<extra></extra>",
         "hovertext": [
          "GE",
          "GE",
          "GE",
          "GE",
          "GE",
          "GE"
         ],
         "legendgroup": "GE",
         "marker": {
          "color": "#EF553B",
          "size": {
           "bdata": "bgi9CoULyArBDOoM",
           "dtype": "i2"
          },
          "sizemode": "area",
          "sizeref": 591.85375,
          "symbol": "circle"
         },
         "mode": "markers",
         "name": "GE",
         "orientation": "v",
         "showlegend": true,
         "type": "scatter",
         "x": {
          "bdata": "4wfkB+UH5gfnB+gH",
          "dtype": "i2"
         },
         "xaxis": "x",
         "y": {
          "bdata": "1qKrAKo8zwDK3lwBOqwFAlBtCgLaidoC",
          "dtype": "i4"
         },
         "yaxis": "y"
        },
        {
         "hovertemplate": "<b>%{hovertext}</b><br><br>Pais=GH<br>Año=%{x}<br>Pérdidas (USD)=%{y}<br>Quejas=%{marker.size}<extra></extra>",
         "hovertext": [
          "GH",
          "GH",
          "GH",
          "GH",
          "GH",
          "GH"
         ],
         "legendgroup": "GH",
         "marker": {
          "color": "#00cc96",
          "size": {
           "bdata": "zwFKA2IDLAP9As0E",
           "dtype": "i2"
          },
          "sizemode": "area",
          "sizeref": 591.85375,
          "symbol": "circle"
         },
         "mode": "markers",
         "name": "GH",
         "orientation": "v",
         "showlegend": true,
         "type": "scatter",
         "x": {
          "bdata": "4wfkB+UH5gfnB+gH",
          "dtype": "i2"
         },
         "xaxis": "x",
         "y": {
          "bdata": "EiJdANQ2YwCepKoAtokxAVjrTwEPpWoB",
          "dtype": "i4"
         },
         "yaxis": "y"
        },
        {
         "hovertemplate": "<b>%{hovertext}</b><br><br>Pais=GN<br>Año=%{x}<br>Pérdidas (USD)=%{y}<br>Quejas=%{marker.size}<extra></extra>",
         "hovertext": [
          "GN",
          "GN",
          "GN",
          "GN",
          "GN",
          "GN"
         ],
         "legendgroup": "GN",
         "marker": {
          "color": "#ab63fa",
          "size": {
           "bdata": "PAEiAhACVQKPApQC",
           "dtype": "i2"
          },
          "sizemode": "area",
          "sizeref": 591.85375,
          "symbol": "circle"
         },
         "mode": "markers",
         "name": "GN",
         "orientation": "v",
         "showlegend": true,
         "type": "scatter",
         "x": {
          "bdata": "4wfkB+UH5gfnB+gH",
          "dtype": "i2"
         },
         "xaxis": "x",
         "y": {
          "bdata": "z+YsAKlsRADruVMA+3BlAIrphwALp7MA",
          "dtype": "i4"
         },
         "yaxis": "y"
        },
        {
         "hovertemplate": "<b>%{hovertext}</b><br><br>Pais=GR<br>Año=%{x}<br>Pérdidas (USD)=%{y}<br>Quejas=%{marker.size}<extra></extra>",
         "hovertext": [
          "GR",
          "GR",
          "GR",
          "GR",
          "GR",
          "GR"
         ],
         "legendgroup": "GR",
         "marker": {
          "color": "#FFA15A",
          "size": {
           "bdata": "mRb6KOMnDCZhKtgg",
           "dtype": "i2"
          },
          "sizemode": "area",
          "sizeref": 591.85375,
          "symbol": "circle"
         },
         "mode": "markers",
         "name": "GR",
         "orientation": "v",
         "showlegend": true,
         "type": "scatter",
         "x": {
          "bdata": "4wfkB+UH5gfnB+gH",
          "dtype": "i2"
         },
         "xaxis": "x",
         "y": {
          "bdata": "I1h5AvcDswIohfYF4kHbBgblCQgTaVwJ",
          "dtype": "i4"
         },
         "yaxis": "y"
        },
        {
         "hovertemplate": "<b>%{hovertext}</b><br><br>Pais=GT<br>Año=%{x}<br>Pérdidas (USD)=%{y}<br>Quejas=%{marker.size}<extra></extra>",
         "hovertext": [
          "GT",
          "GT",
          "GT",
          "GT",
          "GT",
          "GT"
         ],
         "legendgroup": "GT",
         "marker": {
          "color": "#19d3f3",
          "size": {
           "bdata": "1w7WGDESEBkZGCUb",
           "dtype": "i2"
          },
          "sizemode": "area",
          "sizeref": 591.85375,
          "symbol": "circle"
         },
         "mode": "markers",
         "name": "GT",
         "orientation": "v",
         "showlegend": true,
         "type": "scatter",
         "x": {
          "bdata": "4wfkB+UH5gfnB+gH",
          "dtype": "i2"
         },
         "xaxis": "x",
         "y": {
          "bdata": "o7FjAckukQGnrBgDDT8qA3+VDAV71zkE",
          "dtype": "i4"
         },
         "yaxis": "y"
        },
        {
         "hovertemplate": "<b>%{hovertext}</b><br><br>Pais=HK<br>Año=%{x}<br>Pérdidas (USD)=%{y}<br>Quejas=%{marker.size}<extra></extra>",
         "hovertext": [
          "HK",
          "HK",
          "HK",
          "HK",
          "HK",
          "HK"
         ],
         "legendgroup": "HK",
         "marker": {
          "color": "#FF6692",
          "size": {
           "bdata": "A70BAK2hAwAPcAMACeMDAFWyAwAAywMA",
           "dtype": "i4"
          },
          "sizemode": "area",
          "sizeref": 591.85375,
          "symbol": "circle"
         },
         "mode": "markers",
         "name": "HK",
         "orientation": "v",
         "showlegend": true,
         "type": "scatter",
         "x": {
          "bdata": "4wfkB+UH5gfnB+gH",
          "dtype": "i2"
         },
         "xaxis": "x",
         "y": [
          746613837,
          823420937,
          1732897646,
          2360701043,
          3458797505,
          2863308167
         ],
         "yaxis": "y"
        },
        {
         "hovertemplate": "<b>%{hovertext}</b><br><br>Pais=HN<br>Año=%{x}<br>Pérdidas (USD)=%{y}<br>Quejas=%{marker.size}<extra></extra>",
         "hovertext": [
          "HN",
          "HN",
          "HN",
          "HN",
          "HN",
          "HN"
         ],
         "legendgroup": "HN",
         "marker": {
          "color": "#B6E880",
          "size": {
           "bdata": "9B0sMm002DENNZQn",
           "dtype": "i2"
          },
          "sizemode": "area",
          "sizeref": 591.85375,
          "symbol": "circle"
         },
         "mode": "markers",
         "name": "HN",
         "orientation": "v",
         "showlegend": true,
         "type": "scatter",
         "x": {
          "bdata": "4wfkB+UH5gfnB+gH",
          "dtype": "i2"
         },
         "xaxis": "x",
         "y": {
          "bdata": "7yCmBJsPXQUrjBkJwbFnDdJPxw8WY9MQ",
          "dtype": "i4"
         },
         "yaxis": "y"
        },
        {
         "hovertemplate": "<b>%{hovertext}</b><br><br>Pais=HR<br>Año=%{x}<br>Pérdidas (USD)=%{y}<br>Quejas=%{marker.size}<extra></extra>",
         "hovertext": [
          "HR",
          "HR",
          "HR",
          "HR",
          "HR",
          "HR"
         ],
         "legendgroup": "HR",
         "marker": {
          "color": "#FF97FF",
          "size": {
           "bdata": "vAV6BhYJVwfoCO4L",
           "dtype": "i2"
          },
          "sizemode": "area",
          "sizeref": 591.85375,
          "symbol": "circle"
         },
         "mode": "markers",
         "name": "HR",
         "orientation": "v",
         "showlegend": true,
         "type": "scatter",
         "x": {
          "bdata": "4wfkB+UH5gfnB+gH",
          "dtype": "i2"
         },
         "xaxis": "x",
         "y": {
          "bdata": "4Xl7AEmroQAPxR4BGTh0AZJGuAGSrQsC",
          "dtype": "i4"
         },
         "yaxis": "y"
        },
        {
         "hovertemplate": "<b>%{hovertext}</b><br><br>Pais=YE<br>Año=%{x}<br>Pérdidas (USD)=%{y}<br>Quejas=%{marker.size}<extra></extra>",
         "hovertext": [
          "YE",
          "YE",
          "YE",
          "YE",
          "YE",
          "YE"
         ],
         "legendgroup": "YE",
         "marker": {
          "color": "#FECB52",
          "size": {
           "bdata": "2ABqAYcB4gGQAUoB",
           "dtype": "i2"
          },
          "sizemode": "area",
          "sizeref": 591.85375,
          "symbol": "circle"
         },
         "mode": "markers",
         "name": "YE",
         "orientation": "v",
         "showlegend": true,
         "type": "scatter",
         "x": {
          "bdata": "4wfkB+UH5gfnB+gH",
          "dtype": "i2"
         },
         "xaxis": "x",
         "y": {
          "bdata": "QWopAB3KKACYLV8A0YCVALCCkABcbZUA",
          "dtype": "i4"
         },
         "yaxis": "y"
        },
        {
         "hovertemplate": "<b>%{hovertext}</b><br><br>Pais=HU<br>Año=%{x}<br>Pérdidas (USD)=%{y}<br>Quejas=%{marker.size}<extra></extra>",
         "hovertext": [
          "HU",
          "HU",
          "HU",
          "HU",
          "HU",
          "HU"
         ],
         "legendgroup": "HU",
         "marker": {
          "color": "#636efa",
          "size": {
           "bdata": "ew5TGPYYdhKEEfUb",
           "dtype": "i2"
          },
          "sizemode": "area",
          "sizeref": 591.85375,
          "symbol": "circle"
         },
         "mode": "markers",
         "name": "HU",
         "orientation": "v",
         "showlegend": true,
         "type": "scatter",
         "x": {
          "bdata": "4wfkB+UH5gfnB+gH",
          "dtype": "i2"
         },
         "xaxis": "x",
         "y": {
          "bdata": "PVd8BLTfogMnN2EIZyvYC0+0axI6IVoQ",
          "dtype": "i4"
         },
         "yaxis": "y"
        },
        {
         "hovertemplate": "<b>%{hovertext}</b><br><br>Pais=ID<br>Año=%{x}<br>Pérdidas (USD)=%{y}<br>Quejas=%{marker.size}<extra></extra>",
         "hovertext": [
          "ID",
          "ID",
          "ID",
          "ID",
          "ID",
          "ID"
         ],
         "legendgroup": "ID",
         "marker": {
          "color": "#EF553B",
          "size": {
           "bdata": "3X0AACMIAQAU4gAA69sAAAvoAACl0gAA",
           "dtype": "i4"
          },
          "sizemode": "area",
          "sizeref": 591.85375,
          "symbol": "circle"
         },
         "mode": "markers",
         "name": "ID",
         "orientation": "v",
         "showlegend": true,
         "type": "scatter",
         "x": {
          "bdata": "4wfkB+UH5gfnB+gH",
          "dtype": "i2"
         },
         "xaxis": "x",
         "y": [
          437808210,
          598180089,
          972015041,
          1465738977,
          2089001077,
          2432253507
         ],
         "yaxis": "y"
        },
        {
         "hovertemplate": "<b>%{hovertext}</b><br><br>Pais=IE<br>Año=%{x}<br>Pérdidas (USD)=%{y}<br>Quejas=%{marker.size}<extra></extra>",
         "hovertext": [
          "IE",
          "IE",
          "IE",
          "IE",
          "IE",
          "IE"
         ],
         "legendgroup": "IE",
         "marker": {
          "color": "#00cc96",
          "size": {
           "bdata": "Mj9ZVqZjkmKBbiV7",
           "dtype": "i2"
          },
          "sizemode": "area",
          "sizeref": 591.85375,
          "symbol": "circle"
         },
         "mode": "markers",
         "name": "IE",
         "orientation": "v",
         "showlegend": true,
         "type": "scatter",
         "x": {
          "bdata": "4wfkB+UH5gfnB+gH",
          "dtype": "i2"
         },
         "xaxis": "x",
         "y": {
          "bdata": "mxzZEpJkxhYignEgWa3vLeMyEjOlY2NZ",
          "dtype": "i4"
         },
         "yaxis": "y"
        },
        {
         "hovertemplate": "<b>%{hovertext}</b><br><br>Pais=IL<br>Año=%{x}<br>Pérdidas (USD)=%{y}<br>Quejas=%{marker.size}<extra></extra>",
         "hovertext": [
          "IL",
          "IL",
          "IL",
          "IL",
          "IL",
          "IL"
         ],
         "legendgroup": "IL",
         "marker": {
          "color": "#ab63fa",
          "size": {
           "bdata": "vh5CJvs0ujWGOvI+",
           "dtype": "i2"
          },
          "sizemode": "area",
          "sizeref": 591.85375,
          "symbol": "circle"
         },
         "mode": "markers",
         "name": "IL",
         "orientation": "v",
         "showlegend": true,
         "type": "scatter",
         "x": {
          "bdata": "4wfkB+UH5gfnB+gH",
          "dtype": "i2"
         },
         "xaxis": "x",
         "y": {
          "bdata": "0ztWBDUMTgVHnpYG6gBzDXvQxBDGsYES",
          "dtype": "i4"
         },
         "yaxis": "y"
        },
        {
         "hovertemplate": "<b>%{hovertext}</b><br><br>Pais=IN<br>Año=%{x}<br>Pérdidas (USD)=%{y}<br>Quejas=%{marker.size}<extra></extra>",
         "hovertext": [
          "IN",
          "IN",
          "IN",
          "IN",
          "IN",
          "IN"
         ],
         "legendgroup": "IN",
         "marker": {
          "color": "#FFA15A",
          "size": {
           "bdata": "KcUAAHqYAQC+XQEAJEQBAFN4AQAsfwEA",
           "dtype": "i4"
          },
          "sizemode": "area",
          "sizeref": 591.85375,
          "symbol": "circle"
         },
         "mode": "markers",
         "name": "IN",
         "orientation": "v",
         "showlegend": true,
         "type": "scatter",
         "x": {
          "bdata": "4wfkB+UH5gfnB+gH",
          "dtype": "i2"
         },
         "xaxis": "x",
         "y": [
          989343380,
          1155524769,
          2062881042,
          2898740652,
          3640042741,
          4164403367
         ],
         "yaxis": "y"
        },
        {
         "hovertemplate": "<b>%{hovertext}</b><br><br>Pais=ZA<br>Año=%{x}<br>Pérdidas (USD)=%{y}<br>Quejas=%{marker.size}<extra></extra>",
         "hovertext": [
          "ZA",
          "ZA",
          "ZA",
          "ZA",
          "ZA",
          "ZA"
         ],
         "legendgroup": "ZA",
         "marker": {
          "color": "#19d3f3",
          "size": {
           "bdata": "zqsAAFRcAQB7NQEANiwBAD4RAQBnYQEA",
           "dtype": "i4"
          },
          "sizemode": "area",
          "sizeref": 591.85375,
          "symbol": "circle"
         },
         "mode": "markers",
         "name": "ZA",
         "orientation": "v",
         "showlegend": true,
         "type": "scatter",
         "x": {
          "bdata": "4wfkB+UH5gfnB+gH",
          "dtype": "i2"
         },
         "xaxis": "x",
         "y": [
          622385234,
          867946291,
          1324036298,
          2082730216,
          2521801141,
          3044360891
         ],
         "yaxis": "y"
        },
        {
         "hovertemplate": "<b>%{hovertext}</b><br><br>Pais=IQ<br>Año=%{x}<br>Pérdidas (USD)=%{y}<br>Quejas=%{marker.size}<extra></extra>",
         "hovertext": [
          "IQ",
          "IQ",
          "IQ",
          "IQ",
          "IQ",
          "IQ"
         ],
         "legendgroup": "IQ",
         "marker": {
          "color": "#FF6692",
          "size": {
           "bdata": "kH4AAH/cAAC96QAA0qAAAMn2AACnEQEA",
           "dtype": "i4"
          },
          "sizemode": "area",
          "sizeref": 591.85375,
          "symbol": "circle"
         },
         "mode": "markers",
         "name": "IQ",
         "orientation": "v",
         "showlegend": true,
         "type": "scatter",
         "x": {
          "bdata": "4wfkB+UH5gfnB+gH",
          "dtype": "i2"
         },
         "xaxis": "x",
         "y": {
          "bdata": "cX5kCwe5cgvFTLISJHkWJG5jPh/UF90v",
          "dtype": "i4"
         },
         "yaxis": "y"
        },
        {
         "hovertemplate": "<b>%{hovertext}</b><br><br>Pais=IR<br>Año=%{x}<br>Pérdidas (USD)=%{y}<br>Quejas=%{marker.size}<extra></extra>",
         "hovertext": [
          "IR",
          "IR",
          "IR",
          "IR",
          "IR",
          "IR"
         ],
         "legendgroup": "IR",
         "marker": {
          "color": "#B6E880",
          "size": {
           "bdata": "AbUAAB/xAAAiJAEAxKMAAPAQAQCHIQEA",
           "dtype": "i4"
          },
          "sizemode": "area",
          "sizeref": 591.85375,
          "symbol": "circle"
         },
         "mode": "markers",
         "name": "IR",
         "orientation": "v",
         "showlegend": true,
         "type": "scatter",
         "x": {
          "bdata": "4wfkB+UH5gfnB+gH",
          "dtype": "i2"
         },
         "xaxis": "x",
         "y": {
          "bdata": "zgNcGs2QSx69dj8yQ2laTi7nj1ltzT1g",
          "dtype": "i4"
         },
         "yaxis": "y"
        },
        {
         "hovertemplate": "<b>%{hovertext}</b><br><br>Pais=IS<br>Año=%{x}<br>Pérdidas (USD)=%{y}<br>Quejas=%{marker.size}<extra></extra>",
         "hovertext": [
          "IS",
          "IS",
          "IS",
          "IS",
          "IS",
          "IS"
         ],
         "legendgroup": "IS",
         "marker": {
          "color": "#FF97FF",
          "size": {
           "bdata": "iAFeAo8CbgLvAmEC",
           "dtype": "i2"
          },
          "sizemode": "area",
          "sizeref": 591.85375,
          "symbol": "circle"
         },
         "mode": "markers",
         "name": "IS",
         "orientation": "v",
         "showlegend": true,
         "type": "scatter",
         "x": {
          "bdata": "4wfkB+UH5gfnB+gH",
          "dtype": "i2"
         },
         "xaxis": "x",
         "y": {
          "bdata": "p5guADNDMgAW1FUAAGVsAIaIqwCp/uAA",
          "dtype": "i4"
         },
         "yaxis": "y"
        },
        {
         "hovertemplate": "<b>%{hovertext}</b><br><br>Pais=IT<br>Año=%{x}<br>Pérdidas (USD)=%{y}<br>Quejas=%{marker.size}<extra></extra>",
         "hovertext": [
          "IT",
          "IT",
          "IT",
          "IT",
          "IT",
          "IT"
         ],
         "legendgroup": "IT",
         "marker": {
          "color": "#FECB52",
          "size": {
           "bdata": "eqUAAO4vAQB8hQEAJSIBAOVIAQCAZgEA",
           "dtype": "i4"
          },
          "sizemode": "area",
          "sizeref": 591.85375,
          "symbol": "circle"
         },
         "mode": "markers",
         "name": "IT",
         "orientation": "v",
         "showlegend": true,
         "type": "scatter",
         "x": {
          "bdata": "4wfkB+UH5gfnB+gH",
          "dtype": "i2"
         },
         "xaxis": "x",
         "y": {
          "bdata": "guFfERgcgxU4GMwnHGupORf2GkeygDBP",
          "dtype": "i4"
         },
         "yaxis": "y"
        },
        {
         "hovertemplate": "<b>%{hovertext}</b><br><br>Pais=ZW<br>Año=%{x}<br>Pérdidas (USD)=%{y}<br>Quejas=%{marker.size}<extra></extra>",
         "hovertext": [
          "ZW",
          "ZW",
          "ZW",
          "ZW",
          "ZW",
          "ZW"
         ],
         "legendgroup": "ZW",
         "marker": {
          "color": "#636efa",
          "size": {
           "bdata": "8wHSAgcD2QKwAugC",
           "dtype": "i2"
          },
          "sizemode": "area",
          "sizeref": 591.85375,
          "symbol": "circle"
         },
         "mode": "markers",
         "name": "ZW",
         "orientation": "v",
         "showlegend": true,
         "type": "scatter",
         "x": {
          "bdata": "4wfkB+UH5gfnB+gH",
          "dtype": "i2"
         },
         "xaxis": "x",
         "y": {
          "bdata": "WUomACVLTQDLNmcAUCKaANL7kwCG4NoA",
          "dtype": "i4"
         },
         "yaxis": "y"
        },
        {
         "hovertemplate": "<b>%{hovertext}</b><br><br>Pais=JO<br>Año=%{x}<br>Pérdidas (USD)=%{y}<br>Quejas=%{marker.size}<extra></extra>",
         "hovertext": [
          "JO",
          "JO",
          "JO",
          "JO",
          "JO",
          "JO"
         ],
         "legendgroup": "JO",
         "marker": {
          "color": "#EF553B",
          "size": {
           "bdata": "rwEcA3IDZANBA7sD",
           "dtype": "i2"
          },
          "sizemode": "area",
          "sizeref": 591.85375,
          "symbol": "circle"
         },
         "mode": "markers",
         "name": "JO",
         "orientation": "v",
         "showlegend": true,
         "type": "scatter",
         "x": {
          "bdata": "4wfkB+UH5gfnB+gH",
          "dtype": "i2"
         },
         "xaxis": "x",
         "y": {
          "bdata": "xR0xAA7vMAD4iVoAc056ALrtqQAnSbEA",
          "dtype": "i4"
         },
         "yaxis": "y"
        },
        {
         "hovertemplate": "<b>%{hovertext}</b><br><br>Pais=JP<br>Año=%{x}<br>Pérdidas (USD)=%{y}<br>Quejas=%{marker.size}<extra></extra>",
         "hovertext": [
          "JP",
          "JP",
          "JP",
          "JP",
          "JP",
          "JP"
         ],
         "legendgroup": "JP",
         "marker": {
          "color": "#00cc96",
          "size": {
           "bdata": "llMBAB9vAgALeAIAemYCAOCYAgDGyAIA",
           "dtype": "i4"
          },
          "sizemode": "area",
          "sizeref": 591.85375,
          "symbol": "circle"
         },
         "mode": "markers",
         "name": "JP",
         "orientation": "v",
         "showlegend": true,
         "type": "scatter",
         "x": {
          "bdata": "4wfkB+UH5gfnB+gH",
          "dtype": "i2"
         },
         "xaxis": "x",
         "y": [
          799709881,
          885281428,
          1088839354,
          2253466948,
          1995347480,
          3393546251
         ],
         "yaxis": "y"
        },
        {
         "hovertemplate": "<b>%{hovertext}</b><br><br>Pais=KE<br>Año=%{x}<br>Pérdidas (USD)=%{y}<br>Quejas=%{marker.size}<extra></extra>",
         "hovertext": [
          "KE",
          "KE",
          "KE",
          "KE",
          "KE",
          "KE"
         ],
         "legendgroup": "KE",
         "marker": {
          "color": "#ab63fa",
          "size": {
           "bdata": "agknDcEOaAyZD5UQ",
           "dtype": "i2"
          },
          "sizemode": "area",
          "sizeref": 591.85375,
          "symbol": "circle"
         },
         "mode": "markers",
         "name": "KE",
         "orientation": "v",
         "showlegend": true,
         "type": "scatter",
         "x": {
          "bdata": "4wfkB+UH5gfnB+gH",
          "dtype": "i2"
         },
         "xaxis": "x",
         "y": {
          "bdata": "OMAjAd/qdQEUZ3YCp28BBFO5FQSlVxcF",
          "dtype": "i4"
         },
         "yaxis": "y"
        },
        {
         "hovertemplate": "<b>%{hovertext}</b><br><br>Pais=KG<br>Año=%{x}<br>Pérdidas (USD)=%{y}<br>Quejas=%{marker.size}<extra></extra>",
         "hovertext": [
          "KG",
          "KG",
          "KG",
          "KG",
          "KG",
          "KG"
         ],
         "legendgroup": "KG",
         "marker": {
          "color": "#FFA15A",
          "size": {
           "bdata": "pROfIVwibBmaLi0o",
           "dtype": "i2"
          },
          "sizemode": "area",
          "sizeref": 591.85375,
          "symbol": "circle"
         },
         "mode": "markers",
         "name": "KG",
         "orientation": "v",
         "showlegend": true,
         "type": "scatter",
         "x": {
          "bdata": "4wfkB+UH5gfnB+gH",
          "dtype": "i2"
         },
         "xaxis": "x",
         "y": {
          "bdata": "fNtoBccunAeXgkwNhSbYEIR44xINke8W",
          "dtype": "i4"
         },
         "yaxis": "y"
        },
        {
         "hovertemplate": "<b>%{hovertext}</b><br><br>Pais=KH<br>Año=%{x}<br>Pérdidas (USD)=%{y}<br>Quejas=%{marker.size}<extra></extra>",
         "hovertext": [
          "KH",
          "KH",
          "KH",
          "KH",
          "KH",
          "KH"
         ],
         "legendgroup": "KH",
         "marker": {
          "color": "#19d3f3",
          "size": {
           "bdata": "Ux91KWku5jZnKB4z",
           "dtype": "i2"
          },
          "sizemode": "area",
          "sizeref": 591.85375,
          "symbol": "circle"
         },
         "mode": "markers",
         "name": "KH",
         "orientation": "v",
         "showlegend": true,
         "type": "scatter",
         "x": {
          "bdata": "4wfkB+UH5gfnB+gH",
          "dtype": "i2"
         },
         "xaxis": "x",
         "y": {
          "bdata": "S/p6BJBiywTW39sH0/3xC9pQag73kowR",
          "dtype": "i4"
         },
         "yaxis": "y"
        },
        {
         "hovertemplate": "<b>%{hovertext}</b><br><br>Pais=KN<br>Año=%{x}<br>Pérdidas (USD)=%{y}<br>Quejas=%{marker.size}<extra></extra>",
         "hovertext": [
          "KN",
          "KN",
          "KN",
          "KN",
          "KN",
          "KN"
         ],
         "legendgroup": "KN",
         "marker": {
          "color": "#FF6692",
          "size": {
           "bdata": "BQGtAUACygEcAgsC",
           "dtype": "i2"
          },
          "sizemode": "area",
          "sizeref": 591.85375,
          "symbol": "circle"
         },
         "mode": "markers",
         "name": "KN",
         "orientation": "v",
         "showlegend": true,
         "type": "scatter",
         "x": {
          "bdata": "4wfkB+UH5gfnB+gH",
          "dtype": "i2"
         },
         "xaxis": "x",
         "y": {
          "bdata": "jgcuAL10UAALXnkASxKcAJeLlACW9u4A",
          "dtype": "i4"
         },
         "yaxis": "y"
        },
        {
         "hovertemplate": "<b>%{hovertext}</b><br><br>Pais=KR<br>Año=%{x}<br>Pérdidas (USD)=%{y}<br>Quejas=%{marker.size}<extra></extra>",
         "hovertext": [
          "KR",
          "KR",
          "KR",
          "KR",
          "KR",
          "KR"
         ],
         "legendgroup": "KR",
         "marker": {
          "color": "#B6E880",
          "size": {
           "bdata": "OzwAAPBuAAA5jgAAIHIAALaJAACccQAA",
           "dtype": "i4"
          },
          "sizemode": "area",
          "sizeref": 591.85375,
          "symbol": "circle"
         },
         "mode": "markers",
         "name": "KR",
         "orientation": "v",
         "showlegend": true,
         "type": "scatter",
         "x": {
          "bdata": "4wfkB+UH5gfnB+gH",
          "dtype": "i2"
         },
         "xaxis": "x",
         "y": {
          "bdata": "D8+9EUIIiRXb7R4iJOswNC36TjSx3QA4",
          "dtype": "i4"
         },
         "yaxis": "y"
        },
        {
         "hovertemplate": "<b>%{hovertext}</b><br><br>Pais=KZ<br>Año=%{x}<br>Pérdidas (USD)=%{y}<br>Quejas=%{marker.size}<extra></extra>",
         "hovertext": [
          "KZ",
          "KZ",
          "KZ",
          "KZ",
          "KZ",
          "KZ"
         ],
         "legendgroup": "KZ",
         "marker": {
          "color": "#FF97FF",
          "size": {
           "bdata": "tyVfQRdD7TNmL6VH",
           "dtype": "i2"
          },
          "sizemode": "area",
          "sizeref": 591.85375,
          "symbol": "circle"
         },
         "mode": "markers",
         "name": "KZ",
         "orientation": "v",
         "showlegend": true,
         "type": "scatter",
         "x": {
          "bdata": "4wfkB+UH5gfnB+gH",
          "dtype": "i2"
         },
         "xaxis": "x",
         "y": {
          "bdata": "khLUDEFcoA2EOusT40xBHcSjRSbXarA0",
          "dtype": "i4"
         },
         "yaxis": "y"
        },
        {
         "hovertemplate": "<b>%{hovertext}</b><br><br>Pais=LB<br>Año=%{x}<br>Pérdidas (USD)=%{y}<br>Quejas=%{marker.size}<extra></extra>",
         "hovertext": [
          "LB",
          "LB",
          "LB",
          "LB",
          "LB",
          "LB"
         ],
         "legendgroup": "LB",
         "marker": {
          "color": "#FECB52",
          "size": {
           "bdata": "8RDgGiEW6CHWHmgY",
           "dtype": "i2"
          },
          "sizemode": "area",
          "sizeref": 591.85375,
          "symbol": "circle"
         },
         "mode": "markers",
         "name": "LB",
         "orientation": "v",
         "showlegend": true,
         "type": "scatter",
         "x": {
          "bdata": "4wfkB+UH5gfnB+gH",
          "dtype": "i2"
         },
         "xaxis": "x",
         "y": {
          "bdata": "VJ5XAptCeQJFrEwEXvf2BnQ8LgfxydsI",
          "dtype": "i4"
         },
         "yaxis": "y"
        },
        {
         "hovertemplate": "<b>%{hovertext}</b><br><br>Pais=LK<br>Año=%{x}<br>Pérdidas (USD)=%{y}<br>Quejas=%{marker.size}<extra></extra>",
         "hovertext": [
          "LK",
          "LK",
          "LK",
          "LK",
          "LK",
          "LK"
         ],
         "legendgroup": "LK",
         "marker": {
          "color": "#636efa",
          "size": {
           "bdata": "SwHYAgsDbgPuAs4D",
           "dtype": "i2"
          },
          "sizemode": "area",
          "sizeref": 591.85375,
          "symbol": "circle"
         },
         "mode": "markers",
         "name": "LK",
         "orientation": "v",
         "showlegend": true,
         "type": "scatter",
         "x": {
          "bdata": "4wfkB+UH5gfnB+gH",
          "dtype": "i2"
         },
         "xaxis": "x",
         "y": {
          "bdata": "H/tPAKXabACWS7QA+RIbAX6RVgF2elsB",
          "dtype": "i4"
         },
         "yaxis": "y"
        },
        {
         "hovertemplate": "<b>%{hovertext}</b><br><br>Pais=LT<br>Año=%{x}<br>Pérdidas (USD)=%{y}<br>Quejas=%{marker.size}<extra></extra>",
         "hovertext": [
          "LT",
          "LT",
          "LT",
          "LT",
          "LT",
          "LT"
         ],
         "legendgroup": "LT",
         "marker": {
          "color": "#EF553B",
          "size": {
           "bdata": "VxUVI18swiXxIEIn",
           "dtype": "i2"
          },
          "sizemode": "area",
          "sizeref": 591.85375,
          "symbol": "circle"
         },
         "mode": "markers",
         "name": "LT",
         "orientation": "v",
         "showlegend": true,
         "type": "scatter",
         "x": {
          "bdata": "4wfkB+UH5gfnB+gH",
          "dtype": "i2"
         },
         "xaxis": "x",
         "y": {
          "bdata": "cNl4A59+LQWzdC8Ha+c2C/WayRIOkV0P",
          "dtype": "i4"
         },
         "yaxis": "y"
        },
        {
         "hovertemplate": "<b>%{hovertext}</b><br><br>Pais=LU<br>Año=%{x}<br>Pérdidas (USD)=%{y}<br>Quejas=%{marker.size}<extra></extra>",
         "hovertext": [
          "LU",
          "LU",
          "LU",
          "LU",
          "LU",
          "LU"
         ],
         "legendgroup": "LU",
         "marker": {
          "color": "#00cc96",
          "size": {
           "bdata": "ZAILBB8ELAO3A0sE",
           "dtype": "i2"
          },
          "sizemode": "area",
          "sizeref": 591.85375,
          "symbol": "circle"
         },
         "mode": "markers",
         "name": "LU",
         "orientation": "v",
         "showlegend": true,
         "type": "scatter",
         "x": {
          "bdata": "4wfkB+UH5gfnB+gH",
          "dtype": "i2"
         },
         "xaxis": "x",
         "y": {
          "bdata": "iM+yAEQf1gDSXVIBhEP3AfVqdgIAq7EC",
          "dtype": "i4"
         },
         "yaxis": "y"
        },
        {
         "hovertemplate": "<b>%{hovertext}</b><br><br>Pais=LV<br>Año=%{x}<br>Pérdidas (USD)=%{y}<br>Quejas=%{marker.size}<extra></extra>",
         "hovertext": [
          "LV",
          "LV",
          "LV",
          "LV",
          "LV",
          "LV"
         ],
         "legendgroup": "LV",
         "marker": {
          "color": "#ab63fa",
          "size": {
           "bdata": "VxBWI+sdJBa0HMwf",
           "dtype": "i2"
          },
          "sizemode": "area",
          "sizeref": 591.85375,
          "symbol": "circle"
         },
         "mode": "markers",
         "name": "LV",
         "orientation": "v",
         "showlegend": true,
         "type": "scatter",
         "x": {
          "bdata": "4wfkB+UH5gfnB+gH",
          "dtype": "i2"
         },
         "xaxis": "x",
         "y": {
          "bdata": "gk+fAeCQBAIj7/4Cu5G7BEC+sgWKfm4I",
          "dtype": "i4"
         },
         "yaxis": "y"
        },
        {
         "hovertemplate": "<b>%{hovertext}</b><br><br>Pais=LY<br>Año=%{x}<br>Pérdidas (USD)=%{y}<br>Quejas=%{marker.size}<extra></extra>",
         "hovertext": [
          "LY",
          "LY",
          "LY",
          "LY",
          "LY",
          "LY"
         ],
         "legendgroup": "LY",
         "marker": {
          "color": "#FFA15A",
          "size": {
           "bdata": "ggROByEHdAcZCTcJ",
           "dtype": "i2"
          },
          "sizemode": "area",
          "sizeref": 591.85375,
          "symbol": "circle"
         },
         "mode": "markers",
         "name": "LY",
         "orientation": "v",
         "showlegend": true,
         "type": "scatter",
         "x": {
          "bdata": "4wfkB+UH5gfnB+gH",
          "dtype": "i2"
         },
         "xaxis": "x",
         "y": {
          "bdata": "inB3AMculwCZ9yABxxiCARj4mgE0eyIC",
          "dtype": "i4"
         },
         "yaxis": "y"
        },
        {
         "hovertemplate": "<b>%{hovertext}</b><br><br>Pais=MD<br>Año=%{x}<br>Pérdidas (USD)=%{y}<br>Quejas=%{marker.size}<extra></extra>",
         "hovertext": [
          "MD",
          "MD",
          "MD",
          "MD",
          "MD",
          "MD"
         ],
         "legendgroup": "MD",
         "marker": {
          "color": "#19d3f3",
          "size": {
           "bdata": "JBQcGi4lrxWFG34j",
           "dtype": "i2"
          },
          "sizemode": "area",
          "sizeref": 591.85375,
          "symbol": "circle"
         },
         "mode": "markers",
         "name": "MD",
         "orientation": "v",
         "showlegend": true,
         "type": "scatter",
         "x": {
          "bdata": "4wfkB+UH5gfnB+gH",
          "dtype": "i2"
         },
         "xaxis": "x",
         "y": {
          "bdata": "MBW+Aa3t4wG3YT0Dwuz8BUY9WAV+uRYH",
          "dtype": "i4"
         },
         "yaxis": "y"
        },
        {
         "hovertemplate": "<b>%{hovertext}</b><br><br>Pais=MM<br>Año=%{x}<br>Pérdidas (USD)=%{y}<br>Quejas=%{marker.size}<extra></extra>",
         "hovertext": [
          "MM",
          "MM",
          "MM",
          "MM",
          "MM",
          "MM"
         ],
         "legendgroup": "MM",
         "marker": {
          "color": "#FF6692",
          "size": {
           "bdata": "NAjADDYOGQlHDngP",
           "dtype": "i2"
          },
          "sizemode": "area",
          "sizeref": 591.85375,
          "symbol": "circle"
         },
         "mode": "markers",
         "name": "MM",
         "orientation": "v",
         "showlegend": true,
         "type": "scatter",
         "x": {
          "bdata": "4wfkB+UH5gfnB+gH",
          "dtype": "i2"
         },
         "xaxis": "x",
         "y": {
          "bdata": "zMW/AEpc7wBGYqwB/AgvAnsPowISMkwD",
          "dtype": "i4"
         },
         "yaxis": "y"
        },
        {
         "hovertemplate": "<b>%{hovertext}</b><br><br>Pais=MN<br>Año=%{x}<br>Pérdidas (USD)=%{y}<br>Quejas=%{marker.size}<extra></extra>",
         "hovertext": [
          "MN",
          "MN",
          "MN",
          "MN",
          "MN",
          "MN"
         ],
         "legendgroup": "MN",
         "marker": {
          "color": "#B6E880",
          "size": {
           "bdata": "KASRB+oFEQnPB80I",
           "dtype": "i2"
          },
          "sizemode": "area",
          "sizeref": 591.85375,
          "symbol": "circle"
         },
         "mode": "markers",
         "name": "MN",
         "orientation": "v",
         "showlegend": true,
         "type": "scatter",
         "x": {
          "bdata": "4wfkB+UH5gfnB+gH",
          "dtype": "i2"
         },
         "xaxis": "x",
         "y": {
          "bdata": "j7SRAWKB7wGJhCEDusffBTRkjQVloFkH",
          "dtype": "i4"
         },
         "yaxis": "y"
        },
        {
         "hovertemplate": "<b>%{hovertext}</b><br><br>Pais=MT<br>Año=%{x}<br>Pérdidas (USD)=%{y}<br>Quejas=%{marker.size}<extra></extra>",
         "hovertext": [
          "MT",
          "MT",
          "MT",
          "MT",
          "MT",
          "MT"
         ],
         "legendgroup": "MT",
         "marker": {
          "color": "#FF97FF",
          "size": {
           "bdata": "ggI1BnoFCwYdB0MF",
           "dtype": "i2"
          },
          "sizemode": "area",
          "sizeref": 591.85375,
          "symbol": "circle"
         },
         "mode": "markers",
         "name": "MT",
         "orientation": "v",
         "showlegend": true,
         "type": "scatter",
         "x": {
          "bdata": "4wfkB+UH5gfnB+gH",
          "dtype": "i2"
         },
         "xaxis": "x",
         "y": {
          "bdata": "txDyAOgiKgGjL/EBm95gAm4AXQP/gfID",
          "dtype": "i4"
         },
         "yaxis": "y"
        },
        {
         "hovertemplate": "<b>%{hovertext}</b><br><br>Pais=MV<br>Año=%{x}<br>Pérdidas (USD)=%{y}<br>Quejas=%{marker.size}<extra></extra>",
         "hovertext": [
          "MV",
          "MV",
          "MV",
          "MV",
          "MV",
          "MV"
         ],
         "legendgroup": "MV",
         "marker": {
          "color": "#FECB52",
          "size": {
           "bdata": "UQGcAj4CQQIKAyEE",
           "dtype": "i2"
          },
          "sizemode": "area",
          "sizeref": 591.85375,
          "symbol": "circle"
         },
         "mode": "markers",
         "name": "MV",
         "orientation": "v",
         "showlegend": true,
         "type": "scatter",
         "x": {
          "bdata": "4wfkB+UH5gfnB+gH",
          "dtype": "i2"
         },
         "xaxis": "x",
         "y": {
          "bdata": "TTkrAMakTACGkUIABPyTABh0rgC2A8sA",
          "dtype": "i4"
         },
         "yaxis": "y"
        },
        {
         "hovertemplate": "<b>%{hovertext}</b><br><br>Pais=MX<br>Año=%{x}<br>Pérdidas (USD)=%{y}<br>Quejas=%{marker.size}<extra></extra>",
         "hovertext": [
          "MX",
          "MX",
          "MX",
          "MX",
          "MX",
          "MX"
         ],
         "legendgroup": "MX",
         "marker": {
          "color": "#636efa",
          "size": {
           "bdata": "chroJ5oliTBGMjFG",
           "dtype": "i2"
          },
          "sizemode": "area",
          "sizeref": 591.85375,
          "symbol": "circle"
         },
         "mode": "markers",
         "name": "MX",
         "orientation": "v",
         "showlegend": true,
         "type": "scatter",
         "x": {
          "bdata": "4wfkB+UH5gfnB+gH",
          "dtype": "i2"
         },
         "xaxis": "x",
         "y": {
          "bdata": "eVYPB1f+mwjW9TQOjWzGFXN0mxo94zEe",
          "dtype": "i4"
         },
         "yaxis": "y"
        },
        {
         "hovertemplate": "<b>%{hovertext}</b><br><br>Pais=MY<br>Año=%{x}<br>Pérdidas (USD)=%{y}<br>Quejas=%{marker.size}<extra></extra>",
         "hovertext": [
          "MY",
          "MY",
          "MY",
          "MY",
          "MY",
          "MY"
         ],
         "legendgroup": "MY",
         "marker": {
          "color": "#EF553B",
          "size": {
           "bdata": "WwzoFdsWGRt2FysX",
           "dtype": "i2"
          },
          "sizemode": "area",
          "sizeref": 591.85375,
          "symbol": "circle"
         },
         "mode": "markers",
         "name": "MY",
         "orientation": "v",
         "showlegend": true,
         "type": "scatter",
         "x": {
          "bdata": "4wfkB+UH5gfnB+gH",
          "dtype": "i2"
         },
         "xaxis": "x",
         "y": {
          "bdata": "HxEtA3S9TAP1kdUHbdUqC7oRfw0ecoMU",
          "dtype": "i4"
         },
         "yaxis": "y"
        },
        {
         "hovertemplate": "<b>%{hovertext}</b><br><br>Pais=MZ<br>Año=%{x}<br>Pérdidas (USD)=%{y}<br>Quejas=%{marker.size}<extra></extra>",
         "hovertext": [
          "MZ",
          "MZ",
          "MZ",
          "MZ",
          "MZ",
          "MZ"
         ],
         "legendgroup": "MZ",
         "marker": {
          "color": "#00cc96",
          "size": {
           "bdata": "7Qa2DYMMtgz4DAYR",
           "dtype": "i2"
          },
          "sizemode": "area",
          "sizeref": 591.85375,
          "symbol": "circle"
         },
         "mode": "markers",
         "name": "MZ",
         "orientation": "v",
         "showlegend": true,
         "type": "scatter",
         "x": {
          "bdata": "4wfkB+UH5gfnB+gH",
          "dtype": "i2"
         },
         "xaxis": "x",
         "y": {
          "bdata": "t6HeAJvA/wBxkcgBuRj/Ae5m1AJyCZ4D",
          "dtype": "i4"
         },
         "yaxis": "y"
        },
        {
         "hovertemplate": "<b>%{hovertext}</b><br><br>Pais=nan<br>Año=%{x}<br>Pérdidas (USD)=%{y}<br>Quejas=%{marker.size}<extra></extra>",
         "hovertext": [
          "nan",
          "nan",
          "nan",
          "nan",
          "nan",
          "nan"
         ],
         "legendgroup": "nan",
         "marker": {
          "color": "#ab63fa",
          "size": {
           "bdata": "7wCuAYcCWgJ1As4C",
           "dtype": "i2"
          },
          "sizemode": "area",
          "sizeref": 591.85375,
          "symbol": "circle"
         },
         "mode": "markers",
         "name": "nan",
         "orientation": "v",
         "showlegend": true,
         "type": "scatter",
         "x": {
          "bdata": "4wfkB+UH5gfnB+gH",
          "dtype": "i2"
         },
         "xaxis": "x",
         "y": {
          "bdata": "GWkqAP4ZUAAgv3YAC/qvAA/+xQC+8/YA",
          "dtype": "i4"
         },
         "yaxis": "y"
        },
        {
         "hovertemplate": "<b>%{hovertext}</b><br><br>Pais=NG<br>Año=%{x}<br>Pérdidas (USD)=%{y}<br>Quejas=%{marker.size}<extra></extra>",
         "hovertext": [
          "NG",
          "NG",
          "NG",
          "NG",
          "NG",
          "NG"
         ],
         "legendgroup": "NG",
         "marker": {
          "color": "#FFA15A",
          "size": {
           "bdata": "9QYCDJsIZw7kDREO",
           "dtype": "i2"
          },
          "sizemode": "area",
          "sizeref": 591.85375,
          "symbol": "circle"
         },
         "mode": "markers",
         "name": "NG",
         "orientation": "v",
         "showlegend": true,
         "type": "scatter",
         "x": {
          "bdata": "4wfkB+UH5gfnB+gH",
          "dtype": "i2"
         },
         "xaxis": "x",
         "y": {
          "bdata": "C/8LAotKIQLaIFgDDbfDBMdQIgb7JgoH",
          "dtype": "i4"
         },
         "yaxis": "y"
        },
        {
         "hovertemplate": "<b>%{hovertext}</b><br><br>Pais=NI<br>Año=%{x}<br>Pérdidas (USD)=%{y}<br>Quejas=%{marker.size}<extra></extra>",
         "hovertext": [
          "NI",
          "NI",
          "NI",
          "NI",
          "NI",
          "NI"
         ],
         "legendgroup": "NI",
         "marker": {
          "color": "#19d3f3",
          "size": {
           "bdata": "WwN4BTAGIwZqBq0F",
           "dtype": "i2"
          },
          "sizemode": "area",
          "sizeref": 591.85375,
          "symbol": "circle"
         },
         "mode": "markers",
         "name": "NI",
         "orientation": "v",
         "showlegend": true,
         "type": "scatter",
         "x": {
          "bdata": "4wfkB+UH5gfnB+gH",
          "dtype": "i2"
         },
         "xaxis": "x",
         "y": {
          "bdata": "uRVbAL/4TgC4ZokAezUIARhoXgEAHYkB",
          "dtype": "i4"
         },
         "yaxis": "y"
        },
        {
         "hovertemplate": "<b>%{hovertext}</b><br><br>Pais=NL<br>Año=%{x}<br>Pérdidas (USD)=%{y}<br>Quejas=%{marker.size}<extra></extra>",
         "hovertext": [
          "NL",
          "NL",
          "NL",
          "NL",
          "NL",
          "NL"
         ],
         "legendgroup": "NL",
         "marker": {
          "color": "#FF6692",
          "size": {
           "bdata": "HMIAAGFMAQCMdAEA3DkBAGVFAQBTfQEA",
           "dtype": "i4"
          },
          "sizemode": "area",
          "sizeref": 591.85375,
          "symbol": "circle"
         },
         "mode": "markers",
         "name": "NL",
         "orientation": "v",
         "showlegend": true,
         "type": "scatter",
         "x": {
          "bdata": "4wfkB+UH5gfnB+gH",
          "dtype": "i2"
         },
         "xaxis": "x",
         "y": [
          572304502,
          895396401,
          1437353585,
          2216753376,
          3079554598,
          3320490586
         ],
         "yaxis": "y"
        },
        {
         "hovertemplate": "<b>%{hovertext}</b><br><br>Pais=NO<br>Año=%{x}<br>Pérdidas (USD)=%{y}<br>Quejas=%{marker.size}<extra></extra>",
         "hovertext": [
          "NO",
          "NO",
          "NO",
          "NO",
          "NO",
          "NO"
         ],
         "legendgroup": "NO",
         "marker": {
          "color": "#B6E880",
          "size": {
           "bdata": "vw9NGpIn3yV+KKQr",
           "dtype": "i2"
          },
          "sizemode": "area",
          "sizeref": 591.85375,
          "symbol": "circle"
         },
         "mode": "markers",
         "name": "NO",
         "orientation": "v",
         "showlegend": true,
         "type": "scatter",
         "x": {
          "bdata": "4wfkB+UH5gfnB+gH",
          "dtype": "i2"
         },
         "xaxis": "x",
         "y": {
          "bdata": "E4q5AjVCQAOavtQDuDN4BpXyqAsR0C0L",
          "dtype": "i4"
         },
         "yaxis": "y"
        },
        {
         "hovertemplate": "<b>%{hovertext}</b><br><br>Pais=NP<br>Año=%{x}<br>Pérdidas (USD)=%{y}<br>Quejas=%{marker.size}<extra></extra>",
         "hovertext": [
          "NP",
          "NP",
          "NP",
          "NP",
          "NP",
          "NP"
         ],
         "legendgroup": "NP",
         "marker": {
          "color": "#FF97FF",
          "size": {
           "bdata": "FgSfCLUJUgiwC/UK",
           "dtype": "i2"
          },
          "sizemode": "area",
          "sizeref": 591.85375,
          "symbol": "circle"
         },
         "mode": "markers",
         "name": "NP",
         "orientation": "v",
         "showlegend": true,
         "type": "scatter",
         "x": {
          "bdata": "4wfkB+UH5gfnB+gH",
          "dtype": "i2"
         },
         "xaxis": "x",
         "y": {
          "bdata": "Sh6XAD4ltgBGICYBxq61AW7mMgKlSJIC",
          "dtype": "i4"
         },
         "yaxis": "y"
        },
        {
         "hovertemplate": "<b>%{hovertext}</b><br><br>Pais=NZ<br>Año=%{x}<br>Pérdidas (USD)=%{y}<br>Quejas=%{marker.size}<extra></extra>",
         "hovertext": [
          "NZ",
          "NZ",
          "NZ",
          "NZ",
          "NZ",
          "NZ"
         ],
         "legendgroup": "NZ",
         "marker": {
          "color": "#FECB52",
          "size": {
           "bdata": "fgaBDnIQhA/3EYgR",
           "dtype": "i2"
          },
          "sizemode": "area",
          "sizeref": 591.85375,
          "symbol": "circle"
         },
         "mode": "markers",
         "name": "NZ",
         "orientation": "v",
         "showlegend": true,
         "type": "scatter",
         "x": {
          "bdata": "4wfkB+UH5gfnB+gH",
          "dtype": "i2"
         },
         "xaxis": "x",
         "y": {
          "bdata": "DzXLADTHGQFaeakCku52A6v2MQRxg/8D",
          "dtype": "i4"
         },
         "yaxis": "y"
        },
        {
         "hovertemplate": "<b>%{hovertext}</b><br><br>Pais=OM<br>Año=%{x}<br>Pérdidas (USD)=%{y}<br>Quejas=%{marker.size}<extra></extra>",
         "hovertext": [
          "OM",
          "OM",
          "OM",
          "OM",
          "OM",
          "OM"
         ],
         "legendgroup": "OM",
         "marker": {
          "color": "#636efa",
          "size": {
           "bdata": "/goqD9IN5A90EVQS",
           "dtype": "i2"
          },
          "sizemode": "area",
          "sizeref": 591.85375,
          "symbol": "circle"
         },
         "mode": "markers",
         "name": "OM",
         "orientation": "v",
         "showlegend": true,
         "type": "scatter",
         "x": {
          "bdata": "4wfkB+UH5gfnB+gH",
          "dtype": "i2"
         },
         "xaxis": "x",
         "y": {
          "bdata": "nybhAHSx5ACzSEcBfCm5AXF1+ALrxPgD",
          "dtype": "i4"
         },
         "yaxis": "y"
        },
        {
         "hovertemplate": "<b>%{hovertext}</b><br><br>Pais=PA<br>Año=%{x}<br>Pérdidas (USD)=%{y}<br>Quejas=%{marker.size}<extra></extra>",
         "hovertext": [
          "PA",
          "PA",
          "PA",
          "PA",
          "PA",
          "PA"
         ],
         "legendgroup": "PA",
         "marker": {
          "color": "#EF553B",
          "size": {
           "bdata": "wwNiBgAFOgb4BG4H",
           "dtype": "i2"
          },
          "sizemode": "area",
          "sizeref": 591.85375,
          "symbol": "circle"
         },
         "mode": "markers",
         "name": "PA",
         "orientation": "v",
         "showlegend": true,
         "type": "scatter",
         "x": {
          "bdata": "4wfkB+UH5gfnB+gH",
          "dtype": "i2"
         },
         "xaxis": "x",
         "y": {
          "bdata": "P+NkAD5ZdwCf79UAcxMyAYA+cwHfDrQB",
          "dtype": "i4"
         },
         "yaxis": "y"
        },
        {
         "hovertemplate": "<b>%{hovertext}</b><br><br>Pais=PE<br>Año=%{x}<br>Pérdidas (USD)=%{y}<br>Quejas=%{marker.size}<extra></extra>",
         "hovertext": [
          "PE",
          "PE",
          "PE",
          "PE",
          "PE",
          "PE"
         ],
         "legendgroup": "PE",
         "marker": {
          "color": "#00cc96",
          "size": {
           "bdata": "UxGrHDogFB83JSMk",
           "dtype": "i2"
          },
          "sizemode": "area",
          "sizeref": 591.85375,
          "symbol": "circle"
         },
         "mode": "markers",
         "name": "PE",
         "orientation": "v",
         "showlegend": true,
         "type": "scatter",
         "x": {
          "bdata": "4wfkB+UH5gfnB+gH",
          "dtype": "i2"
         },
         "xaxis": "x",
         "y": {
          "bdata": "9YahAavfnAFAGS8DN9GOBIU7EAa0tngF",
          "dtype": "i4"
         },
         "yaxis": "y"
        },
        {
         "hovertemplate": "<b>%{hovertext}</b><br><br>Pais=PG<br>Año=%{x}<br>Pérdidas (USD)=%{y}<br>Quejas=%{marker.size}<extra></extra>",
         "hovertext": [
          "PG",
          "PG",
          "PG",
          "PG",
          "PG",
          "PG"
         ],
         "legendgroup": "PG",
         "marker": {
          "color": "#ab63fa",
          "size": {
           "bdata": "iwL4AykEMQQmBEkF",
           "dtype": "i2"
          },
          "sizemode": "area",
          "sizeref": 591.85375,
          "symbol": "circle"
         },
         "mode": "markers",
         "name": "PG",
         "orientation": "v",
         "showlegend": true,
         "type": "scatter",
         "x": {
          "bdata": "4wfkB+UH5gfnB+gH",
          "dtype": "i2"
         },
         "xaxis": "x",
         "y": {
          "bdata": "9eRdABYiYgDq7LsAem4aAepKYAHvsZ4B",
          "dtype": "i4"
         },
         "yaxis": "y"
        },
        {
         "hovertemplate": "<b>%{hovertext}</b><br><br>Pais=PH<br>Año=%{x}<br>Pérdidas (USD)=%{y}<br>Quejas=%{marker.size}<extra></extra>",
         "hovertext": [
          "PH",
          "PH",
          "PH",
          "PH",
          "PH",
          "PH"
         ],
         "legendgroup": "PH",
         "marker": {
          "color": "#FFA15A",
          "size": {
           "bdata": "OBaSKQAgsitlLP0x",
           "dtype": "i2"
          },
          "sizemode": "area",
          "sizeref": 591.85375,
          "symbol": "circle"
         },
         "mode": "markers",
         "name": "PH",
         "orientation": "v",
         "showlegend": true,
         "type": "scatter",
         "x": {
          "bdata": "4wfkB+UH5gfnB+gH",
          "dtype": "i2"
         },
         "xaxis": "x",
         "y": {
          "bdata": "kvGxCjHe6wkdPHsQCivKFp/23R/rHFci",
          "dtype": "i4"
         },
         "yaxis": "y"
        },
        {
         "hovertemplate": "<b>%{hovertext}</b><br><br>Pais=PK<br>Año=%{x}<br>Pérdidas (USD)=%{y}<br>Quejas=%{marker.size}<extra></extra>",
         "hovertext": [
          "PK",
          "PK",
          "PK",
          "PK",
          "PK",
          "PK"
         ],
         "legendgroup": "PK",
         "marker": {
          "color": "#19d3f3",
          "size": {
           "bdata": "TG8AADjLAADwnwAAvL0AAI7QAAAUGAEA",
           "dtype": "i4"
          },
          "sizemode": "area",
          "sizeref": 591.85375,
          "symbol": "circle"
         },
         "mode": "markers",
         "name": "PK",
         "orientation": "v",
         "showlegend": true,
         "type": "scatter",
         "x": {
          "bdata": "4wfkB+UH5gfnB+gH",
          "dtype": "i2"
         },
         "xaxis": "x",
         "y": {
          "bdata": "rpvUCgKq8wvh32AUg+SeKFA57iKdb+Iu",
          "dtype": "i4"
         },
         "yaxis": "y"
        },
        {
         "hovertemplate": "<b>%{hovertext}</b><br><br>Pais=PL<br>Año=%{x}<br>Pérdidas (USD)=%{y}<br>Quejas=%{marker.size}<extra></extra>",
         "hovertext": [
          "PL",
          "PL",
          "PL",
          "PL",
          "PL",
          "PL"
         ],
         "legendgroup": "PL",
         "marker": {
          "color": "#FF6692",
          "size": {
           "bdata": "j1UAAMqlAADFkQAAx7sAADPBAACXnwAA",
           "dtype": "i4"
          },
          "sizemode": "area",
          "sizeref": 591.85375,
          "symbol": "circle"
         },
         "mode": "markers",
         "name": "PL",
         "orientation": "v",
         "showlegend": true,
         "type": "scatter",
         "x": {
          "bdata": "4wfkB+UH5gfnB+gH",
          "dtype": "i2"
         },
         "xaxis": "x",
         "y": {
          "bdata": "/4FEF/20nxUubJMj1Df1R91Q/T3VjgRR",
          "dtype": "i4"
         },
         "yaxis": "y"
        }
       ],
       "layout": {
        "legend": {
         "itemsizing": "constant",
         "title": {
          "text": "Pais"
         },
         "tracegroupgap": 0
        },
        "template": {
         "data": {
          "bar": [
           {
            "error_x": {
             "color": "#2a3f5f"
            },
            "error_y": {
             "color": "#2a3f5f"
            },
            "marker": {
             "line": {
              "color": "#E5ECF6",
              "width": 0.5
             },
             "pattern": {
              "fillmode": "overlay",
              "size": 10,
              "solidity": 0.2
             }
            },
            "type": "bar"
           }
          ],
          "barpolar": [
           {
            "marker": {
             "line": {
              "color": "#E5ECF6",
              "width": 0.5
             },
             "pattern": {
              "fillmode": "overlay",
              "size": 10,
              "solidity": 0.2
             }
            },
            "type": "barpolar"
           }
          ],
          "carpet": [
           {
            "aaxis": {
             "endlinecolor": "#2a3f5f",
             "gridcolor": "white",
             "linecolor": "white",
             "minorgridcolor": "white",
             "startlinecolor": "#2a3f5f"
            },
            "baxis": {
             "endlinecolor": "#2a3f5f",
             "gridcolor": "white",
             "linecolor": "white",
             "minorgridcolor": "white",
             "startlinecolor": "#2a3f5f"
            },
            "type": "carpet"
           }
          ],
          "choropleth": [
           {
            "colorbar": {
             "outlinewidth": 0,
             "ticks": ""
            },
            "type": "choropleth"
           }
          ],
          "contour": [
           {
            "colorbar": {
             "outlinewidth": 0,
             "ticks": ""
            },
            "colorscale": [
             [
              0,
              "#0d0887"
             ],
             [
              0.1111111111111111,
              "#46039f"
             ],
             [
              0.2222222222222222,
              "#7201a8"
             ],
             [
              0.3333333333333333,
              "#9c179e"
             ],
             [
              0.4444444444444444,
              "#bd3786"
             ],
             [
              0.5555555555555556,
              "#d8576b"
             ],
             [
              0.6666666666666666,
              "#ed7953"
             ],
             [
              0.7777777777777778,
              "#fb9f3a"
             ],
             [
              0.8888888888888888,
              "#fdca26"
             ],
             [
              1,
              "#f0f921"
             ]
            ],
            "type": "contour"
           }
          ],
          "contourcarpet": [
           {
            "colorbar": {
             "outlinewidth": 0,
             "ticks": ""
            },
            "type": "contourcarpet"
           }
          ],
          "heatmap": [
           {
            "colorbar": {
             "outlinewidth": 0,
             "ticks": ""
            },
            "colorscale": [
             [
              0,
              "#0d0887"
             ],
             [
              0.1111111111111111,
              "#46039f"
             ],
             [
              0.2222222222222222,
              "#7201a8"
             ],
             [
              0.3333333333333333,
              "#9c179e"
             ],
             [
              0.4444444444444444,
              "#bd3786"
             ],
             [
              0.5555555555555556,
              "#d8576b"
             ],
             [
              0.6666666666666666,
              "#ed7953"
             ],
             [
              0.7777777777777778,
              "#fb9f3a"
             ],
             [
              0.8888888888888888,
              "#fdca26"
             ],
             [
              1,
              "#f0f921"
             ]
            ],
            "type": "heatmap"
           }
          ],
          "histogram": [
           {
            "marker": {
             "pattern": {
              "fillmode": "overlay",
              "size": 10,
              "solidity": 0.2
             }
            },
            "type": "histogram"
           }
          ],
          "histogram2d": [
           {
            "colorbar": {
             "outlinewidth": 0,
             "ticks": ""
            },
            "colorscale": [
             [
              0,
              "#0d0887"
             ],
             [
              0.1111111111111111,
              "#46039f"
             ],
             [
              0.2222222222222222,
              "#7201a8"
             ],
             [
              0.3333333333333333,
              "#9c179e"
             ],
             [
              0.4444444444444444,
              "#bd3786"
             ],
             [
              0.5555555555555556,
              "#d8576b"
             ],
             [
              0.6666666666666666,
              "#ed7953"
             ],
             [
              0.7777777777777778,
              "#fb9f3a"
             ],
             [
              0.8888888888888888,
              "#fdca26"
             ],
             [
              1,
              "#f0f921"
             ]
            ],
            "type": "histogram2d"
           }
          ],
          "histogram2dcontour": [
           {
            "colorbar": {
             "outlinewidth": 0,
             "ticks": ""
            },
            "colorscale": [
             [
              0,
              "#0d0887"
             ],
             [
              0.1111111111111111,
              "#46039f"
             ],
             [
              0.2222222222222222,
              "#7201a8"
             ],
             [
              0.3333333333333333,
              "#9c179e"
             ],
             [
              0.4444444444444444,
              "#bd3786"
             ],
             [
              0.5555555555555556,
              "#d8576b"
             ],
             [
              0.6666666666666666,
              "#ed7953"
             ],
             [
              0.7777777777777778,
              "#fb9f3a"
             ],
             [
              0.8888888888888888,
              "#fdca26"
             ],
             [
              1,
              "#f0f921"
             ]
            ],
            "type": "histogram2dcontour"
           }
          ],
          "mesh3d": [
           {
            "colorbar": {
             "outlinewidth": 0,
             "ticks": ""
            },
            "type": "mesh3d"
           }
          ],
          "parcoords": [
           {
            "line": {
             "colorbar": {
              "outlinewidth": 0,
              "ticks": ""
             }
            },
            "type": "parcoords"
           }
          ],
          "pie": [
           {
            "automargin": true,
            "type": "pie"
           }
          ],
          "scatter": [
           {
            "fillpattern": {
             "fillmode": "overlay",
             "size": 10,
             "solidity": 0.2
            },
            "type": "scatter"
           }
          ],
          "scatter3d": [
           {
            "line": {
             "colorbar": {
              "outlinewidth": 0,
              "ticks": ""
             }
            },
            "marker": {
             "colorbar": {
              "outlinewidth": 0,
              "ticks": ""
             }
            },
            "type": "scatter3d"
           }
          ],
          "scattercarpet": [
           {
            "marker": {
             "colorbar": {
              "outlinewidth": 0,
              "ticks": ""
             }
            },
            "type": "scattercarpet"
           }
          ],
          "scattergeo": [
           {
            "marker": {
             "colorbar": {
              "outlinewidth": 0,
              "ticks": ""
             }
            },
            "type": "scattergeo"
           }
          ],
          "scattergl": [
           {
            "marker": {
             "colorbar": {
              "outlinewidth": 0,
              "ticks": ""
             }
            },
            "type": "scattergl"
           }
          ],
          "scattermap": [
           {
            "marker": {
             "colorbar": {
              "outlinewidth": 0,
              "ticks": ""
             }
            },
            "type": "scattermap"
           }
          ],
          "scattermapbox": [
           {
            "marker": {
             "colorbar": {
              "outlinewidth": 0,
              "ticks": ""
             }
            },
            "type": "scattermapbox"
           }
          ],
          "scatterpolar": [
           {
            "marker": {
             "colorbar": {
              "outlinewidth": 0,
              "ticks": ""
             }
            },
            "type": "scatterpolar"
           }
          ],
          "scatterpolargl": [
           {
            "marker": {
             "colorbar": {
              "outlinewidth": 0,
              "ticks": ""
             }
            },
            "type": "scatterpolargl"
           }
          ],
          "scatterternary": [
           {
            "marker": {
             "colorbar": {
              "outlinewidth": 0,
              "ticks": ""
             }
            },
            "type": "scatterternary"
           }
          ],
          "surface": [
           {
            "colorbar": {
             "outlinewidth": 0,
             "ticks": ""
            },
            "colorscale": [
             [
              0,
              "#0d0887"
             ],
             [
              0.1111111111111111,
              "#46039f"
             ],
             [
              0.2222222222222222,
              "#7201a8"
             ],
             [
              0.3333333333333333,
              "#9c179e"
             ],
             [
              0.4444444444444444,
              "#bd3786"
             ],
             [
              0.5555555555555556,
              "#d8576b"
             ],
             [
              0.6666666666666666,
              "#ed7953"
             ],
             [
              0.7777777777777778,
              "#fb9f3a"
             ],
             [
              0.8888888888888888,
              "#fdca26"
             ],
             [
              1,
              "#f0f921"
             ]
            ],
            "type": "surface"
           }
          ],
          "table": [
           {
            "cells": {
             "fill": {
              "color": "#EBF0F8"
             },
             "line": {
              "color": "white"
             }
            },
            "header": {
             "fill": {
              "color": "#C8D4E3"
             },
             "line": {
              "color": "white"
             }
            },
            "type": "table"
           }
          ]
         },
         "layout": {
          "annotationdefaults": {
           "arrowcolor": "#2a3f5f",
           "arrowhead": 0,
           "arrowwidth": 1
          },
          "autotypenumbers": "strict",
          "coloraxis": {
           "colorbar": {
            "outlinewidth": 0,
            "ticks": ""
           }
          },
          "colorscale": {
           "diverging": [
            [
             0,
             "#8e0152"
            ],
            [
             0.1,
             "#c51b7d"
            ],
            [
             0.2,
             "#de77ae"
            ],
            [
             0.3,
             "#f1b6da"
            ],
            [
             0.4,
             "#fde0ef"
            ],
            [
             0.5,
             "#f7f7f7"
            ],
            [
             0.6,
             "#e6f5d0"
            ],
            [
             0.7,
             "#b8e186"
            ],
            [
             0.8,
             "#7fbc41"
            ],
            [
             0.9,
             "#4d9221"
            ],
            [
             1,
             "#276419"
            ]
           ],
           "sequential": [
            [
             0,
             "#0d0887"
            ],
            [
             0.1111111111111111,
             "#46039f"
            ],
            [
             0.2222222222222222,
             "#7201a8"
            ],
            [
             0.3333333333333333,
             "#9c179e"
            ],
            [
             0.4444444444444444,
             "#bd3786"
            ],
            [
             0.5555555555555556,
             "#d8576b"
            ],
            [
             0.6666666666666666,
             "#ed7953"
            ],
            [
             0.7777777777777778,
             "#fb9f3a"
            ],
            [
             0.8888888888888888,
             "#fdca26"
            ],
            [
             1,
             "#f0f921"
            ]
           ],
           "sequentialminus": [
            [
             0,
             "#0d0887"
            ],
            [
             0.1111111111111111,
             "#46039f"
            ],
            [
             0.2222222222222222,
             "#7201a8"
            ],
            [
             0.3333333333333333,
             "#9c179e"
            ],
            [
             0.4444444444444444,
             "#bd3786"
            ],
            [
             0.5555555555555556,
             "#d8576b"
            ],
            [
             0.6666666666666666,
             "#ed7953"
            ],
            [
             0.7777777777777778,
             "#fb9f3a"
            ],
            [
             0.8888888888888888,
             "#fdca26"
            ],
            [
             1,
             "#f0f921"
            ]
           ]
          },
          "colorway": [
           "#636efa",
           "#EF553B",
           "#00cc96",
           "#ab63fa",
           "#FFA15A",
           "#19d3f3",
           "#FF6692",
           "#B6E880",
           "#FF97FF",
           "#FECB52"
          ],
          "font": {
           "color": "#2a3f5f"
          },
          "geo": {
           "bgcolor": "white",
           "lakecolor": "white",
           "landcolor": "#E5ECF6",
           "showlakes": true,
           "showland": true,
           "subunitcolor": "white"
          },
          "hoverlabel": {
           "align": "left"
          },
          "hovermode": "closest",
          "mapbox": {
           "style": "light"
          },
          "paper_bgcolor": "white",
          "plot_bgcolor": "#E5ECF6",
          "polar": {
           "angularaxis": {
            "gridcolor": "white",
            "linecolor": "white",
            "ticks": ""
           },
           "bgcolor": "#E5ECF6",
           "radialaxis": {
            "gridcolor": "white",
            "linecolor": "white",
            "ticks": ""
           }
          },
          "scene": {
           "xaxis": {
            "backgroundcolor": "#E5ECF6",
            "gridcolor": "white",
            "gridwidth": 2,
            "linecolor": "white",
            "showbackground": true,
            "ticks": "",
            "zerolinecolor": "white"
           },
           "yaxis": {
            "backgroundcolor": "#E5ECF6",
            "gridcolor": "white",
            "gridwidth": 2,
            "linecolor": "white",
            "showbackground": true,
            "ticks": "",
            "zerolinecolor": "white"
           },
           "zaxis": {
            "backgroundcolor": "#E5ECF6",
            "gridcolor": "white",
            "gridwidth": 2,
            "linecolor": "white",
            "showbackground": true,
            "ticks": "",
            "zerolinecolor": "white"
           }
          },
          "shapedefaults": {
           "line": {
            "color": "#2a3f5f"
           }
          },
          "ternary": {
           "aaxis": {
            "gridcolor": "white",
            "linecolor": "white",
            "ticks": ""
           },
           "baxis": {
            "gridcolor": "white",
            "linecolor": "white",
            "ticks": ""
           },
           "bgcolor": "#E5ECF6",
           "caxis": {
            "gridcolor": "white",
            "linecolor": "white",
            "ticks": ""
           }
          },
          "title": {
           "x": 0.05
          },
          "xaxis": {
           "automargin": true,
           "gridcolor": "white",
           "linecolor": "white",
           "ticks": "",
           "title": {
            "standoff": 15
           },
           "zerolinecolor": "white",
           "zerolinewidth": 2
          },
          "yaxis": {
           "automargin": true,
           "gridcolor": "white",
           "linecolor": "white",
           "ticks": "",
           "title": {
            "standoff": 15
           },
           "zerolinecolor": "white",
           "zerolinewidth": 2
          }
         }
        },
        "title": {
         "text": "Bubble Chart: Año vs Pérdidas (size=Quejas, color=Pais)"
        },
        "xaxis": {
         "anchor": "y",
         "domain": [
          0,
          1
         ],
         "title": {
          "text": "Año"
         }
        },
        "yaxis": {
         "anchor": "x",
         "domain": [
          0,
          1
         ],
         "title": {
          "text": "Pérdidas (USD)"
         }
        }
       }
      }
     },
     "metadata": {},
     "output_type": "display_data"
    }
   ],
   "source": [
    "import pandas as pd\n",
    "import plotly.express as px\n",
    "\n",
    "# Cargar dataset\n",
    "df = pd.read_csv(\"data/LossFromNetCrime.csv\")\n",
    "\n",
    "# Transformar a formato largo\n",
    "records = []\n",
    "for year in range(2019, 2025):\n",
    "    for _, row in df.iterrows():\n",
    "        records.append({\n",
    "            \"Pais\": row[\"Country\"],\n",
    "            \"Año\": year,\n",
    "            \"Quejas\": row[f\"{year}_Complaints\"],\n",
    "            \"Pérdidas\": row[f\"{year}_Losses\"]\n",
    "        })\n",
    "long_df = pd.DataFrame(records)\n",
    "\n",
    "# Limpieza básica\n",
    "long_df[\"Pais\"] = long_df[\"Pais\"].astype(str).str.strip()\n",
    "long_df = long_df.dropna(subset=[\"Pais\", \"Quejas\", \"Pérdidas\", \"Año\"])\n",
    "long_df = long_df[long_df[\"Pais\"] != \"\"]\n",
    "\n",
    "# 1) Scatter interactivo con animación por año\n",
    "fig_scatter = px.scatter(\n",
    "    long_df,\n",
    "    x=\"Quejas\",\n",
    "    y=\"Pérdidas\",\n",
    "    animation_frame=\"Año\",\n",
    "    hover_name=\"Pais\",\n",
    "    labels={\"Quejas\": \"Quejas\", \"Pérdidas\": \"Pérdidas (USD)\"},\n",
    "    title=\"Quejas vs Pérdidas (2019–2024) – animación por año\"\n",
    ")\n",
    "fig_scatter.show()\n",
    "\n",
    "# 2) Bubble chart (X=Año, Y=Losses, tamaño=Complaints, color=Country)\n",
    "fig_bubble = px.scatter(\n",
    "    long_df,\n",
    "    x=\"Año\",\n",
    "    y=\"Pérdidas\",\n",
    "    size=\"Quejas\",\n",
    "    color=\"Pais\",\n",
    "    hover_name=\"Pais\",\n",
    "    size_max=40,\n",
    "    labels={\"Año\": \"Año\", \"Pérdidas\": \"Pérdidas (USD)\", \"Quejas\": \"Quejas\"},\n",
    "    title=\"Bubble Chart: Año vs Pérdidas (size=Quejas, color=Pais)\"\n",
    ")\n",
    "fig_bubble.show()\n"
   ]
  },
  {
   "cell_type": "code",
   "execution_count": null,
   "id": "adce5174",
   "metadata": {},
   "outputs": [],
   "source": [
    "import plotly.io as pio\n",
    "pio.write_html(fig_scatter, file=\"interactive_scatter_complaints_losses.html\", include_plotlyjs=\"cdn\")\n",
    "pio.write_html(fig_bubble, file=\"interactive_bubble_year_losses.html\", include_plotlyjs=\"cdn\")"
   ]
  }
 ],
 "metadata": {
  "kernelspec": {
   "display_name": ".venv",
   "language": "python",
   "name": "python3"
  },
  "language_info": {
   "codemirror_mode": {
    "name": "ipython",
    "version": 3
   },
   "file_extension": ".py",
   "mimetype": "text/x-python",
   "name": "python",
   "nbconvert_exporter": "python",
   "pygments_lexer": "ipython3",
   "version": "3.12.0"
  }
 },
 "nbformat": 4,
 "nbformat_minor": 5
}
