{
 "cells": [
  {
   "cell_type": "code",
   "execution_count": 1,
   "id": "5dd402f6",
   "metadata": {},
   "outputs": [],
   "source": [
    "### Análisis de NetCrime - Esqueleto del Cuaderno (Preprocesamiento + Visualizaciones con Seaborn)\n",
    "\n",
    "# 1. Import libraries\n",
    "import pandas as pd\n",
    "import seaborn as sns # Para visualizaciones"
   ]
  },
  {
   "cell_type": "code",
   "execution_count": 16,
   "id": "a770308c",
   "metadata": {},
   "outputs": [],
   "source": [
    "# 1. Cargar dataset\n",
    "df_base = pd.read_csv('LossFromNetCrime.csv')\n",
    "\n",
    "\n",
    "# 2. Renombrar columna Country a pais\n",
    "if 'Country' in df_base.columns:\n",
    " df_base.rename(columns={'Country': 'pais'}, inplace=True)\n",
    "\n",
    "\n",
    "# 3. Normalizar nombres de columnas\n",
    "df_base.columns = (\n",
    "df_base.columns\n",
    ".str.strip()\n",
    ".str.lower()\n",
    ".str.replace('-', '_')\n",
    ")"
   ]
  },
  {
   "cell_type": "code",
   "execution_count": 17,
   "id": "02cfb959",
   "metadata": {},
   "outputs": [],
   "source": [
    "# 4. Transformar de formato wide a largo\n",
    "df_melt = df_base.melt(\n",
    "id_vars=['pais'],\n",
    "var_name='anio_tipo',\n",
    "value_name='valor'\n",
    ")\n",
    "\n",
    "\n",
    "# 5. Separar 'anio_tipo' en 'anio' y 'tipo_incidente'\n",
    "df_melt[['anio', 'tipo_incidente']] = (\n",
    "df_melt['anio_tipo']\n",
    ".str.split('_', expand=True)\n",
    ")\n",
    "# Convertir 'anio' a entero\n",
    "df_melt['anio'] = df_melt['anio'].astype(int)\n",
    "\n",
    "\n",
    "# 6. Pivotear para columnas de quejas y perdidas\n",
    "df_limpios = (\n",
    "df_melt\n",
    ".pivot_table(\n",
    "index=['pais', 'anio'],\n",
    "columns='tipo_incidente',\n",
    "values='valor'\n",
    ")\n",
    ".reset_index()\n",
    ")\n",
    "# Renombrar columnas sin caracteres especiales\n",
    "df_limpios.rename(columns={\n",
    "'complaints': 'quejas',\n",
    "'losses': 'perdidas'\n",
    "}, inplace=True)"
   ]
  },
  {
   "cell_type": "code",
   "execution_count": 18,
   "id": "f3415bce",
   "metadata": {},
   "outputs": [
    {
     "data": {
      "text/html": [
       "<div>\n",
       "<style scoped>\n",
       "    .dataframe tbody tr th:only-of-type {\n",
       "        vertical-align: middle;\n",
       "    }\n",
       "\n",
       "    .dataframe tbody tr th {\n",
       "        vertical-align: top;\n",
       "    }\n",
       "\n",
       "    .dataframe thead th {\n",
       "        text-align: right;\n",
       "    }\n",
       "</style>\n",
       "<table border=\"1\" class=\"dataframe\">\n",
       "  <thead>\n",
       "    <tr style=\"text-align: right;\">\n",
       "      <th>tipo_incidente</th>\n",
       "      <th>pais</th>\n",
       "      <th>anio</th>\n",
       "      <th>quejas</th>\n",
       "      <th>perdidas</th>\n",
       "    </tr>\n",
       "  </thead>\n",
       "  <tbody>\n",
       "    <tr>\n",
       "      <th>0</th>\n",
       "      <td>AE</td>\n",
       "      <td>2019</td>\n",
       "      <td>5503.0</td>\n",
       "      <td>48101706.0</td>\n",
       "    </tr>\n",
       "    <tr>\n",
       "      <th>1</th>\n",
       "      <td>AE</td>\n",
       "      <td>2020</td>\n",
       "      <td>7390.0</td>\n",
       "      <td>81178182.0</td>\n",
       "    </tr>\n",
       "    <tr>\n",
       "      <th>2</th>\n",
       "      <td>AE</td>\n",
       "      <td>2021</td>\n",
       "      <td>10164.0</td>\n",
       "      <td>131934602.0</td>\n",
       "    </tr>\n",
       "    <tr>\n",
       "      <th>3</th>\n",
       "      <td>AE</td>\n",
       "      <td>2022</td>\n",
       "      <td>10042.0</td>\n",
       "      <td>187062157.0</td>\n",
       "    </tr>\n",
       "    <tr>\n",
       "      <th>4</th>\n",
       "      <td>AE</td>\n",
       "      <td>2023</td>\n",
       "      <td>11034.0</td>\n",
       "      <td>244238485.0</td>\n",
       "    </tr>\n",
       "  </tbody>\n",
       "</table>\n",
       "</div>"
      ],
      "text/plain": [
       "tipo_incidente pais  anio   quejas     perdidas\n",
       "0                AE  2019   5503.0   48101706.0\n",
       "1                AE  2020   7390.0   81178182.0\n",
       "2                AE  2021  10164.0  131934602.0\n",
       "3                AE  2022  10042.0  187062157.0\n",
       "4                AE  2023  11034.0  244238485.0"
      ]
     },
     "execution_count": 18,
     "metadata": {},
     "output_type": "execute_result"
    }
   ],
   "source": [
    "# 7. Ordenar y revisar resultados\n",
    "df_limpios = df_limpios.sort_values(['pais', 'anio']).reset_index(drop=True)\n",
    "\n",
    "\n",
    "# Mostrar las primeras filas\n",
    "df_limpios.head()"
   ]
  },
  {
   "cell_type": "markdown",
   "id": "d47c246a",
   "metadata": {},
   "source": [
    "### 🔹 Ranking de Países por Pérdidas (Top 15)\n",
    "\n",
    "Mostramos los 15 países con mayores pérdidas en el año elegido (`anio_objetivo = 2020`).  \n",
    "Se usa un gráfico de **barras horizontales**, lo que facilita comparar rápidamente los valores.\n"
   ]
  },
  {
   "cell_type": "code",
   "execution_count": 25,
   "id": "2c76e90a",
   "metadata": {},
   "outputs": [
    {
     "name": "stderr",
     "output_type": "stream",
     "text": [
      "C:\\Users\\jjala\\AppData\\Local\\Temp\\ipykernel_3756\\2493597005.py:9: FutureWarning: \n",
      "\n",
      "Passing `palette` without assigning `hue` is deprecated and will be removed in v0.14.0. Assign the `y` variable to `hue` and set `legend=False` for the same effect.\n",
      "\n",
      "  sns.barplot(\n"
     ]
    },
    {
     "data": {
      "text/plain": [
       "Text(0.5, 1.0, 'Top 15 Países por Pérdidas - 2020')"
      ]
     },
     "execution_count": 25,
     "metadata": {},
     "output_type": "execute_result"
    },
    {
     "data": {
      "image/png": "[encoded data removed]",
      "text/plain": [
       "<Figure size 1000x600 with 1 Axes>"
      ]
     },
     "metadata": {},
     "output_type": "display_data"
    }
   ],
   "source": [
    "anio_objetivo = 2020\n",
    "ranking_perdidas = (\n",
    "    df_limpios[df_limpios['anio']==anio_objetivo]\n",
    "    .sort_values('perdidas', ascending=False)\n",
    "    .head(15)\n",
    ")\n",
    "\n",
    "sns.set(rc={'figure.figsize':(10,6)})\n",
    "sns.barplot(\n",
    "    data=ranking_perdidas,\n",
    "    x='perdidas', y='pais',\n",
    "    palette='Reds_r', orient='h'\n",
    ").set_title(f\"Top 15 Países por Pérdidas - {anio_objetivo}\")"
   ]
  }
 ],
 "metadata": {
  "kernelspec": {
   "display_name": "Python 3",
   "language": "python",
   "name": "python3"
  },
  "language_info": {
   "codemirror_mode": {
    "name": "ipython",
    "version": 3
   },
   "file_extension": ".py",
   "mimetype": "text/x-python",
   "name": "python",
   "nbconvert_exporter": "python",
   "pygments_lexer": "ipython3",
   "version": "3.13.6"
  }
 },
 "nbformat": 4,
 "nbformat_minor": 5
}
