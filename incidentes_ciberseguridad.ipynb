{
 "cells": [
  {
   "cell_type": "code",
   "execution_count": 2,
   "id": "5dd402f6",
   "metadata": {},
   "outputs": [],
   "source": [
    "### Análisis de NetCrime - Esqueleto del Cuaderno (Preprocesamiento + Visualizaciones con Seaborn)\n",
    "\n",
    "# 1. Import libraries\n",
    "import pandas as pd\n",
    "import seaborn as sns # Para visualizaciones\n",
    "import matplotlib.pyplot as plt"
   ]
  },
  {
   "cell_type": "code",
   "execution_count": 3,
   "id": "a770308c",
   "metadata": {},
   "outputs": [],
   "source": [
    "# 1. Cargar dataset\n",
    "df_base = pd.read_csv('data/LossFromNetCrime.csv')\n",
    "\n",
    "# 2. Renombrar columna Country a pais\n",
    "if 'Country' in df_base.columns:\n",
    " df_base.rename(columns={'Country': 'pais'}, inplace=True)\n",
    "\n",
    "\n",
    "# 3. Normalizar nombres de columnas\n",
    "df_base.columns = (\n",
    "df_base.columns\n",
    ".str.strip()\n",
    ".str.lower()\n",
    ".str.replace('-', '_')\n",
    ")"
   ]
  },
  {
   "cell_type": "code",
   "execution_count": 4,
   "id": "02cfb959",
   "metadata": {},
   "outputs": [],
   "source": [
    "# 4. Transformar de formato wide a largo\n",
    "df_melt = df_base.melt(\n",
    "id_vars=['pais'],\n",
    "var_name='anio_tipo',\n",
    "value_name='valor'\n",
    ")\n",
    "\n",
    "\n",
    "# 5. Separar 'anio_tipo' en 'anio' y 'tipo_incidente'\n",
    "df_melt[['anio', 'tipo_incidente']] = (\n",
    "df_melt['anio_tipo']\n",
    ".str.split('_', expand=True)\n",
    ")\n",
    "# Convertir 'anio' a entero\n",
    "df_melt['anio'] = df_melt['anio'].astype(int)\n",
    "\n",
    "\n",
    "# 6. Pivotear para columnas de quejas y perdidas\n",
    "df_limpios = (\n",
    "df_melt\n",
    ".pivot_table(\n",
    "index=['pais', 'anio'],\n",
    "columns='tipo_incidente',\n",
    "values='valor'\n",
    ")\n",
    ".reset_index()\n",
    ")\n",
    "# Renombrar columnas sin caracteres especiales\n",
    "df_limpios.rename(columns={\n",
    "'complaints': 'quejas',\n",
    "'losses': 'perdidas'\n",
    "}, inplace=True)"
   ]
  },
  {
   "cell_type": "code",
   "execution_count": 5,
   "id": "f3415bce",
   "metadata": {},
   "outputs": [
    {
     "data": {
      "text/html": [
       "<div>\n",
       "<style scoped>\n",
       "    .dataframe tbody tr th:only-of-type {\n",
       "        vertical-align: middle;\n",
       "    }\n",
       "\n",
       "    .dataframe tbody tr th {\n",
       "        vertical-align: top;\n",
       "    }\n",
       "\n",
       "    .dataframe thead th {\n",
       "        text-align: right;\n",
       "    }\n",
       "</style>\n",
       "<table border=\"1\" class=\"dataframe\">\n",
       "  <thead>\n",
       "    <tr style=\"text-align: right;\">\n",
       "      <th>tipo_incidente</th>\n",
       "      <th>pais</th>\n",
       "      <th>anio</th>\n",
       "      <th>quejas</th>\n",
       "      <th>perdidas</th>\n",
       "    </tr>\n",
       "  </thead>\n",
       "  <tbody>\n",
       "    <tr>\n",
       "      <th>0</th>\n",
       "      <td>AE</td>\n",
       "      <td>2019</td>\n",
       "      <td>5503.0</td>\n",
       "      <td>48101706.0</td>\n",
       "    </tr>\n",
       "    <tr>\n",
       "      <th>1</th>\n",
       "      <td>AE</td>\n",
       "      <td>2020</td>\n",
       "      <td>7390.0</td>\n",
       "      <td>81178182.0</td>\n",
       "    </tr>\n",
       "    <tr>\n",
       "      <th>2</th>\n",
       "      <td>AE</td>\n",
       "      <td>2021</td>\n",
       "      <td>10164.0</td>\n",
       "      <td>131934602.0</td>\n",
       "    </tr>\n",
       "    <tr>\n",
       "      <th>3</th>\n",
       "      <td>AE</td>\n",
       "      <td>2022</td>\n",
       "      <td>10042.0</td>\n",
       "      <td>187062157.0</td>\n",
       "    </tr>\n",
       "    <tr>\n",
       "      <th>4</th>\n",
       "      <td>AE</td>\n",
       "      <td>2023</td>\n",
       "      <td>11034.0</td>\n",
       "      <td>244238485.0</td>\n",
       "    </tr>\n",
       "  </tbody>\n",
       "</table>\n",
       "</div>"
      ],
      "text/plain": [
       "tipo_incidente pais  anio   quejas     perdidas\n",
       "0                AE  2019   5503.0   48101706.0\n",
       "1                AE  2020   7390.0   81178182.0\n",
       "2                AE  2021  10164.0  131934602.0\n",
       "3                AE  2022  10042.0  187062157.0\n",
       "4                AE  2023  11034.0  244238485.0"
      ]
     },
     "execution_count": 5,
     "metadata": {},
     "output_type": "execute_result"
    }
   ],
   "source": [
    "# 7. Ordenar y revisar resultados\n",
    "df_limpios = df_limpios.sort_values(['pais', 'anio']).reset_index(drop=True)\n",
    "\n",
    "\n",
    "# Mostrar las primeras filas\n",
    "df_limpios.head()"
   ]
  },
  {
   "cell_type": "markdown",
   "id": "d47c246a",
   "metadata": {},
   "source": [
    "### 🔹 Ranking de Países por Pérdidas (Top 15)\n",
    "\n",
    "Mostramos los 15 países con mayores pérdidas en el año elegido (`anio_objetivo = 2020`).  \n",
    "Se usa un gráfico de **barras horizontales**, lo que facilita comparar rápidamente los valores.\n"
   ]
  },
  {
   "cell_type": "code",
   "execution_count": 6,
   "id": "2c76e90a",
   "metadata": {},
   "outputs": [
    {
     "data": {
      "text/plain": [
       "Text(0.5, 1.0, 'Top 15 Países por Pérdidas - 2020')"
      ]
     },
     "execution_count": 6,
     "metadata": {},
     "output_type": "execute_result"
    },
    {
     "data": {
      "image/png": "[encoded data removed]",
      "text/plain": [
       "<Figure size 1000x600 with 1 Axes>"
      ]
     },
     "metadata": {},
     "output_type": "display_data"
    }
   ],
   "source": [
    "anio_objetivo = 2020\n",
    "ranking_perdidas = (\n",
    "    df_limpios[df_limpios['anio'] == anio_objetivo]\n",
    "    .sort_values('perdidas', ascending=False)\n",
    "    .head(15)\n",
    ")\n",
    "\n",
    "sns.set(rc={'figure.figsize': (10, 6)})\n",
    "sns.barplot(\n",
    "    data=ranking_perdidas,\n",
    "    x='perdidas', y='pais',\n",
    "    hue='pais',               # usamos pais como hue\n",
    "    palette='Reds_r', \n",
    "    orient='h',\n",
    "    dodge=False, legend=False # quitamos la leyenda\n",
    ").set_title(f\"Top 15 Países por Pérdidas - {anio_objetivo}\")\n"
   ]
  },
  {
   "cell_type": "markdown",
   "id": "b4dc7032",
   "metadata": {},
   "source": [
    "### Relación entre Quejas y Pérdidas (Scatterplot)\n",
    "\n",
    "Con un gráfico de dispersión se analiza si más quejas implican necesariamente más pérdidas.\n",
    "Cada punto representa un país en el año elegido. El tamaño de los puntos es proporcional a las pérdidas."
   ]
  },
  {
   "cell_type": "code",
   "execution_count": 7,
   "id": "c0f6216d",
   "metadata": {},
   "outputs": [
    {
     "data": {
      "image/png": "[encoded data removed]",
      "text/plain": [
       "<Figure size 1000x600 with 1 Axes>"
      ]
     },
     "metadata": {},
     "output_type": "display_data"
    }
   ],
   "source": [
    "\n",
    "\n",
    "anio_objetivo = 2020\n",
    "df_anio = df_limpios[df_limpios['anio'] == anio_objetivo]\n",
    "\n",
    "# Scatterplot con colores por país\n",
    "plt.figure(figsize=(10,6))\n",
    "ax = sns.scatterplot(\n",
    "    data=df_anio,\n",
    "    x='quejas', y='perdidas',\n",
    "    hue='pais',   # cada país con color distinto\n",
    "    s=120, alpha=0.7, legend=False  # quitamos leyenda gigante\n",
    ")\n",
    "\n",
    "# Etiquetar solo los 10 países con más pérdidas\n",
    "top = df_anio.sort_values('perdidas', ascending=False).head(10)\n",
    "for _, fila in top.iterrows():\n",
    "    plt.text(\n",
    "        fila['quejas'], fila['perdidas'], fila['pais'],\n",
    "        fontsize=9, ha='right', weight='bold'\n",
    "    )\n",
    "\n",
    "ax.set_title(f\"Relación Quejas vs Pérdidas ({anio_objetivo})\", fontsize=14)\n",
    "ax.set_xlabel(\"Número de quejas\")\n",
    "ax.set_ylabel(\"Monto de pérdidas (USD)\")\n",
    "plt.show()\n"
   ]
  },
  {
   "cell_type": "markdown",
   "id": "25708716",
   "metadata": {},
   "source": [
    "## 📊 Relación Quejas vs. Pérdidas (2020)\n",
    "\n",
    "El análisis de la dispersión entre el número de **quejas** y el monto de **pérdidas económicas** muestra patrones interesantes:\n",
    "\n",
    "### 🇺🇸 Estados Unidos (US)\n",
    "- Se destaca con amplia diferencia: es el país con **mayor número de quejas** y, al mismo tiempo, el de **mayores pérdidas económicas**.  \n",
    "- El volumen de incidentes y el impacto económico están **altamente correlacionados** en este país.\n",
    "\n",
    "### 🇨🇳 China (CN), 🇷🇺 Rusia (RU) y 🇩🇪 Alemania (DE)\n",
    "- Aunque tienen **menos quejas que EE.UU.**, presentan **pérdidas muy altas**.  \n",
    "- Esto sugiere que los incidentes en estos países son, en promedio, **más costosos**.\n",
    "\n",
    "### 🇬🇧 Gran Bretaña (GB) y 🇫🇷 Francia (FR)\n",
    "- Presentan volúmenes **intermedios de quejas**, pero **pérdidas significativas**.  \n",
    "- Confirman que el costo **no depende solo de la cantidad de incidentes**, sino también de la **gravedad y tipo de ataque**.\n",
    "\n",
    "\n",
    "### 🌍 Otros países (NL, IN, SG, UA, etc.)\n",
    "- Aparecen con un nivel **más bajo de quejas y pérdidas**.  \n",
    "- Reflejan que, aunque los ataques son frecuentes, el **impacto monetario total** no alcanza al de los países líderes.\n",
    "\n",
    "## 🧩 Conclusión general\n",
    "- **Más quejas no siempre significan más pérdidas.**  \n",
    "  - Ejemplo: Rusia y Alemania → menos quejas que otros países, pero pérdidas elevadas.  \n",
    "- **EE.UU. domina en ambas métricas**, convirtiéndose en el mercado más crítico en términos de ciberdelitos.  \n",
    "- El impacto económico está **altamente concentrado** en pocos países, mientras que la mayoría mantiene niveles relativamente bajos.\n"
   ]
  },
  {
   "cell_type": "markdown",
   "id": "e9db6ee4",
   "metadata": {},
   "source": [
    "## Graficos de Correlaciones\n",
    "* Diagrama de dispersión múltiple\n",
    "    * Comparar “Complaints vs. Losses” en varios años.\n",
    "    \n",
    "* Bubble chart\n",
    "    * Eje X: año, \n",
    "    * Eje Y: pérdidas, \n",
    "    * Tamaño de burbuja: número de quejas, \n",
    "    * Color: país.\n",
    "\n",
    "Transforma tu los datos de CSV de incidentes de ciberseguridad en un formato más flexible y luego genera dos gráficos:\n",
    "\n",
    "* Scatterplot múltiple: relación Quejas vs Pérdidas, coloreado por año.\n",
    "* Bubble chart: Evolución temporal de pérdidas (Y) vs Año (X), con el tamaño de las burbujas representando las quejas y el color representando el país."
   ]
  },
  {
   "cell_type": "code",
   "execution_count": 1,
   "id": "f490cc58",
   "metadata": {},
   "outputs": [
    {
     "data": {
      "image/png": "[encoded data removed]",
      "text/plain": [
       "<Figure size 800x600 with 1 Axes>"
      ]
     },
     "metadata": {},
     "output_type": "display_data"
    },
    {
     "data": {
      "image/png": "[encoded data removed]",
      "text/plain": [
       "<Figure size 800x600 with 1 Axes>"
      ]
     },
     "metadata": {},
     "output_type": "display_data"
    }
   ],
   "source": [
    "import pandas as pd\n",
    "import matplotlib.pyplot as plt\n",
    "\n",
    "# Cargar dataset\n",
    "df_base = pd.read_csv(\"data/LossFromNetCrime_with_names.csv\")\n",
    "\n",
    "# Transformar a formato largo\n",
    "registros = []\n",
    "for anos in range(2019, 2025):\n",
    "    for _, row in df_base.iterrows():\n",
    "        registros.append({\n",
    "            \"Pais\": row[\"Country_Name\"],\n",
    "            \"Año\": anos,\n",
    "            \"Quejas\": row[f\"{anos}_Complaints\"],\n",
    "            \"Pérdidas\": row[f\"{anos}_Losses\"]\n",
    "        })\n",
    "        \n",
    "long_df = pd.DataFrame(registros)\n",
    "\n",
    "# ---- Scatter múltiple ----\n",
    "fig, ax = plt.subplots(figsize=(8,6))\n",
    "for year, group in long_df.groupby(\"Año\"):\n",
    "    ax.scatter(group[\"Quejas\"], group[\"Pérdidas\"], label=year, alpha=0.6)\n",
    "    ax.set_xlabel(\"Quejas\")\n",
    "    ax.set_ylabel(\"Pérdidas (USD)\")\n",
    "    ax.set_title(\"Quejas vs Pérdidas (2019-2024)\")\n",
    "    ax.legend(title=\"Año\")\n",
    "    ax.grid(True, linestyle=\"--\", alpha=0.4)\n",
    "plt.show()\n",
    "\n",
    "# ---- Bubble Chart ----\n",
    "fig, ax = plt.subplots(figsize=(8,6))\n",
    "\n",
    "# Factorizar países → devuelve (índices, categorías)\n",
    "codes, uniques = pd.factorize(long_df[\"Pais\"])\n",
    "\n",
    "scatter = ax.scatter(\n",
    "    long_df[\"Año\"],\n",
    "    long_df[\"Pérdidas\"],\n",
    "    s=long_df[\"Quejas\"]/50,    # escala de tamaño burbuja\n",
    "    c=pd.factorize(long_df[\"Pais\"])[0],  # colores por país\n",
    "    alpha=0.6,\n",
    "    cmap=\"tab20\"\n",
    ")\n",
    "\n",
    "# Generar handles de la leyenda\n",
    "handles = scatter.legend_elements()[0]\n",
    "\n",
    "# Usar los nombres/códigos reales de país en la leyenda\n",
    "ax.legend(\n",
    "    handles,\n",
    "    uniques,       # ← aquí ponemos los códigos reales\n",
    "    title=\"País\"\n",
    ")\n",
    "\n",
    "ax.set_xlabel(\"Año\")\n",
    "ax.set_ylabel(\"Pérdidas (USD)\")\n",
    "ax.set_title(\"Bubble Chart: Año vs Pérdidas (Tamaño burbuja = Quejas, Color = País)\")\n",
    "ax.grid(True, linestyle=\"--\", alpha=0.4)\n",
    "plt.show()\n"
   ]
  },
  {
   "cell_type": "markdown",
   "id": "a745a885",
   "metadata": {},
   "source": [
    "**🔄 1. Transformación de los datos**\n",
    "```python\n",
    "    df_base = pd.read_csv(\"data/LossFromNetCrime.csv\")\n",
    "```   \n",
    ">Carga el CSV con columnas tipo 2019_Complaints, 2019_Losses, 2020_Complaints, etc.   \n",
    "```python\n",
    "    registros = []  \n",
    "    for anos in range(2019, 2025):  \n",
    "        for _, row in df_base.iterrows():  \n",
    "            registros.append({  \n",
    "                \"Pais\": row[\"Country\"],  \n",
    "                \"Año\": anos,  \n",
    "                \"Quejas\": row[f\"{anos}_Complaints\"],  \n",
    "                \"Pérdidas\": row[f\"{anos}_Losses\"]  \n",
    "            })  \n",
    "```\n",
    "\n",
    "> Convierte la tabla de formato ancho (un par de columnas por año) a un formato largo donde cada fila representa:  \n",
    "    - País (columna Country)  \n",
    "    - Año (2019–2024)  \n",
    "    - Quejas  \n",
    "    - Pérdidas  \n",
    "\n",
    "**📊 2. Gráfico de dispersión múltiple (Scatterplot)**\n",
    "```python\n",
    "    for year, group in long_df.groupby(\"Año\"):\n",
    "        ax.scatter(group[\"Quejas\"], group[\"Pérdidas\"], label=year, alpha=0.6)\n",
    "```\n",
    "> Crea un scatterplot donde:  \n",
    "    - Eje X = número de quejas.  \n",
    "    - Eje Y = pérdidas económicas (USD).  \n",
    "    - Cada color representa un año distinto (2019–2024).  \n",
    "Te permite ver si los países con más quejas también presentan más pérdidas, comparando entre años.  \n",
    "\n",
    "🔵 3. Bubble Chart\n",
    "```python\n",
    "    scatter = ax.scatter(\n",
    "        long_df[\"Año\"],\n",
    "        long_df[\"Pérdidas\"],\n",
    "        s=long_df[\"Pérdidas\"]/50,\n",
    "        c=pd.factorize(long_df[\"Pais\"])[0],\n",
    "        alpha=0.6,\n",
    "        cmap=\"tab20\"\n",
    "        )\n",
    "```\n",
    "\n",
    ">Crea un gráfico de burbujas donde:  \n",
    "    - Eje X = Año.  \n",
    "    - Eje Y = Pérdidas (USD).  \n",
    "    - Tamaño de la burbuja = número de quejas.  \n",
    "    - Color = país.  \n",
    "Esto te deja ver qué países tienen más pérdidas en cada año y con cuántas quejas se relaciona."
   ]
  },
  {
   "cell_type": "markdown",
   "id": "1fc9c851",
   "metadata": {},
   "source": [
    "## 📊 Graficos Animados"
   ]
  },
  {
   "cell_type": "code",
   "execution_count": 5,
   "id": "eb77fe8b",
   "metadata": {},
   "outputs": [
    {
     "data": {
      "application/vnd.plotly.v1+json": {
       "config": {
        "plotlyServerURL": "https://plot.ly"
       },
       "data": [
        {
         "hovertemplate": "<b>%{hovertext}</b><br><br>Año=2019<br>Quejas=%{x}<br>Pérdidas (USD)=%{y}<extra></extra>",
         "hovertext": [
          "Puerto Rico",
          "Palestine, State of",
          "Portugal",
          "Paraguay",
          "United Arab Emirates",
          "Afghanistan",
          "Albania",
          "Armenia",
          "Angola",
          "Argentina",
          "Austria",
          "Australia",
          "Azerbaijan",
          "Romania",
          "Bosnia and Herzegovina",
          "Serbia",
          "Bangladesh",
          "Russian Federation",
          "Belgium",
          "Bulgaria",
          "Bahrain",
          "Saudi Arabia",
          "Brazil",
          "Seychelles",
          "Sweden",
          "Singapore",
          "Slovenia",
          "Belarus",
          "Slovakia",
          "Belize",
          "Canada",
          "El Salvador",
          "Switzerland",
          "Eswatini",
          "Chile",
          "China",
          "Colombia",
          "Costa Rica",
          "Thailand",
          "Cyprus",
          "Czechia",
          "Turkey",
          "Germany",
          "Taiwan, Province of China",
          "Tanzania, United Republic of",
          "Denmark",
          "Dominican Republic",
          "Ukraine",
          "Uganda",
          "United States",
          "Ecuador",
          "Estonia",
          "Egypt",
          "Uzbekistan",
          "Spain",
          "Venezuela, Bolivarian Republic of",
          "Virgin Islands, British",
          "Viet Nam",
          "Finland",
          "France",
          "United Kingdom",
          "Georgia",
          "Ghana",
          "Guinea",
          "Greece",
          "Guatemala",
          "Hong Kong",
          "Honduras",
          "Croatia",
          "Yemen",
          "Hungary",
          "Indonesia",
          "Ireland",
          "Israel",
          "India",
          "South Africa",
          "Iraq",
          "Iran, Islamic Republic of",
          "Iceland",
          "Italy",
          "Zimbabwe",
          "Jordan",
          "Japan",
          "Kenya",
          "Kyrgyzstan",
          "Cambodia",
          "Saint Kitts and Nevis",
          "Korea, Republic of",
          "Kazakhstan",
          "Lebanon",
          "Sri Lanka",
          "Lithuania",
          "Luxembourg",
          "Latvia",
          "Libya",
          "Moldova, Republic of",
          "Myanmar",
          "Mongolia",
          "Malta",
          "Maldives",
          "Mexico",
          "Malaysia",
          "Mozambique",
          "nan",
          "Nigeria",
          "Nicaragua",
          "Netherlands",
          "Norway",
          "Nepal",
          "New Zealand",
          "Oman",
          "Panama",
          "Peru",
          "Papua New Guinea",
          "Philippines",
          "Pakistan",
          "Poland"
         ],
         "legendgroup": "",
         "marker": {
          "color": "#636efa",
          "symbol": "circle"
         },
         "mode": "markers",
         "name": "",
         "orientation": "v",
         "showlegend": false,
         "type": "scatter",
         "x": {
          "bdata": "jwIAAPgGAABfBAAAeQcAAH8VAABkAgAA7QQAAGIJAADaAgAAyxEAAB4bAAA9fQAAxwcAANZDAAC8GwAANCQAAMIuAADjbgIAgxgAAG03AAA6EgAAHwIAAI66AQAybAAA4agAAB7wAABmAQAA9hUAAKoHAABDAQAAL48AAK0BAAD0MgAAlRgAAIEFAAAZ2wYA0RoAAJ4BAAAgMwAA5wMAAAN2AACNQAAAoHMBAEBCAADsCwAAJhYAADAeAABdAAEA4gEAAEOJBgBSGAAA8CUAAJIFAADbAgAA83sAAHUdAAAtAwAAAVQAAFs4AAAqdAIAY8oCAG4IAADPAQAAPAEAAJkWAADXDgAAA70BAPQdAAC8BQAA2AAAAHsOAADdfQAAMj8AAL4eAAApxQAAzqsAAJB+AAABtQAAiAEAAHqlAADzAQAArwEAAJZTAQBqCQAApRMAAFMfAAAFAQAAOzwAALclAADxEAAASwEAAFcVAABkAgAAVxAAAIIEAAAkFAAANAgAACgEAACCAgAAUQEAAHIaAABbDAAA7QYAAO8AAAD1BgAAWwMAABzCAAC/DwAAFgQAAH4GAAD+CgAAwwMAAFMRAACLAgAAOBYAAExvAACPVQAA",
          "dtype": "i4"
         },
         "xaxis": "x",
         "y": [
          5929974,
          22483591,
          13870074,
          10967865,
          48101706,
          9218912,
          15433066,
          25413556,
          4218960,
          106144702,
          47306368,
          286422142,
          26944580,
          121565659,
          48232941,
          70529910,
          202462502,
          2404940557,
          61314011,
          118129647,
          64103022,
          11786077,
          571530336,
          326719153,
          288695571,
          1051420849,
          7257183,
          40335091,
          18206898,
          2498015,
          673206760,
          7625619,
          102495918,
          36939924,
          49590061,
          2532007781,
          69494853,
          4698147,
          122082224,
          5686522,
          172991200,
          208240641,
          1559415577,
          205458284,
          14935783,
          38097127,
          39752918,
          1290652585,
          3896487,
          3302744547,
          38064072,
          63377416,
          21281601,
          10115233,
          334885510,
          79397063,
          14172668,
          381138510,
          179710211,
          967758695,
          1342411802,
          11248342,
          6103570,
          2942671,
          41506851,
          23310755,
          746613837,
          77996271,
          8092129,
          2714177,
          75257661,
          437808210,
          316218523,
          72760275,
          989343380,
          622385234,
          191135345,
          442237902,
          3053735,
          291496322,
          2509401,
          3218885,
          799709881,
          19120184,
          90758012,
          75168331,
          3016590,
          297651983,
          215224978,
          39296596,
          5241631,
          58251632,
          11718536,
          27217794,
          7827594,
          29234480,
          12568012,
          26326159,
          15863991,
          2832717,
          118445689,
          53285151,
          14590391,
          2779417,
          34340619,
          5969337,
          572304502,
          45713939,
          9903690,
          13317391,
          14755487,
          6611775,
          27363061,
          6153461,
          179433874,
          181705646,
          390365695
         ],
         "yaxis": "y"
        }
       ],
       "frames": [
        {
         "data": [
          {
           "hovertemplate": "<b>%{hovertext}</b><br><br>Año=2019<br>Quejas=%{x}<br>Pérdidas (USD)=%{y}<extra></extra>",
           "hovertext": [
            "Puerto Rico",
            "Palestine, State of",
            "Portugal",
            "Paraguay",
            "United Arab Emirates",
            "Afghanistan",
            "Albania",
            "Armenia",
            "Angola",
            "Argentina",
            "Austria",
            "Australia",
            "Azerbaijan",
            "Romania",
            "Bosnia and Herzegovina",
            "Serbia",
            "Bangladesh",
            "Russian Federation",
            "Belgium",
            "Bulgaria",
            "Bahrain",
            "Saudi Arabia",
            "Brazil",
            "Seychelles",
            "Sweden",
            "Singapore",
            "Slovenia",
            "Belarus",
            "Slovakia",
            "Belize",
            "Canada",
            "El Salvador",
            "Switzerland",
            "Eswatini",
            "Chile",
            "China",
            "Colombia",
            "Costa Rica",
            "Thailand",
            "Cyprus",
            "Czechia",
            "Turkey",
            "Germany",
            "Taiwan, Province of China",
            "Tanzania, United Republic of",
            "Denmark",
            "Dominican Republic",
            "Ukraine",
            "Uganda",
            "United States",
            "Ecuador",
            "Estonia",
            "Egypt",
            "Uzbekistan",
            "Spain",
            "Venezuela, Bolivarian Republic of",
            "Virgin Islands, British",
            "Viet Nam",
            "Finland",
            "France",
            "United Kingdom",
            "Georgia",
            "Ghana",
            "Guinea",
            "Greece",
            "Guatemala",
            "Hong Kong",
            "Honduras",
            "Croatia",
            "Yemen",
            "Hungary",
            "Indonesia",
            "Ireland",
            "Israel",
            "India",
            "South Africa",
            "Iraq",
            "Iran, Islamic Republic of",
            "Iceland",
            "Italy",
            "Zimbabwe",
            "Jordan",
            "Japan",
            "Kenya",
            "Kyrgyzstan",
            "Cambodia",
            "Saint Kitts and Nevis",
            "Korea, Republic of",
            "Kazakhstan",
            "Lebanon",
            "Sri Lanka",
            "Lithuania",
            "Luxembourg",
            "Latvia",
            "Libya",
            "Moldova, Republic of",
            "Myanmar",
            "Mongolia",
            "Malta",
            "Maldives",
            "Mexico",
            "Malaysia",
            "Mozambique",
            "nan",
            "Nigeria",
            "Nicaragua",
            "Netherlands",
            "Norway",
            "Nepal",
            "New Zealand",
            "Oman",
            "Panama",
            "Peru",
            "Papua New Guinea",
            "Philippines",
            "Pakistan",
            "Poland"
           ],
           "legendgroup": "",
           "marker": {
            "color": "#636efa",
            "symbol": "circle"
           },
           "mode": "markers",
           "name": "",
           "orientation": "v",
           "showlegend": false,
           "type": "scatter",
           "x": {
            "bdata": "jwIAAPgGAABfBAAAeQcAAH8VAABkAgAA7QQAAGIJAADaAgAAyxEAAB4bAAA9fQAAxwcAANZDAAC8GwAANCQAAMIuAADjbgIAgxgAAG03AAA6EgAAHwIAAI66AQAybAAA4agAAB7wAABmAQAA9hUAAKoHAABDAQAAL48AAK0BAAD0MgAAlRgAAIEFAAAZ2wYA0RoAAJ4BAAAgMwAA5wMAAAN2AACNQAAAoHMBAEBCAADsCwAAJhYAADAeAABdAAEA4gEAAEOJBgBSGAAA8CUAAJIFAADbAgAA83sAAHUdAAAtAwAAAVQAAFs4AAAqdAIAY8oCAG4IAADPAQAAPAEAAJkWAADXDgAAA70BAPQdAAC8BQAA2AAAAHsOAADdfQAAMj8AAL4eAAApxQAAzqsAAJB+AAABtQAAiAEAAHqlAADzAQAArwEAAJZTAQBqCQAApRMAAFMfAAAFAQAAOzwAALclAADxEAAASwEAAFcVAABkAgAAVxAAAIIEAAAkFAAANAgAACgEAACCAgAAUQEAAHIaAABbDAAA7QYAAO8AAAD1BgAAWwMAABzCAAC/DwAAFgQAAH4GAAD+CgAAwwMAAFMRAACLAgAAOBYAAExvAACPVQAA",
            "dtype": "i4"
           },
           "xaxis": "x",
           "y": [
            5929974,
            22483591,
            13870074,
            10967865,
            48101706,
            9218912,
            15433066,
            25413556,
            4218960,
            106144702,
            47306368,
            286422142,
            26944580,
            121565659,
            48232941,
            70529910,
            202462502,
            2404940557,
            61314011,
            118129647,
            64103022,
            11786077,
            571530336,
            326719153,
            288695571,
            1051420849,
            7257183,
            40335091,
            18206898,
            2498015,
            673206760,
            7625619,
            102495918,
            36939924,
            49590061,
            2532007781,
            69494853,
            4698147,
            122082224,
            5686522,
            172991200,
            208240641,
            1559415577,
            205458284,
            14935783,
            38097127,
            39752918,
            1290652585,
            3896487,
            3302744547,
            38064072,
            63377416,
            21281601,
            10115233,
            334885510,
            79397063,
            14172668,
            381138510,
            179710211,
            967758695,
            1342411802,
            11248342,
            6103570,
            2942671,
            41506851,
            23310755,
            746613837,
            77996271,
            8092129,
            2714177,
            75257661,
            437808210,
            316218523,
            72760275,
            989343380,
            622385234,
            191135345,
            442237902,
            3053735,
            291496322,
            2509401,
            3218885,
            799709881,
            19120184,
            90758012,
            75168331,
            3016590,
            297651983,
            215224978,
            39296596,
            5241631,
            58251632,
            11718536,
            27217794,
            7827594,
            29234480,
            12568012,
            26326159,
            15863991,
            2832717,
            118445689,
            53285151,
            14590391,
            2779417,
            34340619,
            5969337,
            572304502,
            45713939,
            9903690,
            13317391,
            14755487,
            6611775,
            27363061,
            6153461,
            179433874,
            181705646,
            390365695
           ],
           "yaxis": "y"
          }
         ],
         "name": "2019"
        },
        {
         "data": [
          {
           "hovertemplate": "<b>%{hovertext}</b><br><br>Año=2020<br>Quejas=%{x}<br>Pérdidas (USD)=%{y}<extra></extra>",
           "hovertext": [
            "Puerto Rico",
            "Palestine, State of",
            "Portugal",
            "Paraguay",
            "United Arab Emirates",
            "Afghanistan",
            "Albania",
            "Armenia",
            "Angola",
            "Argentina",
            "Austria",
            "Australia",
            "Azerbaijan",
            "Romania",
            "Bosnia and Herzegovina",
            "Serbia",
            "Bangladesh",
            "Russian Federation",
            "Belgium",
            "Bulgaria",
            "Bahrain",
            "Saudi Arabia",
            "Brazil",
            "Seychelles",
            "Sweden",
            "Singapore",
            "Slovenia",
            "Belarus",
            "Slovakia",
            "Belize",
            "Canada",
            "El Salvador",
            "Switzerland",
            "Eswatini",
            "Chile",
            "China",
            "Colombia",
            "Costa Rica",
            "Thailand",
            "Cyprus",
            "Czechia",
            "Turkey",
            "Germany",
            "Taiwan, Province of China",
            "Tanzania, United Republic of",
            "Denmark",
            "Dominican Republic",
            "Ukraine",
            "Uganda",
            "United States",
            "Ecuador",
            "Estonia",
            "Egypt",
            "Uzbekistan",
            "Spain",
            "Venezuela, Bolivarian Republic of",
            "Virgin Islands, British",
            "Viet Nam",
            "Finland",
            "France",
            "United Kingdom",
            "Georgia",
            "Ghana",
            "Guinea",
            "Greece",
            "Guatemala",
            "Hong Kong",
            "Honduras",
            "Croatia",
            "Yemen",
            "Hungary",
            "Indonesia",
            "Ireland",
            "Israel",
            "India",
            "South Africa",
            "Iraq",
            "Iran, Islamic Republic of",
            "Iceland",
            "Italy",
            "Zimbabwe",
            "Jordan",
            "Japan",
            "Kenya",
            "Kyrgyzstan",
            "Cambodia",
            "Saint Kitts and Nevis",
            "Korea, Republic of",
            "Kazakhstan",
            "Lebanon",
            "Sri Lanka",
            "Lithuania",
            "Luxembourg",
            "Latvia",
            "Libya",
            "Moldova, Republic of",
            "Myanmar",
            "Mongolia",
            "Malta",
            "Maldives",
            "Mexico",
            "Malaysia",
            "Mozambique",
            "nan",
            "Nigeria",
            "Nicaragua",
            "Netherlands",
            "Norway",
            "Nepal",
            "New Zealand",
            "Oman",
            "Panama",
            "Peru",
            "Papua New Guinea",
            "Philippines",
            "Pakistan",
            "Poland"
           ],
           "legendgroup": "",
           "marker": {
            "color": "#636efa",
            "symbol": "circle"
           },
           "mode": "markers",
           "name": "",
           "orientation": "v",
           "showlegend": false,
           "type": "scatter",
           "x": {
            "bdata": "OgUAAEoLAADkBwAAsAsAAN4cAABHBAAAkgkAANoMAAC/BQAApxcAANMqAADw1gAAVxAAABRiAABfLgAAwEMAAP1AAAAdfAQAfCkAAFhoAABuJwAACAMAAON9AgAvuwAA+vAAADzyAQDYAQAAYR8AALEOAAAkAgAAkhsBAMcCAAA8SQAAgCQAANQKAACaxAoAPjYAAJMCAAAEYAAAqgYAAFK5AABIbgAAD0QCAK11AABLEAAAtyMAAPg3AABkjwEAjAQAAOsmDAD7HwAAhD4AALMHAAAZBQAADPAAAMwuAAAwBwAAL88AAGpaAACYOAMAZ4UGAL0KAABKAwAAIgIAAPooAADWGAAAraEDACwyAAB6BgAAagEAAFMYAAAjCAEAWVYAAEImAAB6mAEAVFwBAH/cAAAf8QAAXgIAAO4vAQDSAgAAHAMAAB9vAgAnDQAAnyEAAHUpAACtAQAA8G4AAF9BAADgGgAA2AIAABUjAAALBAAAViMAAE4HAAAcGgAAwAwAAJEHAAA1BgAAnAIAAOgnAADoFQAAtg0AAK4BAAACDAAAeAUAAGFMAQBNGgAAnwgAAIEOAAAqDwAAYgYAAKscAAD4AwAAkikAADjLAADKpQAA",
            "dtype": "i4"
           },
           "xaxis": "x",
           "y": [
            7209755,
            25423219,
            12391290,
            13815152,
            81178182,
            8257595,
            15481216,
            38075278,
            4388316,
            96414427,
            41464758,
            399593060,
            39283188,
            152115092,
            35153818,
            81490357,
            257563277,
            2402832265,
            81868291,
            111207806,
            93786879,
            14140050,
            749658021,
            410036875,
            330876641,
            1102776096,
            9239424,
            45133084,
            22972759,
            4146715,
            793553716,
            6605847,
            125191128,
            55886392,
            40920566,
            3061083799,
            64216061,
            7090087,
            147126154,
            6853488,
            212529097,
            259185589,
            2432407746,
            181937259,
            21277746,
            37191643,
            43312940,
            1449674414,
            4550806,
            3906715208,
            47318231,
            81946736,
            29498445,
            11920427,
            479903741,
            113825151,
            10930431,
            388987922,
            209024271,
            1099523432,
            1590816673,
            13581482,
            6502100,
            4484265,
            45286391,
            26291913,
            823420937,
            89984923,
            10595145,
            2673181,
            61005748,
            598180089,
            382100626,
            89001013,
            1155524769,
            867946291,
            192067847,
            508268749,
            3294003,
            360913944,
            5065509,
            3206926,
            885281428,
            24505055,
            127676103,
            80437904,
            5272765,
            361302082,
            228613185,
            41501339,
            7133861,
            86867615,
            14032708,
            33853664,
            9907911,
            31714733,
            15686730,
            32473442,
            19538664,
            5022918,
            144440919,
            55360884,
            16760987,
            5249534,
            35736203,
            5175487,
            895396401,
            54542901,
            11937086,
            18466612,
            14987636,
            7821630,
            27058091,
            6431254,
            166452785,
            200518146,
            362788093
           ],
           "yaxis": "y"
          }
         ],
         "name": "2020"
        },
        {
         "data": [
          {
           "hovertemplate": "<b>%{hovertext}</b><br><br>Año=2021<br>Quejas=%{x}<br>Pérdidas (USD)=%{y}<extra></extra>",
           "hovertext": [
            "Puerto Rico",
            "Palestine, State of",
            "Portugal",
            "Paraguay",
            "United Arab Emirates",
            "Afghanistan",
            "Albania",
            "Armenia",
            "Angola",
            "Argentina",
            "Austria",
            "Australia",
            "Azerbaijan",
            "Romania",
            "Bosnia and Herzegovina",
            "Serbia",
            "Bangladesh",
            "Russian Federation",
            "Belgium",
            "Bulgaria",
            "Bahrain",
            "Saudi Arabia",
            "Brazil",
            "Seychelles",
            "Sweden",
            "Singapore",
            "Slovenia",
            "Belarus",
            "Slovakia",
            "Belize",
            "Canada",
            "El Salvador",
            "Switzerland",
            "Eswatini",
            "Chile",
            "China",
            "Colombia",
            "Costa Rica",
            "Thailand",
            "Cyprus",
            "Czechia",
            "Turkey",
            "Germany",
            "Taiwan, Province of China",
            "Tanzania, United Republic of",
            "Denmark",
            "Dominican Republic",
            "Ukraine",
            "Uganda",
            "United States",
            "Ecuador",
            "Estonia",
            "Egypt",
            "Uzbekistan",
            "Spain",
            "Venezuela, Bolivarian Republic of",
            "Virgin Islands, British",
            "Viet Nam",
            "Finland",
            "France",
            "United Kingdom",
            "Georgia",
            "Ghana",
            "Guinea",
            "Greece",
            "Guatemala",
            "Hong Kong",
            "Honduras",
            "Croatia",
            "Yemen",
            "Hungary",
            "Indonesia",
            "Ireland",
            "Israel",
            "India",
            "South Africa",
            "Iraq",
            "Iran, Islamic Republic of",
            "Iceland",
            "Italy",
            "Zimbabwe",
            "Jordan",
            "Japan",
            "Kenya",
            "Kyrgyzstan",
            "Cambodia",
            "Saint Kitts and Nevis",
            "Korea, Republic of",
            "Kazakhstan",
            "Lebanon",
            "Sri Lanka",
            "Lithuania",
            "Luxembourg",
            "Latvia",
            "Libya",
            "Moldova, Republic of",
            "Myanmar",
            "Mongolia",
            "Malta",
            "Maldives",
            "Mexico",
            "Malaysia",
            "Mozambique",
            "nan",
            "Nigeria",
            "Nicaragua",
            "Netherlands",
            "Norway",
            "Nepal",
            "New Zealand",
            "Oman",
            "Panama",
            "Peru",
            "Papua New Guinea",
            "Philippines",
            "Pakistan",
            "Poland"
           ],
           "legendgroup": "",
           "marker": {
            "color": "#636efa",
            "symbol": "circle"
           },
           "mode": "markers",
           "name": "",
           "orientation": "v",
           "showlegend": false,
           "type": "scatter",
           "x": {
            "bdata": "+QYAABgNAAA2CAAAdAwAALQnAADKBAAAQggAAN8NAAC3BAAAZCEAADQ8AAA61AAAFRAAAD17AADxMgAAHEwAAJFSAABVCQQAQi4AAIhhAAClKgAAWwQAACWoAgDa3gAA+jMBAHQfAgCOAgAAMiEAAPAQAABkAgAANh8BAO0CAAAIOAAAxyQAAEAKAABdWA4AUz0AAC8DAAAhcQAA4gYAAOgKAQCfdgAA3YACAHRbAAA1EwAAISkAAK42AACurgEAIgQAAIOoDACSJwAAqzIAAKIKAACzBQAAIisBAJFAAADLBwAAd54AAJJEAACeHQMAL3UFAIULAABiAwAAEAIAAOMnAAAxEgAAD3ADAG00AAAWCQAAhwEAAPYYAAAU4gAApmMAAPs0AAC+XQEAezUBAL3pAAAiJAEAjwIAAHyFAQAHAwAAcgMAAAt4AgDBDgAAXCIAAGkuAABAAgAAOY4AABdDAAAhFgAACwMAAF8sAAAfBAAA6x0AACEHAAAuJQAANg4AAOoFAAB6BQAAPgIAAJolAADbFgAAgwwAAIcCAACbCAAAMAYAAIx0AQCSJwAAtQkAAHIQAADSDQAAAAUAADogAAApBAAAACAAAPCfAADFkQAA",
            "dtype": "i4"
           },
           "xaxis": "x",
           "y": [
            9463928,
            48918464,
            18205913,
            26677869,
            131934602,
            17334907,
            25528929,
            44322212,
            8467667,
            212672747,
            116199865,
            664501941,
            55559557,
            301879874,
            55776221,
            129659345,
            400343277,
            5932226222,
            142566044,
            248788813,
            131102183,
            23930228,
            894516056,
            643725512,
            615839471,
            1834545540,
            14206301,
            109694772,
            23441713,
            5194911,
            1161857486,
            14236747,
            204927558,
            73533565,
            60731300,
            5067323422,
            109189140,
            11177920,
            247890207,
            12133741,
            431356435,
            392571792,
            2226372097,
            403540295,
            23961290,
            78734767,
            104934081,
            2590458387,
            6096969,
            6466618579,
            75385877,
            102711672,
            36567441,
            21396751,
            692305090,
            168584712,
            33292428,
            624738922,
            442442726,
            2305495866,
            2740678986,
            22863562,
            11183262,
            5487083,
            100042024,
            51948711,
            1732897646,
            152669227,
            18793743,
            6237592,
            140588839,
            972015041,
            544309794,
            110534215,
            2062881042,
            1324036298,
            313674949,
            843019965,
            5624854,
            667686968,
            6764235,
            5933560,
            1088839354,
            41314068,
            223117975,
            131850198,
            7953931,
            572452315,
            334183044,
            72133701,
            11815830,
            120550579,
            22175186,
            50261795,
            18937753,
            54354359,
            28074566,
            52528265,
            32583587,
            4362630,
            238351830,
            131437045,
            29921649,
            7782176,
            56107226,
            9004728,
            1437353585,
            64274074,
            19275846,
            44661082,
            21448883,
            14020511,
            53418304,
            12315882,
            276511773,
            341893089,
            596864046
           ],
           "yaxis": "y"
          }
         ],
         "name": "2021"
        },
        {
         "data": [
          {
           "hovertemplate": "<b>%{hovertext}</b><br><br>Año=2022<br>Quejas=%{x}<br>Pérdidas (USD)=%{y}<extra></extra>",
           "hovertext": [
            "Puerto Rico",
            "Palestine, State of",
            "Portugal",
            "Paraguay",
            "United Arab Emirates",
            "Afghanistan",
            "Albania",
            "Armenia",
            "Angola",
            "Argentina",
            "Austria",
            "Australia",
            "Azerbaijan",
            "Romania",
            "Bosnia and Herzegovina",
            "Serbia",
            "Bangladesh",
            "Russian Federation",
            "Belgium",
            "Bulgaria",
            "Bahrain",
            "Saudi Arabia",
            "Brazil",
            "Seychelles",
            "Sweden",
            "Singapore",
            "Slovenia",
            "Belarus",
            "Slovakia",
            "Belize",
            "Canada",
            "El Salvador",
            "Switzerland",
            "Eswatini",
            "Chile",
            "China",
            "Colombia",
            "Costa Rica",
            "Thailand",
            "Cyprus",
            "Czechia",
            "Turkey",
            "Germany",
            "Taiwan, Province of China",
            "Tanzania, United Republic of",
            "Denmark",
            "Dominican Republic",
            "Ukraine",
            "Uganda",
            "United States",
            "Ecuador",
            "Estonia",
            "Egypt",
            "Uzbekistan",
            "Spain",
            "Venezuela, Bolivarian Republic of",
            "Virgin Islands, British",
            "Viet Nam",
            "Finland",
            "France",
            "United Kingdom",
            "Georgia",
            "Ghana",
            "Guinea",
            "Greece",
            "Guatemala",
            "Hong Kong",
            "Honduras",
            "Croatia",
            "Yemen",
            "Hungary",
            "Indonesia",
            "Ireland",
            "Israel",
            "India",
            "South Africa",
            "Iraq",
            "Iran, Islamic Republic of",
            "Iceland",
            "Italy",
            "Zimbabwe",
            "Jordan",
            "Japan",
            "Kenya",
            "Kyrgyzstan",
            "Cambodia",
            "Saint Kitts and Nevis",
            "Korea, Republic of",
            "Kazakhstan",
            "Lebanon",
            "Sri Lanka",
            "Lithuania",
            "Luxembourg",
            "Latvia",
            "Libya",
            "Moldova, Republic of",
            "Myanmar",
            "Mongolia",
            "Malta",
            "Maldives",
            "Mexico",
            "Malaysia",
            "Mozambique",
            "nan",
            "Nigeria",
            "Nicaragua",
            "Netherlands",
            "Norway",
            "Nepal",
            "New Zealand",
            "Oman",
            "Panama",
            "Peru",
            "Papua New Guinea",
            "Philippines",
            "Pakistan",
            "Poland"
           ],
           "legendgroup": "",
           "marker": {
            "color": "#636efa",
            "symbol": "circle"
           },
           "mode": "markers",
           "name": "",
           "orientation": "v",
           "showlegend": false,
           "type": "scatter",
           "x": {
            "bdata": "OgYAAIoMAAB+BwAAuA4AADonAADWAwAAzAcAAEgOAADGBAAAYBoAAOcrAABaqgAAIREAAJdwAAD/LAAAozsAAN5kAAASiAQAayoAAOVbAADgJwAANQQAAJRdAgC5uwAA308BAPoXAgCRAgAAyyAAABwMAAA6AgAAGhkBADkDAABNPgAA8CIAAJMJAADkqQsAKT0AAAIDAAAhgwAAuwYAABrAAAB1hQAAUhoDAPpxAAAKEQAA4iYAAAVBAAAyswEA2wMAALW8CwBzIgAAgzoAAKgIAADPBQAALBYBAPtCAAA6BwAAII0AAMpzAABOzgIA+ysFAMgKAAAsAwAAVQIAAAwmAAAQGQAACeMDANgxAABXBwAA4gEAAHYSAADr2wAAkmIAALo1AAAkRAEANiwBANKgAADEowAAbgIAACUiAQDZAgAAZAMAAHpmAgBoDAAAbBkAAOY2AADKAQAAIHIAAO0zAADoIQAAbgMAAMIlAAAsAwAAJBYAAHQHAACvFQAAGQkAABEJAAALBgAAQQIAAIkwAAAZGwAAtgwAAFoCAABnDgAAIwYAANw5AQDfJQAAUggAAIQPAADkDwAAOgYAABQfAAAxBAAAsisAALy9AADHuwAA",
            "dtype": "i4"
           },
           "xaxis": "x",
           "y": [
            17211758,
            57796003,
            30859319,
            40114594,
            187062157,
            36751138,
            37709595,
            90439473,
            13342081,
            399595418,
            133170619,
            974136831,
            66376883,
            349041126,
            132423841,
            200497281,
            673263063,
            7664442141,
            217821448,
            338814414,
            183388664,
            25027493,
            1644488725,
            1004081887,
            882362917,
            3813537684,
            22294080,
            143916635,
            45874291,
            8430382,
            1857378939,
            19942832,
            325885360,
            107487425,
            113895219,
            7405960835,
            164002220,
            16613844,
            298227985,
            17339298,
            514944367,
            626586973,
            3442137764,
            597702921,
            66303435,
            119930937,
            102536313,
            3585569523,
            10859684,
            10304392551,
            127649437,
            169799799,
            54836127,
            30686669,
            1027272058,
            178891015,
            48459372,
            971673882,
            513111722,
            3043377444,
            5037818889,
            33926202,
            20023734,
            6648059,
            115032546,
            53100301,
            2360701043,
            224899521,
            24393753,
            9797841,
            198716263,
            1465738977,
            770682201,
            225640682,
            2898740652,
            2082730216,
            605452580,
            1314548035,
            7103744,
            967404316,
            10101328,
            8015475,
            2253466948,
            67202983,
            282601093,
            200408531,
            10228299,
            875621156,
            490818787,
            116848478,
            18551545,
            188147563,
            32981892,
            79401403,
            25303239,
            100461762,
            36636924,
            98551738,
            39902875,
            9698308,
            365325453,
            187356525,
            33495225,
            11532811,
            79935245,
            17315195,
            2216753376,
            108540856,
            28683974,
            58125970,
            28911996,
            20058995,
            76468535,
            18509434,
            382348042,
            681501827,
            1207252948
           ],
           "yaxis": "y"
          }
         ],
         "name": "2022"
        },
        {
         "data": [
          {
           "hovertemplate": "<b>%{hovertext}</b><br><br>Año=2023<br>Quejas=%{x}<br>Pérdidas (USD)=%{y}<extra></extra>",
           "hovertext": [
            "Puerto Rico",
            "Palestine, State of",
            "Portugal",
            "Paraguay",
            "United Arab Emirates",
            "Afghanistan",
            "Albania",
            "Armenia",
            "Angola",
            "Argentina",
            "Austria",
            "Australia",
            "Azerbaijan",
            "Romania",
            "Bosnia and Herzegovina",
            "Serbia",
            "Bangladesh",
            "Russian Federation",
            "Belgium",
            "Bulgaria",
            "Bahrain",
            "Saudi Arabia",
            "Brazil",
            "Seychelles",
            "Sweden",
            "Singapore",
            "Slovenia",
            "Belarus",
            "Slovakia",
            "Belize",
            "Canada",
            "El Salvador",
            "Switzerland",
            "Eswatini",
            "Chile",
            "China",
            "Colombia",
            "Costa Rica",
            "Thailand",
            "Cyprus",
            "Czechia",
            "Turkey",
            "Germany",
            "Taiwan, Province of China",
            "Tanzania, United Republic of",
            "Denmark",
            "Dominican Republic",
            "Ukraine",
            "Uganda",
            "United States",
            "Ecuador",
            "Estonia",
            "Egypt",
            "Uzbekistan",
            "Spain",
            "Venezuela, Bolivarian Republic of",
            "Virgin Islands, British",
            "Viet Nam",
            "Finland",
            "France",
            "United Kingdom",
            "Georgia",
            "Ghana",
            "Guinea",
            "Greece",
            "Guatemala",
            "Hong Kong",
            "Honduras",
            "Croatia",
            "Yemen",
            "Hungary",
            "Indonesia",
            "Ireland",
            "Israel",
            "India",
            "South Africa",
            "Iraq",
            "Iran, Islamic Republic of",
            "Iceland",
            "Italy",
            "Zimbabwe",
            "Jordan",
            "Japan",
            "Kenya",
            "Kyrgyzstan",
            "Cambodia",
            "Saint Kitts and Nevis",
            "Korea, Republic of",
            "Kazakhstan",
            "Lebanon",
            "Sri Lanka",
            "Lithuania",
            "Luxembourg",
            "Latvia",
            "Libya",
            "Moldova, Republic of",
            "Myanmar",
            "Mongolia",
            "Malta",
            "Maldives",
            "Mexico",
            "Malaysia",
            "Mozambique",
            "nan",
            "Nigeria",
            "Nicaragua",
            "Netherlands",
            "Norway",
            "Nepal",
            "New Zealand",
            "Oman",
            "Panama",
            "Peru",
            "Papua New Guinea",
            "Philippines",
            "Pakistan",
            "Poland"
           ],
           "legendgroup": "",
           "marker": {
            "color": "#636efa",
            "symbol": "circle"
           },
           "mode": "markers",
           "name": "",
           "orientation": "v",
           "showlegend": false,
           "type": "scatter",
           "x": {
            "bdata": "GQcAADINAACCCAAAnw0AABorAAB+BAAAgggAALETAAA4BQAAPyEAAI4lAAAs6wAAZxMAABd6AABkMwAA+kQAABxoAAD3aQQASC4AACRnAABNLgAASwQAANdqAgBdwAAAWz4BAIIyAgCSAgAAzyAAANgNAADTAgAAzNMAABcDAABqUgAAVSgAANoLAABQWQoAPkMAAPUDAADhbQAAKQkAALftAAANfgAAU7gCAOZxAACcFwAA4ycAAHg6AAAcywEAFAUAAF5hDQB3JAAA30cAALIJAACGBQAAjw4BAHkuAABLCAAA08gAACZpAACTiQQAusYFAMEMAAD9AgAAjwIAAGEqAAAZGAAAVbIDAA01AADoCAAAkAEAAIQRAAAL6AAAgW4AAIY6AABTeAEAPhEBAMn2AADwEAEA7wIAAOVIAQCwAgAAQQMAAOCYAgCZDwAAmi4AAGcoAAAcAgAAtokAAGYvAADWHgAA7gIAAPEgAAC3AwAAtBwAABkJAACFGwAARw4AAM8HAAAdBwAACgMAAEYyAAB2FwAA+AwAAHUCAADkDQAAagYAAGVFAQB+KAAAsAsAAPcRAAB0EQAA+AQAADclAAAmBAAAZSwAAI7QAAAzwQAA",
            "dtype": "i4"
           },
           "xaxis": "x",
           "y": [
            21018302,
            69292891,
            28700418,
            33579643,
            244238485,
            38527355,
            46707757,
            114193013,
            15792180,
            372985785,
            163158856,
            1241532793,
            85199840,
            552881444,
            148850878,
            199276163,
            522834001,
            11282113958,
            184239517,
            443783119,
            234614837,
            43606854,
            1808030603,
            1159638524,
            876268421,
            3828469818,
            22218114,
            163144740,
            69951666,
            9110927,
            2277570974,
            29082153,
            270071586,
            110748724,
            129479043,
            8997589579,
            203249469,
            20887823,
            425375149,
            19199921,
            600351173,
            761641603,
            5575128098,
            866022568,
            60317924,
            117811560,
            168606659,
            4171982394,
            17084728,
            11916782073,
            142120063,
            210872015,
            68775642,
            31812459,
            1266113273,
            306878450,
            48451711,
            1166933394,
            712562892,
            3212220994,
            3906023589,
            34237776,
            22014808,
            8907146,
            134866182,
            84710783,
            3458797505,
            264720338,
            28853906,
            9470640,
            309048399,
            2089001077,
            856830691,
            281333883,
            3640042741,
            2521801141,
            524182382,
            1502603054,
            11241606,
            1192949271,
            9698258,
            11136442,
            1995347480,
            68532563,
            316897412,
            241848538,
            9735063,
            877591085,
            642098116,
            120470644,
            22450558,
            315202293,
            41315061,
            95600192,
            26933272,
            89668934,
            44240763,
            93152308,
            56426606,
            11432984,
            446395507,
            226431418,
            47474414,
            12975631,
            102912199,
            22964248,
            3079554598,
            195621525,
            36890222,
            70383275,
            49837425,
            24329856,
            101727109,
            23087850,
            534640287,
            586037584,
            1040011485
           ],
           "yaxis": "y"
          }
         ],
         "name": "2023"
        },
        {
         "data": [
          {
           "hovertemplate": "<b>%{hovertext}</b><br><br>Año=2024<br>Quejas=%{x}<br>Pérdidas (USD)=%{y}<extra></extra>",
           "hovertext": [
            "Puerto Rico",
            "Palestine, State of",
            "Portugal",
            "Paraguay",
            "United Arab Emirates",
            "Afghanistan",
            "Albania",
            "Armenia",
            "Angola",
            "Argentina",
            "Austria",
            "Australia",
            "Azerbaijan",
            "Romania",
            "Bosnia and Herzegovina",
            "Serbia",
            "Bangladesh",
            "Russian Federation",
            "Belgium",
            "Bulgaria",
            "Bahrain",
            "Saudi Arabia",
            "Brazil",
            "Seychelles",
            "Sweden",
            "Singapore",
            "Slovenia",
            "Belarus",
            "Slovakia",
            "Belize",
            "Canada",
            "El Salvador",
            "Switzerland",
            "Eswatini",
            "Chile",
            "China",
            "Colombia",
            "Costa Rica",
            "Thailand",
            "Cyprus",
            "Czechia",
            "Turkey",
            "Germany",
            "Taiwan, Province of China",
            "Tanzania, United Republic of",
            "Denmark",
            "Dominican Republic",
            "Ukraine",
            "Uganda",
            "United States",
            "Ecuador",
            "Estonia",
            "Egypt",
            "Uzbekistan",
            "Spain",
            "Venezuela, Bolivarian Republic of",
            "Virgin Islands, British",
            "Viet Nam",
            "Finland",
            "France",
            "United Kingdom",
            "Georgia",
            "Ghana",
            "Guinea",
            "Greece",
            "Guatemala",
            "Hong Kong",
            "Honduras",
            "Croatia",
            "Yemen",
            "Hungary",
            "Indonesia",
            "Ireland",
            "Israel",
            "India",
            "South Africa",
            "Iraq",
            "Iran, Islamic Republic of",
            "Iceland",
            "Italy",
            "Zimbabwe",
            "Jordan",
            "Japan",
            "Kenya",
            "Kyrgyzstan",
            "Cambodia",
            "Saint Kitts and Nevis",
            "Korea, Republic of",
            "Kazakhstan",
            "Lebanon",
            "Sri Lanka",
            "Lithuania",
            "Luxembourg",
            "Latvia",
            "Libya",
            "Moldova, Republic of",
            "Myanmar",
            "Mongolia",
            "Malta",
            "Maldives",
            "Mexico",
            "Malaysia",
            "Mozambique",
            "nan",
            "Nigeria",
            "Nicaragua",
            "Netherlands",
            "Norway",
            "Nepal",
            "New Zealand",
            "Oman",
            "Panama",
            "Peru",
            "Papua New Guinea",
            "Philippines",
            "Pakistan",
            "Poland"
           ],
           "legendgroup": "",
           "marker": {
            "color": "#636efa",
            "symbol": "circle"
           },
           "mode": "markers",
           "name": "",
           "orientation": "v",
           "showlegend": false,
           "type": "scatter",
           "x": {
            "bdata": "tgcAAOMOAAChCAAAdgoAACcvAABdBQAAqggAAIoNAACeBQAAmSIAAMY4AACG+wAAShYAADqCAAAlNQAAiEcAAMFSAAD78QQAVzAAAJBeAAAlMgAAcgMAAL3LAwCNGwEAn04BAIJ3AgApAgAA6CMAALoOAAA8AgAAdBgBAGgDAAALWAAA6C0AAK0NAADVPw0A3jkAAD8DAABtegAALgcAAMbrAAAVlAAAKz0CAIFwAABnFAAAqCEAAM07AACecgIApAQAABZzDgB2MAAATk4AAIAKAADeBwAA2U4BADtRAACSCAAAEsYAACJlAADALwMAh1kHAOoMAADNBAAAlAIAANggAAAlGwAAAMsDAJQnAADuCwAASgEAAPUbAACl0gAAJXsAAPI+AAAsfwEAZ2EBAKcRAQCHIQEAYQIAAIBmAQDoAgAAuwMAAMbIAgCVEAAALSgAAB4zAAALAgAAnHEAAKVHAABoGAAAzgMAAEInAABLBAAAzB8AADcJAAB+IwAAeA8AAM0IAABDBQAAIQQAADFGAAArFwAABhEAAM4CAAARDgAArQUAAFN9AQCkKwAA9QoAAIgRAABUEgAAbgcAACMkAABJBQAA/TEAABQYAQCXnwAA",
            "dtype": "i4"
           },
           "xaxis": "x",
           "y": [
            31545772,
            66002407,
            40192274,
            45168957,
            280815215,
            37684396,
            56062725,
            111820067,
            18499615,
            448223952,
            145551079,
            1491968034,
            78785876,
            534185027,
            191209005,
            276403955,
            764697415,
            11161782401,
            303148050,
            522143452,
            277949474,
            53680633,
            2590565434,
            1185940522,
            1267709488,
            4524535787,
            42624356,
            171624833,
            80074928,
            12538008,
            2542329668,
            29969414,
            532068262,
            162203379,
            195674840,
            11299124337,
            285005300,
            24076527,
            534867939,
            19483205,
            718180351,
            901844914,
            5279486289,
            843230608,
            56671764,
            125845887,
            165843869,
            5161336915,
            15809008,
            14457011740,
            197235551,
            244151604,
            99156499,
            52122352,
            1244474108,
            361746565,
            44568346,
            1427085868,
            721920497,
            4025659986,
            6379113995,
            47876570,
            23766287,
            11773707,
            157051155,
            70899579,
            2863308167,
            282288918,
            34319762,
            9792860,
            274342202,
            2432253507,
            1499685797,
            310489542,
            4164403367,
            3044360891,
            803018708,
            1614663021,
            14745257,
            1328578738,
            14344326,
            11618599,
            3393546251,
            85415845,
            384798989,
            294425335,
            15660694,
            939580849,
            883976919,
            148621809,
            22772342,
            257790222,
            45198080,
            141459082,
            35814196,
            118929790,
            55325202,
            123314277,
            66224639,
            13304758,
            506585917,
            344158750,
            60688754,
            16184254,
            118105851,
            25763072,
            3320490586,
            187551761,
            43141285,
            67076977,
            66634987,
            28577503,
            91797172,
            27177455,
            576134379,
            786591645,
            1359253205
           ],
           "yaxis": "y"
          }
         ],
         "name": "2024"
        }
       ],
       "layout": {
        "legend": {
         "tracegroupgap": 0
        },
        "sliders": [
         {
          "active": 0,
          "currentvalue": {
           "prefix": "Año="
          },
          "len": 0.9,
          "pad": {
           "b": 10,
           "t": 60
          },
          "steps": [
           {
            "args": [
             [
              "2019"
             ],
             {
              "frame": {
               "duration": 0,
               "redraw": false
              },
              "fromcurrent": true,
              "mode": "immediate",
              "transition": {
               "duration": 0,
               "easing": "linear"
              }
             }
            ],
            "label": "2019",
            "method": "animate"
           },
           {
            "args": [
             [
              "2020"
             ],
             {
              "frame": {
               "duration": 0,
               "redraw": false
              },
              "fromcurrent": true,
              "mode": "immediate",
              "transition": {
               "duration": 0,
               "easing": "linear"
              }
             }
            ],
            "label": "2020",
            "method": "animate"
           },
           {
            "args": [
             [
              "2021"
             ],
             {
              "frame": {
               "duration": 0,
               "redraw": false
              },
              "fromcurrent": true,
              "mode": "immediate",
              "transition": {
               "duration": 0,
               "easing": "linear"
              }
             }
            ],
            "label": "2021",
            "method": "animate"
           },
           {
            "args": [
             [
              "2022"
             ],
             {
              "frame": {
               "duration": 0,
               "redraw": false
              },
              "fromcurrent": true,
              "mode": "immediate",
              "transition": {
               "duration": 0,
               "easing": "linear"
              }
             }
            ],
            "label": "2022",
            "method": "animate"
           },
           {
            "args": [
             [
              "2023"
             ],
             {
              "frame": {
               "duration": 0,
               "redraw": false
              },
              "fromcurrent": true,
              "mode": "immediate",
              "transition": {
               "duration": 0,
               "easing": "linear"
              }
             }
            ],
            "label": "2023",
            "method": "animate"
           },
           {
            "args": [
             [
              "2024"
             ],
             {
              "frame": {
               "duration": 0,
               "redraw": false
              },
              "fromcurrent": true,
              "mode": "immediate",
              "transition": {
               "duration": 0,
               "easing": "linear"
              }
             }
            ],
            "label": "2024",
            "method": "animate"
           }
          ],
          "x": 0.1,
          "xanchor": "left",
          "y": 0,
          "yanchor": "top"
         }
        ],
        "template": {
         "data": {
          "bar": [
           {
            "error_x": {
             "color": "#2a3f5f"
            },
            "error_y": {
             "color": "#2a3f5f"
            },
            "marker": {
             "line": {
              "color": "#E5ECF6",
              "width": 0.5
             },
             "pattern": {
              "fillmode": "overlay",
              "size": 10,
              "solidity": 0.2
             }
            },
            "type": "bar"
           }
          ],
          "barpolar": [
           {
            "marker": {
             "line": {
              "color": "#E5ECF6",
              "width": 0.5
             },
             "pattern": {
              "fillmode": "overlay",
              "size": 10,
              "solidity": 0.2
             }
            },
            "type": "barpolar"
           }
          ],
          "carpet": [
           {
            "aaxis": {
             "endlinecolor": "#2a3f5f",
             "gridcolor": "white",
             "linecolor": "white",
             "minorgridcolor": "white",
             "startlinecolor": "#2a3f5f"
            },
            "baxis": {
             "endlinecolor": "#2a3f5f",
             "gridcolor": "white",
             "linecolor": "white",
             "minorgridcolor": "white",
             "startlinecolor": "#2a3f5f"
            },
            "type": "carpet"
           }
          ],
          "choropleth": [
           {
            "colorbar": {
             "outlinewidth": 0,
             "ticks": ""
            },
            "type": "choropleth"
           }
          ],
          "contour": [
           {
            "colorbar": {
             "outlinewidth": 0,
             "ticks": ""
            },
            "colorscale": [
             [
              0,
              "#0d0887"
             ],
             [
              0.1111111111111111,
              "#46039f"
             ],
             [
              0.2222222222222222,
              "#7201a8"
             ],
             [
              0.3333333333333333,
              "#9c179e"
             ],
             [
              0.4444444444444444,
              "#bd3786"
             ],
             [
              0.5555555555555556,
              "#d8576b"
             ],
             [
              0.6666666666666666,
              "#ed7953"
             ],
             [
              0.7777777777777778,
              "#fb9f3a"
             ],
             [
              0.8888888888888888,
              "#fdca26"
             ],
             [
              1,
              "#f0f921"
             ]
            ],
            "type": "contour"
           }
          ],
          "contourcarpet": [
           {
            "colorbar": {
             "outlinewidth": 0,
             "ticks": ""
            },
            "type": "contourcarpet"
           }
          ],
          "heatmap": [
           {
            "colorbar": {
             "outlinewidth": 0,
             "ticks": ""
            },
            "colorscale": [
             [
              0,
              "#0d0887"
             ],
             [
              0.1111111111111111,
              "#46039f"
             ],
             [
              0.2222222222222222,
              "#7201a8"
             ],
             [
              0.3333333333333333,
              "#9c179e"
             ],
             [
              0.4444444444444444,
              "#bd3786"
             ],
             [
              0.5555555555555556,
              "#d8576b"
             ],
             [
              0.6666666666666666,
              "#ed7953"
             ],
             [
              0.7777777777777778,
              "#fb9f3a"
             ],
             [
              0.8888888888888888,
              "#fdca26"
             ],
             [
              1,
              "#f0f921"
             ]
            ],
            "type": "heatmap"
           }
          ],
          "histogram": [
           {
            "marker": {
             "pattern": {
              "fillmode": "overlay",
              "size": 10,
              "solidity": 0.2
             }
            },
            "type": "histogram"
           }
          ],
          "histogram2d": [
           {
            "colorbar": {
             "outlinewidth": 0,
             "ticks": ""
            },
            "colorscale": [
             [
              0,
              "#0d0887"
             ],
             [
              0.1111111111111111,
              "#46039f"
             ],
             [
              0.2222222222222222,
              "#7201a8"
             ],
             [
              0.3333333333333333,
              "#9c179e"
             ],
             [
              0.4444444444444444,
              "#bd3786"
             ],
             [
              0.5555555555555556,
              "#d8576b"
             ],
             [
              0.6666666666666666,
              "#ed7953"
             ],
             [
              0.7777777777777778,
              "#fb9f3a"
             ],
             [
              0.8888888888888888,
              "#fdca26"
             ],
             [
              1,
              "#f0f921"
             ]
            ],
            "type": "histogram2d"
           }
          ],
          "histogram2dcontour": [
           {
            "colorbar": {
             "outlinewidth": 0,
             "ticks": ""
            },
            "colorscale": [
             [
              0,
              "#0d0887"
             ],
             [
              0.1111111111111111,
              "#46039f"
             ],
             [
              0.2222222222222222,
              "#7201a8"
             ],
             [
              0.3333333333333333,
              "#9c179e"
             ],
             [
              0.4444444444444444,
              "#bd3786"
             ],
             [
              0.5555555555555556,
              "#d8576b"
             ],
             [
              0.6666666666666666,
              "#ed7953"
             ],
             [
              0.7777777777777778,
              "#fb9f3a"
             ],
             [
              0.8888888888888888,
              "#fdca26"
             ],
             [
              1,
              "#f0f921"
             ]
            ],
            "type": "histogram2dcontour"
           }
          ],
          "mesh3d": [
           {
            "colorbar": {
             "outlinewidth": 0,
             "ticks": ""
            },
            "type": "mesh3d"
           }
          ],
          "parcoords": [
           {
            "line": {
             "colorbar": {
              "outlinewidth": 0,
              "ticks": ""
             }
            },
            "type": "parcoords"
           }
          ],
          "pie": [
           {
            "automargin": true,
            "type": "pie"
           }
          ],
          "scatter": [
           {
            "fillpattern": {
             "fillmode": "overlay",
             "size": 10,
             "solidity": 0.2
            },
            "type": "scatter"
           }
          ],
          "scatter3d": [
           {
            "line": {
             "colorbar": {
              "outlinewidth": 0,
              "ticks": ""
             }
            },
            "marker": {
             "colorbar": {
              "outlinewidth": 0,
              "ticks": ""
             }
            },
            "type": "scatter3d"
           }
          ],
          "scattercarpet": [
           {
            "marker": {
             "colorbar": {
              "outlinewidth": 0,
              "ticks": ""
             }
            },
            "type": "scattercarpet"
           }
          ],
          "scattergeo": [
           {
            "marker": {
             "colorbar": {
              "outlinewidth": 0,
              "ticks": ""
             }
            },
            "type": "scattergeo"
           }
          ],
          "scattergl": [
           {
            "marker": {
             "colorbar": {
              "outlinewidth": 0,
              "ticks": ""
             }
            },
            "type": "scattergl"
           }
          ],
          "scattermap": [
           {
            "marker": {
             "colorbar": {
              "outlinewidth": 0,
              "ticks": ""
             }
            },
            "type": "scattermap"
           }
          ],
          "scattermapbox": [
           {
            "marker": {
             "colorbar": {
              "outlinewidth": 0,
              "ticks": ""
             }
            },
            "type": "scattermapbox"
           }
          ],
          "scatterpolar": [
           {
            "marker": {
             "colorbar": {
              "outlinewidth": 0,
              "ticks": ""
             }
            },
            "type": "scatterpolar"
           }
          ],
          "scatterpolargl": [
           {
            "marker": {
             "colorbar": {
              "outlinewidth": 0,
              "ticks": ""
             }
            },
            "type": "scatterpolargl"
           }
          ],
          "scatterternary": [
           {
            "marker": {
             "colorbar": {
              "outlinewidth": 0,
              "ticks": ""
             }
            },
            "type": "scatterternary"
           }
          ],
          "surface": [
           {
            "colorbar": {
             "outlinewidth": 0,
             "ticks": ""
            },
            "colorscale": [
             [
              0,
              "#0d0887"
             ],
             [
              0.1111111111111111,
              "#46039f"
             ],
             [
              0.2222222222222222,
              "#7201a8"
             ],
             [
              0.3333333333333333,
              "#9c179e"
             ],
             [
              0.4444444444444444,
              "#bd3786"
             ],
             [
              0.5555555555555556,
              "#d8576b"
             ],
             [
              0.6666666666666666,
              "#ed7953"
             ],
             [
              0.7777777777777778,
              "#fb9f3a"
             ],
             [
              0.8888888888888888,
              "#fdca26"
             ],
             [
              1,
              "#f0f921"
             ]
            ],
            "type": "surface"
           }
          ],
          "table": [
           {
            "cells": {
             "fill": {
              "color": "#EBF0F8"
             },
             "line": {
              "color": "white"
             }
            },
            "header": {
             "fill": {
              "color": "#C8D4E3"
             },
             "line": {
              "color": "white"
             }
            },
            "type": "table"
           }
          ]
         },
         "layout": {
          "annotationdefaults": {
           "arrowcolor": "#2a3f5f",
           "arrowhead": 0,
           "arrowwidth": 1
          },
          "autotypenumbers": "strict",
          "coloraxis": {
           "colorbar": {
            "outlinewidth": 0,
            "ticks": ""
           }
          },
          "colorscale": {
           "diverging": [
            [
             0,
             "#8e0152"
            ],
            [
             0.1,
             "#c51b7d"
            ],
            [
             0.2,
             "#de77ae"
            ],
            [
             0.3,
             "#f1b6da"
            ],
            [
             0.4,
             "#fde0ef"
            ],
            [
             0.5,
             "#f7f7f7"
            ],
            [
             0.6,
             "#e6f5d0"
            ],
            [
             0.7,
             "#b8e186"
            ],
            [
             0.8,
             "#7fbc41"
            ],
            [
             0.9,
             "#4d9221"
            ],
            [
             1,
             "#276419"
            ]
           ],
           "sequential": [
            [
             0,
             "#0d0887"
            ],
            [
             0.1111111111111111,
             "#46039f"
            ],
            [
             0.2222222222222222,
             "#7201a8"
            ],
            [
             0.3333333333333333,
             "#9c179e"
            ],
            [
             0.4444444444444444,
             "#bd3786"
            ],
            [
             0.5555555555555556,
             "#d8576b"
            ],
            [
             0.6666666666666666,
             "#ed7953"
            ],
            [
             0.7777777777777778,
             "#fb9f3a"
            ],
            [
             0.8888888888888888,
             "#fdca26"
            ],
            [
             1,
             "#f0f921"
            ]
           ],
           "sequentialminus": [
            [
             0,
             "#0d0887"
            ],
            [
             0.1111111111111111,
             "#46039f"
            ],
            [
             0.2222222222222222,
             "#7201a8"
            ],
            [
             0.3333333333333333,
             "#9c179e"
            ],
            [
             0.4444444444444444,
             "#bd3786"
            ],
            [
             0.5555555555555556,
             "#d8576b"
            ],
            [
             0.6666666666666666,
             "#ed7953"
            ],
            [
             0.7777777777777778,
             "#fb9f3a"
            ],
            [
             0.8888888888888888,
             "#fdca26"
            ],
            [
             1,
             "#f0f921"
            ]
           ]
          },
          "colorway": [
           "#636efa",
           "#EF553B",
           "#00cc96",
           "#ab63fa",
           "#FFA15A",
           "#19d3f3",
           "#FF6692",
           "#B6E880",
           "#FF97FF",
           "#FECB52"
          ],
          "font": {
           "color": "#2a3f5f"
          },
          "geo": {
           "bgcolor": "white",
           "lakecolor": "white",
           "landcolor": "#E5ECF6",
           "showlakes": true,
           "showland": true,
           "subunitcolor": "white"
          },
          "hoverlabel": {
           "align": "left"
          },
          "hovermode": "closest",
          "mapbox": {
           "style": "light"
          },
          "paper_bgcolor": "white",
          "plot_bgcolor": "#E5ECF6",
          "polar": {
           "angularaxis": {
            "gridcolor": "white",
            "linecolor": "white",
            "ticks": ""
           },
           "bgcolor": "#E5ECF6",
           "radialaxis": {
            "gridcolor": "white",
            "linecolor": "white",
            "ticks": ""
           }
          },
          "scene": {
           "xaxis": {
            "backgroundcolor": "#E5ECF6",
            "gridcolor": "white",
            "gridwidth": 2,
            "linecolor": "white",
            "showbackground": true,
            "ticks": "",
            "zerolinecolor": "white"
           },
           "yaxis": {
            "backgroundcolor": "#E5ECF6",
            "gridcolor": "white",
            "gridwidth": 2,
            "linecolor": "white",
            "showbackground": true,
            "ticks": "",
            "zerolinecolor": "white"
           },
           "zaxis": {
            "backgroundcolor": "#E5ECF6",
            "gridcolor": "white",
            "gridwidth": 2,
            "linecolor": "white",
            "showbackground": true,
            "ticks": "",
            "zerolinecolor": "white"
           }
          },
          "shapedefaults": {
           "line": {
            "color": "#2a3f5f"
           }
          },
          "ternary": {
           "aaxis": {
            "gridcolor": "white",
            "linecolor": "white",
            "ticks": ""
           },
           "baxis": {
            "gridcolor": "white",
            "linecolor": "white",
            "ticks": ""
           },
           "bgcolor": "#E5ECF6",
           "caxis": {
            "gridcolor": "white",
            "linecolor": "white",
            "ticks": ""
           }
          },
          "title": {
           "x": 0.05
          },
          "xaxis": {
           "automargin": true,
           "gridcolor": "white",
           "linecolor": "white",
           "ticks": "",
           "title": {
            "standoff": 15
           },
           "zerolinecolor": "white",
           "zerolinewidth": 2
          },
          "yaxis": {
           "automargin": true,
           "gridcolor": "white",
           "linecolor": "white",
           "ticks": "",
           "title": {
            "standoff": 15
           },
           "zerolinecolor": "white",
           "zerolinewidth": 2
          }
         }
        },
        "title": {
         "text": "Quejas vs Pérdidas (2019–2024) – animación por año"
        },
        "updatemenus": [
         {
          "buttons": [
           {
            "args": [
             null,
             {
              "frame": {
               "duration": 500,
               "redraw": false
              },
              "fromcurrent": true,
              "mode": "immediate",
              "transition": {
               "duration": 500,
               "easing": "linear"
              }
             }
            ],
            "label": "&#9654;",
            "method": "animate"
           },
           {
            "args": [
             [
              null
             ],
             {
              "frame": {
               "duration": 0,
               "redraw": false
              },
              "fromcurrent": true,
              "mode": "immediate",
              "transition": {
               "duration": 0,
               "easing": "linear"
              }
             }
            ],
            "label": "&#9724;",
            "method": "animate"
           }
          ],
          "direction": "left",
          "pad": {
           "r": 10,
           "t": 70
          },
          "showactive": false,
          "type": "buttons",
          "x": 0.1,
          "xanchor": "right",
          "y": 0,
          "yanchor": "top"
         }
        ],
        "xaxis": {
         "anchor": "y",
         "domain": [
          0,
          1
         ],
         "title": {
          "text": "Quejas"
         }
        },
        "yaxis": {
         "anchor": "x",
         "domain": [
          0,
          1
         ],
         "title": {
          "text": "Pérdidas (USD)"
         }
        }
       }
      }
     },
     "metadata": {},
     "output_type": "display_data"
    },
    {
     "data": {
      "application/vnd.plotly.v1+json": {
       "config": {
        "plotlyServerURL": "https://plot.ly"
       },
       "data": [
        {
         "hovertemplate": "<b>%{hovertext}</b><br><br>Pais=Puerto Rico<br>Año=%{x}<br>Pérdidas (USD)=%{y}<br>Quejas=%{marker.size}<extra></extra>",
         "hovertext": [
          "Puerto Rico",
          "Puerto Rico",
          "Puerto Rico",
          "Puerto Rico",
          "Puerto Rico",
          "Puerto Rico"
         ],
         "legendgroup": "Puerto Rico",
         "marker": {
          "color": "#636efa",
          "size": {
           "bdata": "jwI6BfkGOgYZB7YH",
           "dtype": "i2"
          },
          "sizemode": "area",
          "sizeref": 591.85375,
          "symbol": "circle"
         },
         "mode": "markers",
         "name": "Puerto Rico",
         "orientation": "v",
         "showlegend": true,
         "type": "scatter",
         "x": {
          "bdata": "4wfkB+UH5gfnB+gH",
          "dtype": "i2"
         },
         "xaxis": "x",
         "y": {
          "bdata": "9ntaABsDbgB4aJAAbqEGAb62QAGsWeEB",
          "dtype": "i4"
         },
         "yaxis": "y"
        },
        {
         "hovertemplate": "<b>%{hovertext}</b><br><br>Pais=Palestine, State of<br>Año=%{x}<br>Pérdidas (USD)=%{y}<br>Quejas=%{marker.size}<extra></extra>",
         "hovertext": [
          "Palestine, State of",
          "Palestine, State of",
          "Palestine, State of",
          "Palestine, State of",
          "Palestine, State of",
          "Palestine, State of"
         ],
         "legendgroup": "Palestine, State of",
         "marker": {
          "color": "#EF553B",
          "size": {
           "bdata": "+AZKCxgNigwyDeMO",
           "dtype": "i2"
          },
          "sizemode": "area",
          "sizeref": 591.85375,
          "symbol": "circle"
         },
         "mode": "markers",
         "name": "Palestine, State of",
         "orientation": "v",
         "showlegend": true,
         "type": "scatter",
         "x": {
          "bdata": "4wfkB+UH5gfnB+gH",
          "dtype": "i2"
         },
         "xaxis": "x",
         "y": {
          "bdata": "hxJXAXPtgwHAb+oCo+VxA1tTIQTnHe8D",
          "dtype": "i4"
         },
         "yaxis": "y"
        },
        {
         "hovertemplate": "<b>%{hovertext}</b><br><br>Pais=Portugal<br>Año=%{x}<br>Pérdidas (USD)=%{y}<br>Quejas=%{marker.size}<extra></extra>",
         "hovertext": [
          "Portugal",
          "Portugal",
          "Portugal",
          "Portugal",
          "Portugal",
          "Portugal"
         ],
         "legendgroup": "Portugal",
         "marker": {
          "color": "#00cc96",
          "size": {
           "bdata": "XwTkBzYIfgeCCKEI",
           "dtype": "i2"
          },
          "sizemode": "area",
          "sizeref": 591.85375,
          "symbol": "circle"
         },
         "mode": "markers",
         "name": "Portugal",
         "orientation": "v",
         "showlegend": true,
         "type": "scatter",
         "x": {
          "bdata": "4wfkB+UH5gfnB+gH",
          "dtype": "i2"
         },
         "xaxis": "x",
         "y": {
          "bdata": "+qPTAHoTvQDZzBUBN+DWAQLvtQESSWUC",
          "dtype": "i4"
         },
         "yaxis": "y"
        },
        {
         "hovertemplate": "<b>%{hovertext}</b><br><br>Pais=Paraguay<br>Año=%{x}<br>Pérdidas (USD)=%{y}<br>Quejas=%{marker.size}<extra></extra>",
         "hovertext": [
          "Paraguay",
          "Paraguay",
          "Paraguay",
          "Paraguay",
          "Paraguay",
          "Paraguay"
         ],
         "legendgroup": "Paraguay",
         "marker": {
          "color": "#ab63fa",
          "size": {
           "bdata": "eQewC3QMuA6fDXYK",
           "dtype": "i2"
          },
          "sizemode": "area",
          "sizeref": 591.85375,
          "symbol": "circle"
         },
         "mode": "markers",
         "name": "Paraguay",
         "orientation": "v",
         "showlegend": true,
         "type": "scatter",
         "x": {
          "bdata": "4wfkB+UH5gfnB+gH",
          "dtype": "i2"
         },
         "xaxis": "x",
         "y": {
          "bdata": "OVunAHDN0gBtEpcBohlkAntiAAI9ObEC",
          "dtype": "i4"
         },
         "yaxis": "y"
        },
        {
         "hovertemplate": "<b>%{hovertext}</b><br><br>Pais=United Arab Emirates<br>Año=%{x}<br>Pérdidas (USD)=%{y}<br>Quejas=%{marker.size}<extra></extra>",
         "hovertext": [
          "United Arab Emirates",
          "United Arab Emirates",
          "United Arab Emirates",
          "United Arab Emirates",
          "United Arab Emirates",
          "United Arab Emirates"
         ],
         "legendgroup": "United Arab Emirates",
         "marker": {
          "color": "#FFA15A",
          "size": {
           "bdata": "fxXeHLQnOicaKycv",
           "dtype": "i2"
          },
          "sizemode": "area",
          "sizeref": 591.85375,
          "symbol": "circle"
         },
         "mode": "markers",
         "name": "United Arab Emirates",
         "orientation": "v",
         "showlegend": true,
         "type": "scatter",
         "x": {
          "bdata": "4wfkB+UH5gfnB+gH",
          "dtype": "i2"
         },
         "xaxis": "x",
         "y": {
          "bdata": "SvndAkau1gSKKd0HjVcmC5XIjg5v5rwQ",
          "dtype": "i4"
         },
         "yaxis": "y"
        },
        {
         "hovertemplate": "<b>%{hovertext}</b><br><br>Pais=Afghanistan<br>Año=%{x}<br>Pérdidas (USD)=%{y}<br>Quejas=%{marker.size}<extra></extra>",
         "hovertext": [
          "Afghanistan",
          "Afghanistan",
          "Afghanistan",
          "Afghanistan",
          "Afghanistan",
          "Afghanistan"
         ],
         "legendgroup": "Afghanistan",
         "marker": {
          "color": "#19d3f3",
          "size": {
           "bdata": "ZAJHBMoE1gN+BF0F",
           "dtype": "i2"
          },
          "sizemode": "area",
          "sizeref": 591.85375,
          "symbol": "circle"
         },
         "mode": "markers",
         "name": "Afghanistan",
         "orientation": "v",
         "showlegend": true,
         "type": "scatter",
         "x": {
          "bdata": "4wfkB+UH5gfnB+gH",
          "dtype": "i2"
         },
         "xaxis": "x",
         "y": {
          "bdata": "YKuMADsAfgB7gggBIscwAnvhSwKsBD8C",
          "dtype": "i4"
         },
         "yaxis": "y"
        },
        {
         "hovertemplate": "<b>%{hovertext}</b><br><br>Pais=Albania<br>Año=%{x}<br>Pérdidas (USD)=%{y}<br>Quejas=%{marker.size}<extra></extra>",
         "hovertext": [
          "Albania",
          "Albania",
          "Albania",
          "Albania",
          "Albania",
          "Albania"
         ],
         "legendgroup": "Albania",
         "marker": {
          "color": "#FF6692",
          "size": {
           "bdata": "7QSSCUIIzAeCCKoI",
           "dtype": "i2"
          },
          "sizemode": "area",
          "sizeref": 591.85375,
          "symbol": "circle"
         },
         "mode": "markers",
         "name": "Albania",
         "orientation": "v",
         "showlegend": true,
         "type": "scatter",
         "x": {
          "bdata": "4wfkB+UH5gfnB+gH",
          "dtype": "i2"
         },
         "xaxis": "x",
         "y": {
          "bdata": "an3rAIA57ABhioUBG2c/Ai20yAIFc1cD",
          "dtype": "i4"
         },
         "yaxis": "y"
        },
        {
         "hovertemplate": "<b>%{hovertext}</b><br><br>Pais=Armenia<br>Año=%{x}<br>Pérdidas (USD)=%{y}<br>Quejas=%{marker.size}<extra></extra>",
         "hovertext": [
          "Armenia",
          "Armenia",
          "Armenia",
          "Armenia",
          "Armenia",
          "Armenia"
         ],
         "legendgroup": "Armenia",
         "marker": {
          "color": "#B6E880",
          "size": {
           "bdata": "YgnaDN8NSA6xE4oN",
           "dtype": "i2"
          },
          "sizemode": "area",
          "sizeref": 591.85375,
          "symbol": "circle"
         },
         "mode": "markers",
         "name": "Armenia",
         "orientation": "v",
         "showlegend": true,
         "type": "scatter",
         "x": {
          "bdata": "4wfkB+UH5gfnB+gH",
          "dtype": "i2"
         },
         "xaxis": "x",
         "y": {
          "bdata": "tMeDAY77RAKkTaQCMf9jBXVyzgYjPaoG",
          "dtype": "i4"
         },
         "yaxis": "y"
        },
        {
         "hovertemplate": "<b>%{hovertext}</b><br><br>Pais=Angola<br>Año=%{x}<br>Pérdidas (USD)=%{y}<br>Quejas=%{marker.size}<extra></extra>",
         "hovertext": [
          "Angola",
          "Angola",
          "Angola",
          "Angola",
          "Angola",
          "Angola"
         ],
         "legendgroup": "Angola",
         "marker": {
          "color": "#FF97FF",
          "size": {
           "bdata": "2gK/BbcExgQ4BZ4F",
           "dtype": "i2"
          },
          "sizemode": "area",
          "sizeref": 591.85375,
          "symbol": "circle"
         },
         "mode": "markers",
         "name": "Angola",
         "orientation": "v",
         "showlegend": true,
         "type": "scatter",
         "x": {
          "bdata": "4wfkB+UH5gfnB+gH",
          "dtype": "i2"
         },
         "xaxis": "x",
         "y": {
          "bdata": "UGBAANz1QgDTNIEAgZXLADT48AAfSBoB",
          "dtype": "i4"
         },
         "yaxis": "y"
        },
        {
         "hovertemplate": "<b>%{hovertext}</b><br><br>Pais=Argentina<br>Año=%{x}<br>Pérdidas (USD)=%{y}<br>Quejas=%{marker.size}<extra></extra>",
         "hovertext": [
          "Argentina",
          "Argentina",
          "Argentina",
          "Argentina",
          "Argentina",
          "Argentina"
         ],
         "legendgroup": "Argentina",
         "marker": {
          "color": "#FECB52",
          "size": {
           "bdata": "yxGnF2QhYBo/IZki",
           "dtype": "i2"
          },
          "sizemode": "area",
          "sizeref": 591.85375,
          "symbol": "circle"
         },
         "mode": "markers",
         "name": "Argentina",
         "orientation": "v",
         "showlegend": true,
         "type": "scatter",
         "x": {
          "bdata": "4wfkB+UH5gfnB+gH",
          "dtype": "i2"
         },
         "xaxis": "x",
         "y": {
          "bdata": "vqNTBtsqvwXrIK0MmlfRF7lPOxbQWrca",
          "dtype": "i4"
         },
         "yaxis": "y"
        },
        {
         "hovertemplate": "<b>%{hovertext}</b><br><br>Pais=Austria<br>Año=%{x}<br>Pérdidas (USD)=%{y}<br>Quejas=%{marker.size}<extra></extra>",
         "hovertext": [
          "Austria",
          "Austria",
          "Austria",
          "Austria",
          "Austria",
          "Austria"
         ],
         "legendgroup": "Austria",
         "marker": {
          "color": "#636efa",
          "size": {
           "bdata": "HhvTKjQ85yuOJcY4",
           "dtype": "i2"
          },
          "sizemode": "area",
          "sizeref": 591.85375,
          "symbol": "circle"
         },
         "mode": "markers",
         "name": "Austria",
         "orientation": "v",
         "showlegend": true,
         "type": "scatter",
         "x": {
          "bdata": "4wfkB+UH5gfnB+gH",
          "dtype": "i2"
         },
         "xaxis": "x",
         "y": {
          "bdata": "gNbRArazeAK5Ee0GuwXwB0ibuQnn7qwI",
          "dtype": "i4"
         },
         "yaxis": "y"
        },
        {
         "hovertemplate": "<b>%{hovertext}</b><br><br>Pais=Australia<br>Año=%{x}<br>Pérdidas (USD)=%{y}<br>Quejas=%{marker.size}<extra></extra>",
         "hovertext": [
          "Australia",
          "Australia",
          "Australia",
          "Australia",
          "Australia",
          "Australia"
         ],
         "legendgroup": "Australia",
         "marker": {
          "color": "#EF553B",
          "size": {
           "bdata": "PX0AAPDWAAA61AAAWqoAACzrAACG+wAA",
           "dtype": "i4"
          },
          "sizemode": "area",
          "sizeref": 591.85375,
          "symbol": "circle"
         },
         "mode": "markers",
         "name": "Australia",
         "orientation": "v",
         "showlegend": true,
         "type": "scatter",
         "x": {
          "bdata": "4wfkB+UH5gfnB+gH",
          "dtype": "i2"
         },
         "xaxis": "x",
         "y": {
          "bdata": "fnQSEWRO0Re1fpsn/yUQOnlJAEoioO1Y",
          "dtype": "i4"
         },
         "yaxis": "y"
        },
        {
         "hovertemplate": "<b>%{hovertext}</b><br><br>Pais=Azerbaijan<br>Año=%{x}<br>Pérdidas (USD)=%{y}<br>Quejas=%{marker.size}<extra></extra>",
         "hovertext": [
          "Azerbaijan",
          "Azerbaijan",
          "Azerbaijan",
          "Azerbaijan",
          "Azerbaijan",
          "Azerbaijan"
         ],
         "legendgroup": "Azerbaijan",
         "marker": {
          "color": "#00cc96",
          "size": {
           "bdata": "xwdXEBUQIRFnE0oW",
           "dtype": "i2"
          },
          "sizemode": "area",
          "sizeref": 591.85375,
          "symbol": "circle"
         },
         "mode": "markers",
         "name": "Azerbaijan",
         "orientation": "v",
         "showlegend": true,
         "type": "scatter",
         "x": {
          "bdata": "4wfkB+UH5gfnB+gH",
          "dtype": "i2"
         },
         "xaxis": "x",
         "y": {
          "bdata": "RCSbAfRpVwKFxU8Ds9T0A+ALFAVULbIE",
          "dtype": "i4"
         },
         "yaxis": "y"
        },
        {
         "hovertemplate": "<b>%{hovertext}</b><br><br>Pais=Romania<br>Año=%{x}<br>Pérdidas (USD)=%{y}<br>Quejas=%{marker.size}<extra></extra>",
         "hovertext": [
          "Romania",
          "Romania",
          "Romania",
          "Romania",
          "Romania",
          "Romania"
         ],
         "legendgroup": "Romania",
         "marker": {
          "color": "#ab63fa",
          "size": {
           "bdata": "1kMAABRiAAA9ewAAl3AAABd6AAA6ggAA",
           "dtype": "i4"
          },
          "sizemode": "area",
          "sizeref": 591.85375,
          "symbol": "circle"
         },
         "mode": "markers",
         "name": "Romania",
         "orientation": "v",
         "showlegend": true,
         "type": "scatter",
         "x": {
          "bdata": "4wfkB+UH5gfnB+gH",
          "dtype": "i2"
         },
         "xaxis": "x",
         "y": {
          "bdata": "2/E+B5QXEQlCUv4R5vHNFCRN9CBDBNcf",
          "dtype": "i4"
         },
         "yaxis": "y"
        },
        {
         "hovertemplate": "<b>%{hovertext}</b><br><br>Pais=Bosnia and Herzegovina<br>Año=%{x}<br>Pérdidas (USD)=%{y}<br>Quejas=%{marker.size}<extra></extra>",
         "hovertext": [
          "Bosnia and Herzegovina",
          "Bosnia and Herzegovina",
          "Bosnia and Herzegovina",
          "Bosnia and Herzegovina",
          "Bosnia and Herzegovina",
          "Bosnia and Herzegovina"
         ],
         "legendgroup": "Bosnia and Herzegovina",
         "marker": {
          "color": "#FFA15A",
          "size": {
           "bdata": "vBtfLvEy/yxkMyU1",
           "dtype": "i2"
          },
          "sizemode": "area",
          "sizeref": 591.85375,
          "symbol": "circle"
         },
         "mode": "markers",
         "name": "Bosnia and Herzegovina",
         "orientation": "v",
         "showlegend": true,
         "type": "scatter",
         "x": {
          "bdata": "4wfkB+UH5gfnB+gH",
          "dtype": "i2"
         },
         "xaxis": "x",
         "y": {
          "bdata": "7fnfAppnGALdE1MDoaDkB75I3wgtnmUL",
          "dtype": "i4"
         },
         "yaxis": "y"
        },
        {
         "hovertemplate": "<b>%{hovertext}</b><br><br>Pais=Serbia<br>Año=%{x}<br>Pérdidas (USD)=%{y}<br>Quejas=%{marker.size}<extra></extra>",
         "hovertext": [
          "Serbia",
          "Serbia",
          "Serbia",
          "Serbia",
          "Serbia",
          "Serbia"
         ],
         "legendgroup": "Serbia",
         "marker": {
          "color": "#19d3f3",
          "size": {
           "bdata": "NCTAQxxMozv6RIhH",
           "dtype": "i2"
          },
          "sizemode": "area",
          "sizeref": 591.85375,
          "symbol": "circle"
         },
         "mode": "markers",
         "name": "Serbia",
         "orientation": "v",
         "showlegend": true,
         "type": "scatter",
         "x": {
          "bdata": "4wfkB+UH5gfnB+gH",
          "dtype": "i2"
         },
         "xaxis": "x",
         "y": {
          "bdata": "djM0BLVx2wTRcboHgVjzC4O24AvzlnkQ",
          "dtype": "i4"
         },
         "yaxis": "y"
        },
        {
         "hovertemplate": "<b>%{hovertext}</b><br><br>Pais=Bangladesh<br>Año=%{x}<br>Pérdidas (USD)=%{y}<br>Quejas=%{marker.size}<extra></extra>",
         "hovertext": [
          "Bangladesh",
          "Bangladesh",
          "Bangladesh",
          "Bangladesh",
          "Bangladesh",
          "Bangladesh"
         ],
         "legendgroup": "Bangladesh",
         "marker": {
          "color": "#FF6692",
          "size": {
           "bdata": "wi79QJFS3mQcaMFS",
           "dtype": "i2"
          },
          "sizemode": "area",
          "sizeref": 591.85375,
          "symbol": "circle"
         },
         "mode": "markers",
         "name": "Bangladesh",
         "orientation": "v",
         "showlegend": true,
         "type": "scatter",
         "x": {
          "bdata": "4wfkB+UH5gfnB+gH",
          "dtype": "i2"
         },
         "xaxis": "x",
         "y": {
          "bdata": "JlURDI0aWg/twNwX1y0hKFHQKR9HW5Qt",
          "dtype": "i4"
         },
         "yaxis": "y"
        },
        {
         "hovertemplate": "<b>%{hovertext}</b><br><br>Pais=Russian Federation<br>Año=%{x}<br>Pérdidas (USD)=%{y}<br>Quejas=%{marker.size}<extra></extra>",
         "hovertext": [
          "Russian Federation",
          "Russian Federation",
          "Russian Federation",
          "Russian Federation",
          "Russian Federation",
          "Russian Federation"
         ],
         "legendgroup": "Russian Federation",
         "marker": {
          "color": "#B6E880",
          "size": {
           "bdata": "424CAB18BABVCQQAEogEAPdpBAD78QQA",
           "dtype": "i4"
          },
          "sizemode": "area",
          "sizeref": 591.85375,
          "symbol": "circle"
         },
         "mode": "markers",
         "name": "Russian Federation",
         "orientation": "v",
         "showlegend": true,
         "type": "scatter",
         "x": {
          "bdata": "4wfkB+UH5gfnB+gH",
          "dtype": "i2"
         },
         "xaxis": "x",
         "y": [
          2404940557,
          2402832265,
          5932226222,
          7664442141,
          11282113958,
          11161782401
         ],
         "yaxis": "y"
        },
        {
         "hovertemplate": "<b>%{hovertext}</b><br><br>Pais=Belgium<br>Año=%{x}<br>Pérdidas (USD)=%{y}<br>Quejas=%{marker.size}<extra></extra>",
         "hovertext": [
          "Belgium",
          "Belgium",
          "Belgium",
          "Belgium",
          "Belgium",
          "Belgium"
         ],
         "legendgroup": "Belgium",
         "marker": {
          "color": "#FF97FF",
          "size": {
           "bdata": "gxh8KUIuaypILlcw",
           "dtype": "i2"
          },
          "sizemode": "area",
          "sizeref": 591.85375,
          "symbol": "circle"
         },
         "mode": "markers",
         "name": "Belgium",
         "orientation": "v",
         "showlegend": true,
         "type": "scatter",
         "x": {
          "bdata": "4wfkB+UH5gfnB+gH",
          "dtype": "i2"
         },
         "xaxis": "x",
         "y": {
          "bdata": "25OnAwM24QScYn8ICLH7DJ1F+woSrBES",
          "dtype": "i4"
         },
         "yaxis": "y"
        },
        {
         "hovertemplate": "<b>%{hovertext}</b><br><br>Pais=Bulgaria<br>Año=%{x}<br>Pérdidas (USD)=%{y}<br>Quejas=%{marker.size}<extra></extra>",
         "hovertext": [
          "Bulgaria",
          "Bulgaria",
          "Bulgaria",
          "Bulgaria",
          "Bulgaria",
          "Bulgaria"
         ],
         "legendgroup": "Bulgaria",
         "marker": {
          "color": "#FECB52",
          "size": {
           "bdata": "bTdYaIhh5VskZ5Be",
           "dtype": "i2"
          },
          "sizemode": "area",
          "sizeref": 591.85375,
          "symbol": "circle"
         },
         "mode": "markers",
         "name": "Bulgaria",
         "orientation": "v",
         "showlegend": true,
         "type": "scatter",
         "x": {
          "bdata": "4wfkB+UH5gfnB+gH",
          "dtype": "i2"
         },
         "xaxis": "x",
         "y": {
          "bdata": "74MKB37loAZNN9QOzuUxFM+XcxrcRh8f",
          "dtype": "i4"
         },
         "yaxis": "y"
        },
        {
         "hovertemplate": "<b>%{hovertext}</b><br><br>Pais=Bahrain<br>Año=%{x}<br>Pérdidas (USD)=%{y}<br>Quejas=%{marker.size}<extra></extra>",
         "hovertext": [
          "Bahrain",
          "Bahrain",
          "Bahrain",
          "Bahrain",
          "Bahrain",
          "Bahrain"
         ],
         "legendgroup": "Bahrain",
         "marker": {
          "color": "#636efa",
          "size": {
           "bdata": "OhJuJ6Uq4CdNLiUy",
           "dtype": "i2"
          },
          "sizemode": "area",
          "sizeref": 591.85375,
          "symbol": "circle"
         },
         "mode": "markers",
         "name": "Bahrain",
         "orientation": "v",
         "showlegend": true,
         "type": "scatter",
         "x": {
          "bdata": "4wfkB+UH5gfnB+gH",
          "dtype": "i2"
         },
         "xaxis": "x",
         "y": {
          "bdata": "biLSA/8SlwXnddAH+EnuCjXw+w0iLJEQ",
          "dtype": "i4"
         },
         "yaxis": "y"
        },
        {
         "hovertemplate": "<b>%{hovertext}</b><br><br>Pais=Saudi Arabia<br>Año=%{x}<br>Pérdidas (USD)=%{y}<br>Quejas=%{marker.size}<extra></extra>",
         "hovertext": [
          "Saudi Arabia",
          "Saudi Arabia",
          "Saudi Arabia",
          "Saudi Arabia",
          "Saudi Arabia",
          "Saudi Arabia"
         ],
         "legendgroup": "Saudi Arabia",
         "marker": {
          "color": "#EF553B",
          "size": {
           "bdata": "HwIIA1sENQRLBHID",
           "dtype": "i2"
          },
          "sizemode": "area",
          "sizeref": 591.85375,
          "symbol": "circle"
         },
         "mode": "markers",
         "name": "Saudi Arabia",
         "orientation": "v",
         "showlegend": true,
         "type": "scatter",
         "x": {
          "bdata": "4wfkB+UH5gfnB+gH",
          "dtype": "i2"
         },
         "xaxis": "x",
         "y": {
          "bdata": "XdezAJLC1wB0JW0BpeN9AUZjmQL5GTMD",
          "dtype": "i4"
         },
         "yaxis": "y"
        },
        {
         "hovertemplate": "<b>%{hovertext}</b><br><br>Pais=Brazil<br>Año=%{x}<br>Pérdidas (USD)=%{y}<br>Quejas=%{marker.size}<extra></extra>",
         "hovertext": [
          "Brazil",
          "Brazil",
          "Brazil",
          "Brazil",
          "Brazil",
          "Brazil"
         ],
         "legendgroup": "Brazil",
         "marker": {
          "color": "#00cc96",
          "size": {
           "bdata": "jroBAON9AgAlqAIAlF0CANdqAgC9ywMA",
           "dtype": "i4"
          },
          "sizemode": "area",
          "sizeref": 591.85375,
          "symbol": "circle"
         },
         "mode": "markers",
         "name": "Brazil",
         "orientation": "v",
         "showlegend": true,
         "type": "scatter",
         "x": {
          "bdata": "4wfkB+UH5gfnB+gH",
          "dtype": "i2"
         },
         "xaxis": "x",
         "y": [
          571530336,
          749658021,
          894516056,
          1644488725,
          1808030603,
          2590565434
         ],
         "yaxis": "y"
        },
        {
         "hovertemplate": "<b>%{hovertext}</b><br><br>Pais=Seychelles<br>Año=%{x}<br>Pérdidas (USD)=%{y}<br>Quejas=%{marker.size}<extra></extra>",
         "hovertext": [
          "Seychelles",
          "Seychelles",
          "Seychelles",
          "Seychelles",
          "Seychelles",
          "Seychelles"
         ],
         "legendgroup": "Seychelles",
         "marker": {
          "color": "#ab63fa",
          "size": {
           "bdata": "MmwAAC+7AADa3gAAubsAAF3AAACNGwEA",
           "dtype": "i4"
          },
          "sizemode": "area",
          "sizeref": 591.85375,
          "symbol": "circle"
         },
         "mode": "markers",
         "name": "Seychelles",
         "orientation": "v",
         "showlegend": true,
         "type": "scatter",
         "x": {
          "bdata": "4wfkB+UH5gfnB+gH",
          "dtype": "i2"
         },
         "xaxis": "x",
         "y": {
          "bdata": "sVZ5E4uqcBjIeF4m3xLZO/ytHkUqBLBG",
          "dtype": "i4"
         },
         "yaxis": "y"
        },
        {
         "hovertemplate": "<b>%{hovertext}</b><br><br>Pais=Sweden<br>Año=%{x}<br>Pérdidas (USD)=%{y}<br>Quejas=%{marker.size}<extra></extra>",
         "hovertext": [
          "Sweden",
          "Sweden",
          "Sweden",
          "Sweden",
          "Sweden",
          "Sweden"
         ],
         "legendgroup": "Sweden",
         "marker": {
          "color": "#FFA15A",
          "size": {
           "bdata": "4agAAPrwAAD6MwEA308BAFs+AQCfTgEA",
           "dtype": "i4"
          },
          "sizemode": "area",
          "sizeref": 591.85375,
          "symbol": "circle"
         },
         "mode": "markers",
         "name": "Sweden",
         "orientation": "v",
         "showlegend": true,
         "type": "scatter",
         "x": {
          "bdata": "4wfkB+UH5gfnB+gH",
          "dtype": "i2"
         },
         "xaxis": "x",
         "y": {
          "bdata": "EyU1EeHGuBPv9rQkJcqXNIXLOjQwto9L",
          "dtype": "i4"
         },
         "yaxis": "y"
        },
        {
         "hovertemplate": "<b>%{hovertext}</b><br><br>Pais=Singapore<br>Año=%{x}<br>Pérdidas (USD)=%{y}<br>Quejas=%{marker.size}<extra></extra>",
         "hovertext": [
          "Singapore",
          "Singapore",
          "Singapore",
          "Singapore",
          "Singapore",
          "Singapore"
         ],
         "legendgroup": "Singapore",
         "marker": {
          "color": "#19d3f3",
          "size": {
           "bdata": "HvAAADzyAQB0HwIA+hcCAIIyAgCCdwIA",
           "dtype": "i4"
          },
          "sizemode": "area",
          "sizeref": 591.85375,
          "symbol": "circle"
         },
         "mode": "markers",
         "name": "Singapore",
         "orientation": "v",
         "showlegend": true,
         "type": "scatter",
         "x": {
          "bdata": "4wfkB+UH5gfnB+gH",
          "dtype": "i2"
         },
         "xaxis": "x",
         "y": [
          1051420849,
          1102776096,
          1834545540,
          3813537684,
          3828469818,
          4524535787
         ],
         "yaxis": "y"
        },
        {
         "hovertemplate": "<b>%{hovertext}</b><br><br>Pais=Slovenia<br>Año=%{x}<br>Pérdidas (USD)=%{y}<br>Quejas=%{marker.size}<extra></extra>",
         "hovertext": [
          "Slovenia",
          "Slovenia",
          "Slovenia",
          "Slovenia",
          "Slovenia",
          "Slovenia"
         ],
         "legendgroup": "Slovenia",
         "marker": {
          "color": "#FF6692",
          "size": {
           "bdata": "ZgHYAY4CkQKSAikC",
           "dtype": "i2"
          },
          "sizemode": "area",
          "sizeref": 591.85375,
          "symbol": "circle"
         },
         "mode": "markers",
         "name": "Slovenia",
         "orientation": "v",
         "showlegend": true,
         "type": "scatter",
         "x": {
          "bdata": "4wfkB+UH5gfnB+gH",
          "dtype": "i2"
         },
         "xaxis": "x",
         "y": {
          "bdata": "X7xuAID7jABdxdgAQC5UAYIFUwFkZYoC",
          "dtype": "i4"
         },
         "yaxis": "y"
        },
        {
         "hovertemplate": "<b>%{hovertext}</b><br><br>Pais=Belarus<br>Año=%{x}<br>Pérdidas (USD)=%{y}<br>Quejas=%{marker.size}<extra></extra>",
         "hovertext": [
          "Belarus",
          "Belarus",
          "Belarus",
          "Belarus",
          "Belarus",
          "Belarus"
         ],
         "legendgroup": "Belarus",
         "marker": {
          "color": "#B6E880",
          "size": {
           "bdata": "9hVhHzIhyyDPIOgj",
           "dtype": "i2"
          },
          "sizemode": "area",
          "sizeref": 591.85375,
          "symbol": "circle"
         },
         "mode": "markers",
         "name": "Belarus",
         "orientation": "v",
         "showlegend": true,
         "type": "scatter",
         "x": {
          "bdata": "4wfkB+UH5gfnB+gH",
          "dtype": "i2"
         },
         "xaxis": "x",
         "y": {
          "bdata": "83ZnAhytsAI0z4kGW/6TCCRkuQmByToK",
          "dtype": "i4"
         },
         "yaxis": "y"
        },
        {
         "hovertemplate": "<b>%{hovertext}</b><br><br>Pais=Slovakia<br>Año=%{x}<br>Pérdidas (USD)=%{y}<br>Quejas=%{marker.size}<extra></extra>",
         "hovertext": [
          "Slovakia",
          "Slovakia",
          "Slovakia",
          "Slovakia",
          "Slovakia",
          "Slovakia"
         ],
         "legendgroup": "Slovakia",
         "marker": {
          "color": "#FF97FF",
          "size": {
           "bdata": "qgexDvAQHAzYDboO",
           "dtype": "i2"
          },
          "sizemode": "area",
          "sizeref": 591.85375,
          "symbol": "circle"
         },
         "mode": "markers",
         "name": "Slovakia",
         "orientation": "v",
         "showlegend": true,
         "type": "scatter",
         "x": {
          "bdata": "4wfkB+UH5gfnB+gH",
          "dtype": "i2"
         },
         "xaxis": "x",
         "y": {
          "bdata": "stAVAVeJXgExsWUBc/y7ArJgKwSw2MUE",
          "dtype": "i4"
         },
         "yaxis": "y"
        },
        {
         "hovertemplate": "<b>%{hovertext}</b><br><br>Pais=Belize<br>Año=%{x}<br>Pérdidas (USD)=%{y}<br>Quejas=%{marker.size}<extra></extra>",
         "hovertext": [
          "Belize",
          "Belize",
          "Belize",
          "Belize",
          "Belize",
          "Belize"
         ],
         "legendgroup": "Belize",
         "marker": {
          "color": "#FECB52",
          "size": {
           "bdata": "QwEkAmQCOgLTAjwC",
           "dtype": "i2"
          },
          "sizemode": "area",
          "sizeref": 591.85375,
          "symbol": "circle"
         },
         "mode": "markers",
         "name": "Belize",
         "orientation": "v",
         "showlegend": true,
         "type": "scatter",
         "x": {
          "bdata": "4wfkB+UH5gfnB+gH",
          "dtype": "i2"
         },
         "xaxis": "x",
         "y": {
          "bdata": "3x0mABtGPwCfRE8ALqOAAI8FiwCYUL8A",
          "dtype": "i4"
         },
         "yaxis": "y"
        },
        {
         "hovertemplate": "<b>%{hovertext}</b><br><br>Pais=Canada<br>Año=%{x}<br>Pérdidas (USD)=%{y}<br>Quejas=%{marker.size}<extra></extra>",
         "hovertext": [
          "Canada",
          "Canada",
          "Canada",
          "Canada",
          "Canada",
          "Canada"
         ],
         "legendgroup": "Canada",
         "marker": {
          "color": "#636efa",
          "size": {
           "bdata": "L48AAJIbAQA2HwEAGhkBAMzTAAB0GAEA",
           "dtype": "i4"
          },
          "sizemode": "area",
          "sizeref": 591.85375,
          "symbol": "circle"
         },
         "mode": "markers",
         "name": "Canada",
         "orientation": "v",
         "showlegend": true,
         "type": "scatter",
         "x": {
          "bdata": "4wfkB+UH5gfnB+gH",
          "dtype": "i2"
         },
         "xaxis": "x",
         "y": [
          673206760,
          793553716,
          1161857486,
          1857378939,
          2277570974,
          2542329668
         ],
         "yaxis": "y"
        },
        {
         "hovertemplate": "<b>%{hovertext}</b><br><br>Pais=El Salvador<br>Año=%{x}<br>Pérdidas (USD)=%{y}<br>Quejas=%{marker.size}<extra></extra>",
         "hovertext": [
          "El Salvador",
          "El Salvador",
          "El Salvador",
          "El Salvador",
          "El Salvador",
          "El Salvador"
         ],
         "legendgroup": "El Salvador",
         "marker": {
          "color": "#EF553B",
          "size": {
           "bdata": "rQHHAu0COQMXA2gD",
           "dtype": "i2"
          },
          "sizemode": "area",
          "sizeref": 591.85375,
          "symbol": "circle"
         },
         "mode": "markers",
         "name": "El Salvador",
         "orientation": "v",
         "showlegend": true,
         "type": "scatter",
         "x": {
          "bdata": "4wfkB+UH5gfnB+gH",
          "dtype": "i2"
         },
         "xaxis": "x",
         "y": {
          "bdata": "k1t0ABfMZABLPNkAsE0wASnCuwEGTMkB",
          "dtype": "i4"
         },
         "yaxis": "y"
        },
        {
         "hovertemplate": "<b>%{hovertext}</b><br><br>Pais=Switzerland<br>Año=%{x}<br>Pérdidas (USD)=%{y}<br>Quejas=%{marker.size}<extra></extra>",
         "hovertext": [
          "Switzerland",
          "Switzerland",
          "Switzerland",
          "Switzerland",
          "Switzerland",
          "Switzerland"
         ],
         "legendgroup": "Switzerland",
         "marker": {
          "color": "#00cc96",
          "size": {
           "bdata": "9DI8SQg4TT5qUgtY",
           "dtype": "i2"
          },
          "sizemode": "area",
          "sizeref": 591.85375,
          "symbol": "circle"
         },
         "mode": "markers",
         "name": "Switzerland",
         "orientation": "v",
         "showlegend": true,
         "type": "scatter",
         "x": {
          "bdata": "4wfkB+UH5gfnB+gH",
          "dtype": "i2"
         },
         "xaxis": "x",
         "y": {
          "bdata": "rvYbBthDdgdG8jYMsJ1sEyL3GBCmt7Yf",
          "dtype": "i4"
         },
         "yaxis": "y"
        },
        {
         "hovertemplate": "<b>%{hovertext}</b><br><br>Pais=Eswatini<br>Año=%{x}<br>Pérdidas (USD)=%{y}<br>Quejas=%{marker.size}<extra></extra>",
         "hovertext": [
          "Eswatini",
          "Eswatini",
          "Eswatini",
          "Eswatini",
          "Eswatini",
          "Eswatini"
         ],
         "legendgroup": "Eswatini",
         "marker": {
          "color": "#ab63fa",
          "size": {
           "bdata": "lRiAJMck8CJVKOgt",
           "dtype": "i2"
          },
          "sizemode": "area",
          "sizeref": 591.85375,
          "symbol": "circle"
         },
         "mode": "markers",
         "name": "Eswatini",
         "orientation": "v",
         "showlegend": true,
         "type": "scatter",
         "x": {
          "bdata": "4wfkB+UH5gfnB+gH",
          "dtype": "i2"
         },
         "xaxis": "x",
         "y": {
          "bdata": "lKgzAjjCVAN9CGIEwSBoBjTkmQbzBqsJ",
          "dtype": "i4"
         },
         "yaxis": "y"
        },
        {
         "hovertemplate": "<b>%{hovertext}</b><br><br>Pais=Chile<br>Año=%{x}<br>Pérdidas (USD)=%{y}<br>Quejas=%{marker.size}<extra></extra>",
         "hovertext": [
          "Chile",
          "Chile",
          "Chile",
          "Chile",
          "Chile",
          "Chile"
         ],
         "legendgroup": "Chile",
         "marker": {
          "color": "#FFA15A",
          "size": {
           "bdata": "gQXUCkAKkwnaC60N",
           "dtype": "i2"
          },
          "sizemode": "area",
          "sizeref": 591.85375,
          "symbol": "circle"
         },
         "mode": "markers",
         "name": "Chile",
         "orientation": "v",
         "showlegend": true,
         "type": "scatter",
         "x": {
          "bdata": "4wfkB+UH5gfnB+gH",
          "dtype": "i2"
         },
         "xaxis": "x",
         "y": {
          "bdata": "La/0AvZlcAKkr54DM+fJBoOxtwfYwqkL",
          "dtype": "i4"
         },
         "yaxis": "y"
        },
        {
         "hovertemplate": "<b>%{hovertext}</b><br><br>Pais=China<br>Año=%{x}<br>Pérdidas (USD)=%{y}<br>Quejas=%{marker.size}<extra></extra>",
         "hovertext": [
          "China",
          "China",
          "China",
          "China",
          "China",
          "China"
         ],
         "legendgroup": "China",
         "marker": {
          "color": "#19d3f3",
          "size": {
           "bdata": "GdsGAJrECgBdWA4A5KkLAFBZCgDVPw0A",
           "dtype": "i4"
          },
          "sizemode": "area",
          "sizeref": 591.85375,
          "symbol": "circle"
         },
         "mode": "markers",
         "name": "China",
         "orientation": "v",
         "showlegend": true,
         "type": "scatter",
         "x": {
          "bdata": "4wfkB+UH5gfnB+gH",
          "dtype": "i2"
         },
         "xaxis": "x",
         "y": [
          2532007781,
          3061083799,
          5067323422,
          7405960835,
          8997589579,
          11299124337
         ],
         "yaxis": "y"
        },
        {
         "hovertemplate": "<b>%{hovertext}</b><br><br>Pais=Colombia<br>Año=%{x}<br>Pérdidas (USD)=%{y}<br>Quejas=%{marker.size}<extra></extra>",
         "hovertext": [
          "Colombia",
          "Colombia",
          "Colombia",
          "Colombia",
          "Colombia",
          "Colombia"
         ],
         "legendgroup": "Colombia",
         "marker": {
          "color": "#FF6692",
          "size": {
           "bdata": "0Ro+NlM9KT0+Q945",
           "dtype": "i2"
          },
          "sizemode": "area",
          "sizeref": 591.85375,
          "symbol": "circle"
         },
         "mode": "markers",
         "name": "Colombia",
         "orientation": "v",
         "showlegend": true,
         "type": "scatter",
         "x": {
          "bdata": "4wfkB+UH5gfnB+gH",
          "dtype": "i2"
         },
         "xaxis": "x",
         "y": {
          "bdata": "RWgkBP3b0wMUGIIGrHnGCT1XHQz01fwQ",
          "dtype": "i4"
         },
         "yaxis": "y"
        },
        {
         "hovertemplate": "<b>%{hovertext}</b><br><br>Pais=Costa Rica<br>Año=%{x}<br>Pérdidas (USD)=%{y}<br>Quejas=%{marker.size}<extra></extra>",
         "hovertext": [
          "Costa Rica",
          "Costa Rica",
          "Costa Rica",
          "Costa Rica",
          "Costa Rica",
          "Costa Rica"
         ],
         "legendgroup": "Costa Rica",
         "marker": {
          "color": "#B6E880",
          "size": {
           "bdata": "ngGTAi8DAgP1Az8D",
           "dtype": "i2"
          },
          "sizemode": "area",
          "sizeref": 591.85375,
          "symbol": "circle"
         },
         "mode": "markers",
         "name": "Costa Rica",
         "orientation": "v",
         "showlegend": true,
         "type": "scatter",
         "x": {
          "bdata": "4wfkB+UH5gfnB+gH",
          "dtype": "i2"
         },
         "xaxis": "x",
         "y": {
          "bdata": "I7BHAKcvbADAj6oA1IH9AA+5PgHvYG8B",
          "dtype": "i4"
         },
         "yaxis": "y"
        },
        {
         "hovertemplate": "<b>%{hovertext}</b><br><br>Pais=Thailand<br>Año=%{x}<br>Pérdidas (USD)=%{y}<br>Quejas=%{marker.size}<extra></extra>",
         "hovertext": [
          "Thailand",
          "Thailand",
          "Thailand",
          "Thailand",
          "Thailand",
          "Thailand"
         ],
         "legendgroup": "Thailand",
         "marker": {
          "color": "#FF97FF",
          "size": {
           "bdata": "IDMAAARgAAAhcQAAIYMAAOFtAABtegAA",
           "dtype": "i4"
          },
          "sizemode": "area",
          "sizeref": 591.85375,
          "symbol": "circle"
         },
         "mode": "markers",
         "name": "Thailand",
         "orientation": "v",
         "showlegend": true,
         "type": "scatter",
         "x": {
          "bdata": "4wfkB+UH5gfnB+gH",
          "dtype": "i2"
         },
         "xaxis": "x",
         "y": {
          "bdata": "sNNGB4r3xAgfgcYOEZnGEa21Whnjb+Ef",
          "dtype": "i4"
         },
         "yaxis": "y"
        },
        {
         "hovertemplate": "<b>%{hovertext}</b><br><br>Pais=Cyprus<br>Año=%{x}<br>Pérdidas (USD)=%{y}<br>Quejas=%{marker.size}<extra></extra>",
         "hovertext": [
          "Cyprus",
          "Cyprus",
          "Cyprus",
          "Cyprus",
          "Cyprus",
          "Cyprus"
         ],
         "legendgroup": "Cyprus",
         "marker": {
          "color": "#FECB52",
          "size": {
           "bdata": "5wOqBuIGuwYpCS4H",
           "dtype": "i2"
          },
          "sizemode": "area",
          "sizeref": 591.85375,
          "symbol": "circle"
         },
         "mode": "markers",
         "name": "Cyprus",
         "orientation": "v",
         "showlegend": true,
         "type": "scatter",
         "x": {
          "bdata": "4wfkB+UH5gfnB+gH",
          "dtype": "i2"
         },
         "xaxis": "x",
         "y": {
          "bdata": "+sRWAHCTaABtJbkAopMIAbH3JAFFSikB",
          "dtype": "i4"
         },
         "yaxis": "y"
        },
        {
         "hovertemplate": "<b>%{hovertext}</b><br><br>Pais=Czechia<br>Año=%{x}<br>Pérdidas (USD)=%{y}<br>Quejas=%{marker.size}<extra></extra>",
         "hovertext": [
          "Czechia",
          "Czechia",
          "Czechia",
          "Czechia",
          "Czechia",
          "Czechia"
         ],
         "legendgroup": "Czechia",
         "marker": {
          "color": "#636efa",
          "size": {
           "bdata": "A3YAAFK5AADoCgEAGsAAALftAADG6wAA",
           "dtype": "i4"
          },
          "sizemode": "area",
          "sizeref": 591.85375,
          "symbol": "circle"
         },
         "mode": "markers",
         "name": "Czechia",
         "orientation": "v",
         "showlegend": true,
         "type": "scatter",
         "x": {
          "bdata": "4wfkB+UH5gfnB+gH",
          "dtype": "i2"
         },
         "xaxis": "x",
         "y": {
          "bdata": "4KJPCsnvqgwT+rUZb22xHsWhyCP/j84q",
          "dtype": "i4"
         },
         "yaxis": "y"
        },
        {
         "hovertemplate": "<b>%{hovertext}</b><br><br>Pais=Turkey<br>Año=%{x}<br>Pérdidas (USD)=%{y}<br>Quejas=%{marker.size}<extra></extra>",
         "hovertext": [
          "Turkey",
          "Turkey",
          "Turkey",
          "Turkey",
          "Turkey",
          "Turkey"
         ],
         "legendgroup": "Turkey",
         "marker": {
          "color": "#EF553B",
          "size": {
           "bdata": "jUAAAEhuAACfdgAAdYUAAA1+AAAVlAAA",
           "dtype": "i4"
          },
          "sizemode": "area",
          "sizeref": 591.85375,
          "symbol": "circle"
         },
         "mode": "markers",
         "name": "Turkey",
         "orientation": "v",
         "showlegend": true,
         "type": "scatter",
         "x": {
          "bdata": "4wfkB+UH5gfnB+gH",
          "dtype": "i2"
         },
         "xaxis": "x",
         "y": {
          "bdata": "AYBpDLXbcg+QK2YXXfVYJYO6ZS2yD8E1",
          "dtype": "i4"
         },
         "yaxis": "y"
        },
        {
         "hovertemplate": "<b>%{hovertext}</b><br><br>Pais=Germany<br>Año=%{x}<br>Pérdidas (USD)=%{y}<br>Quejas=%{marker.size}<extra></extra>",
         "hovertext": [
          "Germany",
          "Germany",
          "Germany",
          "Germany",
          "Germany",
          "Germany"
         ],
         "legendgroup": "Germany",
         "marker": {
          "color": "#00cc96",
          "size": {
           "bdata": "oHMBAA9EAgDdgAIAUhoDAFO4AgArPQIA",
           "dtype": "i4"
          },
          "sizemode": "area",
          "sizeref": 591.85375,
          "symbol": "circle"
         },
         "mode": "markers",
         "name": "Germany",
         "orientation": "v",
         "showlegend": true,
         "type": "scatter",
         "x": {
          "bdata": "4wfkB+UH5gfnB+gH",
          "dtype": "i2"
         },
         "xaxis": "x",
         "y": [
          1559415577,
          2432407746,
          2226372097,
          3442137764,
          5575128098,
          5279486289
         ],
         "yaxis": "y"
        },
        {
         "hovertemplate": "<b>%{hovertext}</b><br><br>Pais=Taiwan, Province of China<br>Año=%{x}<br>Pérdidas (USD)=%{y}<br>Quejas=%{marker.size}<extra></extra>",
         "hovertext": [
          "Taiwan, Province of China",
          "Taiwan, Province of China",
          "Taiwan, Province of China",
          "Taiwan, Province of China",
          "Taiwan, Province of China",
          "Taiwan, Province of China"
         ],
         "legendgroup": "Taiwan, Province of China",
         "marker": {
          "color": "#ab63fa",
          "size": {
           "bdata": "QEKtdXRb+nHmcYFw",
           "dtype": "i2"
          },
          "sizemode": "area",
          "sizeref": 591.85375,
          "symbol": "circle"
         },
         "mode": "markers",
         "name": "Taiwan, Province of China",
         "orientation": "v",
         "showlegend": true,
         "type": "scatter",
         "x": {
          "bdata": "4wfkB+UH5gfnB+gH",
          "dtype": "i2"
         },
         "xaxis": "x",
         "y": {
          "bdata": "bAs/DGsk2ApHiQ0YCTmgI6h0njOQrUIy",
          "dtype": "i4"
         },
         "yaxis": "y"
        },
        {
         "hovertemplate": "<b>%{hovertext}</b><br><br>Pais=Tanzania, United Republic of<br>Año=%{x}<br>Pérdidas (USD)=%{y}<br>Quejas=%{marker.size}<extra></extra>",
         "hovertext": [
          "Tanzania, United Republic of",
          "Tanzania, United Republic of",
          "Tanzania, United Republic of",
          "Tanzania, United Republic of",
          "Tanzania, United Republic of",
          "Tanzania, United Republic of"
         ],
         "legendgroup": "Tanzania, United Republic of",
         "marker": {
          "color": "#FFA15A",
          "size": {
           "bdata": "7AtLEDUTChGcF2cU",
           "dtype": "i2"
          },
          "sizemode": "area",
          "sizeref": 591.85375,
          "symbol": "circle"
         },
         "mode": "markers",
         "name": "Tanzania, United Republic of",
         "orientation": "v",
         "showlegend": true,
         "type": "scatter",
         "x": {
          "bdata": "4wfkB+UH5gfnB+gH",
          "dtype": "i2"
         },
         "xaxis": "x",
         "y": {
          "bdata": "5+bjADKsRAHKnm0By7XzA+RgmAMUvmAD",
          "dtype": "i4"
         },
         "yaxis": "y"
        },
        {
         "hovertemplate": "<b>%{hovertext}</b><br><br>Pais=Denmark<br>Año=%{x}<br>Pérdidas (USD)=%{y}<br>Quejas=%{marker.size}<extra></extra>",
         "hovertext": [
          "Denmark",
          "Denmark",
          "Denmark",
          "Denmark",
          "Denmark",
          "Denmark"
         ],
         "legendgroup": "Denmark",
         "marker": {
          "color": "#19d3f3",
          "size": {
           "bdata": "Jha3IyEp4ibjJ6gh",
           "dtype": "i2"
          },
          "sizemode": "area",
          "sizeref": 591.85375,
          "symbol": "circle"
         },
         "mode": "markers",
         "name": "Denmark",
         "orientation": "v",
         "showlegend": true,
         "type": "scatter",
         "x": {
          "bdata": "4wfkB+UH5gfnB+gH",
          "dtype": "i2"
         },
         "xaxis": "x",
         "y": {
          "bdata": "51BFAtt/NwKvZbEEOQAmB2ipBQd/QYAH",
          "dtype": "i4"
         },
         "yaxis": "y"
        },
        {
         "hovertemplate": "<b>%{hovertext}</b><br><br>Pais=Dominican Republic<br>Año=%{x}<br>Pérdidas (USD)=%{y}<br>Quejas=%{marker.size}<extra></extra>",
         "hovertext": [
          "Dominican Republic",
          "Dominican Republic",
          "Dominican Republic",
          "Dominican Republic",
          "Dominican Republic",
          "Dominican Republic"
         ],
         "legendgroup": "Dominican Republic",
         "marker": {
          "color": "#FF6692",
          "size": {
           "bdata": "MB74N642BUF4Os07",
           "dtype": "i2"
          },
          "sizemode": "area",
          "sizeref": 591.85375,
          "symbol": "circle"
         },
         "mode": "markers",
         "name": "Dominican Republic",
         "orientation": "v",
         "showlegend": true,
         "type": "scatter",
         "x": {
          "bdata": "4wfkB+UH5gfnB+gH",
          "dtype": "i2"
         },
         "xaxis": "x",
         "y": {
          "bdata": "1pReAiznlALBKkEGeZQcBsO7DAqdk+IJ",
          "dtype": "i4"
         },
         "yaxis": "y"
        },
        {
         "hovertemplate": "<b>%{hovertext}</b><br><br>Pais=Ukraine<br>Año=%{x}<br>Pérdidas (USD)=%{y}<br>Quejas=%{marker.size}<extra></extra>",
         "hovertext": [
          "Ukraine",
          "Ukraine",
          "Ukraine",
          "Ukraine",
          "Ukraine",
          "Ukraine"
         ],
         "legendgroup": "Ukraine",
         "marker": {
          "color": "#B6E880",
          "size": {
           "bdata": "XQABAGSPAQCurgEAMrMBABzLAQCecgIA",
           "dtype": "i4"
          },
          "sizemode": "area",
          "sizeref": 591.85375,
          "symbol": "circle"
         },
         "mode": "markers",
         "name": "Ukraine",
         "orientation": "v",
         "showlegend": true,
         "type": "scatter",
         "x": {
          "bdata": "4wfkB+UH5gfnB+gH",
          "dtype": "i2"
         },
         "xaxis": "x",
         "y": [
          1290652585,
          1449674414,
          2590458387,
          3585569523,
          4171982394,
          5161336915
         ],
         "yaxis": "y"
        },
        {
         "hovertemplate": "<b>%{hovertext}</b><br><br>Pais=Uganda<br>Año=%{x}<br>Pérdidas (USD)=%{y}<br>Quejas=%{marker.size}<extra></extra>",
         "hovertext": [
          "Uganda",
          "Uganda",
          "Uganda",
          "Uganda",
          "Uganda",
          "Uganda"
         ],
         "legendgroup": "Uganda",
         "marker": {
          "color": "#FF97FF",
          "size": {
           "bdata": "4gGMBCIE2wMUBaQE",
           "dtype": "i2"
          },
          "sizemode": "area",
          "sizeref": 591.85375,
          "symbol": "circle"
         },
         "mode": "markers",
         "name": "Uganda",
         "orientation": "v",
         "showlegend": true,
         "type": "scatter",
         "x": {
          "bdata": "4wfkB+UH5gfnB+gH",
          "dtype": "i2"
         },
         "xaxis": "x",
         "y": {
          "bdata": "p3Q7AJZwRQBJCF0ApLSlADixBAHwOfEA",
          "dtype": "i4"
         },
         "yaxis": "y"
        },
        {
         "hovertemplate": "<b>%{hovertext}</b><br><br>Pais=United States<br>Año=%{x}<br>Pérdidas (USD)=%{y}<br>Quejas=%{marker.size}<extra></extra>",
         "hovertext": [
          "United States",
          "United States",
          "United States",
          "United States",
          "United States",
          "United States"
         ],
         "legendgroup": "United States",
         "marker": {
          "color": "#FECB52",
          "size": {
           "bdata": "Q4kGAOsmDACDqAwAtbwLAF5hDQAWcw4A",
           "dtype": "i4"
          },
          "sizemode": "area",
          "sizeref": 591.85375,
          "symbol": "circle"
         },
         "mode": "markers",
         "name": "United States",
         "orientation": "v",
         "showlegend": true,
         "type": "scatter",
         "x": {
          "bdata": "4wfkB+UH5gfnB+gH",
          "dtype": "i2"
         },
         "xaxis": "x",
         "y": [
          3302744547,
          3906715208,
          6466618579,
          10304392551,
          11916782073,
          14457011740
         ],
         "yaxis": "y"
        },
        {
         "hovertemplate": "<b>%{hovertext}</b><br><br>Pais=Ecuador<br>Año=%{x}<br>Pérdidas (USD)=%{y}<br>Quejas=%{marker.size}<extra></extra>",
         "hovertext": [
          "Ecuador",
          "Ecuador",
          "Ecuador",
          "Ecuador",
          "Ecuador",
          "Ecuador"
         ],
         "legendgroup": "Ecuador",
         "marker": {
          "color": "#636efa",
          "size": {
           "bdata": "Uhj7H5IncyJ3JHYw",
           "dtype": "i2"
          },
          "sizemode": "area",
          "sizeref": 591.85375,
          "symbol": "circle"
         },
         "mode": "markers",
         "name": "Ecuador",
         "orientation": "v",
         "showlegend": true,
         "type": "scatter",
         "x": {
          "bdata": "4wfkB+UH5gfnB+gH",
          "dtype": "i2"
         },
         "xaxis": "x",
         "y": {
          "bdata": "yM9EAtcE0gIVTH4EncabB3+UeAhfk8EL",
          "dtype": "i4"
         },
         "yaxis": "y"
        },
        {
         "hovertemplate": "<b>%{hovertext}</b><br><br>Pais=Estonia<br>Año=%{x}<br>Pérdidas (USD)=%{y}<br>Quejas=%{marker.size}<extra></extra>",
         "hovertext": [
          "Estonia",
          "Estonia",
          "Estonia",
          "Estonia",
          "Estonia",
          "Estonia"
         ],
         "legendgroup": "Estonia",
         "marker": {
          "color": "#EF553B",
          "size": {
           "bdata": "8CWEPqsygzrfR05O",
           "dtype": "i2"
          },
          "sizemode": "area",
          "sizeref": 591.85375,
          "symbol": "circle"
         },
         "mode": "markers",
         "name": "Estonia",
         "orientation": "v",
         "showlegend": true,
         "type": "scatter",
         "x": {
          "bdata": "4wfkB+UH5gfnB+gH",
          "dtype": "i2"
         },
         "xaxis": "x",
         "y": {
          "bdata": "CBDHA3Bo4gR4QR8Gd/AeCs+mkQw0dY0O",
          "dtype": "i4"
         },
         "yaxis": "y"
        },
        {
         "hovertemplate": "<b>%{hovertext}</b><br><br>Pais=Egypt<br>Año=%{x}<br>Pérdidas (USD)=%{y}<br>Quejas=%{marker.size}<extra></extra>",
         "hovertext": [
          "Egypt",
          "Egypt",
          "Egypt",
          "Egypt",
          "Egypt",
          "Egypt"
         ],
         "legendgroup": "Egypt",
         "marker": {
          "color": "#00cc96",
          "size": {
           "bdata": "kgWzB6IKqAiyCYAK",
           "dtype": "i2"
          },
          "sizemode": "area",
          "sizeref": 591.85375,
          "symbol": "circle"
         },
         "mode": "markers",
         "name": "Egypt",
         "orientation": "v",
         "showlegend": true,
         "type": "scatter",
         "x": {
          "bdata": "4wfkB+UH5gfnB+gH",
          "dtype": "i2"
         },
         "xaxis": "x",
         "y": {
          "bdata": "QbtEAU0cwgGR+S0Cn7tEA9puGQQTAukF",
          "dtype": "i4"
         },
         "yaxis": "y"
        },
        {
         "hovertemplate": "<b>%{hovertext}</b><br><br>Pais=Uzbekistan<br>Año=%{x}<br>Pérdidas (USD)=%{y}<br>Quejas=%{marker.size}<extra></extra>",
         "hovertext": [
          "Uzbekistan",
          "Uzbekistan",
          "Uzbekistan",
          "Uzbekistan",
          "Uzbekistan",
          "Uzbekistan"
         ],
         "legendgroup": "Uzbekistan",
         "marker": {
          "color": "#ab63fa",
          "size": {
           "bdata": "2wIZBbMFzwWGBd4H",
           "dtype": "i2"
          },
          "sizemode": "area",
          "sizeref": 591.85375,
          "symbol": "circle"
         },
         "mode": "markers",
         "name": "Uzbekistan",
         "orientation": "v",
         "showlegend": true,
         "type": "scatter",
         "x": {
          "bdata": "4wfkB+UH5gfnB+gH",
          "dtype": "i2"
         },
         "xaxis": "x",
         "y": {
          "bdata": "oViaACvktQAPfUYBzT3UAWtr5QHwUhsD",
          "dtype": "i4"
         },
         "yaxis": "y"
        },
        {
         "hovertemplate": "<b>%{hovertext}</b><br><br>Pais=Spain<br>Año=%{x}<br>Pérdidas (USD)=%{y}<br>Quejas=%{marker.size}<extra></extra>",
         "hovertext": [
          "Spain",
          "Spain",
          "Spain",
          "Spain",
          "Spain",
          "Spain"
         ],
         "legendgroup": "Spain",
         "marker": {
          "color": "#FFA15A",
          "size": {
           "bdata": "83sAAAzwAAAiKwEALBYBAI8OAQDZTgEA",
           "dtype": "i4"
          },
          "sizemode": "area",
          "sizeref": 591.85375,
          "symbol": "circle"
         },
         "mode": "markers",
         "name": "Spain",
         "orientation": "v",
         "showlegend": true,
         "type": "scatter",
         "x": {
          "bdata": "4wfkB+UH5gfnB+gH",
          "dtype": "i2"
         },
         "xaxis": "x",
         "y": {
          "bdata": "hvL1E/2/mhzCvEMpeu06Pflad0v8Ki1K",
          "dtype": "i4"
         },
         "yaxis": "y"
        },
        {
         "hovertemplate": "<b>%{hovertext}</b><br><br>Pais=Venezuela, Bolivarian Republic of<br>Año=%{x}<br>Pérdidas (USD)=%{y}<br>Quejas=%{marker.size}<extra></extra>",
         "hovertext": [
          "Venezuela, Bolivarian Republic of",
          "Venezuela, Bolivarian Republic of",
          "Venezuela, Bolivarian Republic of",
          "Venezuela, Bolivarian Republic of",
          "Venezuela, Bolivarian Republic of",
          "Venezuela, Bolivarian Republic of"
         ],
         "legendgroup": "Venezuela, Bolivarian Republic of",
         "marker": {
          "color": "#19d3f3",
          "size": {
           "bdata": "dR3MLpFA+0J5LjtR",
           "dtype": "i2"
          },
          "sizemode": "area",
          "sizeref": 591.85375,
          "symbol": "circle"
         },
         "mode": "markers",
         "name": "Venezuela, Bolivarian Republic of",
         "orientation": "v",
         "showlegend": true,
         "type": "scatter",
         "x": {
          "bdata": "4wfkB+UH5gfnB+gH",
          "dtype": "i2"
         },
         "xaxis": "x",
         "y": {
          "bdata": "x4C7BH/VyAYIZgwKB6mpCvKXShKF0I8V",
          "dtype": "i4"
         },
         "yaxis": "y"
        },
        {
         "hovertemplate": "<b>%{hovertext}</b><br><br>Pais=Virgin Islands, British<br>Año=%{x}<br>Pérdidas (USD)=%{y}<br>Quejas=%{marker.size}<extra></extra>",
         "hovertext": [
          "Virgin Islands, British",
          "Virgin Islands, British",
          "Virgin Islands, British",
          "Virgin Islands, British",
          "Virgin Islands, British",
          "Virgin Islands, British"
         ],
         "legendgroup": "Virgin Islands, British",
         "marker": {
          "color": "#FF6692",
          "size": {
           "bdata": "LQMwB8sHOgdLCJII",
           "dtype": "i2"
          },
          "sizemode": "area",
          "sizeref": 591.85375,
          "symbol": "circle"
         },
         "mode": "markers",
         "name": "Virgin Islands, British",
         "orientation": "v",
         "showlegend": true,
         "type": "scatter",
         "x": {
          "bdata": "4wfkB+UH5gfnB+gH",
          "dtype": "i2"
         },
         "xaxis": "x",
         "y": {
          "bdata": "/EHYAP/IpgCMAPwBbG7jAn9Q4wIaD6gC",
          "dtype": "i4"
         },
         "yaxis": "y"
        },
        {
         "hovertemplate": "<b>%{hovertext}</b><br><br>Pais=Viet Nam<br>Año=%{x}<br>Pérdidas (USD)=%{y}<br>Quejas=%{marker.size}<extra></extra>",
         "hovertext": [
          "Viet Nam",
          "Viet Nam",
          "Viet Nam",
          "Viet Nam",
          "Viet Nam",
          "Viet Nam"
         ],
         "legendgroup": "Viet Nam",
         "marker": {
          "color": "#B6E880",
          "size": {
           "bdata": "AVQAAC/PAAB3ngAAII0AANPIAAASxgAA",
           "dtype": "i4"
          },
          "sizemode": "area",
          "sizeref": 591.85375,
          "symbol": "circle"
         },
         "mode": "markers",
         "name": "Viet Nam",
         "orientation": "v",
         "showlegend": true,
         "type": "scatter",
         "x": {
          "bdata": "4wfkB+UH5gfnB+gH",
          "dtype": "i2"
         },
         "xaxis": "x",
         "y": {
          "bdata": "Tra3FhJ8LxdqwjwlGpHqOZL9jUUsmg9V",
          "dtype": "i4"
         },
         "yaxis": "y"
        },
        {
         "hovertemplate": "<b>%{hovertext}</b><br><br>Pais=Finland<br>Año=%{x}<br>Pérdidas (USD)=%{y}<br>Quejas=%{marker.size}<extra></extra>",
         "hovertext": [
          "Finland",
          "Finland",
          "Finland",
          "Finland",
          "Finland",
          "Finland"
         ],
         "legendgroup": "Finland",
         "marker": {
          "color": "#FF97FF",
          "size": {
           "bdata": "WzhqWpJEynMmaSJl",
           "dtype": "i2"
          },
          "sizemode": "area",
          "sizeref": 591.85375,
          "symbol": "circle"
         },
         "mode": "markers",
         "name": "Finland",
         "orientation": "v",
         "showlegend": true,
         "type": "scatter",
         "x": {
          "bdata": "4wfkB+UH5gfnB+gH",
          "dtype": "i2"
         },
         "xaxis": "x",
         "y": {
          "bdata": "Aym2Cg91dQzmI18aqnaVHszYeCrxoQcr",
          "dtype": "i4"
         },
         "yaxis": "y"
        },
        {
         "hovertemplate": "<b>%{hovertext}</b><br><br>Pais=France<br>Año=%{x}<br>Pérdidas (USD)=%{y}<br>Quejas=%{marker.size}<extra></extra>",
         "hovertext": [
          "France",
          "France",
          "France",
          "France",
          "France",
          "France"
         ],
         "legendgroup": "France",
         "marker": {
          "color": "#FECB52",
          "size": {
           "bdata": "KnQCAJg4AwCeHQMATs4CAJOJBADALwMA",
           "dtype": "i4"
          },
          "sizemode": "area",
          "sizeref": 591.85375,
          "symbol": "circle"
         },
         "mode": "markers",
         "name": "France",
         "orientation": "v",
         "showlegend": true,
         "type": "scatter",
         "x": {
          "bdata": "4wfkB+UH5gfnB+gH",
          "dtype": "i2"
         },
         "xaxis": "x",
         "y": [
          967758695,
          1099523432,
          2305495866,
          3043377444,
          3212220994,
          4025659986
         ],
         "yaxis": "y"
        },
        {
         "hovertemplate": "<b>%{hovertext}</b><br><br>Pais=United Kingdom<br>Año=%{x}<br>Pérdidas (USD)=%{y}<br>Quejas=%{marker.size}<extra></extra>",
         "hovertext": [
          "United Kingdom",
          "United Kingdom",
          "United Kingdom",
          "United Kingdom",
          "United Kingdom",
          "United Kingdom"
         ],
         "legendgroup": "United Kingdom",
         "marker": {
          "color": "#636efa",
          "size": {
           "bdata": "Y8oCAGeFBgAvdQUA+ysFALrGBQCHWQcA",
           "dtype": "i4"
          },
          "sizemode": "area",
          "sizeref": 591.85375,
          "symbol": "circle"
         },
         "mode": "markers",
         "name": "United Kingdom",
         "orientation": "v",
         "showlegend": true,
         "type": "scatter",
         "x": {
          "bdata": "4wfkB+UH5gfnB+gH",
          "dtype": "i2"
         },
         "xaxis": "x",
         "y": [
          1342411802,
          1590816673,
          2740678986,
          5037818889,
          3906023589,
          6379113995
         ],
         "yaxis": "y"
        },
        {
         "hovertemplate": "<b>%{hovertext}</b><br><br>Pais=Georgia<br>Año=%{x}<br>Pérdidas (USD)=%{y}<br>Quejas=%{marker.size}<extra></extra>",
         "hovertext": [
          "Georgia",
          "Georgia",
          "Georgia",
          "Georgia",
          "Georgia",
          "Georgia"
         ],
         "legendgroup": "Georgia",
         "marker": {
          "color": "#EF553B",
          "size": {
           "bdata": "bgi9CoULyArBDOoM",
           "dtype": "i2"
          },
          "sizemode": "area",
          "sizeref": 591.85375,
          "symbol": "circle"
         },
         "mode": "markers",
         "name": "Georgia",
         "orientation": "v",
         "showlegend": true,
         "type": "scatter",
         "x": {
          "bdata": "4wfkB+UH5gfnB+gH",
          "dtype": "i2"
         },
         "xaxis": "x",
         "y": {
          "bdata": "1qKrAKo8zwDK3lwBOqwFAlBtCgLaidoC",
          "dtype": "i4"
         },
         "yaxis": "y"
        },
        {
         "hovertemplate": "<b>%{hovertext}</b><br><br>Pais=Ghana<br>Año=%{x}<br>Pérdidas (USD)=%{y}<br>Quejas=%{marker.size}<extra></extra>",
         "hovertext": [
          "Ghana",
          "Ghana",
          "Ghana",
          "Ghana",
          "Ghana",
          "Ghana"
         ],
         "legendgroup": "Ghana",
         "marker": {
          "color": "#00cc96",
          "size": {
           "bdata": "zwFKA2IDLAP9As0E",
           "dtype": "i2"
          },
          "sizemode": "area",
          "sizeref": 591.85375,
          "symbol": "circle"
         },
         "mode": "markers",
         "name": "Ghana",
         "orientation": "v",
         "showlegend": true,
         "type": "scatter",
         "x": {
          "bdata": "4wfkB+UH5gfnB+gH",
          "dtype": "i2"
         },
         "xaxis": "x",
         "y": {
          "bdata": "EiJdANQ2YwCepKoAtokxAVjrTwEPpWoB",
          "dtype": "i4"
         },
         "yaxis": "y"
        },
        {
         "hovertemplate": "<b>%{hovertext}</b><br><br>Pais=Guinea<br>Año=%{x}<br>Pérdidas (USD)=%{y}<br>Quejas=%{marker.size}<extra></extra>",
         "hovertext": [
          "Guinea",
          "Guinea",
          "Guinea",
          "Guinea",
          "Guinea",
          "Guinea"
         ],
         "legendgroup": "Guinea",
         "marker": {
          "color": "#ab63fa",
          "size": {
           "bdata": "PAEiAhACVQKPApQC",
           "dtype": "i2"
          },
          "sizemode": "area",
          "sizeref": 591.85375,
          "symbol": "circle"
         },
         "mode": "markers",
         "name": "Guinea",
         "orientation": "v",
         "showlegend": true,
         "type": "scatter",
         "x": {
          "bdata": "4wfkB+UH5gfnB+gH",
          "dtype": "i2"
         },
         "xaxis": "x",
         "y": {
          "bdata": "z+YsAKlsRADruVMA+3BlAIrphwALp7MA",
          "dtype": "i4"
         },
         "yaxis": "y"
        },
        {
         "hovertemplate": "<b>%{hovertext}</b><br><br>Pais=Greece<br>Año=%{x}<br>Pérdidas (USD)=%{y}<br>Quejas=%{marker.size}<extra></extra>",
         "hovertext": [
          "Greece",
          "Greece",
          "Greece",
          "Greece",
          "Greece",
          "Greece"
         ],
         "legendgroup": "Greece",
         "marker": {
          "color": "#FFA15A",
          "size": {
           "bdata": "mRb6KOMnDCZhKtgg",
           "dtype": "i2"
          },
          "sizemode": "area",
          "sizeref": 591.85375,
          "symbol": "circle"
         },
         "mode": "markers",
         "name": "Greece",
         "orientation": "v",
         "showlegend": true,
         "type": "scatter",
         "x": {
          "bdata": "4wfkB+UH5gfnB+gH",
          "dtype": "i2"
         },
         "xaxis": "x",
         "y": {
          "bdata": "I1h5AvcDswIohfYF4kHbBgblCQgTaVwJ",
          "dtype": "i4"
         },
         "yaxis": "y"
        },
        {
         "hovertemplate": "<b>%{hovertext}</b><br><br>Pais=Guatemala<br>Año=%{x}<br>Pérdidas (USD)=%{y}<br>Quejas=%{marker.size}<extra></extra>",
         "hovertext": [
          "Guatemala",
          "Guatemala",
          "Guatemala",
          "Guatemala",
          "Guatemala",
          "Guatemala"
         ],
         "legendgroup": "Guatemala",
         "marker": {
          "color": "#19d3f3",
          "size": {
           "bdata": "1w7WGDESEBkZGCUb",
           "dtype": "i2"
          },
          "sizemode": "area",
          "sizeref": 591.85375,
          "symbol": "circle"
         },
         "mode": "markers",
         "name": "Guatemala",
         "orientation": "v",
         "showlegend": true,
         "type": "scatter",
         "x": {
          "bdata": "4wfkB+UH5gfnB+gH",
          "dtype": "i2"
         },
         "xaxis": "x",
         "y": {
          "bdata": "o7FjAckukQGnrBgDDT8qA3+VDAV71zkE",
          "dtype": "i4"
         },
         "yaxis": "y"
        },
        {
         "hovertemplate": "<b>%{hovertext}</b><br><br>Pais=Hong Kong<br>Año=%{x}<br>Pérdidas (USD)=%{y}<br>Quejas=%{marker.size}<extra></extra>",
         "hovertext": [
          "Hong Kong",
          "Hong Kong",
          "Hong Kong",
          "Hong Kong",
          "Hong Kong",
          "Hong Kong"
         ],
         "legendgroup": "Hong Kong",
         "marker": {
          "color": "#FF6692",
          "size": {
           "bdata": "A70BAK2hAwAPcAMACeMDAFWyAwAAywMA",
           "dtype": "i4"
          },
          "sizemode": "area",
          "sizeref": 591.85375,
          "symbol": "circle"
         },
         "mode": "markers",
         "name": "Hong Kong",
         "orientation": "v",
         "showlegend": true,
         "type": "scatter",
         "x": {
          "bdata": "4wfkB+UH5gfnB+gH",
          "dtype": "i2"
         },
         "xaxis": "x",
         "y": [
          746613837,
          823420937,
          1732897646,
          2360701043,
          3458797505,
          2863308167
         ],
         "yaxis": "y"
        },
        {
         "hovertemplate": "<b>%{hovertext}</b><br><br>Pais=Honduras<br>Año=%{x}<br>Pérdidas (USD)=%{y}<br>Quejas=%{marker.size}<extra></extra>",
         "hovertext": [
          "Honduras",
          "Honduras",
          "Honduras",
          "Honduras",
          "Honduras",
          "Honduras"
         ],
         "legendgroup": "Honduras",
         "marker": {
          "color": "#B6E880",
          "size": {
           "bdata": "9B0sMm002DENNZQn",
           "dtype": "i2"
          },
          "sizemode": "area",
          "sizeref": 591.85375,
          "symbol": "circle"
         },
         "mode": "markers",
         "name": "Honduras",
         "orientation": "v",
         "showlegend": true,
         "type": "scatter",
         "x": {
          "bdata": "4wfkB+UH5gfnB+gH",
          "dtype": "i2"
         },
         "xaxis": "x",
         "y": {
          "bdata": "7yCmBJsPXQUrjBkJwbFnDdJPxw8WY9MQ",
          "dtype": "i4"
         },
         "yaxis": "y"
        },
        {
         "hovertemplate": "<b>%{hovertext}</b><br><br>Pais=Croatia<br>Año=%{x}<br>Pérdidas (USD)=%{y}<br>Quejas=%{marker.size}<extra></extra>",
         "hovertext": [
          "Croatia",
          "Croatia",
          "Croatia",
          "Croatia",
          "Croatia",
          "Croatia"
         ],
         "legendgroup": "Croatia",
         "marker": {
          "color": "#FF97FF",
          "size": {
           "bdata": "vAV6BhYJVwfoCO4L",
           "dtype": "i2"
          },
          "sizemode": "area",
          "sizeref": 591.85375,
          "symbol": "circle"
         },
         "mode": "markers",
         "name": "Croatia",
         "orientation": "v",
         "showlegend": true,
         "type": "scatter",
         "x": {
          "bdata": "4wfkB+UH5gfnB+gH",
          "dtype": "i2"
         },
         "xaxis": "x",
         "y": {
          "bdata": "4Xl7AEmroQAPxR4BGTh0AZJGuAGSrQsC",
          "dtype": "i4"
         },
         "yaxis": "y"
        },
        {
         "hovertemplate": "<b>%{hovertext}</b><br><br>Pais=Yemen<br>Año=%{x}<br>Pérdidas (USD)=%{y}<br>Quejas=%{marker.size}<extra></extra>",
         "hovertext": [
          "Yemen",
          "Yemen",
          "Yemen",
          "Yemen",
          "Yemen",
          "Yemen"
         ],
         "legendgroup": "Yemen",
         "marker": {
          "color": "#FECB52",
          "size": {
           "bdata": "2ABqAYcB4gGQAUoB",
           "dtype": "i2"
          },
          "sizemode": "area",
          "sizeref": 591.85375,
          "symbol": "circle"
         },
         "mode": "markers",
         "name": "Yemen",
         "orientation": "v",
         "showlegend": true,
         "type": "scatter",
         "x": {
          "bdata": "4wfkB+UH5gfnB+gH",
          "dtype": "i2"
         },
         "xaxis": "x",
         "y": {
          "bdata": "QWopAB3KKACYLV8A0YCVALCCkABcbZUA",
          "dtype": "i4"
         },
         "yaxis": "y"
        },
        {
         "hovertemplate": "<b>%{hovertext}</b><br><br>Pais=Hungary<br>Año=%{x}<br>Pérdidas (USD)=%{y}<br>Quejas=%{marker.size}<extra></extra>",
         "hovertext": [
          "Hungary",
          "Hungary",
          "Hungary",
          "Hungary",
          "Hungary",
          "Hungary"
         ],
         "legendgroup": "Hungary",
         "marker": {
          "color": "#636efa",
          "size": {
           "bdata": "ew5TGPYYdhKEEfUb",
           "dtype": "i2"
          },
          "sizemode": "area",
          "sizeref": 591.85375,
          "symbol": "circle"
         },
         "mode": "markers",
         "name": "Hungary",
         "orientation": "v",
         "showlegend": true,
         "type": "scatter",
         "x": {
          "bdata": "4wfkB+UH5gfnB+gH",
          "dtype": "i2"
         },
         "xaxis": "x",
         "y": {
          "bdata": "PVd8BLTfogMnN2EIZyvYC0+0axI6IVoQ",
          "dtype": "i4"
         },
         "yaxis": "y"
        },
        {
         "hovertemplate": "<b>%{hovertext}</b><br><br>Pais=Indonesia<br>Año=%{x}<br>Pérdidas (USD)=%{y}<br>Quejas=%{marker.size}<extra></extra>",
         "hovertext": [
          "Indonesia",
          "Indonesia",
          "Indonesia",
          "Indonesia",
          "Indonesia",
          "Indonesia"
         ],
         "legendgroup": "Indonesia",
         "marker": {
          "color": "#EF553B",
          "size": {
           "bdata": "3X0AACMIAQAU4gAA69sAAAvoAACl0gAA",
           "dtype": "i4"
          },
          "sizemode": "area",
          "sizeref": 591.85375,
          "symbol": "circle"
         },
         "mode": "markers",
         "name": "Indonesia",
         "orientation": "v",
         "showlegend": true,
         "type": "scatter",
         "x": {
          "bdata": "4wfkB+UH5gfnB+gH",
          "dtype": "i2"
         },
         "xaxis": "x",
         "y": [
          437808210,
          598180089,
          972015041,
          1465738977,
          2089001077,
          2432253507
         ],
         "yaxis": "y"
        },
        {
         "hovertemplate": "<b>%{hovertext}</b><br><br>Pais=Ireland<br>Año=%{x}<br>Pérdidas (USD)=%{y}<br>Quejas=%{marker.size}<extra></extra>",
         "hovertext": [
          "Ireland",
          "Ireland",
          "Ireland",
          "Ireland",
          "Ireland",
          "Ireland"
         ],
         "legendgroup": "Ireland",
         "marker": {
          "color": "#00cc96",
          "size": {
           "bdata": "Mj9ZVqZjkmKBbiV7",
           "dtype": "i2"
          },
          "sizemode": "area",
          "sizeref": 591.85375,
          "symbol": "circle"
         },
         "mode": "markers",
         "name": "Ireland",
         "orientation": "v",
         "showlegend": true,
         "type": "scatter",
         "x": {
          "bdata": "4wfkB+UH5gfnB+gH",
          "dtype": "i2"
         },
         "xaxis": "x",
         "y": {
          "bdata": "mxzZEpJkxhYignEgWa3vLeMyEjOlY2NZ",
          "dtype": "i4"
         },
         "yaxis": "y"
        },
        {
         "hovertemplate": "<b>%{hovertext}</b><br><br>Pais=Israel<br>Año=%{x}<br>Pérdidas (USD)=%{y}<br>Quejas=%{marker.size}<extra></extra>",
         "hovertext": [
          "Israel",
          "Israel",
          "Israel",
          "Israel",
          "Israel",
          "Israel"
         ],
         "legendgroup": "Israel",
         "marker": {
          "color": "#ab63fa",
          "size": {
           "bdata": "vh5CJvs0ujWGOvI+",
           "dtype": "i2"
          },
          "sizemode": "area",
          "sizeref": 591.85375,
          "symbol": "circle"
         },
         "mode": "markers",
         "name": "Israel",
         "orientation": "v",
         "showlegend": true,
         "type": "scatter",
         "x": {
          "bdata": "4wfkB+UH5gfnB+gH",
          "dtype": "i2"
         },
         "xaxis": "x",
         "y": {
          "bdata": "0ztWBDUMTgVHnpYG6gBzDXvQxBDGsYES",
          "dtype": "i4"
         },
         "yaxis": "y"
        },
        {
         "hovertemplate": "<b>%{hovertext}</b><br><br>Pais=India<br>Año=%{x}<br>Pérdidas (USD)=%{y}<br>Quejas=%{marker.size}<extra></extra>",
         "hovertext": [
          "India",
          "India",
          "India",
          "India",
          "India",
          "India"
         ],
         "legendgroup": "India",
         "marker": {
          "color": "#FFA15A",
          "size": {
           "bdata": "KcUAAHqYAQC+XQEAJEQBAFN4AQAsfwEA",
           "dtype": "i4"
          },
          "sizemode": "area",
          "sizeref": 591.85375,
          "symbol": "circle"
         },
         "mode": "markers",
         "name": "India",
         "orientation": "v",
         "showlegend": true,
         "type": "scatter",
         "x": {
          "bdata": "4wfkB+UH5gfnB+gH",
          "dtype": "i2"
         },
         "xaxis": "x",
         "y": [
          989343380,
          1155524769,
          2062881042,
          2898740652,
          3640042741,
          4164403367
         ],
         "yaxis": "y"
        },
        {
         "hovertemplate": "<b>%{hovertext}</b><br><br>Pais=South Africa<br>Año=%{x}<br>Pérdidas (USD)=%{y}<br>Quejas=%{marker.size}<extra></extra>",
         "hovertext": [
          "South Africa",
          "South Africa",
          "South Africa",
          "South Africa",
          "South Africa",
          "South Africa"
         ],
         "legendgroup": "South Africa",
         "marker": {
          "color": "#19d3f3",
          "size": {
           "bdata": "zqsAAFRcAQB7NQEANiwBAD4RAQBnYQEA",
           "dtype": "i4"
          },
          "sizemode": "area",
          "sizeref": 591.85375,
          "symbol": "circle"
         },
         "mode": "markers",
         "name": "South Africa",
         "orientation": "v",
         "showlegend": true,
         "type": "scatter",
         "x": {
          "bdata": "4wfkB+UH5gfnB+gH",
          "dtype": "i2"
         },
         "xaxis": "x",
         "y": [
          622385234,
          867946291,
          1324036298,
          2082730216,
          2521801141,
          3044360891
         ],
         "yaxis": "y"
        },
        {
         "hovertemplate": "<b>%{hovertext}</b><br><br>Pais=Iraq<br>Año=%{x}<br>Pérdidas (USD)=%{y}<br>Quejas=%{marker.size}<extra></extra>",
         "hovertext": [
          "Iraq",
          "Iraq",
          "Iraq",
          "Iraq",
          "Iraq",
          "Iraq"
         ],
         "legendgroup": "Iraq",
         "marker": {
          "color": "#FF6692",
          "size": {
           "bdata": "kH4AAH/cAAC96QAA0qAAAMn2AACnEQEA",
           "dtype": "i4"
          },
          "sizemode": "area",
          "sizeref": 591.85375,
          "symbol": "circle"
         },
         "mode": "markers",
         "name": "Iraq",
         "orientation": "v",
         "showlegend": true,
         "type": "scatter",
         "x": {
          "bdata": "4wfkB+UH5gfnB+gH",
          "dtype": "i2"
         },
         "xaxis": "x",
         "y": {
          "bdata": "cX5kCwe5cgvFTLISJHkWJG5jPh/UF90v",
          "dtype": "i4"
         },
         "yaxis": "y"
        },
        {
         "hovertemplate": "<b>%{hovertext}</b><br><br>Pais=Iran, Islamic Republic of<br>Año=%{x}<br>Pérdidas (USD)=%{y}<br>Quejas=%{marker.size}<extra></extra>",
         "hovertext": [
          "Iran, Islamic Republic of",
          "Iran, Islamic Republic of",
          "Iran, Islamic Republic of",
          "Iran, Islamic Republic of",
          "Iran, Islamic Republic of",
          "Iran, Islamic Republic of"
         ],
         "legendgroup": "Iran, Islamic Republic of",
         "marker": {
          "color": "#B6E880",
          "size": {
           "bdata": "AbUAAB/xAAAiJAEAxKMAAPAQAQCHIQEA",
           "dtype": "i4"
          },
          "sizemode": "area",
          "sizeref": 591.85375,
          "symbol": "circle"
         },
         "mode": "markers",
         "name": "Iran, Islamic Republic of",
         "orientation": "v",
         "showlegend": true,
         "type": "scatter",
         "x": {
          "bdata": "4wfkB+UH5gfnB+gH",
          "dtype": "i2"
         },
         "xaxis": "x",
         "y": {
          "bdata": "zgNcGs2QSx69dj8yQ2laTi7nj1ltzT1g",
          "dtype": "i4"
         },
         "yaxis": "y"
        },
        {
         "hovertemplate": "<b>%{hovertext}</b><br><br>Pais=Iceland<br>Año=%{x}<br>Pérdidas (USD)=%{y}<br>Quejas=%{marker.size}<extra></extra>",
         "hovertext": [
          "Iceland",
          "Iceland",
          "Iceland",
          "Iceland",
          "Iceland",
          "Iceland"
         ],
         "legendgroup": "Iceland",
         "marker": {
          "color": "#FF97FF",
          "size": {
           "bdata": "iAFeAo8CbgLvAmEC",
           "dtype": "i2"
          },
          "sizemode": "area",
          "sizeref": 591.85375,
          "symbol": "circle"
         },
         "mode": "markers",
         "name": "Iceland",
         "orientation": "v",
         "showlegend": true,
         "type": "scatter",
         "x": {
          "bdata": "4wfkB+UH5gfnB+gH",
          "dtype": "i2"
         },
         "xaxis": "x",
         "y": {
          "bdata": "p5guADNDMgAW1FUAAGVsAIaIqwCp/uAA",
          "dtype": "i4"
         },
         "yaxis": "y"
        },
        {
         "hovertemplate": "<b>%{hovertext}</b><br><br>Pais=Italy<br>Año=%{x}<br>Pérdidas (USD)=%{y}<br>Quejas=%{marker.size}<extra></extra>",
         "hovertext": [
          "Italy",
          "Italy",
          "Italy",
          "Italy",
          "Italy",
          "Italy"
         ],
         "legendgroup": "Italy",
         "marker": {
          "color": "#FECB52",
          "size": {
           "bdata": "eqUAAO4vAQB8hQEAJSIBAOVIAQCAZgEA",
           "dtype": "i4"
          },
          "sizemode": "area",
          "sizeref": 591.85375,
          "symbol": "circle"
         },
         "mode": "markers",
         "name": "Italy",
         "orientation": "v",
         "showlegend": true,
         "type": "scatter",
         "x": {
          "bdata": "4wfkB+UH5gfnB+gH",
          "dtype": "i2"
         },
         "xaxis": "x",
         "y": {
          "bdata": "guFfERgcgxU4GMwnHGupORf2GkeygDBP",
          "dtype": "i4"
         },
         "yaxis": "y"
        },
        {
         "hovertemplate": "<b>%{hovertext}</b><br><br>Pais=Zimbabwe<br>Año=%{x}<br>Pérdidas (USD)=%{y}<br>Quejas=%{marker.size}<extra></extra>",
         "hovertext": [
          "Zimbabwe",
          "Zimbabwe",
          "Zimbabwe",
          "Zimbabwe",
          "Zimbabwe",
          "Zimbabwe"
         ],
         "legendgroup": "Zimbabwe",
         "marker": {
          "color": "#636efa",
          "size": {
           "bdata": "8wHSAgcD2QKwAugC",
           "dtype": "i2"
          },
          "sizemode": "area",
          "sizeref": 591.85375,
          "symbol": "circle"
         },
         "mode": "markers",
         "name": "Zimbabwe",
         "orientation": "v",
         "showlegend": true,
         "type": "scatter",
         "x": {
          "bdata": "4wfkB+UH5gfnB+gH",
          "dtype": "i2"
         },
         "xaxis": "x",
         "y": {
          "bdata": "WUomACVLTQDLNmcAUCKaANL7kwCG4NoA",
          "dtype": "i4"
         },
         "yaxis": "y"
        },
        {
         "hovertemplate": "<b>%{hovertext}</b><br><br>Pais=Jordan<br>Año=%{x}<br>Pérdidas (USD)=%{y}<br>Quejas=%{marker.size}<extra></extra>",
         "hovertext": [
          "Jordan",
          "Jordan",
          "Jordan",
          "Jordan",
          "Jordan",
          "Jordan"
         ],
         "legendgroup": "Jordan",
         "marker": {
          "color": "#EF553B",
          "size": {
           "bdata": "rwEcA3IDZANBA7sD",
           "dtype": "i2"
          },
          "sizemode": "area",
          "sizeref": 591.85375,
          "symbol": "circle"
         },
         "mode": "markers",
         "name": "Jordan",
         "orientation": "v",
         "showlegend": true,
         "type": "scatter",
         "x": {
          "bdata": "4wfkB+UH5gfnB+gH",
          "dtype": "i2"
         },
         "xaxis": "x",
         "y": {
          "bdata": "xR0xAA7vMAD4iVoAc056ALrtqQAnSbEA",
          "dtype": "i4"
         },
         "yaxis": "y"
        },
        {
         "hovertemplate": "<b>%{hovertext}</b><br><br>Pais=Japan<br>Año=%{x}<br>Pérdidas (USD)=%{y}<br>Quejas=%{marker.size}<extra></extra>",
         "hovertext": [
          "Japan",
          "Japan",
          "Japan",
          "Japan",
          "Japan",
          "Japan"
         ],
         "legendgroup": "Japan",
         "marker": {
          "color": "#00cc96",
          "size": {
           "bdata": "llMBAB9vAgALeAIAemYCAOCYAgDGyAIA",
           "dtype": "i4"
          },
          "sizemode": "area",
          "sizeref": 591.85375,
          "symbol": "circle"
         },
         "mode": "markers",
         "name": "Japan",
         "orientation": "v",
         "showlegend": true,
         "type": "scatter",
         "x": {
          "bdata": "4wfkB+UH5gfnB+gH",
          "dtype": "i2"
         },
         "xaxis": "x",
         "y": [
          799709881,
          885281428,
          1088839354,
          2253466948,
          1995347480,
          3393546251
         ],
         "yaxis": "y"
        },
        {
         "hovertemplate": "<b>%{hovertext}</b><br><br>Pais=Kenya<br>Año=%{x}<br>Pérdidas (USD)=%{y}<br>Quejas=%{marker.size}<extra></extra>",
         "hovertext": [
          "Kenya",
          "Kenya",
          "Kenya",
          "Kenya",
          "Kenya",
          "Kenya"
         ],
         "legendgroup": "Kenya",
         "marker": {
          "color": "#ab63fa",
          "size": {
           "bdata": "agknDcEOaAyZD5UQ",
           "dtype": "i2"
          },
          "sizemode": "area",
          "sizeref": 591.85375,
          "symbol": "circle"
         },
         "mode": "markers",
         "name": "Kenya",
         "orientation": "v",
         "showlegend": true,
         "type": "scatter",
         "x": {
          "bdata": "4wfkB+UH5gfnB+gH",
          "dtype": "i2"
         },
         "xaxis": "x",
         "y": {
          "bdata": "OMAjAd/qdQEUZ3YCp28BBFO5FQSlVxcF",
          "dtype": "i4"
         },
         "yaxis": "y"
        },
        {
         "hovertemplate": "<b>%{hovertext}</b><br><br>Pais=Kyrgyzstan<br>Año=%{x}<br>Pérdidas (USD)=%{y}<br>Quejas=%{marker.size}<extra></extra>",
         "hovertext": [
          "Kyrgyzstan",
          "Kyrgyzstan",
          "Kyrgyzstan",
          "Kyrgyzstan",
          "Kyrgyzstan",
          "Kyrgyzstan"
         ],
         "legendgroup": "Kyrgyzstan",
         "marker": {
          "color": "#FFA15A",
          "size": {
           "bdata": "pROfIVwibBmaLi0o",
           "dtype": "i2"
          },
          "sizemode": "area",
          "sizeref": 591.85375,
          "symbol": "circle"
         },
         "mode": "markers",
         "name": "Kyrgyzstan",
         "orientation": "v",
         "showlegend": true,
         "type": "scatter",
         "x": {
          "bdata": "4wfkB+UH5gfnB+gH",
          "dtype": "i2"
         },
         "xaxis": "x",
         "y": {
          "bdata": "fNtoBccunAeXgkwNhSbYEIR44xINke8W",
          "dtype": "i4"
         },
         "yaxis": "y"
        },
        {
         "hovertemplate": "<b>%{hovertext}</b><br><br>Pais=Cambodia<br>Año=%{x}<br>Pérdidas (USD)=%{y}<br>Quejas=%{marker.size}<extra></extra>",
         "hovertext": [
          "Cambodia",
          "Cambodia",
          "Cambodia",
          "Cambodia",
          "Cambodia",
          "Cambodia"
         ],
         "legendgroup": "Cambodia",
         "marker": {
          "color": "#19d3f3",
          "size": {
           "bdata": "Ux91KWku5jZnKB4z",
           "dtype": "i2"
          },
          "sizemode": "area",
          "sizeref": 591.85375,
          "symbol": "circle"
         },
         "mode": "markers",
         "name": "Cambodia",
         "orientation": "v",
         "showlegend": true,
         "type": "scatter",
         "x": {
          "bdata": "4wfkB+UH5gfnB+gH",
          "dtype": "i2"
         },
         "xaxis": "x",
         "y": {
          "bdata": "S/p6BJBiywTW39sH0/3xC9pQag73kowR",
          "dtype": "i4"
         },
         "yaxis": "y"
        },
        {
         "hovertemplate": "<b>%{hovertext}</b><br><br>Pais=Saint Kitts and Nevis<br>Año=%{x}<br>Pérdidas (USD)=%{y}<br>Quejas=%{marker.size}<extra></extra>",
         "hovertext": [
          "Saint Kitts and Nevis",
          "Saint Kitts and Nevis",
          "Saint Kitts and Nevis",
          "Saint Kitts and Nevis",
          "Saint Kitts and Nevis",
          "Saint Kitts and Nevis"
         ],
         "legendgroup": "Saint Kitts and Nevis",
         "marker": {
          "color": "#FF6692",
          "size": {
           "bdata": "BQGtAUACygEcAgsC",
           "dtype": "i2"
          },
          "sizemode": "area",
          "sizeref": 591.85375,
          "symbol": "circle"
         },
         "mode": "markers",
         "name": "Saint Kitts and Nevis",
         "orientation": "v",
         "showlegend": true,
         "type": "scatter",
         "x": {
          "bdata": "4wfkB+UH5gfnB+gH",
          "dtype": "i2"
         },
         "xaxis": "x",
         "y": {
          "bdata": "jgcuAL10UAALXnkASxKcAJeLlACW9u4A",
          "dtype": "i4"
         },
         "yaxis": "y"
        },
        {
         "hovertemplate": "<b>%{hovertext}</b><br><br>Pais=Korea, Republic of<br>Año=%{x}<br>Pérdidas (USD)=%{y}<br>Quejas=%{marker.size}<extra></extra>",
         "hovertext": [
          "Korea, Republic of",
          "Korea, Republic of",
          "Korea, Republic of",
          "Korea, Republic of",
          "Korea, Republic of",
          "Korea, Republic of"
         ],
         "legendgroup": "Korea, Republic of",
         "marker": {
          "color": "#B6E880",
          "size": {
           "bdata": "OzwAAPBuAAA5jgAAIHIAALaJAACccQAA",
           "dtype": "i4"
          },
          "sizemode": "area",
          "sizeref": 591.85375,
          "symbol": "circle"
         },
         "mode": "markers",
         "name": "Korea, Republic of",
         "orientation": "v",
         "showlegend": true,
         "type": "scatter",
         "x": {
          "bdata": "4wfkB+UH5gfnB+gH",
          "dtype": "i2"
         },
         "xaxis": "x",
         "y": {
          "bdata": "D8+9EUIIiRXb7R4iJOswNC36TjSx3QA4",
          "dtype": "i4"
         },
         "yaxis": "y"
        },
        {
         "hovertemplate": "<b>%{hovertext}</b><br><br>Pais=Kazakhstan<br>Año=%{x}<br>Pérdidas (USD)=%{y}<br>Quejas=%{marker.size}<extra></extra>",
         "hovertext": [
          "Kazakhstan",
          "Kazakhstan",
          "Kazakhstan",
          "Kazakhstan",
          "Kazakhstan",
          "Kazakhstan"
         ],
         "legendgroup": "Kazakhstan",
         "marker": {
          "color": "#FF97FF",
          "size": {
           "bdata": "tyVfQRdD7TNmL6VH",
           "dtype": "i2"
          },
          "sizemode": "area",
          "sizeref": 591.85375,
          "symbol": "circle"
         },
         "mode": "markers",
         "name": "Kazakhstan",
         "orientation": "v",
         "showlegend": true,
         "type": "scatter",
         "x": {
          "bdata": "4wfkB+UH5gfnB+gH",
          "dtype": "i2"
         },
         "xaxis": "x",
         "y": {
          "bdata": "khLUDEFcoA2EOusT40xBHcSjRSbXarA0",
          "dtype": "i4"
         },
         "yaxis": "y"
        },
        {
         "hovertemplate": "<b>%{hovertext}</b><br><br>Pais=Lebanon<br>Año=%{x}<br>Pérdidas (USD)=%{y}<br>Quejas=%{marker.size}<extra></extra>",
         "hovertext": [
          "Lebanon",
          "Lebanon",
          "Lebanon",
          "Lebanon",
          "Lebanon",
          "Lebanon"
         ],
         "legendgroup": "Lebanon",
         "marker": {
          "color": "#FECB52",
          "size": {
           "bdata": "8RDgGiEW6CHWHmgY",
           "dtype": "i2"
          },
          "sizemode": "area",
          "sizeref": 591.85375,
          "symbol": "circle"
         },
         "mode": "markers",
         "name": "Lebanon",
         "orientation": "v",
         "showlegend": true,
         "type": "scatter",
         "x": {
          "bdata": "4wfkB+UH5gfnB+gH",
          "dtype": "i2"
         },
         "xaxis": "x",
         "y": {
          "bdata": "VJ5XAptCeQJFrEwEXvf2BnQ8LgfxydsI",
          "dtype": "i4"
         },
         "yaxis": "y"
        },
        {
         "hovertemplate": "<b>%{hovertext}</b><br><br>Pais=Sri Lanka<br>Año=%{x}<br>Pérdidas (USD)=%{y}<br>Quejas=%{marker.size}<extra></extra>",
         "hovertext": [
          "Sri Lanka",
          "Sri Lanka",
          "Sri Lanka",
          "Sri Lanka",
          "Sri Lanka",
          "Sri Lanka"
         ],
         "legendgroup": "Sri Lanka",
         "marker": {
          "color": "#636efa",
          "size": {
           "bdata": "SwHYAgsDbgPuAs4D",
           "dtype": "i2"
          },
          "sizemode": "area",
          "sizeref": 591.85375,
          "symbol": "circle"
         },
         "mode": "markers",
         "name": "Sri Lanka",
         "orientation": "v",
         "showlegend": true,
         "type": "scatter",
         "x": {
          "bdata": "4wfkB+UH5gfnB+gH",
          "dtype": "i2"
         },
         "xaxis": "x",
         "y": {
          "bdata": "H/tPAKXabACWS7QA+RIbAX6RVgF2elsB",
          "dtype": "i4"
         },
         "yaxis": "y"
        },
        {
         "hovertemplate": "<b>%{hovertext}</b><br><br>Pais=Lithuania<br>Año=%{x}<br>Pérdidas (USD)=%{y}<br>Quejas=%{marker.size}<extra></extra>",
         "hovertext": [
          "Lithuania",
          "Lithuania",
          "Lithuania",
          "Lithuania",
          "Lithuania",
          "Lithuania"
         ],
         "legendgroup": "Lithuania",
         "marker": {
          "color": "#EF553B",
          "size": {
           "bdata": "VxUVI18swiXxIEIn",
           "dtype": "i2"
          },
          "sizemode": "area",
          "sizeref": 591.85375,
          "symbol": "circle"
         },
         "mode": "markers",
         "name": "Lithuania",
         "orientation": "v",
         "showlegend": true,
         "type": "scatter",
         "x": {
          "bdata": "4wfkB+UH5gfnB+gH",
          "dtype": "i2"
         },
         "xaxis": "x",
         "y": {
          "bdata": "cNl4A59+LQWzdC8Ha+c2C/WayRIOkV0P",
          "dtype": "i4"
         },
         "yaxis": "y"
        },
        {
         "hovertemplate": "<b>%{hovertext}</b><br><br>Pais=Luxembourg<br>Año=%{x}<br>Pérdidas (USD)=%{y}<br>Quejas=%{marker.size}<extra></extra>",
         "hovertext": [
          "Luxembourg",
          "Luxembourg",
          "Luxembourg",
          "Luxembourg",
          "Luxembourg",
          "Luxembourg"
         ],
         "legendgroup": "Luxembourg",
         "marker": {
          "color": "#00cc96",
          "size": {
           "bdata": "ZAILBB8ELAO3A0sE",
           "dtype": "i2"
          },
          "sizemode": "area",
          "sizeref": 591.85375,
          "symbol": "circle"
         },
         "mode": "markers",
         "name": "Luxembourg",
         "orientation": "v",
         "showlegend": true,
         "type": "scatter",
         "x": {
          "bdata": "4wfkB+UH5gfnB+gH",
          "dtype": "i2"
         },
         "xaxis": "x",
         "y": {
          "bdata": "iM+yAEQf1gDSXVIBhEP3AfVqdgIAq7EC",
          "dtype": "i4"
         },
         "yaxis": "y"
        },
        {
         "hovertemplate": "<b>%{hovertext}</b><br><br>Pais=Latvia<br>Año=%{x}<br>Pérdidas (USD)=%{y}<br>Quejas=%{marker.size}<extra></extra>",
         "hovertext": [
          "Latvia",
          "Latvia",
          "Latvia",
          "Latvia",
          "Latvia",
          "Latvia"
         ],
         "legendgroup": "Latvia",
         "marker": {
          "color": "#ab63fa",
          "size": {
           "bdata": "VxBWI+sdJBa0HMwf",
           "dtype": "i2"
          },
          "sizemode": "area",
          "sizeref": 591.85375,
          "symbol": "circle"
         },
         "mode": "markers",
         "name": "Latvia",
         "orientation": "v",
         "showlegend": true,
         "type": "scatter",
         "x": {
          "bdata": "4wfkB+UH5gfnB+gH",
          "dtype": "i2"
         },
         "xaxis": "x",
         "y": {
          "bdata": "gk+fAeCQBAIj7/4Cu5G7BEC+sgWKfm4I",
          "dtype": "i4"
         },
         "yaxis": "y"
        },
        {
         "hovertemplate": "<b>%{hovertext}</b><br><br>Pais=Libya<br>Año=%{x}<br>Pérdidas (USD)=%{y}<br>Quejas=%{marker.size}<extra></extra>",
         "hovertext": [
          "Libya",
          "Libya",
          "Libya",
          "Libya",
          "Libya",
          "Libya"
         ],
         "legendgroup": "Libya",
         "marker": {
          "color": "#FFA15A",
          "size": {
           "bdata": "ggROByEHdAcZCTcJ",
           "dtype": "i2"
          },
          "sizemode": "area",
          "sizeref": 591.85375,
          "symbol": "circle"
         },
         "mode": "markers",
         "name": "Libya",
         "orientation": "v",
         "showlegend": true,
         "type": "scatter",
         "x": {
          "bdata": "4wfkB+UH5gfnB+gH",
          "dtype": "i2"
         },
         "xaxis": "x",
         "y": {
          "bdata": "inB3AMculwCZ9yABxxiCARj4mgE0eyIC",
          "dtype": "i4"
         },
         "yaxis": "y"
        },
        {
         "hovertemplate": "<b>%{hovertext}</b><br><br>Pais=Moldova, Republic of<br>Año=%{x}<br>Pérdidas (USD)=%{y}<br>Quejas=%{marker.size}<extra></extra>",
         "hovertext": [
          "Moldova, Republic of",
          "Moldova, Republic of",
          "Moldova, Republic of",
          "Moldova, Republic of",
          "Moldova, Republic of",
          "Moldova, Republic of"
         ],
         "legendgroup": "Moldova, Republic of",
         "marker": {
          "color": "#19d3f3",
          "size": {
           "bdata": "JBQcGi4lrxWFG34j",
           "dtype": "i2"
          },
          "sizemode": "area",
          "sizeref": 591.85375,
          "symbol": "circle"
         },
         "mode": "markers",
         "name": "Moldova, Republic of",
         "orientation": "v",
         "showlegend": true,
         "type": "scatter",
         "x": {
          "bdata": "4wfkB+UH5gfnB+gH",
          "dtype": "i2"
         },
         "xaxis": "x",
         "y": {
          "bdata": "MBW+Aa3t4wG3YT0Dwuz8BUY9WAV+uRYH",
          "dtype": "i4"
         },
         "yaxis": "y"
        },
        {
         "hovertemplate": "<b>%{hovertext}</b><br><br>Pais=Myanmar<br>Año=%{x}<br>Pérdidas (USD)=%{y}<br>Quejas=%{marker.size}<extra></extra>",
         "hovertext": [
          "Myanmar",
          "Myanmar",
          "Myanmar",
          "Myanmar",
          "Myanmar",
          "Myanmar"
         ],
         "legendgroup": "Myanmar",
         "marker": {
          "color": "#FF6692",
          "size": {
           "bdata": "NAjADDYOGQlHDngP",
           "dtype": "i2"
          },
          "sizemode": "area",
          "sizeref": 591.85375,
          "symbol": "circle"
         },
         "mode": "markers",
         "name": "Myanmar",
         "orientation": "v",
         "showlegend": true,
         "type": "scatter",
         "x": {
          "bdata": "4wfkB+UH5gfnB+gH",
          "dtype": "i2"
         },
         "xaxis": "x",
         "y": {
          "bdata": "zMW/AEpc7wBGYqwB/AgvAnsPowISMkwD",
          "dtype": "i4"
         },
         "yaxis": "y"
        },
        {
         "hovertemplate": "<b>%{hovertext}</b><br><br>Pais=Mongolia<br>Año=%{x}<br>Pérdidas (USD)=%{y}<br>Quejas=%{marker.size}<extra></extra>",
         "hovertext": [
          "Mongolia",
          "Mongolia",
          "Mongolia",
          "Mongolia",
          "Mongolia",
          "Mongolia"
         ],
         "legendgroup": "Mongolia",
         "marker": {
          "color": "#B6E880",
          "size": {
           "bdata": "KASRB+oFEQnPB80I",
           "dtype": "i2"
          },
          "sizemode": "area",
          "sizeref": 591.85375,
          "symbol": "circle"
         },
         "mode": "markers",
         "name": "Mongolia",
         "orientation": "v",
         "showlegend": true,
         "type": "scatter",
         "x": {
          "bdata": "4wfkB+UH5gfnB+gH",
          "dtype": "i2"
         },
         "xaxis": "x",
         "y": {
          "bdata": "j7SRAWKB7wGJhCEDusffBTRkjQVloFkH",
          "dtype": "i4"
         },
         "yaxis": "y"
        },
        {
         "hovertemplate": "<b>%{hovertext}</b><br><br>Pais=Malta<br>Año=%{x}<br>Pérdidas (USD)=%{y}<br>Quejas=%{marker.size}<extra></extra>",
         "hovertext": [
          "Malta",
          "Malta",
          "Malta",
          "Malta",
          "Malta",
          "Malta"
         ],
         "legendgroup": "Malta",
         "marker": {
          "color": "#FF97FF",
          "size": {
           "bdata": "ggI1BnoFCwYdB0MF",
           "dtype": "i2"
          },
          "sizemode": "area",
          "sizeref": 591.85375,
          "symbol": "circle"
         },
         "mode": "markers",
         "name": "Malta",
         "orientation": "v",
         "showlegend": true,
         "type": "scatter",
         "x": {
          "bdata": "4wfkB+UH5gfnB+gH",
          "dtype": "i2"
         },
         "xaxis": "x",
         "y": {
          "bdata": "txDyAOgiKgGjL/EBm95gAm4AXQP/gfID",
          "dtype": "i4"
         },
         "yaxis": "y"
        },
        {
         "hovertemplate": "<b>%{hovertext}</b><br><br>Pais=Maldives<br>Año=%{x}<br>Pérdidas (USD)=%{y}<br>Quejas=%{marker.size}<extra></extra>",
         "hovertext": [
          "Maldives",
          "Maldives",
          "Maldives",
          "Maldives",
          "Maldives",
          "Maldives"
         ],
         "legendgroup": "Maldives",
         "marker": {
          "color": "#FECB52",
          "size": {
           "bdata": "UQGcAj4CQQIKAyEE",
           "dtype": "i2"
          },
          "sizemode": "area",
          "sizeref": 591.85375,
          "symbol": "circle"
         },
         "mode": "markers",
         "name": "Maldives",
         "orientation": "v",
         "showlegend": true,
         "type": "scatter",
         "x": {
          "bdata": "4wfkB+UH5gfnB+gH",
          "dtype": "i2"
         },
         "xaxis": "x",
         "y": {
          "bdata": "TTkrAMakTACGkUIABPyTABh0rgC2A8sA",
          "dtype": "i4"
         },
         "yaxis": "y"
        },
        {
         "hovertemplate": "<b>%{hovertext}</b><br><br>Pais=Mexico<br>Año=%{x}<br>Pérdidas (USD)=%{y}<br>Quejas=%{marker.size}<extra></extra>",
         "hovertext": [
          "Mexico",
          "Mexico",
          "Mexico",
          "Mexico",
          "Mexico",
          "Mexico"
         ],
         "legendgroup": "Mexico",
         "marker": {
          "color": "#636efa",
          "size": {
           "bdata": "chroJ5oliTBGMjFG",
           "dtype": "i2"
          },
          "sizemode": "area",
          "sizeref": 591.85375,
          "symbol": "circle"
         },
         "mode": "markers",
         "name": "Mexico",
         "orientation": "v",
         "showlegend": true,
         "type": "scatter",
         "x": {
          "bdata": "4wfkB+UH5gfnB+gH",
          "dtype": "i2"
         },
         "xaxis": "x",
         "y": {
          "bdata": "eVYPB1f+mwjW9TQOjWzGFXN0mxo94zEe",
          "dtype": "i4"
         },
         "yaxis": "y"
        },
        {
         "hovertemplate": "<b>%{hovertext}</b><br><br>Pais=Malaysia<br>Año=%{x}<br>Pérdidas (USD)=%{y}<br>Quejas=%{marker.size}<extra></extra>",
         "hovertext": [
          "Malaysia",
          "Malaysia",
          "Malaysia",
          "Malaysia",
          "Malaysia",
          "Malaysia"
         ],
         "legendgroup": "Malaysia",
         "marker": {
          "color": "#EF553B",
          "size": {
           "bdata": "WwzoFdsWGRt2FysX",
           "dtype": "i2"
          },
          "sizemode": "area",
          "sizeref": 591.85375,
          "symbol": "circle"
         },
         "mode": "markers",
         "name": "Malaysia",
         "orientation": "v",
         "showlegend": true,
         "type": "scatter",
         "x": {
          "bdata": "4wfkB+UH5gfnB+gH",
          "dtype": "i2"
         },
         "xaxis": "x",
         "y": {
          "bdata": "HxEtA3S9TAP1kdUHbdUqC7oRfw0ecoMU",
          "dtype": "i4"
         },
         "yaxis": "y"
        },
        {
         "hovertemplate": "<b>%{hovertext}</b><br><br>Pais=Mozambique<br>Año=%{x}<br>Pérdidas (USD)=%{y}<br>Quejas=%{marker.size}<extra></extra>",
         "hovertext": [
          "Mozambique",
          "Mozambique",
          "Mozambique",
          "Mozambique",
          "Mozambique",
          "Mozambique"
         ],
         "legendgroup": "Mozambique",
         "marker": {
          "color": "#00cc96",
          "size": {
           "bdata": "7Qa2DYMMtgz4DAYR",
           "dtype": "i2"
          },
          "sizemode": "area",
          "sizeref": 591.85375,
          "symbol": "circle"
         },
         "mode": "markers",
         "name": "Mozambique",
         "orientation": "v",
         "showlegend": true,
         "type": "scatter",
         "x": {
          "bdata": "4wfkB+UH5gfnB+gH",
          "dtype": "i2"
         },
         "xaxis": "x",
         "y": {
          "bdata": "t6HeAJvA/wBxkcgBuRj/Ae5m1AJyCZ4D",
          "dtype": "i4"
         },
         "yaxis": "y"
        },
        {
         "hovertemplate": "<b>%{hovertext}</b><br><br>Pais=nan<br>Año=%{x}<br>Pérdidas (USD)=%{y}<br>Quejas=%{marker.size}<extra></extra>",
         "hovertext": [
          "nan",
          "nan",
          "nan",
          "nan",
          "nan",
          "nan"
         ],
         "legendgroup": "nan",
         "marker": {
          "color": "#ab63fa",
          "size": {
           "bdata": "7wCuAYcCWgJ1As4C",
           "dtype": "i2"
          },
          "sizemode": "area",
          "sizeref": 591.85375,
          "symbol": "circle"
         },
         "mode": "markers",
         "name": "nan",
         "orientation": "v",
         "showlegend": true,
         "type": "scatter",
         "x": {
          "bdata": "4wfkB+UH5gfnB+gH",
          "dtype": "i2"
         },
         "xaxis": "x",
         "y": {
          "bdata": "GWkqAP4ZUAAgv3YAC/qvAA/+xQC+8/YA",
          "dtype": "i4"
         },
         "yaxis": "y"
        },
        {
         "hovertemplate": "<b>%{hovertext}</b><br><br>Pais=Nigeria<br>Año=%{x}<br>Pérdidas (USD)=%{y}<br>Quejas=%{marker.size}<extra></extra>",
         "hovertext": [
          "Nigeria",
          "Nigeria",
          "Nigeria",
          "Nigeria",
          "Nigeria",
          "Nigeria"
         ],
         "legendgroup": "Nigeria",
         "marker": {
          "color": "#FFA15A",
          "size": {
           "bdata": "9QYCDJsIZw7kDREO",
           "dtype": "i2"
          },
          "sizemode": "area",
          "sizeref": 591.85375,
          "symbol": "circle"
         },
         "mode": "markers",
         "name": "Nigeria",
         "orientation": "v",
         "showlegend": true,
         "type": "scatter",
         "x": {
          "bdata": "4wfkB+UH5gfnB+gH",
          "dtype": "i2"
         },
         "xaxis": "x",
         "y": {
          "bdata": "C/8LAotKIQLaIFgDDbfDBMdQIgb7JgoH",
          "dtype": "i4"
         },
         "yaxis": "y"
        },
        {
         "hovertemplate": "<b>%{hovertext}</b><br><br>Pais=Nicaragua<br>Año=%{x}<br>Pérdidas (USD)=%{y}<br>Quejas=%{marker.size}<extra></extra>",
         "hovertext": [
          "Nicaragua",
          "Nicaragua",
          "Nicaragua",
          "Nicaragua",
          "Nicaragua",
          "Nicaragua"
         ],
         "legendgroup": "Nicaragua",
         "marker": {
          "color": "#19d3f3",
          "size": {
           "bdata": "WwN4BTAGIwZqBq0F",
           "dtype": "i2"
          },
          "sizemode": "area",
          "sizeref": 591.85375,
          "symbol": "circle"
         },
         "mode": "markers",
         "name": "Nicaragua",
         "orientation": "v",
         "showlegend": true,
         "type": "scatter",
         "x": {
          "bdata": "4wfkB+UH5gfnB+gH",
          "dtype": "i2"
         },
         "xaxis": "x",
         "y": {
          "bdata": "uRVbAL/4TgC4ZokAezUIARhoXgEAHYkB",
          "dtype": "i4"
         },
         "yaxis": "y"
        },
        {
         "hovertemplate": "<b>%{hovertext}</b><br><br>Pais=Netherlands<br>Año=%{x}<br>Pérdidas (USD)=%{y}<br>Quejas=%{marker.size}<extra></extra>",
         "hovertext": [
          "Netherlands",
          "Netherlands",
          "Netherlands",
          "Netherlands",
          "Netherlands",
          "Netherlands"
         ],
         "legendgroup": "Netherlands",
         "marker": {
          "color": "#FF6692",
          "size": {
           "bdata": "HMIAAGFMAQCMdAEA3DkBAGVFAQBTfQEA",
           "dtype": "i4"
          },
          "sizemode": "area",
          "sizeref": 591.85375,
          "symbol": "circle"
         },
         "mode": "markers",
         "name": "Netherlands",
         "orientation": "v",
         "showlegend": true,
         "type": "scatter",
         "x": {
          "bdata": "4wfkB+UH5gfnB+gH",
          "dtype": "i2"
         },
         "xaxis": "x",
         "y": [
          572304502,
          895396401,
          1437353585,
          2216753376,
          3079554598,
          3320490586
         ],
         "yaxis": "y"
        },
        {
         "hovertemplate": "<b>%{hovertext}</b><br><br>Pais=Norway<br>Año=%{x}<br>Pérdidas (USD)=%{y}<br>Quejas=%{marker.size}<extra></extra>",
         "hovertext": [
          "Norway",
          "Norway",
          "Norway",
          "Norway",
          "Norway",
          "Norway"
         ],
         "legendgroup": "Norway",
         "marker": {
          "color": "#B6E880",
          "size": {
           "bdata": "vw9NGpIn3yV+KKQr",
           "dtype": "i2"
          },
          "sizemode": "area",
          "sizeref": 591.85375,
          "symbol": "circle"
         },
         "mode": "markers",
         "name": "Norway",
         "orientation": "v",
         "showlegend": true,
         "type": "scatter",
         "x": {
          "bdata": "4wfkB+UH5gfnB+gH",
          "dtype": "i2"
         },
         "xaxis": "x",
         "y": {
          "bdata": "E4q5AjVCQAOavtQDuDN4BpXyqAsR0C0L",
          "dtype": "i4"
         },
         "yaxis": "y"
        },
        {
         "hovertemplate": "<b>%{hovertext}</b><br><br>Pais=Nepal<br>Año=%{x}<br>Pérdidas (USD)=%{y}<br>Quejas=%{marker.size}<extra></extra>",
         "hovertext": [
          "Nepal",
          "Nepal",
          "Nepal",
          "Nepal",
          "Nepal",
          "Nepal"
         ],
         "legendgroup": "Nepal",
         "marker": {
          "color": "#FF97FF",
          "size": {
           "bdata": "FgSfCLUJUgiwC/UK",
           "dtype": "i2"
          },
          "sizemode": "area",
          "sizeref": 591.85375,
          "symbol": "circle"
         },
         "mode": "markers",
         "name": "Nepal",
         "orientation": "v",
         "showlegend": true,
         "type": "scatter",
         "x": {
          "bdata": "4wfkB+UH5gfnB+gH",
          "dtype": "i2"
         },
         "xaxis": "x",
         "y": {
          "bdata": "Sh6XAD4ltgBGICYBxq61AW7mMgKlSJIC",
          "dtype": "i4"
         },
         "yaxis": "y"
        },
        {
         "hovertemplate": "<b>%{hovertext}</b><br><br>Pais=New Zealand<br>Año=%{x}<br>Pérdidas (USD)=%{y}<br>Quejas=%{marker.size}<extra></extra>",
         "hovertext": [
          "New Zealand",
          "New Zealand",
          "New Zealand",
          "New Zealand",
          "New Zealand",
          "New Zealand"
         ],
         "legendgroup": "New Zealand",
         "marker": {
          "color": "#FECB52",
          "size": {
           "bdata": "fgaBDnIQhA/3EYgR",
           "dtype": "i2"
          },
          "sizemode": "area",
          "sizeref": 591.85375,
          "symbol": "circle"
         },
         "mode": "markers",
         "name": "New Zealand",
         "orientation": "v",
         "showlegend": true,
         "type": "scatter",
         "x": {
          "bdata": "4wfkB+UH5gfnB+gH",
          "dtype": "i2"
         },
         "xaxis": "x",
         "y": {
          "bdata": "DzXLADTHGQFaeakCku52A6v2MQRxg/8D",
          "dtype": "i4"
         },
         "yaxis": "y"
        },
        {
         "hovertemplate": "<b>%{hovertext}</b><br><br>Pais=Oman<br>Año=%{x}<br>Pérdidas (USD)=%{y}<br>Quejas=%{marker.size}<extra></extra>",
         "hovertext": [
          "Oman",
          "Oman",
          "Oman",
          "Oman",
          "Oman",
          "Oman"
         ],
         "legendgroup": "Oman",
         "marker": {
          "color": "#636efa",
          "size": {
           "bdata": "/goqD9IN5A90EVQS",
           "dtype": "i2"
          },
          "sizemode": "area",
          "sizeref": 591.85375,
          "symbol": "circle"
         },
         "mode": "markers",
         "name": "Oman",
         "orientation": "v",
         "showlegend": true,
         "type": "scatter",
         "x": {
          "bdata": "4wfkB+UH5gfnB+gH",
          "dtype": "i2"
         },
         "xaxis": "x",
         "y": {
          "bdata": "nybhAHSx5ACzSEcBfCm5AXF1+ALrxPgD",
          "dtype": "i4"
         },
         "yaxis": "y"
        },
        {
         "hovertemplate": "<b>%{hovertext}</b><br><br>Pais=Panama<br>Año=%{x}<br>Pérdidas (USD)=%{y}<br>Quejas=%{marker.size}<extra></extra>",
         "hovertext": [
          "Panama",
          "Panama",
          "Panama",
          "Panama",
          "Panama",
          "Panama"
         ],
         "legendgroup": "Panama",
         "marker": {
          "color": "#EF553B",
          "size": {
           "bdata": "wwNiBgAFOgb4BG4H",
           "dtype": "i2"
          },
          "sizemode": "area",
          "sizeref": 591.85375,
          "symbol": "circle"
         },
         "mode": "markers",
         "name": "Panama",
         "orientation": "v",
         "showlegend": true,
         "type": "scatter",
         "x": {
          "bdata": "4wfkB+UH5gfnB+gH",
          "dtype": "i2"
         },
         "xaxis": "x",
         "y": {
          "bdata": "P+NkAD5ZdwCf79UAcxMyAYA+cwHfDrQB",
          "dtype": "i4"
         },
         "yaxis": "y"
        },
        {
         "hovertemplate": "<b>%{hovertext}</b><br><br>Pais=Peru<br>Año=%{x}<br>Pérdidas (USD)=%{y}<br>Quejas=%{marker.size}<extra></extra>",
         "hovertext": [
          "Peru",
          "Peru",
          "Peru",
          "Peru",
          "Peru",
          "Peru"
         ],
         "legendgroup": "Peru",
         "marker": {
          "color": "#00cc96",
          "size": {
           "bdata": "UxGrHDogFB83JSMk",
           "dtype": "i2"
          },
          "sizemode": "area",
          "sizeref": 591.85375,
          "symbol": "circle"
         },
         "mode": "markers",
         "name": "Peru",
         "orientation": "v",
         "showlegend": true,
         "type": "scatter",
         "x": {
          "bdata": "4wfkB+UH5gfnB+gH",
          "dtype": "i2"
         },
         "xaxis": "x",
         "y": {
          "bdata": "9YahAavfnAFAGS8DN9GOBIU7EAa0tngF",
          "dtype": "i4"
         },
         "yaxis": "y"
        },
        {
         "hovertemplate": "<b>%{hovertext}</b><br><br>Pais=Papua New Guinea<br>Año=%{x}<br>Pérdidas (USD)=%{y}<br>Quejas=%{marker.size}<extra></extra>",
         "hovertext": [
          "Papua New Guinea",
          "Papua New Guinea",
          "Papua New Guinea",
          "Papua New Guinea",
          "Papua New Guinea",
          "Papua New Guinea"
         ],
         "legendgroup": "Papua New Guinea",
         "marker": {
          "color": "#ab63fa",
          "size": {
           "bdata": "iwL4AykEMQQmBEkF",
           "dtype": "i2"
          },
          "sizemode": "area",
          "sizeref": 591.85375,
          "symbol": "circle"
         },
         "mode": "markers",
         "name": "Papua New Guinea",
         "orientation": "v",
         "showlegend": true,
         "type": "scatter",
         "x": {
          "bdata": "4wfkB+UH5gfnB+gH",
          "dtype": "i2"
         },
         "xaxis": "x",
         "y": {
          "bdata": "9eRdABYiYgDq7LsAem4aAepKYAHvsZ4B",
          "dtype": "i4"
         },
         "yaxis": "y"
        },
        {
         "hovertemplate": "<b>%{hovertext}</b><br><br>Pais=Philippines<br>Año=%{x}<br>Pérdidas (USD)=%{y}<br>Quejas=%{marker.size}<extra></extra>",
         "hovertext": [
          "Philippines",
          "Philippines",
          "Philippines",
          "Philippines",
          "Philippines",
          "Philippines"
         ],
         "legendgroup": "Philippines",
         "marker": {
          "color": "#FFA15A",
          "size": {
           "bdata": "OBaSKQAgsitlLP0x",
           "dtype": "i2"
          },
          "sizemode": "area",
          "sizeref": 591.85375,
          "symbol": "circle"
         },
         "mode": "markers",
         "name": "Philippines",
         "orientation": "v",
         "showlegend": true,
         "type": "scatter",
         "x": {
          "bdata": "4wfkB+UH5gfnB+gH",
          "dtype": "i2"
         },
         "xaxis": "x",
         "y": {
          "bdata": "kvGxCjHe6wkdPHsQCivKFp/23R/rHFci",
          "dtype": "i4"
         },
         "yaxis": "y"
        },
        {
         "hovertemplate": "<b>%{hovertext}</b><br><br>Pais=Pakistan<br>Año=%{x}<br>Pérdidas (USD)=%{y}<br>Quejas=%{marker.size}<extra></extra>",
         "hovertext": [
          "Pakistan",
          "Pakistan",
          "Pakistan",
          "Pakistan",
          "Pakistan",
          "Pakistan"
         ],
         "legendgroup": "Pakistan",
         "marker": {
          "color": "#19d3f3",
          "size": {
           "bdata": "TG8AADjLAADwnwAAvL0AAI7QAAAUGAEA",
           "dtype": "i4"
          },
          "sizemode": "area",
          "sizeref": 591.85375,
          "symbol": "circle"
         },
         "mode": "markers",
         "name": "Pakistan",
         "orientation": "v",
         "showlegend": true,
         "type": "scatter",
         "x": {
          "bdata": "4wfkB+UH5gfnB+gH",
          "dtype": "i2"
         },
         "xaxis": "x",
         "y": {
          "bdata": "rpvUCgKq8wvh32AUg+SeKFA57iKdb+Iu",
          "dtype": "i4"
         },
         "yaxis": "y"
        },
        {
         "hovertemplate": "<b>%{hovertext}</b><br><br>Pais=Poland<br>Año=%{x}<br>Pérdidas (USD)=%{y}<br>Quejas=%{marker.size}<extra></extra>",
         "hovertext": [
          "Poland",
          "Poland",
          "Poland",
          "Poland",
          "Poland",
          "Poland"
         ],
         "legendgroup": "Poland",
         "marker": {
          "color": "#FF6692",
          "size": {
           "bdata": "j1UAAMqlAADFkQAAx7sAADPBAACXnwAA",
           "dtype": "i4"
          },
          "sizemode": "area",
          "sizeref": 591.85375,
          "symbol": "circle"
         },
         "mode": "markers",
         "name": "Poland",
         "orientation": "v",
         "showlegend": true,
         "type": "scatter",
         "x": {
          "bdata": "4wfkB+UH5gfnB+gH",
          "dtype": "i2"
         },
         "xaxis": "x",
         "y": {
          "bdata": "/4FEF/20nxUubJMj1Df1R91Q/T3VjgRR",
          "dtype": "i4"
         },
         "yaxis": "y"
        }
       ],
       "layout": {
        "legend": {
         "itemsizing": "constant",
         "title": {
          "text": "Pais"
         },
         "tracegroupgap": 0
        },
        "template": {
         "data": {
          "bar": [
           {
            "error_x": {
             "color": "#2a3f5f"
            },
            "error_y": {
             "color": "#2a3f5f"
            },
            "marker": {
             "line": {
              "color": "#E5ECF6",
              "width": 0.5
             },
             "pattern": {
              "fillmode": "overlay",
              "size": 10,
              "solidity": 0.2
             }
            },
            "type": "bar"
           }
          ],
          "barpolar": [
           {
            "marker": {
             "line": {
              "color": "#E5ECF6",
              "width": 0.5
             },
             "pattern": {
              "fillmode": "overlay",
              "size": 10,
              "solidity": 0.2
             }
            },
            "type": "barpolar"
           }
          ],
          "carpet": [
           {
            "aaxis": {
             "endlinecolor": "#2a3f5f",
             "gridcolor": "white",
             "linecolor": "white",
             "minorgridcolor": "white",
             "startlinecolor": "#2a3f5f"
            },
            "baxis": {
             "endlinecolor": "#2a3f5f",
             "gridcolor": "white",
             "linecolor": "white",
             "minorgridcolor": "white",
             "startlinecolor": "#2a3f5f"
            },
            "type": "carpet"
           }
          ],
          "choropleth": [
           {
            "colorbar": {
             "outlinewidth": 0,
             "ticks": ""
            },
            "type": "choropleth"
           }
          ],
          "contour": [
           {
            "colorbar": {
             "outlinewidth": 0,
             "ticks": ""
            },
            "colorscale": [
             [
              0,
              "#0d0887"
             ],
             [
              0.1111111111111111,
              "#46039f"
             ],
             [
              0.2222222222222222,
              "#7201a8"
             ],
             [
              0.3333333333333333,
              "#9c179e"
             ],
             [
              0.4444444444444444,
              "#bd3786"
             ],
             [
              0.5555555555555556,
              "#d8576b"
             ],
             [
              0.6666666666666666,
              "#ed7953"
             ],
             [
              0.7777777777777778,
              "#fb9f3a"
             ],
             [
              0.8888888888888888,
              "#fdca26"
             ],
             [
              1,
              "#f0f921"
             ]
            ],
            "type": "contour"
           }
          ],
          "contourcarpet": [
           {
            "colorbar": {
             "outlinewidth": 0,
             "ticks": ""
            },
            "type": "contourcarpet"
           }
          ],
          "heatmap": [
           {
            "colorbar": {
             "outlinewidth": 0,
             "ticks": ""
            },
            "colorscale": [
             [
              0,
              "#0d0887"
             ],
             [
              0.1111111111111111,
              "#46039f"
             ],
             [
              0.2222222222222222,
              "#7201a8"
             ],
             [
              0.3333333333333333,
              "#9c179e"
             ],
             [
              0.4444444444444444,
              "#bd3786"
             ],
             [
              0.5555555555555556,
              "#d8576b"
             ],
             [
              0.6666666666666666,
              "#ed7953"
             ],
             [
              0.7777777777777778,
              "#fb9f3a"
             ],
             [
              0.8888888888888888,
              "#fdca26"
             ],
             [
              1,
              "#f0f921"
             ]
            ],
            "type": "heatmap"
           }
          ],
          "histogram": [
           {
            "marker": {
             "pattern": {
              "fillmode": "overlay",
              "size": 10,
              "solidity": 0.2
             }
            },
            "type": "histogram"
           }
          ],
          "histogram2d": [
           {
            "colorbar": {
             "outlinewidth": 0,
             "ticks": ""
            },
            "colorscale": [
             [
              0,
              "#0d0887"
             ],
             [
              0.1111111111111111,
              "#46039f"
             ],
             [
              0.2222222222222222,
              "#7201a8"
             ],
             [
              0.3333333333333333,
              "#9c179e"
             ],
             [
              0.4444444444444444,
              "#bd3786"
             ],
             [
              0.5555555555555556,
              "#d8576b"
             ],
             [
              0.6666666666666666,
              "#ed7953"
             ],
             [
              0.7777777777777778,
              "#fb9f3a"
             ],
             [
              0.8888888888888888,
              "#fdca26"
             ],
             [
              1,
              "#f0f921"
             ]
            ],
            "type": "histogram2d"
           }
          ],
          "histogram2dcontour": [
           {
            "colorbar": {
             "outlinewidth": 0,
             "ticks": ""
            },
            "colorscale": [
             [
              0,
              "#0d0887"
             ],
             [
              0.1111111111111111,
              "#46039f"
             ],
             [
              0.2222222222222222,
              "#7201a8"
             ],
             [
              0.3333333333333333,
              "#9c179e"
             ],
             [
              0.4444444444444444,
              "#bd3786"
             ],
             [
              0.5555555555555556,
              "#d8576b"
             ],
             [
              0.6666666666666666,
              "#ed7953"
             ],
             [
              0.7777777777777778,
              "#fb9f3a"
             ],
             [
              0.8888888888888888,
              "#fdca26"
             ],
             [
              1,
              "#f0f921"
             ]
            ],
            "type": "histogram2dcontour"
           }
          ],
          "mesh3d": [
           {
            "colorbar": {
             "outlinewidth": 0,
             "ticks": ""
            },
            "type": "mesh3d"
           }
          ],
          "parcoords": [
           {
            "line": {
             "colorbar": {
              "outlinewidth": 0,
              "ticks": ""
             }
            },
            "type": "parcoords"
           }
          ],
          "pie": [
           {
            "automargin": true,
            "type": "pie"
           }
          ],
          "scatter": [
           {
            "fillpattern": {
             "fillmode": "overlay",
             "size": 10,
             "solidity": 0.2
            },
            "type": "scatter"
           }
          ],
          "scatter3d": [
           {
            "line": {
             "colorbar": {
              "outlinewidth": 0,
              "ticks": ""
             }
            },
            "marker": {
             "colorbar": {
              "outlinewidth": 0,
              "ticks": ""
             }
            },
            "type": "scatter3d"
           }
          ],
          "scattercarpet": [
           {
            "marker": {
             "colorbar": {
              "outlinewidth": 0,
              "ticks": ""
             }
            },
            "type": "scattercarpet"
           }
          ],
          "scattergeo": [
           {
            "marker": {
             "colorbar": {
              "outlinewidth": 0,
              "ticks": ""
             }
            },
            "type": "scattergeo"
           }
          ],
          "scattergl": [
           {
            "marker": {
             "colorbar": {
              "outlinewidth": 0,
              "ticks": ""
             }
            },
            "type": "scattergl"
           }
          ],
          "scattermap": [
           {
            "marker": {
             "colorbar": {
              "outlinewidth": 0,
              "ticks": ""
             }
            },
            "type": "scattermap"
           }
          ],
          "scattermapbox": [
           {
            "marker": {
             "colorbar": {
              "outlinewidth": 0,
              "ticks": ""
             }
            },
            "type": "scattermapbox"
           }
          ],
          "scatterpolar": [
           {
            "marker": {
             "colorbar": {
              "outlinewidth": 0,
              "ticks": ""
             }
            },
            "type": "scatterpolar"
           }
          ],
          "scatterpolargl": [
           {
            "marker": {
             "colorbar": {
              "outlinewidth": 0,
              "ticks": ""
             }
            },
            "type": "scatterpolargl"
           }
          ],
          "scatterternary": [
           {
            "marker": {
             "colorbar": {
              "outlinewidth": 0,
              "ticks": ""
             }
            },
            "type": "scatterternary"
           }
          ],
          "surface": [
           {
            "colorbar": {
             "outlinewidth": 0,
             "ticks": ""
            },
            "colorscale": [
             [
              0,
              "#0d0887"
             ],
             [
              0.1111111111111111,
              "#46039f"
             ],
             [
              0.2222222222222222,
              "#7201a8"
             ],
             [
              0.3333333333333333,
              "#9c179e"
             ],
             [
              0.4444444444444444,
              "#bd3786"
             ],
             [
              0.5555555555555556,
              "#d8576b"
             ],
             [
              0.6666666666666666,
              "#ed7953"
             ],
             [
              0.7777777777777778,
              "#fb9f3a"
             ],
             [
              0.8888888888888888,
              "#fdca26"
             ],
             [
              1,
              "#f0f921"
             ]
            ],
            "type": "surface"
           }
          ],
          "table": [
           {
            "cells": {
             "fill": {
              "color": "#EBF0F8"
             },
             "line": {
              "color": "white"
             }
            },
            "header": {
             "fill": {
              "color": "#C8D4E3"
             },
             "line": {
              "color": "white"
             }
            },
            "type": "table"
           }
          ]
         },
         "layout": {
          "annotationdefaults": {
           "arrowcolor": "#2a3f5f",
           "arrowhead": 0,
           "arrowwidth": 1
          },
          "autotypenumbers": "strict",
          "coloraxis": {
           "colorbar": {
            "outlinewidth": 0,
            "ticks": ""
           }
          },
          "colorscale": {
           "diverging": [
            [
             0,
             "#8e0152"
            ],
            [
             0.1,
             "#c51b7d"
            ],
            [
             0.2,
             "#de77ae"
            ],
            [
             0.3,
             "#f1b6da"
            ],
            [
             0.4,
             "#fde0ef"
            ],
            [
             0.5,
             "#f7f7f7"
            ],
            [
             0.6,
             "#e6f5d0"
            ],
            [
             0.7,
             "#b8e186"
            ],
            [
             0.8,
             "#7fbc41"
            ],
            [
             0.9,
             "#4d9221"
            ],
            [
             1,
             "#276419"
            ]
           ],
           "sequential": [
            [
             0,
             "#0d0887"
            ],
            [
             0.1111111111111111,
             "#46039f"
            ],
            [
             0.2222222222222222,
             "#7201a8"
            ],
            [
             0.3333333333333333,
             "#9c179e"
            ],
            [
             0.4444444444444444,
             "#bd3786"
            ],
            [
             0.5555555555555556,
             "#d8576b"
            ],
            [
             0.6666666666666666,
             "#ed7953"
            ],
            [
             0.7777777777777778,
             "#fb9f3a"
            ],
            [
             0.8888888888888888,
             "#fdca26"
            ],
            [
             1,
             "#f0f921"
            ]
           ],
           "sequentialminus": [
            [
             0,
             "#0d0887"
            ],
            [
             0.1111111111111111,
             "#46039f"
            ],
            [
             0.2222222222222222,
             "#7201a8"
            ],
            [
             0.3333333333333333,
             "#9c179e"
            ],
            [
             0.4444444444444444,
             "#bd3786"
            ],
            [
             0.5555555555555556,
             "#d8576b"
            ],
            [
             0.6666666666666666,
             "#ed7953"
            ],
            [
             0.7777777777777778,
             "#fb9f3a"
            ],
            [
             0.8888888888888888,
             "#fdca26"
            ],
            [
             1,
             "#f0f921"
            ]
           ]
          },
          "colorway": [
           "#636efa",
           "#EF553B",
           "#00cc96",
           "#ab63fa",
           "#FFA15A",
           "#19d3f3",
           "#FF6692",
           "#B6E880",
           "#FF97FF",
           "#FECB52"
          ],
          "font": {
           "color": "#2a3f5f"
          },
          "geo": {
           "bgcolor": "white",
           "lakecolor": "white",
           "landcolor": "#E5ECF6",
           "showlakes": true,
           "showland": true,
           "subunitcolor": "white"
          },
          "hoverlabel": {
           "align": "left"
          },
          "hovermode": "closest",
          "mapbox": {
           "style": "light"
          },
          "paper_bgcolor": "white",
          "plot_bgcolor": "#E5ECF6",
          "polar": {
           "angularaxis": {
            "gridcolor": "white",
            "linecolor": "white",
            "ticks": ""
           },
           "bgcolor": "#E5ECF6",
           "radialaxis": {
            "gridcolor": "white",
            "linecolor": "white",
            "ticks": ""
           }
          },
          "scene": {
           "xaxis": {
            "backgroundcolor": "#E5ECF6",
            "gridcolor": "white",
            "gridwidth": 2,
            "linecolor": "white",
            "showbackground": true,
            "ticks": "",
            "zerolinecolor": "white"
           },
           "yaxis": {
            "backgroundcolor": "#E5ECF6",
            "gridcolor": "white",
            "gridwidth": 2,
            "linecolor": "white",
            "showbackground": true,
            "ticks": "",
            "zerolinecolor": "white"
           },
           "zaxis": {
            "backgroundcolor": "#E5ECF6",
            "gridcolor": "white",
            "gridwidth": 2,
            "linecolor": "white",
            "showbackground": true,
            "ticks": "",
            "zerolinecolor": "white"
           }
          },
          "shapedefaults": {
           "line": {
            "color": "#2a3f5f"
           }
          },
          "ternary": {
           "aaxis": {
            "gridcolor": "white",
            "linecolor": "white",
            "ticks": ""
           },
           "baxis": {
            "gridcolor": "white",
            "linecolor": "white",
            "ticks": ""
           },
           "bgcolor": "#E5ECF6",
           "caxis": {
            "gridcolor": "white",
            "linecolor": "white",
            "ticks": ""
           }
          },
          "title": {
           "x": 0.05
          },
          "xaxis": {
           "automargin": true,
           "gridcolor": "white",
           "linecolor": "white",
           "ticks": "",
           "title": {
            "standoff": 15
           },
           "zerolinecolor": "white",
           "zerolinewidth": 2
          },
          "yaxis": {
           "automargin": true,
           "gridcolor": "white",
           "linecolor": "white",
           "ticks": "",
           "title": {
            "standoff": 15
           },
           "zerolinecolor": "white",
           "zerolinewidth": 2
          }
         }
        },
        "title": {
         "text": "Bubble Chart: Año vs Pérdidas (size=Quejas, color=Pais)"
        },
        "xaxis": {
         "anchor": "y",
         "domain": [
          0,
          1
         ],
         "title": {
          "text": "Año"
         }
        },
        "yaxis": {
         "anchor": "x",
         "domain": [
          0,
          1
         ],
         "title": {
          "text": "Pérdidas (USD)"
         }
        }
       }
      }
     },
     "metadata": {},
     "output_type": "display_data"
    }
   ],
   "source": [
    "import pandas as pd\n",
    "import plotly.express as px\n",
    "\n",
    "# Cargar dataset\n",
    "df = pd.read_csv(\"data/LossFromNetCrime_with_names.csv\")\n",
    "\n",
    "# Transformar a formato largo\n",
    "records = []\n",
    "for year in range(2019, 2025):\n",
    "    for _, row in df.iterrows():\n",
    "        records.append({\n",
    "            \"Pais\": row[\"Country_Name\"],\n",
    "            \"Año\": year,\n",
    "            \"Quejas\": row[f\"{year}_Complaints\"],\n",
    "            \"Pérdidas\": row[f\"{year}_Losses\"]\n",
    "        })\n",
    "long_df = pd.DataFrame(records)\n",
    "\n",
    "# Limpieza básica\n",
    "long_df[\"Pais\"] = long_df[\"Pais\"].astype(str).str.strip()\n",
    "long_df = long_df.dropna(subset=[\"Pais\", \"Quejas\", \"Pérdidas\", \"Año\"])\n",
    "long_df = long_df[long_df[\"Pais\"] != \"\"]\n",
    "\n",
    "# 1) Scatter interactivo con animación por año\n",
    "fig_scatter = px.scatter(\n",
    "    long_df,\n",
    "    x=\"Quejas\",\n",
    "    y=\"Pérdidas\",\n",
    "    animation_frame=\"Año\",\n",
    "    hover_name=\"Pais\",\n",
    "    labels={\"Quejas\": \"Quejas\", \"Pérdidas\": \"Pérdidas (USD)\"},\n",
    "    title=\"Quejas vs Pérdidas (2019–2024) – animación por año\"\n",
    ")\n",
    "fig_scatter.show()\n",
    "\n",
    "# 2) Bubble chart (X=Año, Y=Losses, tamaño=Complaints, color=Country)\n",
    "fig_bubble = px.scatter(\n",
    "    long_df,\n",
    "    x=\"Año\",\n",
    "    y=\"Pérdidas\",\n",
    "    size=\"Quejas\",\n",
    "    color=\"Pais\",\n",
    "    hover_name=\"Pais\",\n",
    "    size_max=40,\n",
    "    labels={\"Año\": \"Año\", \"Pérdidas\": \"Pérdidas (USD)\", \"Quejas\": \"Quejas\"},\n",
    "    title=\"Bubble Chart: Año vs Pérdidas (size=Quejas, color=Pais)\"\n",
    ")\n",
    "fig_bubble.show()\n"
   ]
  },
  {
   "cell_type": "markdown",
   "id": "f794a25a",
   "metadata": {},
   "source": [
    "## 📊 Generacion HTML - Graficos Animados"
   ]
  },
  {
   "cell_type": "code",
   "execution_count": 6,
   "id": "adce5174",
   "metadata": {},
   "outputs": [],
   "source": [
    "import plotly.io as pio\n",
    "\n",
    "pio.write_html(fig_scatter, file=\"interactive_scatter_complaints_losses.html\", include_plotlyjs=\"cdn\")\n",
    "pio.write_html(fig_bubble, file=\"interactive_bubble_year_losses.html\", include_plotlyjs=\"cdn\")"
   ]
  },
  {
   "cell_type": "markdown",
   "id": "346aaaf0",
   "metadata": {},
   "source": [
    "* [interactive_scatter_complaints_losses.html](https://raw.githubusercontent.com/anmerinoto/Tramiento_Datos_Incidentes_Ciberseguridad/main/interactive_scatter_complaints_losses.html)\n",
    "* [interactive_bubble_year_losses.html](https://raw.githubusercontent.com/anmerinoto/Tramiento_Datos_Incidentes_Ciberseguridad/main/interactive_bubble_year_losses.html)"
   ]
  },
  {
   "cell_type": "markdown",
   "id": "6ea391ab",
   "metadata": {},
   "source": [
    " \n",
    "## 📊 Ejecucion - Graficos Animados\n",
    "* <a href=\"https://rawcdn.githack.com/anmerinoto/Tramiento_Datos_Incidentes_Ciberseguridad/0771bb7f2ddde5caf8a872883d0ed0980382e355/interactive_scatter_complaints_losses.html\" target=\"_blank\" rel=\"noopener noreferrer\">Quejas vs Pérdidas (2019–2024) – animación por año</a>\n",
    "* <a href=\"https://rawcdn.githack.com/anmerinoto/Tramiento_Datos_Incidentes_Ciberseguridad/33ed7b3e206422753d61405d1e1a9235fa5d5980/interactive_bubble_year_losses.html\" target=\"_blank\" rel=\"noopener noreferrer\">Bubble Chart: Año vs Pérdidas (size=Quejas, color=Pais)</a>\n",
    "\n",
    "* [**Incidentes de Ciberseguridad · 2019–2024**](https://anmerinoto.github.io/Tramiento_Datos_Incidentes_Ciberseguridad)\n",
    "![Incidentes de Ciberseguridad · 2019–2024](images/html_graficos_dinamicos.png)\n"
   ]
  }
 ],
 "metadata": {
  "kernelspec": {
   "display_name": ".venv",
   "language": "python",
   "name": "python3"
  },
  "language_info": {
   "codemirror_mode": {
    "name": "ipython",
    "version": 3
   },
   "file_extension": ".py",
   "mimetype": "text/x-python",
   "name": "python",
   "nbconvert_exporter": "python",
   "pygments_lexer": "ipython3",
   "version": "3.12.0"
  }
 },
 "nbformat": 4,
 "nbformat_minor": 5
}
